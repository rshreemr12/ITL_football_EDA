{
 "cells": [
  {
   "cell_type": "markdown",
   "id": "6561f263",
   "metadata": {},
   "source": [
    "# EDA on Football Data\n",
    "\n",
    "Data Source : https://www.kaggle.com/martj42/international-football-results-from-1872-to-2017\n",
    "\n",
    "<b> About data : </b>\n",
    "> results.csv includes the following columns:\n",
    "\n",
    "- date - date of the match\n",
    "- home_team - the name of the home team\n",
    "- away_team - the name of the away team\n",
    "- home_score - full-time home team score including extra time, not including penalty-shootouts\n",
    "- away_score - full-time away team score including extra time, not including penalty-shootouts\n",
    "- tournament - the name of the tournament\n",
    "- city - the name of the city/town/administrative unit where the match was played\n",
    "- country - the name of the country where the match was played\n",
    "- neutral - TRUE/FALSE column indicating whether the match was played at a neutral venue\n",
    "\n",
    "> shootouts.csv \n",
    " \n",
    "Winners of matches that went to a penalty-shootout\n",
    "\n",
    "includes the following columns:\n",
    "\n",
    "- date - date of the match\n",
    "- home_team - the name of the home team\n",
    "- away_team - the name of the away team\n",
    "- winner - winner of the penalty-shootout"
   ]
  },
  {
   "cell_type": "code",
   "execution_count": 1,
   "id": "a1bf0909",
   "metadata": {},
   "outputs": [],
   "source": [
    "project_name = \"football-data-analysis\"\n",
    "\n",
    "# import essential libraries for analysis and visualisations\n",
    "import numpy as np\n",
    "import pandas as pd\n",
    "import seaborn as sns\n",
    "import matplotlib\n",
    "import matplotlib.pyplot as plt\n",
    "%matplotlib inline\n",
    "\n",
    "sns.set_style('darkgrid')\n",
    "matplotlib.rcParams['font.size'] = 14\n",
    "matplotlib.rcParams['figure.figsize'] = (9, 5)\n",
    "matplotlib.rcParams['figure.facecolor'] = '#00000000'\n"
   ]
  },
  {
   "cell_type": "markdown",
   "id": "0f686762",
   "metadata": {},
   "source": [
    "#### Download the data set from kaggle \n",
    "Mutiple ways to get the dataset \n",
    "- using requests module \n",
    "- opendatasets \n",
    "- using urlretrieve from urllib.request"
   ]
  },
  {
   "cell_type": "code",
   "execution_count": null,
   "id": "0827145f",
   "metadata": {},
   "outputs": [
    {
     "name": "stdout",
     "output_type": "stream",
     "text": [
      "Please provide your Kaggle credentials to download this dataset. Learn more: http://bit.ly/kaggle-creds\n",
      "Your Kaggle username: "
     ]
    }
   ],
   "source": [
    "# Data collection \n",
    "\n",
    "dataset_url = 'https://www.kaggle.com/martj42/international-football-results-from-1872-to-2017'\n",
    "    \n",
    "import opendatasets as od\n",
    "od.download(dataset_url)\n"
   ]
  },
  {
   "cell_type": "code",
   "execution_count": 2,
   "id": "7ab1fa70",
   "metadata": {},
   "outputs": [
    {
     "data": {
      "text/plain": [
       "['.ipynb_checkpoints', 'football_data', 'football_eda.ipynb']"
      ]
     },
     "execution_count": 2,
     "metadata": {},
     "output_type": "execute_result"
    }
   ],
   "source": [
    "import os \n",
    "# os.rename('international-football-results-from-1872-to-2017','football_data')\n",
    "os.listdir(\".\")"
   ]
  },
  {
   "cell_type": "code",
   "execution_count": 5,
   "id": "7372559f",
   "metadata": {},
   "outputs": [],
   "source": [
    "# read the data into dataframes \n",
    "result_df = pd.read_csv(\"./football_data/results.csv\")\n",
    "shootout_df = pd.read_csv(\"./football_data/shootouts.csv\")\n"
   ]
  },
  {
   "cell_type": "markdown",
   "id": "5ca4fd68",
   "metadata": {},
   "source": [
    "###### Explore more information about the data  (Analysis)\n",
    "\n",
    "- Size of the data set\n",
    "- Columns in the data set \n",
    "- descriptive stats\n",
    "- As there is data column, Time frame of data \n",
    "- nulls or NAs ?\n",
    "\n"
   ]
  },
  {
   "cell_type": "code",
   "execution_count": 6,
   "id": "b1aca6cf",
   "metadata": {},
   "outputs": [
    {
     "name": "stdout",
     "output_type": "stream",
     "text": [
      "Results data set has:\n",
      "      rows: 43086  \n",
      "      cols: 9 \n",
      " \n",
      "Shootout data set has:\n",
      "      rows: 444  \n",
      "      cols: 4 \n",
      "\n",
      "result_df: \n",
      "          date home_team away_team  home_score  away_score tournament     city  \\\n",
      "0  1872-11-30  Scotland   England         0.0         0.0   Friendly  Glasgow   \n",
      "1  1873-03-08   England  Scotland         4.0         2.0   Friendly   London   \n",
      "2  1874-03-07  Scotland   England         2.0         1.0   Friendly  Glasgow   \n",
      "3  1875-03-06   England  Scotland         2.0         2.0   Friendly   London   \n",
      "4  1876-03-04  Scotland   England         3.0         0.0   Friendly  Glasgow   \n",
      "\n",
      "    country neutral  \n",
      "0  Scotland   False  \n",
      "1   England   False  \n",
      "2  Scotland   False  \n",
      "3   England   False  \n",
      "4  Scotland   False  \n",
      "\n",
      "shootout_df: \n",
      "          date    home_team         away_team       winner\n",
      "0  1967-08-22        India            Taiwan       Taiwan\n",
      "1  1971-11-14  South Korea  Vietnam Republic  South Korea\n",
      "2  1972-05-17     Thailand       South Korea  South Korea\n",
      "3  1972-05-19     Thailand          Cambodia     Thailand\n",
      "4  1973-07-26     Malaysia            Kuwait     Malaysia\n"
     ]
    }
   ],
   "source": [
    "print(f\"\"\"Results data set has:\n",
    "      rows: {result_df.shape[0]}  \n",
    "      cols: {result_df.shape[1]} \\n \"\"\", end=\"\\n\")\n",
    "\n",
    "print(f\"\"\"Shootout data set has:\n",
    "      rows: {shootout_df.shape[0]}  \n",
    "      cols: {shootout_df.shape[1]} \"\"\", end=\"\\n\\n\")\n",
    "\n",
    "print(\"result_df: \\n\", result_df.head(), end=\"\\n\\n\")\n",
    "print(\"shootout_df: \\n\", shootout_df.head(), end=\"\\n\")\n",
    "\n",
    "\n"
   ]
  },
  {
   "cell_type": "code",
   "execution_count": 7,
   "id": "d89b475b",
   "metadata": {},
   "outputs": [
    {
     "data": {
      "text/plain": [
       "date           object\n",
       "home_team      object\n",
       "away_team      object\n",
       "home_score    float64\n",
       "away_score    float64\n",
       "tournament     object\n",
       "city           object\n",
       "country        object\n",
       "neutral        object\n",
       "dtype: object"
      ]
     },
     "execution_count": 7,
     "metadata": {},
     "output_type": "execute_result"
    }
   ],
   "source": [
    "# Explore Datatypes of the resultsdf\n",
    "\n",
    "result_df.dtypes"
   ]
  },
  {
   "cell_type": "code",
   "execution_count": 8,
   "id": "6c62e7c8",
   "metadata": {},
   "outputs": [
    {
     "name": "stdout",
     "output_type": "stream",
     "text": [
      "date          datetime64[ns]\n",
      "home_team             object\n",
      "away_team             object\n",
      "home_score           float64\n",
      "away_score           float64\n",
      "tournament            object\n",
      "city                  object\n",
      "country               object\n",
      "neutral                 bool\n",
      "dtype: object\n",
      "\n",
      "We are dealing with 43086 rows of data and 9 columns\n"
     ]
    }
   ],
   "source": [
    "# Date column needs to be date object of python \n",
    "\n",
    "result_df.date = pd.to_datetime(result_df.date)\n",
    "result_df.neutral = result_df['neutral'].astype(bool)\n",
    "\n",
    "print(result_df.dtypes, end=\"\\n\\n\")\n",
    "\n",
    "print('We are dealing with {} rows of data and {} columns'.format(result_df.shape[0], result_df.shape[1]))"
   ]
  },
  {
   "cell_type": "code",
   "execution_count": 9,
   "id": "27caec3c",
   "metadata": {},
   "outputs": [
    {
     "data": {
      "text/html": [
       "<div>\n",
       "<style scoped>\n",
       "    .dataframe tbody tr th:only-of-type {\n",
       "        vertical-align: middle;\n",
       "    }\n",
       "\n",
       "    .dataframe tbody tr th {\n",
       "        vertical-align: top;\n",
       "    }\n",
       "\n",
       "    .dataframe thead th {\n",
       "        text-align: right;\n",
       "    }\n",
       "</style>\n",
       "<table border=\"1\" class=\"dataframe\">\n",
       "  <thead>\n",
       "    <tr style=\"text-align: right;\">\n",
       "      <th></th>\n",
       "      <th>count</th>\n",
       "      <th>mean</th>\n",
       "      <th>std</th>\n",
       "      <th>min</th>\n",
       "      <th>25%</th>\n",
       "      <th>50%</th>\n",
       "      <th>75%</th>\n",
       "      <th>max</th>\n",
       "    </tr>\n",
       "  </thead>\n",
       "  <tbody>\n",
       "    <tr>\n",
       "      <th>home_score</th>\n",
       "      <td>43081.0</td>\n",
       "      <td>1.743228</td>\n",
       "      <td>1.753982</td>\n",
       "      <td>0.0</td>\n",
       "      <td>1.0</td>\n",
       "      <td>1.0</td>\n",
       "      <td>2.0</td>\n",
       "      <td>31.0</td>\n",
       "    </tr>\n",
       "    <tr>\n",
       "      <th>away_score</th>\n",
       "      <td>43081.0</td>\n",
       "      <td>1.183608</td>\n",
       "      <td>1.400620</td>\n",
       "      <td>0.0</td>\n",
       "      <td>0.0</td>\n",
       "      <td>1.0</td>\n",
       "      <td>2.0</td>\n",
       "      <td>21.0</td>\n",
       "    </tr>\n",
       "  </tbody>\n",
       "</table>\n",
       "</div>"
      ],
      "text/plain": [
       "              count      mean       std  min  25%  50%  75%   max\n",
       "home_score  43081.0  1.743228  1.753982  0.0  1.0  1.0  2.0  31.0\n",
       "away_score  43081.0  1.183608  1.400620  0.0  0.0  1.0  2.0  21.0"
      ]
     },
     "execution_count": 9,
     "metadata": {},
     "output_type": "execute_result"
    }
   ],
   "source": [
    "result_df.describe().T"
   ]
  },
  {
   "cell_type": "code",
   "execution_count": 10,
   "id": "bb37391c",
   "metadata": {},
   "outputs": [
    {
     "name": "stdout",
     "output_type": "stream",
     "text": [
      "The data records goes back to 1872-11-30 00:00:00 and up to 2021-12-18 00:00:00 \n",
      "\n",
      "The time frame is 149 years\n"
     ]
    }
   ],
   "source": [
    "#Time frame\n",
    "print(\"The data records goes back to {} and up to {} \\n\".format(result_df.date.min(), result_df.date.max()))\n",
    "\n",
    "# print(( result_df.date.max() - result_df.date.min())/365)\n",
    "print(\"The time frame is {} years\".format(round((result_df.date.max() - result_df.date.min()) / np.timedelta64(1, 'Y')), 2))\n"
   ]
  },
  {
   "cell_type": "code",
   "execution_count": 11,
   "id": "b8d490cd",
   "metadata": {},
   "outputs": [
    {
     "data": {
      "text/plain": [
       "date          0\n",
       "home_team     2\n",
       "away_team     2\n",
       "home_score    5\n",
       "away_score    5\n",
       "tournament    0\n",
       "city          0\n",
       "country       0\n",
       "neutral       0\n",
       "dtype: int64"
      ]
     },
     "execution_count": 11,
     "metadata": {},
     "output_type": "execute_result"
    }
   ],
   "source": [
    "# get nulls \n",
    "result_df.isna().sum()\n"
   ]
  },
  {
   "cell_type": "code",
   "execution_count": 12,
   "id": "461cc4c9",
   "metadata": {},
   "outputs": [
    {
     "data": {
      "text/html": [
       "<div>\n",
       "<style scoped>\n",
       "    .dataframe tbody tr th:only-of-type {\n",
       "        vertical-align: middle;\n",
       "    }\n",
       "\n",
       "    .dataframe tbody tr th {\n",
       "        vertical-align: top;\n",
       "    }\n",
       "\n",
       "    .dataframe thead th {\n",
       "        text-align: right;\n",
       "    }\n",
       "</style>\n",
       "<table border=\"1\" class=\"dataframe\">\n",
       "  <thead>\n",
       "    <tr style=\"text-align: right;\">\n",
       "      <th></th>\n",
       "      <th>date</th>\n",
       "      <th>home_team</th>\n",
       "      <th>away_team</th>\n",
       "      <th>home_score</th>\n",
       "      <th>away_score</th>\n",
       "      <th>tournament</th>\n",
       "      <th>city</th>\n",
       "      <th>country</th>\n",
       "      <th>neutral</th>\n",
       "    </tr>\n",
       "  </thead>\n",
       "  <tbody>\n",
       "    <tr>\n",
       "      <th>43083</th>\n",
       "      <td>2021-12-18</td>\n",
       "      <td>NaN</td>\n",
       "      <td>NaN</td>\n",
       "      <td>NaN</td>\n",
       "      <td>NaN</td>\n",
       "      <td>Arab Cup</td>\n",
       "      <td>Doha</td>\n",
       "      <td>Qatar</td>\n",
       "      <td>True</td>\n",
       "    </tr>\n",
       "    <tr>\n",
       "      <th>43084</th>\n",
       "      <td>2021-12-18</td>\n",
       "      <td>NaN</td>\n",
       "      <td>NaN</td>\n",
       "      <td>NaN</td>\n",
       "      <td>NaN</td>\n",
       "      <td>Arab Cup</td>\n",
       "      <td>Al Khor</td>\n",
       "      <td>Qatar</td>\n",
       "      <td>True</td>\n",
       "    </tr>\n",
       "  </tbody>\n",
       "</table>\n",
       "</div>"
      ],
      "text/plain": [
       "            date home_team away_team  home_score  away_score tournament  \\\n",
       "43083 2021-12-18       NaN       NaN         NaN         NaN   Arab Cup   \n",
       "43084 2021-12-18       NaN       NaN         NaN         NaN   Arab Cup   \n",
       "\n",
       "          city country  neutral  \n",
       "43083     Doha   Qatar     True  \n",
       "43084  Al Khor   Qatar     True  "
      ]
     },
     "execution_count": 12,
     "metadata": {},
     "output_type": "execute_result"
    }
   ],
   "source": [
    "result_df[result_df['home_team'].isna()]\n",
    "# print(result_df[result_df['away_team'].isna()])\n"
   ]
  },
  {
   "cell_type": "code",
   "execution_count": 13,
   "id": "5294b81f",
   "metadata": {},
   "outputs": [
    {
     "data": {
      "text/html": [
       "<div>\n",
       "<style scoped>\n",
       "    .dataframe tbody tr th:only-of-type {\n",
       "        vertical-align: middle;\n",
       "    }\n",
       "\n",
       "    .dataframe tbody tr th {\n",
       "        vertical-align: top;\n",
       "    }\n",
       "\n",
       "    .dataframe thead th {\n",
       "        text-align: right;\n",
       "    }\n",
       "</style>\n",
       "<table border=\"1\" class=\"dataframe\">\n",
       "  <thead>\n",
       "    <tr style=\"text-align: right;\">\n",
       "      <th></th>\n",
       "      <th>date</th>\n",
       "      <th>home_team</th>\n",
       "      <th>away_team</th>\n",
       "      <th>home_score</th>\n",
       "      <th>away_score</th>\n",
       "      <th>tournament</th>\n",
       "      <th>city</th>\n",
       "      <th>country</th>\n",
       "      <th>neutral</th>\n",
       "    </tr>\n",
       "  </thead>\n",
       "  <tbody>\n",
       "    <tr>\n",
       "      <th>43081</th>\n",
       "      <td>2021-12-15</td>\n",
       "      <td>Tunisia</td>\n",
       "      <td>Egypt</td>\n",
       "      <td>NaN</td>\n",
       "      <td>NaN</td>\n",
       "      <td>Arab Cup</td>\n",
       "      <td>Doha</td>\n",
       "      <td>Qatar</td>\n",
       "      <td>True</td>\n",
       "    </tr>\n",
       "    <tr>\n",
       "      <th>43082</th>\n",
       "      <td>2021-12-15</td>\n",
       "      <td>Qatar</td>\n",
       "      <td>Algeria</td>\n",
       "      <td>NaN</td>\n",
       "      <td>NaN</td>\n",
       "      <td>Arab Cup</td>\n",
       "      <td>Doha</td>\n",
       "      <td>Qatar</td>\n",
       "      <td>False</td>\n",
       "    </tr>\n",
       "    <tr>\n",
       "      <th>43083</th>\n",
       "      <td>2021-12-18</td>\n",
       "      <td>NaN</td>\n",
       "      <td>NaN</td>\n",
       "      <td>NaN</td>\n",
       "      <td>NaN</td>\n",
       "      <td>Arab Cup</td>\n",
       "      <td>Doha</td>\n",
       "      <td>Qatar</td>\n",
       "      <td>True</td>\n",
       "    </tr>\n",
       "    <tr>\n",
       "      <th>43084</th>\n",
       "      <td>2021-12-18</td>\n",
       "      <td>NaN</td>\n",
       "      <td>NaN</td>\n",
       "      <td>NaN</td>\n",
       "      <td>NaN</td>\n",
       "      <td>Arab Cup</td>\n",
       "      <td>Al Khor</td>\n",
       "      <td>Qatar</td>\n",
       "      <td>True</td>\n",
       "    </tr>\n",
       "    <tr>\n",
       "      <th>43085</th>\n",
       "      <td>2021-12-18</td>\n",
       "      <td>United States</td>\n",
       "      <td>Bosnia and Herzegovina</td>\n",
       "      <td>NaN</td>\n",
       "      <td>NaN</td>\n",
       "      <td>Friendly</td>\n",
       "      <td>Los Angeles</td>\n",
       "      <td>United States</td>\n",
       "      <td>False</td>\n",
       "    </tr>\n",
       "  </tbody>\n",
       "</table>\n",
       "</div>"
      ],
      "text/plain": [
       "            date      home_team               away_team  home_score  \\\n",
       "43081 2021-12-15        Tunisia                   Egypt         NaN   \n",
       "43082 2021-12-15          Qatar                 Algeria         NaN   \n",
       "43083 2021-12-18            NaN                     NaN         NaN   \n",
       "43084 2021-12-18            NaN                     NaN         NaN   \n",
       "43085 2021-12-18  United States  Bosnia and Herzegovina         NaN   \n",
       "\n",
       "       away_score tournament         city        country  neutral  \n",
       "43081         NaN   Arab Cup         Doha          Qatar     True  \n",
       "43082         NaN   Arab Cup         Doha          Qatar    False  \n",
       "43083         NaN   Arab Cup         Doha          Qatar     True  \n",
       "43084         NaN   Arab Cup      Al Khor          Qatar     True  \n",
       "43085         NaN   Friendly  Los Angeles  United States    False  "
      ]
     },
     "execution_count": 13,
     "metadata": {},
     "output_type": "execute_result"
    }
   ],
   "source": [
    "result_df[result_df['home_score'].isna()]"
   ]
  },
  {
   "cell_type": "code",
   "execution_count": 15,
   "id": "a03e8f91",
   "metadata": {},
   "outputs": [
    {
     "data": {
      "text/plain": [
       "date          0\n",
       "home_team     0\n",
       "away_team     0\n",
       "home_score    0\n",
       "away_score    0\n",
       "tournament    0\n",
       "city          0\n",
       "country       0\n",
       "neutral       0\n",
       "dtype: int64"
      ]
     },
     "execution_count": 15,
     "metadata": {},
     "output_type": "execute_result"
    }
   ],
   "source": [
    "#Any nulls?, lets drop NA's for now\n",
    "result_df = result_df.dropna() # NO\n",
    "result_df.isna().sum()"
   ]
  },
  {
   "cell_type": "markdown",
   "id": "3a9c5506",
   "metadata": {},
   "source": [
    "## Data Analysis on games played in home ground \n",
    "\n",
    "In our data set we have 75% of games played in home ground\n",
    "and next 25% of matches were played in Neutal venue\n",
    "\n",
    "- step1 will be analyse the data set for non neutal venue\n",
    "- later analyse the data set for neutral venue"
   ]
  },
  {
   "cell_type": "code",
   "execution_count": 16,
   "id": "dcd7f06a",
   "metadata": {},
   "outputs": [
    {
     "name": "stdout",
     "output_type": "stream",
     "text": [
      "(32424, 9)\n"
     ]
    },
    {
     "data": {
      "text/html": [
       "<div>\n",
       "<style scoped>\n",
       "    .dataframe tbody tr th:only-of-type {\n",
       "        vertical-align: middle;\n",
       "    }\n",
       "\n",
       "    .dataframe tbody tr th {\n",
       "        vertical-align: top;\n",
       "    }\n",
       "\n",
       "    .dataframe thead th {\n",
       "        text-align: right;\n",
       "    }\n",
       "</style>\n",
       "<table border=\"1\" class=\"dataframe\">\n",
       "  <thead>\n",
       "    <tr style=\"text-align: right;\">\n",
       "      <th></th>\n",
       "      <th>date</th>\n",
       "      <th>home_team</th>\n",
       "      <th>away_team</th>\n",
       "      <th>home_score</th>\n",
       "      <th>away_score</th>\n",
       "      <th>tournament</th>\n",
       "      <th>city</th>\n",
       "      <th>country</th>\n",
       "      <th>neutral</th>\n",
       "    </tr>\n",
       "  </thead>\n",
       "  <tbody>\n",
       "    <tr>\n",
       "      <th>43050</th>\n",
       "      <td>2021-11-30</td>\n",
       "      <td>Qatar</td>\n",
       "      <td>Bahrain</td>\n",
       "      <td>1.0</td>\n",
       "      <td>0.0</td>\n",
       "      <td>Arab Cup</td>\n",
       "      <td>Al Khor</td>\n",
       "      <td>Qatar</td>\n",
       "      <td>False</td>\n",
       "    </tr>\n",
       "    <tr>\n",
       "      <th>43058</th>\n",
       "      <td>2021-12-03</td>\n",
       "      <td>Qatar</td>\n",
       "      <td>Oman</td>\n",
       "      <td>2.0</td>\n",
       "      <td>1.0</td>\n",
       "      <td>Arab Cup</td>\n",
       "      <td>Al Rayyan</td>\n",
       "      <td>Qatar</td>\n",
       "      <td>False</td>\n",
       "    </tr>\n",
       "    <tr>\n",
       "      <th>43067</th>\n",
       "      <td>2021-12-06</td>\n",
       "      <td>Qatar</td>\n",
       "      <td>Iraq</td>\n",
       "      <td>3.0</td>\n",
       "      <td>0.0</td>\n",
       "      <td>Arab Cup</td>\n",
       "      <td>Al Khor</td>\n",
       "      <td>Qatar</td>\n",
       "      <td>False</td>\n",
       "    </tr>\n",
       "    <tr>\n",
       "      <th>43075</th>\n",
       "      <td>2021-12-09</td>\n",
       "      <td>Tanzania</td>\n",
       "      <td>Uganda</td>\n",
       "      <td>0.0</td>\n",
       "      <td>2.0</td>\n",
       "      <td>Friendly</td>\n",
       "      <td>Dar es Salaam</td>\n",
       "      <td>Tanzania</td>\n",
       "      <td>False</td>\n",
       "    </tr>\n",
       "    <tr>\n",
       "      <th>43077</th>\n",
       "      <td>2021-12-10</td>\n",
       "      <td>Qatar</td>\n",
       "      <td>United Arab Emirates</td>\n",
       "      <td>5.0</td>\n",
       "      <td>0.0</td>\n",
       "      <td>Arab Cup</td>\n",
       "      <td>Al Khor</td>\n",
       "      <td>Qatar</td>\n",
       "      <td>False</td>\n",
       "    </tr>\n",
       "  </tbody>\n",
       "</table>\n",
       "</div>"
      ],
      "text/plain": [
       "            date home_team             away_team  home_score  away_score  \\\n",
       "43050 2021-11-30     Qatar               Bahrain         1.0         0.0   \n",
       "43058 2021-12-03     Qatar                  Oman         2.0         1.0   \n",
       "43067 2021-12-06     Qatar                  Iraq         3.0         0.0   \n",
       "43075 2021-12-09  Tanzania                Uganda         0.0         2.0   \n",
       "43077 2021-12-10     Qatar  United Arab Emirates         5.0         0.0   \n",
       "\n",
       "      tournament           city   country  neutral  \n",
       "43050   Arab Cup        Al Khor     Qatar    False  \n",
       "43058   Arab Cup      Al Rayyan     Qatar    False  \n",
       "43067   Arab Cup        Al Khor     Qatar    False  \n",
       "43075   Friendly  Dar es Salaam  Tanzania    False  \n",
       "43077   Arab Cup        Al Khor     Qatar    False  "
      ]
     },
     "execution_count": 16,
     "metadata": {},
     "output_type": "execute_result"
    }
   ],
   "source": [
    "# Non Neutral, meaning played in home ground\n",
    "\n",
    "mask_non_neutral = result_df.loc[result_df['neutral'] == False]\n",
    "print(mask_non_neutral.shape)\n",
    "mask_non_neutral.tail()"
   ]
  },
  {
   "cell_type": "code",
   "execution_count": 17,
   "id": "86a7ae8a",
   "metadata": {},
   "outputs": [
    {
     "data": {
      "text/plain": [
       "(England          464\n",
       " Sweden           461\n",
       " France           443\n",
       " Hungary          435\n",
       " Germany          429\n",
       "                 ... \n",
       " Madrid             1\n",
       " Cascadia           1\n",
       " Palau              1\n",
       " Micronesia         1\n",
       " Central Spain      1\n",
       " Name: home_team, Length: 265, dtype: int64,\n",
       " Sweden            472\n",
       " England           464\n",
       " Hungary           456\n",
       " Finland           404\n",
       " Germany           393\n",
       "                  ... \n",
       " Manchukuo           1\n",
       " Hitra               1\n",
       " County of Nice      1\n",
       " Asturias            1\n",
       " Central Spain       1\n",
       " Name: away_team, Length: 294, dtype: int64)"
      ]
     },
     "execution_count": 17,
     "metadata": {},
     "output_type": "execute_result"
    }
   ],
   "source": [
    "mask_non_neutral['home_team'].value_counts(), mask_non_neutral['away_team'].value_counts()"
   ]
  },
  {
   "cell_type": "code",
   "execution_count": 18,
   "id": "d53f8161",
   "metadata": {},
   "outputs": [
    {
     "data": {
      "text/plain": [
       "<AxesSubplot:>"
      ]
     },
     "execution_count": 18,
     "metadata": {},
     "output_type": "execute_result"
    },
    {
     "data": {
      "image/png": "[encoded data removed]",
      "text/plain": [
       "<Figure size 648x360 with 1 Axes>"
      ]
     },
     "metadata": {
      "needs_background": "light"
     },
     "output_type": "display_data"
    }
   ],
   "source": [
    "# Matches played in home ground of either team\n",
    "\n",
    "mask_non_neutral['home_team'].value_counts()[:20].plot(kind='barh')"
   ]
  },
  {
   "cell_type": "code",
   "execution_count": 19,
   "id": "036318f0",
   "metadata": {},
   "outputs": [
    {
     "data": {
      "text/plain": [
       "<AxesSubplot:>"
      ]
     },
     "execution_count": 19,
     "metadata": {},
     "output_type": "execute_result"
    },
    {
     "data": {
      "image/png": "[encoded data removed]",
      "text/plain": [
       "<Figure size 648x360 with 1 Axes>"
      ]
     },
     "metadata": {
      "needs_background": "light"
     },
     "output_type": "display_data"
    }
   ],
   "source": [
    "# seems like England has won most of the matches played in home ground. \n",
    "# \n",
    "import plotly.express as px\n",
    "\n",
    "win_at_home = mask_non_neutral[mask_non_neutral['home_score'] > mask_non_neutral['away_score']]\n",
    "\n",
    "win_at_home['home_team'].value_counts()[:20].plot(kind='barh')\n"
   ]
  },
  {
   "cell_type": "code",
   "execution_count": 54,
   "id": "64519d1e",
   "metadata": {},
   "outputs": [
    {
     "data": {
      "text/plain": [
       "<AxesSubplot:>"
      ]
     },
     "execution_count": 54,
     "metadata": {},
     "output_type": "execute_result"
    },
    {
     "data": {
      "image/png": "[encoded data removed]",
      "text/plain": [
       "<Figure size 648x360 with 1 Axes>"
      ]
     },
     "metadata": {
      "needs_background": "light"
     },
     "output_type": "display_data"
    }
   ],
   "source": [
    "# seems like England has won most of the matches played\n",
    "# How about in non home ground ?\n",
    "# \n",
    "win_at_away = mask_non_neutral[mask_non_neutral['away_score'] > mask_non_neutral['home_score']]\n",
    "\n",
    "win_at_away['away_team'].value_counts()[:20].plot(kind='barh')\n"
   ]
  },
  {
   "cell_type": "code",
   "execution_count": 57,
   "id": "899c78a6",
   "metadata": {},
   "outputs": [
    {
     "data": {
      "application/vnd.plotly.v1+json": {
       "config": {
        "plotlyServerURL": "https://plot.ly"
       },
       "data": [
        {
         "name": "games",
         "type": "bar",
         "x": [
          "England",
          "Sweden",
          "France",
          "Hungary",
          "Germany",
          "United States",
          "Austria",
          "Switzerland",
          "Norway",
          "Denmark",
          "Italy",
          "Netherlands",
          "Belgium",
          "Scotland",
          "Poland",
          "Brazil",
          "Argentina",
          "Wales",
          "Spain",
          "Finland"
         ],
         "y": [
          464,
          461,
          443,
          435,
          429,
          408,
          404,
          397,
          393,
          384,
          382,
          382,
          381,
          375,
          365,
          352,
          341,
          319,
          317,
          316
         ]
        },
        {
         "name": "win",
         "type": "bar",
         "x": [
          "England",
          "Sweden",
          "France",
          "Hungary",
          "Germany",
          "United States",
          "Austria",
          "Switzerland",
          "Norway",
          "Denmark",
          "Italy",
          "Netherlands",
          "Belgium",
          "Scotland",
          "Poland",
          "Brazil",
          "Argentina",
          "Wales",
          "Spain",
          "Finland"
         ],
         "y": [
          300,
          277,
          260,
          246,
          270,
          227,
          209,
          178,
          163,
          217,
          255,
          224,
          205,
          217,
          185,
          258,
          225,
          123,
          222,
          103
         ]
        }
       ],
       "layout": {
        "barmode": "group",
        "template": {
         "data": {
          "bar": [
           {
            "error_x": {
             "color": "#2a3f5f"
            },
            "error_y": {
             "color": "#2a3f5f"
            },
            "marker": {
             "line": {
              "color": "#E5ECF6",
              "width": 0.5
             },
             "pattern": {
              "fillmode": "overlay",
              "size": 10,
              "solidity": 0.2
             }
            },
            "type": "bar"
           }
          ],
          "barpolar": [
           {
            "marker": {
             "line": {
              "color": "#E5ECF6",
              "width": 0.5
             },
             "pattern": {
              "fillmode": "overlay",
              "size": 10,
              "solidity": 0.2
             }
            },
            "type": "barpolar"
           }
          ],
          "carpet": [
           {
            "aaxis": {
             "endlinecolor": "#2a3f5f",
             "gridcolor": "white",
             "linecolor": "white",
             "minorgridcolor": "white",
             "startlinecolor": "#2a3f5f"
            },
            "baxis": {
             "endlinecolor": "#2a3f5f",
             "gridcolor": "white",
             "linecolor": "white",
             "minorgridcolor": "white",
             "startlinecolor": "#2a3f5f"
            },
            "type": "carpet"
           }
          ],
          "choropleth": [
           {
            "colorbar": {
             "outlinewidth": 0,
             "ticks": ""
            },
            "type": "choropleth"
           }
          ],
          "contour": [
           {
            "colorbar": {
             "outlinewidth": 0,
             "ticks": ""
            },
            "colorscale": [
             [
              0,
              "#0d0887"
             ],
             [
              0.1111111111111111,
              "#46039f"
             ],
             [
              0.2222222222222222,
              "#7201a8"
             ],
             [
              0.3333333333333333,
              "#9c179e"
             ],
             [
              0.4444444444444444,
              "#bd3786"
             ],
             [
              0.5555555555555556,
              "#d8576b"
             ],
             [
              0.6666666666666666,
              "#ed7953"
             ],
             [
              0.7777777777777778,
              "#fb9f3a"
             ],
             [
              0.8888888888888888,
              "#fdca26"
             ],
             [
              1,
              "#f0f921"
             ]
            ],
            "type": "contour"
           }
          ],
          "contourcarpet": [
           {
            "colorbar": {
             "outlinewidth": 0,
             "ticks": ""
            },
            "type": "contourcarpet"
           }
          ],
          "heatmap": [
           {
            "colorbar": {
             "outlinewidth": 0,
             "ticks": ""
            },
            "colorscale": [
             [
              0,
              "#0d0887"
             ],
             [
              0.1111111111111111,
              "#46039f"
             ],
             [
              0.2222222222222222,
              "#7201a8"
             ],
             [
              0.3333333333333333,
              "#9c179e"
             ],
             [
              0.4444444444444444,
              "#bd3786"
             ],
             [
              0.5555555555555556,
              "#d8576b"
             ],
             [
              0.6666666666666666,
              "#ed7953"
             ],
             [
              0.7777777777777778,
              "#fb9f3a"
             ],
             [
              0.8888888888888888,
              "#fdca26"
             ],
             [
              1,
              "#f0f921"
             ]
            ],
            "type": "heatmap"
           }
          ],
          "heatmapgl": [
           {
            "colorbar": {
             "outlinewidth": 0,
             "ticks": ""
            },
            "colorscale": [
             [
              0,
              "#0d0887"
             ],
             [
              0.1111111111111111,
              "#46039f"
             ],
             [
              0.2222222222222222,
              "#7201a8"
             ],
             [
              0.3333333333333333,
              "#9c179e"
             ],
             [
              0.4444444444444444,
              "#bd3786"
             ],
             [
              0.5555555555555556,
              "#d8576b"
             ],
             [
              0.6666666666666666,
              "#ed7953"
             ],
             [
              0.7777777777777778,
              "#fb9f3a"
             ],
             [
              0.8888888888888888,
              "#fdca26"
             ],
             [
              1,
              "#f0f921"
             ]
            ],
            "type": "heatmapgl"
           }
          ],
          "histogram": [
           {
            "marker": {
             "pattern": {
              "fillmode": "overlay",
              "size": 10,
              "solidity": 0.2
             }
            },
            "type": "histogram"
           }
          ],
          "histogram2d": [
           {
            "colorbar": {
             "outlinewidth": 0,
             "ticks": ""
            },
            "colorscale": [
             [
              0,
              "#0d0887"
             ],
             [
              0.1111111111111111,
              "#46039f"
             ],
             [
              0.2222222222222222,
              "#7201a8"
             ],
             [
              0.3333333333333333,
              "#9c179e"
             ],
             [
              0.4444444444444444,
              "#bd3786"
             ],
             [
              0.5555555555555556,
              "#d8576b"
             ],
             [
              0.6666666666666666,
              "#ed7953"
             ],
             [
              0.7777777777777778,
              "#fb9f3a"
             ],
             [
              0.8888888888888888,
              "#fdca26"
             ],
             [
              1,
              "#f0f921"
             ]
            ],
            "type": "histogram2d"
           }
          ],
          "histogram2dcontour": [
           {
            "colorbar": {
             "outlinewidth": 0,
             "ticks": ""
            },
            "colorscale": [
             [
              0,
              "#0d0887"
             ],
             [
              0.1111111111111111,
              "#46039f"
             ],
             [
              0.2222222222222222,
              "#7201a8"
             ],
             [
              0.3333333333333333,
              "#9c179e"
             ],
             [
              0.4444444444444444,
              "#bd3786"
             ],
             [
              0.5555555555555556,
              "#d8576b"
             ],
             [
              0.6666666666666666,
              "#ed7953"
             ],
             [
              0.7777777777777778,
              "#fb9f3a"
             ],
             [
              0.8888888888888888,
              "#fdca26"
             ],
             [
              1,
              "#f0f921"
             ]
            ],
            "type": "histogram2dcontour"
           }
          ],
          "mesh3d": [
           {
            "colorbar": {
             "outlinewidth": 0,
             "ticks": ""
            },
            "type": "mesh3d"
           }
          ],
          "parcoords": [
           {
            "line": {
             "colorbar": {
              "outlinewidth": 0,
              "ticks": ""
             }
            },
            "type": "parcoords"
           }
          ],
          "pie": [
           {
            "automargin": true,
            "type": "pie"
           }
          ],
          "scatter": [
           {
            "marker": {
             "colorbar": {
              "outlinewidth": 0,
              "ticks": ""
             }
            },
            "type": "scatter"
           }
          ],
          "scatter3d": [
           {
            "line": {
             "colorbar": {
              "outlinewidth": 0,
              "ticks": ""
             }
            },
            "marker": {
             "colorbar": {
              "outlinewidth": 0,
              "ticks": ""
             }
            },
            "type": "scatter3d"
           }
          ],
          "scattercarpet": [
           {
            "marker": {
             "colorbar": {
              "outlinewidth": 0,
              "ticks": ""
             }
            },
            "type": "scattercarpet"
           }
          ],
          "scattergeo": [
           {
            "marker": {
             "colorbar": {
              "outlinewidth": 0,
              "ticks": ""
             }
            },
            "type": "scattergeo"
           }
          ],
          "scattergl": [
           {
            "marker": {
             "colorbar": {
              "outlinewidth": 0,
              "ticks": ""
             }
            },
            "type": "scattergl"
           }
          ],
          "scattermapbox": [
           {
            "marker": {
             "colorbar": {
              "outlinewidth": 0,
              "ticks": ""
             }
            },
            "type": "scattermapbox"
           }
          ],
          "scatterpolar": [
           {
            "marker": {
             "colorbar": {
              "outlinewidth": 0,
              "ticks": ""
             }
            },
            "type": "scatterpolar"
           }
          ],
          "scatterpolargl": [
           {
            "marker": {
             "colorbar": {
              "outlinewidth": 0,
              "ticks": ""
             }
            },
            "type": "scatterpolargl"
           }
          ],
          "scatterternary": [
           {
            "marker": {
             "colorbar": {
              "outlinewidth": 0,
              "ticks": ""
             }
            },
            "type": "scatterternary"
           }
          ],
          "surface": [
           {
            "colorbar": {
             "outlinewidth": 0,
             "ticks": ""
            },
            "colorscale": [
             [
              0,
              "#0d0887"
             ],
             [
              0.1111111111111111,
              "#46039f"
             ],
             [
              0.2222222222222222,
              "#7201a8"
             ],
             [
              0.3333333333333333,
              "#9c179e"
             ],
             [
              0.4444444444444444,
              "#bd3786"
             ],
             [
              0.5555555555555556,
              "#d8576b"
             ],
             [
              0.6666666666666666,
              "#ed7953"
             ],
             [
              0.7777777777777778,
              "#fb9f3a"
             ],
             [
              0.8888888888888888,
              "#fdca26"
             ],
             [
              1,
              "#f0f921"
             ]
            ],
            "type": "surface"
           }
          ],
          "table": [
           {
            "cells": {
             "fill": {
              "color": "#EBF0F8"
             },
             "line": {
              "color": "white"
             }
            },
            "header": {
             "fill": {
              "color": "#C8D4E3"
             },
             "line": {
              "color": "white"
             }
            },
            "type": "table"
           }
          ]
         },
         "layout": {
          "annotationdefaults": {
           "arrowcolor": "#2a3f5f",
           "arrowhead": 0,
           "arrowwidth": 1
          },
          "autotypenumbers": "strict",
          "coloraxis": {
           "colorbar": {
            "outlinewidth": 0,
            "ticks": ""
           }
          },
          "colorscale": {
           "diverging": [
            [
             0,
             "#8e0152"
            ],
            [
             0.1,
             "#c51b7d"
            ],
            [
             0.2,
             "#de77ae"
            ],
            [
             0.3,
             "#f1b6da"
            ],
            [
             0.4,
             "#fde0ef"
            ],
            [
             0.5,
             "#f7f7f7"
            ],
            [
             0.6,
             "#e6f5d0"
            ],
            [
             0.7,
             "#b8e186"
            ],
            [
             0.8,
             "#7fbc41"
            ],
            [
             0.9,
             "#4d9221"
            ],
            [
             1,
             "#276419"
            ]
           ],
           "sequential": [
            [
             0,
             "#0d0887"
            ],
            [
             0.1111111111111111,
             "#46039f"
            ],
            [
             0.2222222222222222,
             "#7201a8"
            ],
            [
             0.3333333333333333,
             "#9c179e"
            ],
            [
             0.4444444444444444,
             "#bd3786"
            ],
            [
             0.5555555555555556,
             "#d8576b"
            ],
            [
             0.6666666666666666,
             "#ed7953"
            ],
            [
             0.7777777777777778,
             "#fb9f3a"
            ],
            [
             0.8888888888888888,
             "#fdca26"
            ],
            [
             1,
             "#f0f921"
            ]
           ],
           "sequentialminus": [
            [
             0,
             "#0d0887"
            ],
            [
             0.1111111111111111,
             "#46039f"
            ],
            [
             0.2222222222222222,
             "#7201a8"
            ],
            [
             0.3333333333333333,
             "#9c179e"
            ],
            [
             0.4444444444444444,
             "#bd3786"
            ],
            [
             0.5555555555555556,
             "#d8576b"
            ],
            [
             0.6666666666666666,
             "#ed7953"
            ],
            [
             0.7777777777777778,
             "#fb9f3a"
            ],
            [
             0.8888888888888888,
             "#fdca26"
            ],
            [
             1,
             "#f0f921"
            ]
           ]
          },
          "colorway": [
           "#636efa",
           "#EF553B",
           "#00cc96",
           "#ab63fa",
           "#FFA15A",
           "#19d3f3",
           "#FF6692",
           "#B6E880",
           "#FF97FF",
           "#FECB52"
          ],
          "font": {
           "color": "#2a3f5f"
          },
          "geo": {
           "bgcolor": "white",
           "lakecolor": "white",
           "landcolor": "#E5ECF6",
           "showlakes": true,
           "showland": true,
           "subunitcolor": "white"
          },
          "hoverlabel": {
           "align": "left"
          },
          "hovermode": "closest",
          "mapbox": {
           "style": "light"
          },
          "paper_bgcolor": "white",
          "plot_bgcolor": "#E5ECF6",
          "polar": {
           "angularaxis": {
            "gridcolor": "white",
            "linecolor": "white",
            "ticks": ""
           },
           "bgcolor": "#E5ECF6",
           "radialaxis": {
            "gridcolor": "white",
            "linecolor": "white",
            "ticks": ""
           }
          },
          "scene": {
           "xaxis": {
            "backgroundcolor": "#E5ECF6",
            "gridcolor": "white",
            "gridwidth": 2,
            "linecolor": "white",
            "showbackground": true,
            "ticks": "",
            "zerolinecolor": "white"
           },
           "yaxis": {
            "backgroundcolor": "#E5ECF6",
            "gridcolor": "white",
            "gridwidth": 2,
            "linecolor": "white",
            "showbackground": true,
            "ticks": "",
            "zerolinecolor": "white"
           },
           "zaxis": {
            "backgroundcolor": "#E5ECF6",
            "gridcolor": "white",
            "gridwidth": 2,
            "linecolor": "white",
            "showbackground": true,
            "ticks": "",
            "zerolinecolor": "white"
           }
          },
          "shapedefaults": {
           "line": {
            "color": "#2a3f5f"
           }
          },
          "ternary": {
           "aaxis": {
            "gridcolor": "white",
            "linecolor": "white",
            "ticks": ""
           },
           "baxis": {
            "gridcolor": "white",
            "linecolor": "white",
            "ticks": ""
           },
           "bgcolor": "#E5ECF6",
           "caxis": {
            "gridcolor": "white",
            "linecolor": "white",
            "ticks": ""
           }
          },
          "title": {
           "x": 0.05
          },
          "xaxis": {
           "automargin": true,
           "gridcolor": "white",
           "linecolor": "white",
           "ticks": "",
           "title": {
            "standoff": 15
           },
           "zerolinecolor": "white",
           "zerolinewidth": 2
          },
          "yaxis": {
           "automargin": true,
           "gridcolor": "white",
           "linecolor": "white",
           "ticks": "",
           "title": {
            "standoff": 15
           },
           "zerolinecolor": "white",
           "zerolinewidth": 2
          }
         }
        },
        "title": {
         "text": "Games Played vs Won @Home ground"
        }
       }
      },
      "text/html": [
       "<div>                            <div id=\"7fc795b5-dd80-4cce-bdc0-f5ec472f26cf\" class=\"plotly-graph-div\" style=\"height:525px; width:100%;\"></div>            <script type=\"text/javascript\">                require([\"plotly\"], function(Plotly) {                    window.PLOTLYENV=window.PLOTLYENV || {};                                    if (document.getElementById(\"7fc795b5-dd80-4cce-bdc0-f5ec472f26cf\")) {                    Plotly.newPlot(                        \"7fc795b5-dd80-4cce-bdc0-f5ec472f26cf\",                        [{\"name\":\"games\",\"type\":\"bar\",\"x\":[\"England\",\"Sweden\",\"France\",\"Hungary\",\"Germany\",\"United States\",\"Austria\",\"Switzerland\",\"Norway\",\"Denmark\",\"Italy\",\"Netherlands\",\"Belgium\",\"Scotland\",\"Poland\",\"Brazil\",\"Argentina\",\"Wales\",\"Spain\",\"Finland\"],\"y\":[464.0,461.0,443.0,435.0,429.0,408.0,404.0,397.0,393.0,384.0,382.0,382.0,381.0,375.0,365.0,352.0,341.0,319.0,317.0,316.0]},{\"name\":\"win\",\"type\":\"bar\",\"x\":[\"England\",\"Sweden\",\"France\",\"Hungary\",\"Germany\",\"United States\",\"Austria\",\"Switzerland\",\"Norway\",\"Denmark\",\"Italy\",\"Netherlands\",\"Belgium\",\"Scotland\",\"Poland\",\"Brazil\",\"Argentina\",\"Wales\",\"Spain\",\"Finland\"],\"y\":[300.0,277.0,260.0,246.0,270.0,227.0,209.0,178.0,163.0,217.0,255.0,224.0,205.0,217.0,185.0,258.0,225.0,123.0,222.0,103.0]}],                        {\"barmode\":\"group\",\"template\":{\"data\":{\"bar\":[{\"error_x\":{\"color\":\"#2a3f5f\"},\"error_y\":{\"color\":\"#2a3f5f\"},\"marker\":{\"line\":{\"color\":\"#E5ECF6\",\"width\":0.5},\"pattern\":{\"fillmode\":\"overlay\",\"size\":10,\"solidity\":0.2}},\"type\":\"bar\"}],\"barpolar\":[{\"marker\":{\"line\":{\"color\":\"#E5ECF6\",\"width\":0.5},\"pattern\":{\"fillmode\":\"overlay\",\"size\":10,\"solidity\":0.2}},\"type\":\"barpolar\"}],\"carpet\":[{\"aaxis\":{\"endlinecolor\":\"#2a3f5f\",\"gridcolor\":\"white\",\"linecolor\":\"white\",\"minorgridcolor\":\"white\",\"startlinecolor\":\"#2a3f5f\"},\"baxis\":{\"endlinecolor\":\"#2a3f5f\",\"gridcolor\":\"white\",\"linecolor\":\"white\",\"minorgridcolor\":\"white\",\"startlinecolor\":\"#2a3f5f\"},\"type\":\"carpet\"}],\"choropleth\":[{\"colorbar\":{\"outlinewidth\":0,\"ticks\":\"\"},\"type\":\"choropleth\"}],\"contour\":[{\"colorbar\":{\"outlinewidth\":0,\"ticks\":\"\"},\"colorscale\":[[0.0,\"#0d0887\"],[0.1111111111111111,\"#46039f\"],[0.2222222222222222,\"#7201a8\"],[0.3333333333333333,\"#9c179e\"],[0.4444444444444444,\"#bd3786\"],[0.5555555555555556,\"#d8576b\"],[0.6666666666666666,\"#ed7953\"],[0.7777777777777778,\"#fb9f3a\"],[0.8888888888888888,\"#fdca26\"],[1.0,\"#f0f921\"]],\"type\":\"contour\"}],\"contourcarpet\":[{\"colorbar\":{\"outlinewidth\":0,\"ticks\":\"\"},\"type\":\"contourcarpet\"}],\"heatmap\":[{\"colorbar\":{\"outlinewidth\":0,\"ticks\":\"\"},\"colorscale\":[[0.0,\"#0d0887\"],[0.1111111111111111,\"#46039f\"],[0.2222222222222222,\"#7201a8\"],[0.3333333333333333,\"#9c179e\"],[0.4444444444444444,\"#bd3786\"],[0.5555555555555556,\"#d8576b\"],[0.6666666666666666,\"#ed7953\"],[0.7777777777777778,\"#fb9f3a\"],[0.8888888888888888,\"#fdca26\"],[1.0,\"#f0f921\"]],\"type\":\"heatmap\"}],\"heatmapgl\":[{\"colorbar\":{\"outlinewidth\":0,\"ticks\":\"\"},\"colorscale\":[[0.0,\"#0d0887\"],[0.1111111111111111,\"#46039f\"],[0.2222222222222222,\"#7201a8\"],[0.3333333333333333,\"#9c179e\"],[0.4444444444444444,\"#bd3786\"],[0.5555555555555556,\"#d8576b\"],[0.6666666666666666,\"#ed7953\"],[0.7777777777777778,\"#fb9f3a\"],[0.8888888888888888,\"#fdca26\"],[1.0,\"#f0f921\"]],\"type\":\"heatmapgl\"}],\"histogram\":[{\"marker\":{\"pattern\":{\"fillmode\":\"overlay\",\"size\":10,\"solidity\":0.2}},\"type\":\"histogram\"}],\"histogram2d\":[{\"colorbar\":{\"outlinewidth\":0,\"ticks\":\"\"},\"colorscale\":[[0.0,\"#0d0887\"],[0.1111111111111111,\"#46039f\"],[0.2222222222222222,\"#7201a8\"],[0.3333333333333333,\"#9c179e\"],[0.4444444444444444,\"#bd3786\"],[0.5555555555555556,\"#d8576b\"],[0.6666666666666666,\"#ed7953\"],[0.7777777777777778,\"#fb9f3a\"],[0.8888888888888888,\"#fdca26\"],[1.0,\"#f0f921\"]],\"type\":\"histogram2d\"}],\"histogram2dcontour\":[{\"colorbar\":{\"outlinewidth\":0,\"ticks\":\"\"},\"colorscale\":[[0.0,\"#0d0887\"],[0.1111111111111111,\"#46039f\"],[0.2222222222222222,\"#7201a8\"],[0.3333333333333333,\"#9c179e\"],[0.4444444444444444,\"#bd3786\"],[0.5555555555555556,\"#d8576b\"],[0.6666666666666666,\"#ed7953\"],[0.7777777777777778,\"#fb9f3a\"],[0.8888888888888888,\"#fdca26\"],[1.0,\"#f0f921\"]],\"type\":\"histogram2dcontour\"}],\"mesh3d\":[{\"colorbar\":{\"outlinewidth\":0,\"ticks\":\"\"},\"type\":\"mesh3d\"}],\"parcoords\":[{\"line\":{\"colorbar\":{\"outlinewidth\":0,\"ticks\":\"\"}},\"type\":\"parcoords\"}],\"pie\":[{\"automargin\":true,\"type\":\"pie\"}],\"scatter\":[{\"marker\":{\"colorbar\":{\"outlinewidth\":0,\"ticks\":\"\"}},\"type\":\"scatter\"}],\"scatter3d\":[{\"line\":{\"colorbar\":{\"outlinewidth\":0,\"ticks\":\"\"}},\"marker\":{\"colorbar\":{\"outlinewidth\":0,\"ticks\":\"\"}},\"type\":\"scatter3d\"}],\"scattercarpet\":[{\"marker\":{\"colorbar\":{\"outlinewidth\":0,\"ticks\":\"\"}},\"type\":\"scattercarpet\"}],\"scattergeo\":[{\"marker\":{\"colorbar\":{\"outlinewidth\":0,\"ticks\":\"\"}},\"type\":\"scattergeo\"}],\"scattergl\":[{\"marker\":{\"colorbar\":{\"outlinewidth\":0,\"ticks\":\"\"}},\"type\":\"scattergl\"}],\"scattermapbox\":[{\"marker\":{\"colorbar\":{\"outlinewidth\":0,\"ticks\":\"\"}},\"type\":\"scattermapbox\"}],\"scatterpolar\":[{\"marker\":{\"colorbar\":{\"outlinewidth\":0,\"ticks\":\"\"}},\"type\":\"scatterpolar\"}],\"scatterpolargl\":[{\"marker\":{\"colorbar\":{\"outlinewidth\":0,\"ticks\":\"\"}},\"type\":\"scatterpolargl\"}],\"scatterternary\":[{\"marker\":{\"colorbar\":{\"outlinewidth\":0,\"ticks\":\"\"}},\"type\":\"scatterternary\"}],\"surface\":[{\"colorbar\":{\"outlinewidth\":0,\"ticks\":\"\"},\"colorscale\":[[0.0,\"#0d0887\"],[0.1111111111111111,\"#46039f\"],[0.2222222222222222,\"#7201a8\"],[0.3333333333333333,\"#9c179e\"],[0.4444444444444444,\"#bd3786\"],[0.5555555555555556,\"#d8576b\"],[0.6666666666666666,\"#ed7953\"],[0.7777777777777778,\"#fb9f3a\"],[0.8888888888888888,\"#fdca26\"],[1.0,\"#f0f921\"]],\"type\":\"surface\"}],\"table\":[{\"cells\":{\"fill\":{\"color\":\"#EBF0F8\"},\"line\":{\"color\":\"white\"}},\"header\":{\"fill\":{\"color\":\"#C8D4E3\"},\"line\":{\"color\":\"white\"}},\"type\":\"table\"}]},\"layout\":{\"annotationdefaults\":{\"arrowcolor\":\"#2a3f5f\",\"arrowhead\":0,\"arrowwidth\":1},\"autotypenumbers\":\"strict\",\"coloraxis\":{\"colorbar\":{\"outlinewidth\":0,\"ticks\":\"\"}},\"colorscale\":{\"diverging\":[[0,\"#8e0152\"],[0.1,\"#c51b7d\"],[0.2,\"#de77ae\"],[0.3,\"#f1b6da\"],[0.4,\"#fde0ef\"],[0.5,\"#f7f7f7\"],[0.6,\"#e6f5d0\"],[0.7,\"#b8e186\"],[0.8,\"#7fbc41\"],[0.9,\"#4d9221\"],[1,\"#276419\"]],\"sequential\":[[0.0,\"#0d0887\"],[0.1111111111111111,\"#46039f\"],[0.2222222222222222,\"#7201a8\"],[0.3333333333333333,\"#9c179e\"],[0.4444444444444444,\"#bd3786\"],[0.5555555555555556,\"#d8576b\"],[0.6666666666666666,\"#ed7953\"],[0.7777777777777778,\"#fb9f3a\"],[0.8888888888888888,\"#fdca26\"],[1.0,\"#f0f921\"]],\"sequentialminus\":[[0.0,\"#0d0887\"],[0.1111111111111111,\"#46039f\"],[0.2222222222222222,\"#7201a8\"],[0.3333333333333333,\"#9c179e\"],[0.4444444444444444,\"#bd3786\"],[0.5555555555555556,\"#d8576b\"],[0.6666666666666666,\"#ed7953\"],[0.7777777777777778,\"#fb9f3a\"],[0.8888888888888888,\"#fdca26\"],[1.0,\"#f0f921\"]]},\"colorway\":[\"#636efa\",\"#EF553B\",\"#00cc96\",\"#ab63fa\",\"#FFA15A\",\"#19d3f3\",\"#FF6692\",\"#B6E880\",\"#FF97FF\",\"#FECB52\"],\"font\":{\"color\":\"#2a3f5f\"},\"geo\":{\"bgcolor\":\"white\",\"lakecolor\":\"white\",\"landcolor\":\"#E5ECF6\",\"showlakes\":true,\"showland\":true,\"subunitcolor\":\"white\"},\"hoverlabel\":{\"align\":\"left\"},\"hovermode\":\"closest\",\"mapbox\":{\"style\":\"light\"},\"paper_bgcolor\":\"white\",\"plot_bgcolor\":\"#E5ECF6\",\"polar\":{\"angularaxis\":{\"gridcolor\":\"white\",\"linecolor\":\"white\",\"ticks\":\"\"},\"bgcolor\":\"#E5ECF6\",\"radialaxis\":{\"gridcolor\":\"white\",\"linecolor\":\"white\",\"ticks\":\"\"}},\"scene\":{\"xaxis\":{\"backgroundcolor\":\"#E5ECF6\",\"gridcolor\":\"white\",\"gridwidth\":2,\"linecolor\":\"white\",\"showbackground\":true,\"ticks\":\"\",\"zerolinecolor\":\"white\"},\"yaxis\":{\"backgroundcolor\":\"#E5ECF6\",\"gridcolor\":\"white\",\"gridwidth\":2,\"linecolor\":\"white\",\"showbackground\":true,\"ticks\":\"\",\"zerolinecolor\":\"white\"},\"zaxis\":{\"backgroundcolor\":\"#E5ECF6\",\"gridcolor\":\"white\",\"gridwidth\":2,\"linecolor\":\"white\",\"showbackground\":true,\"ticks\":\"\",\"zerolinecolor\":\"white\"}},\"shapedefaults\":{\"line\":{\"color\":\"#2a3f5f\"}},\"ternary\":{\"aaxis\":{\"gridcolor\":\"white\",\"linecolor\":\"white\",\"ticks\":\"\"},\"baxis\":{\"gridcolor\":\"white\",\"linecolor\":\"white\",\"ticks\":\"\"},\"bgcolor\":\"#E5ECF6\",\"caxis\":{\"gridcolor\":\"white\",\"linecolor\":\"white\",\"ticks\":\"\"}},\"title\":{\"x\":0.05},\"xaxis\":{\"automargin\":true,\"gridcolor\":\"white\",\"linecolor\":\"white\",\"ticks\":\"\",\"title\":{\"standoff\":15},\"zerolinecolor\":\"white\",\"zerolinewidth\":2},\"yaxis\":{\"automargin\":true,\"gridcolor\":\"white\",\"linecolor\":\"white\",\"ticks\":\"\",\"title\":{\"standoff\":15},\"zerolinecolor\":\"white\",\"zerolinewidth\":2}}},\"title\":{\"text\":\"Games Played vs Won @Home ground\"}},                        {\"responsive\": true}                    ).then(function(){\n",
       "                            \n",
       "var gd = document.getElementById('7fc795b5-dd80-4cce-bdc0-f5ec472f26cf');\n",
       "var x = new MutationObserver(function (mutations, observer) {{\n",
       "        var display = window.getComputedStyle(gd).display;\n",
       "        if (!display || display === 'none') {{\n",
       "            console.log([gd, 'removed!']);\n",
       "            Plotly.purge(gd);\n",
       "            observer.disconnect();\n",
       "        }}\n",
       "}});\n",
       "\n",
       "// Listen for the removal of the full notebook cells\n",
       "var notebookContainer = gd.closest('#notebook-container');\n",
       "if (notebookContainer) {{\n",
       "    x.observe(notebookContainer, {childList: true});\n",
       "}}\n",
       "\n",
       "// Listen for the clearing of the current output cell\n",
       "var outputEl = gd.closest('.output');\n",
       "if (outputEl) {{\n",
       "    x.observe(outputEl, {childList: true});\n",
       "}}\n",
       "\n",
       "                        })                };                });            </script>        </div>"
      ]
     },
     "metadata": {},
     "output_type": "display_data"
    },
    {
     "data": {
      "application/vnd.plotly.v1+json": {
       "config": {
        "plotlyServerURL": "https://plot.ly"
       },
       "data": [
        {
         "name": "games",
         "type": "bar",
         "x": [
          "Sweden",
          "England",
          "Hungary",
          "Finland",
          "Germany",
          "Argentina",
          "Norway",
          "Uruguay",
          "Scotland",
          "Poland",
          "Denmark",
          "Switzerland",
          "Austria",
          "Bulgaria",
          "Belgium",
          "Paraguay",
          "Romania",
          "Netherlands",
          "Russia",
          "Wales"
         ],
         "y": [
          472,
          464,
          456,
          404,
          393,
          389,
          386,
          384,
          383,
          377,
          370,
          364,
          362,
          355,
          339,
          338,
          337,
          336,
          336,
          332
         ]
        },
        {
         "name": "win",
         "type": "bar",
         "x": [
          "Sweden",
          "England",
          "Hungary",
          "Finland",
          "Germany",
          "Argentina",
          "Norway",
          "Uruguay",
          "Scotland",
          "Poland",
          "Denmark",
          "Switzerland",
          "Austria",
          "Bulgaria",
          "Belgium",
          "Paraguay",
          "Romania",
          "Netherlands",
          "Russia",
          "Wales"
         ],
         "y": [
          194,
          250,
          170,
          79,
          215,
          150,
          124,
          105,
          153,
          124,
          131,
          92,
          115,
          95,
          112,
          76,
          107,
          140,
          144,
          86
         ]
        }
       ],
       "layout": {
        "barmode": "group",
        "template": {
         "data": {
          "bar": [
           {
            "error_x": {
             "color": "#2a3f5f"
            },
            "error_y": {
             "color": "#2a3f5f"
            },
            "marker": {
             "line": {
              "color": "#E5ECF6",
              "width": 0.5
             },
             "pattern": {
              "fillmode": "overlay",
              "size": 10,
              "solidity": 0.2
             }
            },
            "type": "bar"
           }
          ],
          "barpolar": [
           {
            "marker": {
             "line": {
              "color": "#E5ECF6",
              "width": 0.5
             },
             "pattern": {
              "fillmode": "overlay",
              "size": 10,
              "solidity": 0.2
             }
            },
            "type": "barpolar"
           }
          ],
          "carpet": [
           {
            "aaxis": {
             "endlinecolor": "#2a3f5f",
             "gridcolor": "white",
             "linecolor": "white",
             "minorgridcolor": "white",
             "startlinecolor": "#2a3f5f"
            },
            "baxis": {
             "endlinecolor": "#2a3f5f",
             "gridcolor": "white",
             "linecolor": "white",
             "minorgridcolor": "white",
             "startlinecolor": "#2a3f5f"
            },
            "type": "carpet"
           }
          ],
          "choropleth": [
           {
            "colorbar": {
             "outlinewidth": 0,
             "ticks": ""
            },
            "type": "choropleth"
           }
          ],
          "contour": [
           {
            "colorbar": {
             "outlinewidth": 0,
             "ticks": ""
            },
            "colorscale": [
             [
              0,
              "#0d0887"
             ],
             [
              0.1111111111111111,
              "#46039f"
             ],
             [
              0.2222222222222222,
              "#7201a8"
             ],
             [
              0.3333333333333333,
              "#9c179e"
             ],
             [
              0.4444444444444444,
              "#bd3786"
             ],
             [
              0.5555555555555556,
              "#d8576b"
             ],
             [
              0.6666666666666666,
              "#ed7953"
             ],
             [
              0.7777777777777778,
              "#fb9f3a"
             ],
             [
              0.8888888888888888,
              "#fdca26"
             ],
             [
              1,
              "#f0f921"
             ]
            ],
            "type": "contour"
           }
          ],
          "contourcarpet": [
           {
            "colorbar": {
             "outlinewidth": 0,
             "ticks": ""
            },
            "type": "contourcarpet"
           }
          ],
          "heatmap": [
           {
            "colorbar": {
             "outlinewidth": 0,
             "ticks": ""
            },
            "colorscale": [
             [
              0,
              "#0d0887"
             ],
             [
              0.1111111111111111,
              "#46039f"
             ],
             [
              0.2222222222222222,
              "#7201a8"
             ],
             [
              0.3333333333333333,
              "#9c179e"
             ],
             [
              0.4444444444444444,
              "#bd3786"
             ],
             [
              0.5555555555555556,
              "#d8576b"
             ],
             [
              0.6666666666666666,
              "#ed7953"
             ],
             [
              0.7777777777777778,
              "#fb9f3a"
             ],
             [
              0.8888888888888888,
              "#fdca26"
             ],
             [
              1,
              "#f0f921"
             ]
            ],
            "type": "heatmap"
           }
          ],
          "heatmapgl": [
           {
            "colorbar": {
             "outlinewidth": 0,
             "ticks": ""
            },
            "colorscale": [
             [
              0,
              "#0d0887"
             ],
             [
              0.1111111111111111,
              "#46039f"
             ],
             [
              0.2222222222222222,
              "#7201a8"
             ],
             [
              0.3333333333333333,
              "#9c179e"
             ],
             [
              0.4444444444444444,
              "#bd3786"
             ],
             [
              0.5555555555555556,
              "#d8576b"
             ],
             [
              0.6666666666666666,
              "#ed7953"
             ],
             [
              0.7777777777777778,
              "#fb9f3a"
             ],
             [
              0.8888888888888888,
              "#fdca26"
             ],
             [
              1,
              "#f0f921"
             ]
            ],
            "type": "heatmapgl"
           }
          ],
          "histogram": [
           {
            "marker": {
             "pattern": {
              "fillmode": "overlay",
              "size": 10,
              "solidity": 0.2
             }
            },
            "type": "histogram"
           }
          ],
          "histogram2d": [
           {
            "colorbar": {
             "outlinewidth": 0,
             "ticks": ""
            },
            "colorscale": [
             [
              0,
              "#0d0887"
             ],
             [
              0.1111111111111111,
              "#46039f"
             ],
             [
              0.2222222222222222,
              "#7201a8"
             ],
             [
              0.3333333333333333,
              "#9c179e"
             ],
             [
              0.4444444444444444,
              "#bd3786"
             ],
             [
              0.5555555555555556,
              "#d8576b"
             ],
             [
              0.6666666666666666,
              "#ed7953"
             ],
             [
              0.7777777777777778,
              "#fb9f3a"
             ],
             [
              0.8888888888888888,
              "#fdca26"
             ],
             [
              1,
              "#f0f921"
             ]
            ],
            "type": "histogram2d"
           }
          ],
          "histogram2dcontour": [
           {
            "colorbar": {
             "outlinewidth": 0,
             "ticks": ""
            },
            "colorscale": [
             [
              0,
              "#0d0887"
             ],
             [
              0.1111111111111111,
              "#46039f"
             ],
             [
              0.2222222222222222,
              "#7201a8"
             ],
             [
              0.3333333333333333,
              "#9c179e"
             ],
             [
              0.4444444444444444,
              "#bd3786"
             ],
             [
              0.5555555555555556,
              "#d8576b"
             ],
             [
              0.6666666666666666,
              "#ed7953"
             ],
             [
              0.7777777777777778,
              "#fb9f3a"
             ],
             [
              0.8888888888888888,
              "#fdca26"
             ],
             [
              1,
              "#f0f921"
             ]
            ],
            "type": "histogram2dcontour"
           }
          ],
          "mesh3d": [
           {
            "colorbar": {
             "outlinewidth": 0,
             "ticks": ""
            },
            "type": "mesh3d"
           }
          ],
          "parcoords": [
           {
            "line": {
             "colorbar": {
              "outlinewidth": 0,
              "ticks": ""
             }
            },
            "type": "parcoords"
           }
          ],
          "pie": [
           {
            "automargin": true,
            "type": "pie"
           }
          ],
          "scatter": [
           {
            "marker": {
             "colorbar": {
              "outlinewidth": 0,
              "ticks": ""
             }
            },
            "type": "scatter"
           }
          ],
          "scatter3d": [
           {
            "line": {
             "colorbar": {
              "outlinewidth": 0,
              "ticks": ""
             }
            },
            "marker": {
             "colorbar": {
              "outlinewidth": 0,
              "ticks": ""
             }
            },
            "type": "scatter3d"
           }
          ],
          "scattercarpet": [
           {
            "marker": {
             "colorbar": {
              "outlinewidth": 0,
              "ticks": ""
             }
            },
            "type": "scattercarpet"
           }
          ],
          "scattergeo": [
           {
            "marker": {
             "colorbar": {
              "outlinewidth": 0,
              "ticks": ""
             }
            },
            "type": "scattergeo"
           }
          ],
          "scattergl": [
           {
            "marker": {
             "colorbar": {
              "outlinewidth": 0,
              "ticks": ""
             }
            },
            "type": "scattergl"
           }
          ],
          "scattermapbox": [
           {
            "marker": {
             "colorbar": {
              "outlinewidth": 0,
              "ticks": ""
             }
            },
            "type": "scattermapbox"
           }
          ],
          "scatterpolar": [
           {
            "marker": {
             "colorbar": {
              "outlinewidth": 0,
              "ticks": ""
             }
            },
            "type": "scatterpolar"
           }
          ],
          "scatterpolargl": [
           {
            "marker": {
             "colorbar": {
              "outlinewidth": 0,
              "ticks": ""
             }
            },
            "type": "scatterpolargl"
           }
          ],
          "scatterternary": [
           {
            "marker": {
             "colorbar": {
              "outlinewidth": 0,
              "ticks": ""
             }
            },
            "type": "scatterternary"
           }
          ],
          "surface": [
           {
            "colorbar": {
             "outlinewidth": 0,
             "ticks": ""
            },
            "colorscale": [
             [
              0,
              "#0d0887"
             ],
             [
              0.1111111111111111,
              "#46039f"
             ],
             [
              0.2222222222222222,
              "#7201a8"
             ],
             [
              0.3333333333333333,
              "#9c179e"
             ],
             [
              0.4444444444444444,
              "#bd3786"
             ],
             [
              0.5555555555555556,
              "#d8576b"
             ],
             [
              0.6666666666666666,
              "#ed7953"
             ],
             [
              0.7777777777777778,
              "#fb9f3a"
             ],
             [
              0.8888888888888888,
              "#fdca26"
             ],
             [
              1,
              "#f0f921"
             ]
            ],
            "type": "surface"
           }
          ],
          "table": [
           {
            "cells": {
             "fill": {
              "color": "#EBF0F8"
             },
             "line": {
              "color": "white"
             }
            },
            "header": {
             "fill": {
              "color": "#C8D4E3"
             },
             "line": {
              "color": "white"
             }
            },
            "type": "table"
           }
          ]
         },
         "layout": {
          "annotationdefaults": {
           "arrowcolor": "#2a3f5f",
           "arrowhead": 0,
           "arrowwidth": 1
          },
          "autotypenumbers": "strict",
          "coloraxis": {
           "colorbar": {
            "outlinewidth": 0,
            "ticks": ""
           }
          },
          "colorscale": {
           "diverging": [
            [
             0,
             "#8e0152"
            ],
            [
             0.1,
             "#c51b7d"
            ],
            [
             0.2,
             "#de77ae"
            ],
            [
             0.3,
             "#f1b6da"
            ],
            [
             0.4,
             "#fde0ef"
            ],
            [
             0.5,
             "#f7f7f7"
            ],
            [
             0.6,
             "#e6f5d0"
            ],
            [
             0.7,
             "#b8e186"
            ],
            [
             0.8,
             "#7fbc41"
            ],
            [
             0.9,
             "#4d9221"
            ],
            [
             1,
             "#276419"
            ]
           ],
           "sequential": [
            [
             0,
             "#0d0887"
            ],
            [
             0.1111111111111111,
             "#46039f"
            ],
            [
             0.2222222222222222,
             "#7201a8"
            ],
            [
             0.3333333333333333,
             "#9c179e"
            ],
            [
             0.4444444444444444,
             "#bd3786"
            ],
            [
             0.5555555555555556,
             "#d8576b"
            ],
            [
             0.6666666666666666,
             "#ed7953"
            ],
            [
             0.7777777777777778,
             "#fb9f3a"
            ],
            [
             0.8888888888888888,
             "#fdca26"
            ],
            [
             1,
             "#f0f921"
            ]
           ],
           "sequentialminus": [
            [
             0,
             "#0d0887"
            ],
            [
             0.1111111111111111,
             "#46039f"
            ],
            [
             0.2222222222222222,
             "#7201a8"
            ],
            [
             0.3333333333333333,
             "#9c179e"
            ],
            [
             0.4444444444444444,
             "#bd3786"
            ],
            [
             0.5555555555555556,
             "#d8576b"
            ],
            [
             0.6666666666666666,
             "#ed7953"
            ],
            [
             0.7777777777777778,
             "#fb9f3a"
            ],
            [
             0.8888888888888888,
             "#fdca26"
            ],
            [
             1,
             "#f0f921"
            ]
           ]
          },
          "colorway": [
           "#636efa",
           "#EF553B",
           "#00cc96",
           "#ab63fa",
           "#FFA15A",
           "#19d3f3",
           "#FF6692",
           "#B6E880",
           "#FF97FF",
           "#FECB52"
          ],
          "font": {
           "color": "#2a3f5f"
          },
          "geo": {
           "bgcolor": "white",
           "lakecolor": "white",
           "landcolor": "#E5ECF6",
           "showlakes": true,
           "showland": true,
           "subunitcolor": "white"
          },
          "hoverlabel": {
           "align": "left"
          },
          "hovermode": "closest",
          "mapbox": {
           "style": "light"
          },
          "paper_bgcolor": "white",
          "plot_bgcolor": "#E5ECF6",
          "polar": {
           "angularaxis": {
            "gridcolor": "white",
            "linecolor": "white",
            "ticks": ""
           },
           "bgcolor": "#E5ECF6",
           "radialaxis": {
            "gridcolor": "white",
            "linecolor": "white",
            "ticks": ""
           }
          },
          "scene": {
           "xaxis": {
            "backgroundcolor": "#E5ECF6",
            "gridcolor": "white",
            "gridwidth": 2,
            "linecolor": "white",
            "showbackground": true,
            "ticks": "",
            "zerolinecolor": "white"
           },
           "yaxis": {
            "backgroundcolor": "#E5ECF6",
            "gridcolor": "white",
            "gridwidth": 2,
            "linecolor": "white",
            "showbackground": true,
            "ticks": "",
            "zerolinecolor": "white"
           },
           "zaxis": {
            "backgroundcolor": "#E5ECF6",
            "gridcolor": "white",
            "gridwidth": 2,
            "linecolor": "white",
            "showbackground": true,
            "ticks": "",
            "zerolinecolor": "white"
           }
          },
          "shapedefaults": {
           "line": {
            "color": "#2a3f5f"
           }
          },
          "ternary": {
           "aaxis": {
            "gridcolor": "white",
            "linecolor": "white",
            "ticks": ""
           },
           "baxis": {
            "gridcolor": "white",
            "linecolor": "white",
            "ticks": ""
           },
           "bgcolor": "#E5ECF6",
           "caxis": {
            "gridcolor": "white",
            "linecolor": "white",
            "ticks": ""
           }
          },
          "title": {
           "x": 0.05
          },
          "xaxis": {
           "automargin": true,
           "gridcolor": "white",
           "linecolor": "white",
           "ticks": "",
           "title": {
            "standoff": 15
           },
           "zerolinecolor": "white",
           "zerolinewidth": 2
          },
          "yaxis": {
           "automargin": true,
           "gridcolor": "white",
           "linecolor": "white",
           "ticks": "",
           "title": {
            "standoff": 15
           },
           "zerolinecolor": "white",
           "zerolinewidth": 2
          }
         }
        },
        "title": {
         "text": "Games Played vs Won @ Non Home Ground"
        }
       }
      },
      "text/html": [
       "<div>                            <div id=\"3c8b2279-55e9-4540-994f-137e89a9a0d4\" class=\"plotly-graph-div\" style=\"height:525px; width:100%;\"></div>            <script type=\"text/javascript\">                require([\"plotly\"], function(Plotly) {                    window.PLOTLYENV=window.PLOTLYENV || {};                                    if (document.getElementById(\"3c8b2279-55e9-4540-994f-137e89a9a0d4\")) {                    Plotly.newPlot(                        \"3c8b2279-55e9-4540-994f-137e89a9a0d4\",                        [{\"name\":\"games\",\"type\":\"bar\",\"x\":[\"Sweden\",\"England\",\"Hungary\",\"Finland\",\"Germany\",\"Argentina\",\"Norway\",\"Uruguay\",\"Scotland\",\"Poland\",\"Denmark\",\"Switzerland\",\"Austria\",\"Bulgaria\",\"Belgium\",\"Paraguay\",\"Romania\",\"Netherlands\",\"Russia\",\"Wales\"],\"y\":[472,464,456,404,393,389,386,384,383,377,370,364,362,355,339,338,337,336,336,332]},{\"name\":\"win\",\"type\":\"bar\",\"x\":[\"Sweden\",\"England\",\"Hungary\",\"Finland\",\"Germany\",\"Argentina\",\"Norway\",\"Uruguay\",\"Scotland\",\"Poland\",\"Denmark\",\"Switzerland\",\"Austria\",\"Bulgaria\",\"Belgium\",\"Paraguay\",\"Romania\",\"Netherlands\",\"Russia\",\"Wales\"],\"y\":[194.0,250.0,170.0,79.0,215.0,150.0,124.0,105.0,153.0,124.0,131.0,92.0,115.0,95.0,112.0,76.0,107.0,140.0,144.0,86.0]}],                        {\"barmode\":\"group\",\"template\":{\"data\":{\"bar\":[{\"error_x\":{\"color\":\"#2a3f5f\"},\"error_y\":{\"color\":\"#2a3f5f\"},\"marker\":{\"line\":{\"color\":\"#E5ECF6\",\"width\":0.5},\"pattern\":{\"fillmode\":\"overlay\",\"size\":10,\"solidity\":0.2}},\"type\":\"bar\"}],\"barpolar\":[{\"marker\":{\"line\":{\"color\":\"#E5ECF6\",\"width\":0.5},\"pattern\":{\"fillmode\":\"overlay\",\"size\":10,\"solidity\":0.2}},\"type\":\"barpolar\"}],\"carpet\":[{\"aaxis\":{\"endlinecolor\":\"#2a3f5f\",\"gridcolor\":\"white\",\"linecolor\":\"white\",\"minorgridcolor\":\"white\",\"startlinecolor\":\"#2a3f5f\"},\"baxis\":{\"endlinecolor\":\"#2a3f5f\",\"gridcolor\":\"white\",\"linecolor\":\"white\",\"minorgridcolor\":\"white\",\"startlinecolor\":\"#2a3f5f\"},\"type\":\"carpet\"}],\"choropleth\":[{\"colorbar\":{\"outlinewidth\":0,\"ticks\":\"\"},\"type\":\"choropleth\"}],\"contour\":[{\"colorbar\":{\"outlinewidth\":0,\"ticks\":\"\"},\"colorscale\":[[0.0,\"#0d0887\"],[0.1111111111111111,\"#46039f\"],[0.2222222222222222,\"#7201a8\"],[0.3333333333333333,\"#9c179e\"],[0.4444444444444444,\"#bd3786\"],[0.5555555555555556,\"#d8576b\"],[0.6666666666666666,\"#ed7953\"],[0.7777777777777778,\"#fb9f3a\"],[0.8888888888888888,\"#fdca26\"],[1.0,\"#f0f921\"]],\"type\":\"contour\"}],\"contourcarpet\":[{\"colorbar\":{\"outlinewidth\":0,\"ticks\":\"\"},\"type\":\"contourcarpet\"}],\"heatmap\":[{\"colorbar\":{\"outlinewidth\":0,\"ticks\":\"\"},\"colorscale\":[[0.0,\"#0d0887\"],[0.1111111111111111,\"#46039f\"],[0.2222222222222222,\"#7201a8\"],[0.3333333333333333,\"#9c179e\"],[0.4444444444444444,\"#bd3786\"],[0.5555555555555556,\"#d8576b\"],[0.6666666666666666,\"#ed7953\"],[0.7777777777777778,\"#fb9f3a\"],[0.8888888888888888,\"#fdca26\"],[1.0,\"#f0f921\"]],\"type\":\"heatmap\"}],\"heatmapgl\":[{\"colorbar\":{\"outlinewidth\":0,\"ticks\":\"\"},\"colorscale\":[[0.0,\"#0d0887\"],[0.1111111111111111,\"#46039f\"],[0.2222222222222222,\"#7201a8\"],[0.3333333333333333,\"#9c179e\"],[0.4444444444444444,\"#bd3786\"],[0.5555555555555556,\"#d8576b\"],[0.6666666666666666,\"#ed7953\"],[0.7777777777777778,\"#fb9f3a\"],[0.8888888888888888,\"#fdca26\"],[1.0,\"#f0f921\"]],\"type\":\"heatmapgl\"}],\"histogram\":[{\"marker\":{\"pattern\":{\"fillmode\":\"overlay\",\"size\":10,\"solidity\":0.2}},\"type\":\"histogram\"}],\"histogram2d\":[{\"colorbar\":{\"outlinewidth\":0,\"ticks\":\"\"},\"colorscale\":[[0.0,\"#0d0887\"],[0.1111111111111111,\"#46039f\"],[0.2222222222222222,\"#7201a8\"],[0.3333333333333333,\"#9c179e\"],[0.4444444444444444,\"#bd3786\"],[0.5555555555555556,\"#d8576b\"],[0.6666666666666666,\"#ed7953\"],[0.7777777777777778,\"#fb9f3a\"],[0.8888888888888888,\"#fdca26\"],[1.0,\"#f0f921\"]],\"type\":\"histogram2d\"}],\"histogram2dcontour\":[{\"colorbar\":{\"outlinewidth\":0,\"ticks\":\"\"},\"colorscale\":[[0.0,\"#0d0887\"],[0.1111111111111111,\"#46039f\"],[0.2222222222222222,\"#7201a8\"],[0.3333333333333333,\"#9c179e\"],[0.4444444444444444,\"#bd3786\"],[0.5555555555555556,\"#d8576b\"],[0.6666666666666666,\"#ed7953\"],[0.7777777777777778,\"#fb9f3a\"],[0.8888888888888888,\"#fdca26\"],[1.0,\"#f0f921\"]],\"type\":\"histogram2dcontour\"}],\"mesh3d\":[{\"colorbar\":{\"outlinewidth\":0,\"ticks\":\"\"},\"type\":\"mesh3d\"}],\"parcoords\":[{\"line\":{\"colorbar\":{\"outlinewidth\":0,\"ticks\":\"\"}},\"type\":\"parcoords\"}],\"pie\":[{\"automargin\":true,\"type\":\"pie\"}],\"scatter\":[{\"marker\":{\"colorbar\":{\"outlinewidth\":0,\"ticks\":\"\"}},\"type\":\"scatter\"}],\"scatter3d\":[{\"line\":{\"colorbar\":{\"outlinewidth\":0,\"ticks\":\"\"}},\"marker\":{\"colorbar\":{\"outlinewidth\":0,\"ticks\":\"\"}},\"type\":\"scatter3d\"}],\"scattercarpet\":[{\"marker\":{\"colorbar\":{\"outlinewidth\":0,\"ticks\":\"\"}},\"type\":\"scattercarpet\"}],\"scattergeo\":[{\"marker\":{\"colorbar\":{\"outlinewidth\":0,\"ticks\":\"\"}},\"type\":\"scattergeo\"}],\"scattergl\":[{\"marker\":{\"colorbar\":{\"outlinewidth\":0,\"ticks\":\"\"}},\"type\":\"scattergl\"}],\"scattermapbox\":[{\"marker\":{\"colorbar\":{\"outlinewidth\":0,\"ticks\":\"\"}},\"type\":\"scattermapbox\"}],\"scatterpolar\":[{\"marker\":{\"colorbar\":{\"outlinewidth\":0,\"ticks\":\"\"}},\"type\":\"scatterpolar\"}],\"scatterpolargl\":[{\"marker\":{\"colorbar\":{\"outlinewidth\":0,\"ticks\":\"\"}},\"type\":\"scatterpolargl\"}],\"scatterternary\":[{\"marker\":{\"colorbar\":{\"outlinewidth\":0,\"ticks\":\"\"}},\"type\":\"scatterternary\"}],\"surface\":[{\"colorbar\":{\"outlinewidth\":0,\"ticks\":\"\"},\"colorscale\":[[0.0,\"#0d0887\"],[0.1111111111111111,\"#46039f\"],[0.2222222222222222,\"#7201a8\"],[0.3333333333333333,\"#9c179e\"],[0.4444444444444444,\"#bd3786\"],[0.5555555555555556,\"#d8576b\"],[0.6666666666666666,\"#ed7953\"],[0.7777777777777778,\"#fb9f3a\"],[0.8888888888888888,\"#fdca26\"],[1.0,\"#f0f921\"]],\"type\":\"surface\"}],\"table\":[{\"cells\":{\"fill\":{\"color\":\"#EBF0F8\"},\"line\":{\"color\":\"white\"}},\"header\":{\"fill\":{\"color\":\"#C8D4E3\"},\"line\":{\"color\":\"white\"}},\"type\":\"table\"}]},\"layout\":{\"annotationdefaults\":{\"arrowcolor\":\"#2a3f5f\",\"arrowhead\":0,\"arrowwidth\":1},\"autotypenumbers\":\"strict\",\"coloraxis\":{\"colorbar\":{\"outlinewidth\":0,\"ticks\":\"\"}},\"colorscale\":{\"diverging\":[[0,\"#8e0152\"],[0.1,\"#c51b7d\"],[0.2,\"#de77ae\"],[0.3,\"#f1b6da\"],[0.4,\"#fde0ef\"],[0.5,\"#f7f7f7\"],[0.6,\"#e6f5d0\"],[0.7,\"#b8e186\"],[0.8,\"#7fbc41\"],[0.9,\"#4d9221\"],[1,\"#276419\"]],\"sequential\":[[0.0,\"#0d0887\"],[0.1111111111111111,\"#46039f\"],[0.2222222222222222,\"#7201a8\"],[0.3333333333333333,\"#9c179e\"],[0.4444444444444444,\"#bd3786\"],[0.5555555555555556,\"#d8576b\"],[0.6666666666666666,\"#ed7953\"],[0.7777777777777778,\"#fb9f3a\"],[0.8888888888888888,\"#fdca26\"],[1.0,\"#f0f921\"]],\"sequentialminus\":[[0.0,\"#0d0887\"],[0.1111111111111111,\"#46039f\"],[0.2222222222222222,\"#7201a8\"],[0.3333333333333333,\"#9c179e\"],[0.4444444444444444,\"#bd3786\"],[0.5555555555555556,\"#d8576b\"],[0.6666666666666666,\"#ed7953\"],[0.7777777777777778,\"#fb9f3a\"],[0.8888888888888888,\"#fdca26\"],[1.0,\"#f0f921\"]]},\"colorway\":[\"#636efa\",\"#EF553B\",\"#00cc96\",\"#ab63fa\",\"#FFA15A\",\"#19d3f3\",\"#FF6692\",\"#B6E880\",\"#FF97FF\",\"#FECB52\"],\"font\":{\"color\":\"#2a3f5f\"},\"geo\":{\"bgcolor\":\"white\",\"lakecolor\":\"white\",\"landcolor\":\"#E5ECF6\",\"showlakes\":true,\"showland\":true,\"subunitcolor\":\"white\"},\"hoverlabel\":{\"align\":\"left\"},\"hovermode\":\"closest\",\"mapbox\":{\"style\":\"light\"},\"paper_bgcolor\":\"white\",\"plot_bgcolor\":\"#E5ECF6\",\"polar\":{\"angularaxis\":{\"gridcolor\":\"white\",\"linecolor\":\"white\",\"ticks\":\"\"},\"bgcolor\":\"#E5ECF6\",\"radialaxis\":{\"gridcolor\":\"white\",\"linecolor\":\"white\",\"ticks\":\"\"}},\"scene\":{\"xaxis\":{\"backgroundcolor\":\"#E5ECF6\",\"gridcolor\":\"white\",\"gridwidth\":2,\"linecolor\":\"white\",\"showbackground\":true,\"ticks\":\"\",\"zerolinecolor\":\"white\"},\"yaxis\":{\"backgroundcolor\":\"#E5ECF6\",\"gridcolor\":\"white\",\"gridwidth\":2,\"linecolor\":\"white\",\"showbackground\":true,\"ticks\":\"\",\"zerolinecolor\":\"white\"},\"zaxis\":{\"backgroundcolor\":\"#E5ECF6\",\"gridcolor\":\"white\",\"gridwidth\":2,\"linecolor\":\"white\",\"showbackground\":true,\"ticks\":\"\",\"zerolinecolor\":\"white\"}},\"shapedefaults\":{\"line\":{\"color\":\"#2a3f5f\"}},\"ternary\":{\"aaxis\":{\"gridcolor\":\"white\",\"linecolor\":\"white\",\"ticks\":\"\"},\"baxis\":{\"gridcolor\":\"white\",\"linecolor\":\"white\",\"ticks\":\"\"},\"bgcolor\":\"#E5ECF6\",\"caxis\":{\"gridcolor\":\"white\",\"linecolor\":\"white\",\"ticks\":\"\"}},\"title\":{\"x\":0.05},\"xaxis\":{\"automargin\":true,\"gridcolor\":\"white\",\"linecolor\":\"white\",\"ticks\":\"\",\"title\":{\"standoff\":15},\"zerolinecolor\":\"white\",\"zerolinewidth\":2},\"yaxis\":{\"automargin\":true,\"gridcolor\":\"white\",\"linecolor\":\"white\",\"ticks\":\"\",\"title\":{\"standoff\":15},\"zerolinecolor\":\"white\",\"zerolinewidth\":2}}},\"title\":{\"text\":\"Games Played vs Won @ Non Home Ground\"}},                        {\"responsive\": true}                    ).then(function(){\n",
       "                            \n",
       "var gd = document.getElementById('3c8b2279-55e9-4540-994f-137e89a9a0d4');\n",
       "var x = new MutationObserver(function (mutations, observer) {{\n",
       "        var display = window.getComputedStyle(gd).display;\n",
       "        if (!display || display === 'none') {{\n",
       "            console.log([gd, 'removed!']);\n",
       "            Plotly.purge(gd);\n",
       "            observer.disconnect();\n",
       "        }}\n",
       "}});\n",
       "\n",
       "// Listen for the removal of the full notebook cells\n",
       "var notebookContainer = gd.closest('#notebook-container');\n",
       "if (notebookContainer) {{\n",
       "    x.observe(notebookContainer, {childList: true});\n",
       "}}\n",
       "\n",
       "// Listen for the clearing of the current output cell\n",
       "var outputEl = gd.closest('.output');\n",
       "if (outputEl) {{\n",
       "    x.observe(outputEl, {childList: true});\n",
       "}}\n",
       "\n",
       "                        })                };                });            </script>        </div>"
      ]
     },
     "metadata": {},
     "output_type": "display_data"
    }
   ],
   "source": [
    "# Show Top 20 games vs wins\n",
    "# Lets look at top 20 games on IFL @ home ground\n",
    "\n",
    "import plotly.graph_objects as go\n",
    "\n",
    "\n",
    "new_df = pd.DataFrame({'games':mask_non_neutral['home_team'].value_counts(), \n",
    "                       'win': win_at_home['home_team'].value_counts(), \n",
    "                     'win_away': win_at_away['away_team'].value_counts() }).sort_values(by=['games'], ascending = False).head(n = 20)\n",
    "\n",
    "fig = go.Figure(data=[\n",
    "    go.Bar(name='games', x=new_df.index, y=new_df['games']),\n",
    "    go.Bar(name='win', x=new_df.index, y=new_df['win']) ])\n",
    "\n",
    "# Change the bar mode\n",
    "fig.update_layout(barmode='group')\n",
    "fig.update_layout(title = 'Games Played vs Won @Home ground')\n",
    "\n",
    "fig.show()\n",
    "\n",
    "\n",
    "# games played vs won in non home grounds\n",
    "away_df = pd.DataFrame({'games':mask_non_neutral['away_team'].value_counts(), \n",
    "                       'win': win_at_away['away_team'].value_counts()}).sort_values(by=['games'], ascending = False).head(n = 20)\n",
    "\n",
    "fig1 = go.Figure(data=[\n",
    "    go.Bar(name='games', x=away_df.index, y=away_df['games']),\n",
    "    go.Bar(name='win', x=away_df.index, y=away_df['win']) ])\n",
    "\n",
    "# Change the bar mode\n",
    "fig1.update_layout(barmode='group')\n",
    "fig1.update_layout(title = 'Games Played vs Won @ Non Home Ground')\n",
    "\n",
    "fig1.show()"
   ]
  },
  {
   "cell_type": "markdown",
   "id": "96ae199a",
   "metadata": {},
   "source": [
    "### Conclusion 1:\n",
    "\n",
    "From the above graphs we can conclude.\n",
    "1. England \n",
    "2. Sweden\n",
    "3. France \n",
    "4. Hungary\n",
    "5. Germany \n",
    "6. United States \n",
    "7. Austria\n",
    "8. Switzerland\n",
    "9. Norway\n",
    "10. Denmark\n",
    "\n",
    "are top 10 most well played teams so far. \n",
    "\n",
    "### Total Games played and win ctriterion (Probablity of win)\n",
    "\n",
    "Lets see %ge of win and teams who is really performing good\n"
   ]
  },
  {
   "cell_type": "code",
   "execution_count": 58,
   "id": "cb564e5c",
   "metadata": {},
   "outputs": [
    {
     "data": {
      "application/vnd.plotly.v1+json": {
       "config": {
        "plotlyServerURL": "https://plot.ly"
       },
       "data": [
        {
         "name": "games",
         "type": "bar",
         "x": [
          "England",
          "Sweden",
          "France",
          "Hungary",
          "Germany",
          "United States",
          "Austria",
          "Switzerland",
          "Norway",
          "Denmark",
          "Italy",
          "Netherlands",
          "Belgium",
          "Scotland",
          "Poland",
          "Brazil",
          "Argentina",
          "Wales",
          "Spain",
          "Finland"
         ],
         "y": [
          0.646551724137931,
          0.6008676789587852,
          0.5869074492099323,
          0.5655172413793104,
          0.6293706293706294,
          0.5563725490196079,
          0.5173267326732673,
          0.44836272040302266,
          0.41475826972010177,
          0.5651041666666666,
          0.6675392670157068,
          0.5863874345549738,
          0.5380577427821522,
          0.5786666666666667,
          0.5068493150684932,
          0.7329545454545454,
          0.6598240469208211,
          0.38557993730407525,
          0.7003154574132492,
          0.3259493670886076
         ]
        }
       ],
       "layout": {
        "template": {
         "data": {
          "bar": [
           {
            "error_x": {
             "color": "#2a3f5f"
            },
            "error_y": {
             "color": "#2a3f5f"
            },
            "marker": {
             "line": {
              "color": "#E5ECF6",
              "width": 0.5
             },
             "pattern": {
              "fillmode": "overlay",
              "size": 10,
              "solidity": 0.2
             }
            },
            "type": "bar"
           }
          ],
          "barpolar": [
           {
            "marker": {
             "line": {
              "color": "#E5ECF6",
              "width": 0.5
             },
             "pattern": {
              "fillmode": "overlay",
              "size": 10,
              "solidity": 0.2
             }
            },
            "type": "barpolar"
           }
          ],
          "carpet": [
           {
            "aaxis": {
             "endlinecolor": "#2a3f5f",
             "gridcolor": "white",
             "linecolor": "white",
             "minorgridcolor": "white",
             "startlinecolor": "#2a3f5f"
            },
            "baxis": {
             "endlinecolor": "#2a3f5f",
             "gridcolor": "white",
             "linecolor": "white",
             "minorgridcolor": "white",
             "startlinecolor": "#2a3f5f"
            },
            "type": "carpet"
           }
          ],
          "choropleth": [
           {
            "colorbar": {
             "outlinewidth": 0,
             "ticks": ""
            },
            "type": "choropleth"
           }
          ],
          "contour": [
           {
            "colorbar": {
             "outlinewidth": 0,
             "ticks": ""
            },
            "colorscale": [
             [
              0,
              "#0d0887"
             ],
             [
              0.1111111111111111,
              "#46039f"
             ],
             [
              0.2222222222222222,
              "#7201a8"
             ],
             [
              0.3333333333333333,
              "#9c179e"
             ],
             [
              0.4444444444444444,
              "#bd3786"
             ],
             [
              0.5555555555555556,
              "#d8576b"
             ],
             [
              0.6666666666666666,
              "#ed7953"
             ],
             [
              0.7777777777777778,
              "#fb9f3a"
             ],
             [
              0.8888888888888888,
              "#fdca26"
             ],
             [
              1,
              "#f0f921"
             ]
            ],
            "type": "contour"
           }
          ],
          "contourcarpet": [
           {
            "colorbar": {
             "outlinewidth": 0,
             "ticks": ""
            },
            "type": "contourcarpet"
           }
          ],
          "heatmap": [
           {
            "colorbar": {
             "outlinewidth": 0,
             "ticks": ""
            },
            "colorscale": [
             [
              0,
              "#0d0887"
             ],
             [
              0.1111111111111111,
              "#46039f"
             ],
             [
              0.2222222222222222,
              "#7201a8"
             ],
             [
              0.3333333333333333,
              "#9c179e"
             ],
             [
              0.4444444444444444,
              "#bd3786"
             ],
             [
              0.5555555555555556,
              "#d8576b"
             ],
             [
              0.6666666666666666,
              "#ed7953"
             ],
             [
              0.7777777777777778,
              "#fb9f3a"
             ],
             [
              0.8888888888888888,
              "#fdca26"
             ],
             [
              1,
              "#f0f921"
             ]
            ],
            "type": "heatmap"
           }
          ],
          "heatmapgl": [
           {
            "colorbar": {
             "outlinewidth": 0,
             "ticks": ""
            },
            "colorscale": [
             [
              0,
              "#0d0887"
             ],
             [
              0.1111111111111111,
              "#46039f"
             ],
             [
              0.2222222222222222,
              "#7201a8"
             ],
             [
              0.3333333333333333,
              "#9c179e"
             ],
             [
              0.4444444444444444,
              "#bd3786"
             ],
             [
              0.5555555555555556,
              "#d8576b"
             ],
             [
              0.6666666666666666,
              "#ed7953"
             ],
             [
              0.7777777777777778,
              "#fb9f3a"
             ],
             [
              0.8888888888888888,
              "#fdca26"
             ],
             [
              1,
              "#f0f921"
             ]
            ],
            "type": "heatmapgl"
           }
          ],
          "histogram": [
           {
            "marker": {
             "pattern": {
              "fillmode": "overlay",
              "size": 10,
              "solidity": 0.2
             }
            },
            "type": "histogram"
           }
          ],
          "histogram2d": [
           {
            "colorbar": {
             "outlinewidth": 0,
             "ticks": ""
            },
            "colorscale": [
             [
              0,
              "#0d0887"
             ],
             [
              0.1111111111111111,
              "#46039f"
             ],
             [
              0.2222222222222222,
              "#7201a8"
             ],
             [
              0.3333333333333333,
              "#9c179e"
             ],
             [
              0.4444444444444444,
              "#bd3786"
             ],
             [
              0.5555555555555556,
              "#d8576b"
             ],
             [
              0.6666666666666666,
              "#ed7953"
             ],
             [
              0.7777777777777778,
              "#fb9f3a"
             ],
             [
              0.8888888888888888,
              "#fdca26"
             ],
             [
              1,
              "#f0f921"
             ]
            ],
            "type": "histogram2d"
           }
          ],
          "histogram2dcontour": [
           {
            "colorbar": {
             "outlinewidth": 0,
             "ticks": ""
            },
            "colorscale": [
             [
              0,
              "#0d0887"
             ],
             [
              0.1111111111111111,
              "#46039f"
             ],
             [
              0.2222222222222222,
              "#7201a8"
             ],
             [
              0.3333333333333333,
              "#9c179e"
             ],
             [
              0.4444444444444444,
              "#bd3786"
             ],
             [
              0.5555555555555556,
              "#d8576b"
             ],
             [
              0.6666666666666666,
              "#ed7953"
             ],
             [
              0.7777777777777778,
              "#fb9f3a"
             ],
             [
              0.8888888888888888,
              "#fdca26"
             ],
             [
              1,
              "#f0f921"
             ]
            ],
            "type": "histogram2dcontour"
           }
          ],
          "mesh3d": [
           {
            "colorbar": {
             "outlinewidth": 0,
             "ticks": ""
            },
            "type": "mesh3d"
           }
          ],
          "parcoords": [
           {
            "line": {
             "colorbar": {
              "outlinewidth": 0,
              "ticks": ""
             }
            },
            "type": "parcoords"
           }
          ],
          "pie": [
           {
            "automargin": true,
            "type": "pie"
           }
          ],
          "scatter": [
           {
            "marker": {
             "colorbar": {
              "outlinewidth": 0,
              "ticks": ""
             }
            },
            "type": "scatter"
           }
          ],
          "scatter3d": [
           {
            "line": {
             "colorbar": {
              "outlinewidth": 0,
              "ticks": ""
             }
            },
            "marker": {
             "colorbar": {
              "outlinewidth": 0,
              "ticks": ""
             }
            },
            "type": "scatter3d"
           }
          ],
          "scattercarpet": [
           {
            "marker": {
             "colorbar": {
              "outlinewidth": 0,
              "ticks": ""
             }
            },
            "type": "scattercarpet"
           }
          ],
          "scattergeo": [
           {
            "marker": {
             "colorbar": {
              "outlinewidth": 0,
              "ticks": ""
             }
            },
            "type": "scattergeo"
           }
          ],
          "scattergl": [
           {
            "marker": {
             "colorbar": {
              "outlinewidth": 0,
              "ticks": ""
             }
            },
            "type": "scattergl"
           }
          ],
          "scattermapbox": [
           {
            "marker": {
             "colorbar": {
              "outlinewidth": 0,
              "ticks": ""
             }
            },
            "type": "scattermapbox"
           }
          ],
          "scatterpolar": [
           {
            "marker": {
             "colorbar": {
              "outlinewidth": 0,
              "ticks": ""
             }
            },
            "type": "scatterpolar"
           }
          ],
          "scatterpolargl": [
           {
            "marker": {
             "colorbar": {
              "outlinewidth": 0,
              "ticks": ""
             }
            },
            "type": "scatterpolargl"
           }
          ],
          "scatterternary": [
           {
            "marker": {
             "colorbar": {
              "outlinewidth": 0,
              "ticks": ""
             }
            },
            "type": "scatterternary"
           }
          ],
          "surface": [
           {
            "colorbar": {
             "outlinewidth": 0,
             "ticks": ""
            },
            "colorscale": [
             [
              0,
              "#0d0887"
             ],
             [
              0.1111111111111111,
              "#46039f"
             ],
             [
              0.2222222222222222,
              "#7201a8"
             ],
             [
              0.3333333333333333,
              "#9c179e"
             ],
             [
              0.4444444444444444,
              "#bd3786"
             ],
             [
              0.5555555555555556,
              "#d8576b"
             ],
             [
              0.6666666666666666,
              "#ed7953"
             ],
             [
              0.7777777777777778,
              "#fb9f3a"
             ],
             [
              0.8888888888888888,
              "#fdca26"
             ],
             [
              1,
              "#f0f921"
             ]
            ],
            "type": "surface"
           }
          ],
          "table": [
           {
            "cells": {
             "fill": {
              "color": "#EBF0F8"
             },
             "line": {
              "color": "white"
             }
            },
            "header": {
             "fill": {
              "color": "#C8D4E3"
             },
             "line": {
              "color": "white"
             }
            },
            "type": "table"
           }
          ]
         },
         "layout": {
          "annotationdefaults": {
           "arrowcolor": "#2a3f5f",
           "arrowhead": 0,
           "arrowwidth": 1
          },
          "autotypenumbers": "strict",
          "coloraxis": {
           "colorbar": {
            "outlinewidth": 0,
            "ticks": ""
           }
          },
          "colorscale": {
           "diverging": [
            [
             0,
             "#8e0152"
            ],
            [
             0.1,
             "#c51b7d"
            ],
            [
             0.2,
             "#de77ae"
            ],
            [
             0.3,
             "#f1b6da"
            ],
            [
             0.4,
             "#fde0ef"
            ],
            [
             0.5,
             "#f7f7f7"
            ],
            [
             0.6,
             "#e6f5d0"
            ],
            [
             0.7,
             "#b8e186"
            ],
            [
             0.8,
             "#7fbc41"
            ],
            [
             0.9,
             "#4d9221"
            ],
            [
             1,
             "#276419"
            ]
           ],
           "sequential": [
            [
             0,
             "#0d0887"
            ],
            [
             0.1111111111111111,
             "#46039f"
            ],
            [
             0.2222222222222222,
             "#7201a8"
            ],
            [
             0.3333333333333333,
             "#9c179e"
            ],
            [
             0.4444444444444444,
             "#bd3786"
            ],
            [
             0.5555555555555556,
             "#d8576b"
            ],
            [
             0.6666666666666666,
             "#ed7953"
            ],
            [
             0.7777777777777778,
             "#fb9f3a"
            ],
            [
             0.8888888888888888,
             "#fdca26"
            ],
            [
             1,
             "#f0f921"
            ]
           ],
           "sequentialminus": [
            [
             0,
             "#0d0887"
            ],
            [
             0.1111111111111111,
             "#46039f"
            ],
            [
             0.2222222222222222,
             "#7201a8"
            ],
            [
             0.3333333333333333,
             "#9c179e"
            ],
            [
             0.4444444444444444,
             "#bd3786"
            ],
            [
             0.5555555555555556,
             "#d8576b"
            ],
            [
             0.6666666666666666,
             "#ed7953"
            ],
            [
             0.7777777777777778,
             "#fb9f3a"
            ],
            [
             0.8888888888888888,
             "#fdca26"
            ],
            [
             1,
             "#f0f921"
            ]
           ]
          },
          "colorway": [
           "#636efa",
           "#EF553B",
           "#00cc96",
           "#ab63fa",
           "#FFA15A",
           "#19d3f3",
           "#FF6692",
           "#B6E880",
           "#FF97FF",
           "#FECB52"
          ],
          "font": {
           "color": "#2a3f5f"
          },
          "geo": {
           "bgcolor": "white",
           "lakecolor": "white",
           "landcolor": "#E5ECF6",
           "showlakes": true,
           "showland": true,
           "subunitcolor": "white"
          },
          "hoverlabel": {
           "align": "left"
          },
          "hovermode": "closest",
          "mapbox": {
           "style": "light"
          },
          "paper_bgcolor": "white",
          "plot_bgcolor": "#E5ECF6",
          "polar": {
           "angularaxis": {
            "gridcolor": "white",
            "linecolor": "white",
            "ticks": ""
           },
           "bgcolor": "#E5ECF6",
           "radialaxis": {
            "gridcolor": "white",
            "linecolor": "white",
            "ticks": ""
           }
          },
          "scene": {
           "xaxis": {
            "backgroundcolor": "#E5ECF6",
            "gridcolor": "white",
            "gridwidth": 2,
            "linecolor": "white",
            "showbackground": true,
            "ticks": "",
            "zerolinecolor": "white"
           },
           "yaxis": {
            "backgroundcolor": "#E5ECF6",
            "gridcolor": "white",
            "gridwidth": 2,
            "linecolor": "white",
            "showbackground": true,
            "ticks": "",
            "zerolinecolor": "white"
           },
           "zaxis": {
            "backgroundcolor": "#E5ECF6",
            "gridcolor": "white",
            "gridwidth": 2,
            "linecolor": "white",
            "showbackground": true,
            "ticks": "",
            "zerolinecolor": "white"
           }
          },
          "shapedefaults": {
           "line": {
            "color": "#2a3f5f"
           }
          },
          "ternary": {
           "aaxis": {
            "gridcolor": "white",
            "linecolor": "white",
            "ticks": ""
           },
           "baxis": {
            "gridcolor": "white",
            "linecolor": "white",
            "ticks": ""
           },
           "bgcolor": "#E5ECF6",
           "caxis": {
            "gridcolor": "white",
            "linecolor": "white",
            "ticks": ""
           }
          },
          "title": {
           "x": 0.05
          },
          "xaxis": {
           "automargin": true,
           "gridcolor": "white",
           "linecolor": "white",
           "ticks": "",
           "title": {
            "standoff": 15
           },
           "zerolinecolor": "white",
           "zerolinewidth": 2
          },
          "yaxis": {
           "automargin": true,
           "gridcolor": "white",
           "linecolor": "white",
           "ticks": "",
           "title": {
            "standoff": 15
           },
           "zerolinecolor": "white",
           "zerolinewidth": 2
          }
         }
        },
        "title": {
         "text": "Chances of winning game"
        }
       }
      },
      "text/html": [
       "<div>                            <div id=\"19ccf9a2-bffc-45c4-af5b-e9fba0a3aa8c\" class=\"plotly-graph-div\" style=\"height:525px; width:100%;\"></div>            <script type=\"text/javascript\">                require([\"plotly\"], function(Plotly) {                    window.PLOTLYENV=window.PLOTLYENV || {};                                    if (document.getElementById(\"19ccf9a2-bffc-45c4-af5b-e9fba0a3aa8c\")) {                    Plotly.newPlot(                        \"19ccf9a2-bffc-45c4-af5b-e9fba0a3aa8c\",                        [{\"name\":\"games\",\"type\":\"bar\",\"x\":[\"England\",\"Sweden\",\"France\",\"Hungary\",\"Germany\",\"United States\",\"Austria\",\"Switzerland\",\"Norway\",\"Denmark\",\"Italy\",\"Netherlands\",\"Belgium\",\"Scotland\",\"Poland\",\"Brazil\",\"Argentina\",\"Wales\",\"Spain\",\"Finland\"],\"y\":[0.646551724137931,0.6008676789587852,0.5869074492099323,0.5655172413793104,0.6293706293706294,0.5563725490196079,0.5173267326732673,0.44836272040302266,0.41475826972010177,0.5651041666666666,0.6675392670157068,0.5863874345549738,0.5380577427821522,0.5786666666666667,0.5068493150684932,0.7329545454545454,0.6598240469208211,0.38557993730407525,0.7003154574132492,0.3259493670886076]}],                        {\"template\":{\"data\":{\"bar\":[{\"error_x\":{\"color\":\"#2a3f5f\"},\"error_y\":{\"color\":\"#2a3f5f\"},\"marker\":{\"line\":{\"color\":\"#E5ECF6\",\"width\":0.5},\"pattern\":{\"fillmode\":\"overlay\",\"size\":10,\"solidity\":0.2}},\"type\":\"bar\"}],\"barpolar\":[{\"marker\":{\"line\":{\"color\":\"#E5ECF6\",\"width\":0.5},\"pattern\":{\"fillmode\":\"overlay\",\"size\":10,\"solidity\":0.2}},\"type\":\"barpolar\"}],\"carpet\":[{\"aaxis\":{\"endlinecolor\":\"#2a3f5f\",\"gridcolor\":\"white\",\"linecolor\":\"white\",\"minorgridcolor\":\"white\",\"startlinecolor\":\"#2a3f5f\"},\"baxis\":{\"endlinecolor\":\"#2a3f5f\",\"gridcolor\":\"white\",\"linecolor\":\"white\",\"minorgridcolor\":\"white\",\"startlinecolor\":\"#2a3f5f\"},\"type\":\"carpet\"}],\"choropleth\":[{\"colorbar\":{\"outlinewidth\":0,\"ticks\":\"\"},\"type\":\"choropleth\"}],\"contour\":[{\"colorbar\":{\"outlinewidth\":0,\"ticks\":\"\"},\"colorscale\":[[0.0,\"#0d0887\"],[0.1111111111111111,\"#46039f\"],[0.2222222222222222,\"#7201a8\"],[0.3333333333333333,\"#9c179e\"],[0.4444444444444444,\"#bd3786\"],[0.5555555555555556,\"#d8576b\"],[0.6666666666666666,\"#ed7953\"],[0.7777777777777778,\"#fb9f3a\"],[0.8888888888888888,\"#fdca26\"],[1.0,\"#f0f921\"]],\"type\":\"contour\"}],\"contourcarpet\":[{\"colorbar\":{\"outlinewidth\":0,\"ticks\":\"\"},\"type\":\"contourcarpet\"}],\"heatmap\":[{\"colorbar\":{\"outlinewidth\":0,\"ticks\":\"\"},\"colorscale\":[[0.0,\"#0d0887\"],[0.1111111111111111,\"#46039f\"],[0.2222222222222222,\"#7201a8\"],[0.3333333333333333,\"#9c179e\"],[0.4444444444444444,\"#bd3786\"],[0.5555555555555556,\"#d8576b\"],[0.6666666666666666,\"#ed7953\"],[0.7777777777777778,\"#fb9f3a\"],[0.8888888888888888,\"#fdca26\"],[1.0,\"#f0f921\"]],\"type\":\"heatmap\"}],\"heatmapgl\":[{\"colorbar\":{\"outlinewidth\":0,\"ticks\":\"\"},\"colorscale\":[[0.0,\"#0d0887\"],[0.1111111111111111,\"#46039f\"],[0.2222222222222222,\"#7201a8\"],[0.3333333333333333,\"#9c179e\"],[0.4444444444444444,\"#bd3786\"],[0.5555555555555556,\"#d8576b\"],[0.6666666666666666,\"#ed7953\"],[0.7777777777777778,\"#fb9f3a\"],[0.8888888888888888,\"#fdca26\"],[1.0,\"#f0f921\"]],\"type\":\"heatmapgl\"}],\"histogram\":[{\"marker\":{\"pattern\":{\"fillmode\":\"overlay\",\"size\":10,\"solidity\":0.2}},\"type\":\"histogram\"}],\"histogram2d\":[{\"colorbar\":{\"outlinewidth\":0,\"ticks\":\"\"},\"colorscale\":[[0.0,\"#0d0887\"],[0.1111111111111111,\"#46039f\"],[0.2222222222222222,\"#7201a8\"],[0.3333333333333333,\"#9c179e\"],[0.4444444444444444,\"#bd3786\"],[0.5555555555555556,\"#d8576b\"],[0.6666666666666666,\"#ed7953\"],[0.7777777777777778,\"#fb9f3a\"],[0.8888888888888888,\"#fdca26\"],[1.0,\"#f0f921\"]],\"type\":\"histogram2d\"}],\"histogram2dcontour\":[{\"colorbar\":{\"outlinewidth\":0,\"ticks\":\"\"},\"colorscale\":[[0.0,\"#0d0887\"],[0.1111111111111111,\"#46039f\"],[0.2222222222222222,\"#7201a8\"],[0.3333333333333333,\"#9c179e\"],[0.4444444444444444,\"#bd3786\"],[0.5555555555555556,\"#d8576b\"],[0.6666666666666666,\"#ed7953\"],[0.7777777777777778,\"#fb9f3a\"],[0.8888888888888888,\"#fdca26\"],[1.0,\"#f0f921\"]],\"type\":\"histogram2dcontour\"}],\"mesh3d\":[{\"colorbar\":{\"outlinewidth\":0,\"ticks\":\"\"},\"type\":\"mesh3d\"}],\"parcoords\":[{\"line\":{\"colorbar\":{\"outlinewidth\":0,\"ticks\":\"\"}},\"type\":\"parcoords\"}],\"pie\":[{\"automargin\":true,\"type\":\"pie\"}],\"scatter\":[{\"marker\":{\"colorbar\":{\"outlinewidth\":0,\"ticks\":\"\"}},\"type\":\"scatter\"}],\"scatter3d\":[{\"line\":{\"colorbar\":{\"outlinewidth\":0,\"ticks\":\"\"}},\"marker\":{\"colorbar\":{\"outlinewidth\":0,\"ticks\":\"\"}},\"type\":\"scatter3d\"}],\"scattercarpet\":[{\"marker\":{\"colorbar\":{\"outlinewidth\":0,\"ticks\":\"\"}},\"type\":\"scattercarpet\"}],\"scattergeo\":[{\"marker\":{\"colorbar\":{\"outlinewidth\":0,\"ticks\":\"\"}},\"type\":\"scattergeo\"}],\"scattergl\":[{\"marker\":{\"colorbar\":{\"outlinewidth\":0,\"ticks\":\"\"}},\"type\":\"scattergl\"}],\"scattermapbox\":[{\"marker\":{\"colorbar\":{\"outlinewidth\":0,\"ticks\":\"\"}},\"type\":\"scattermapbox\"}],\"scatterpolar\":[{\"marker\":{\"colorbar\":{\"outlinewidth\":0,\"ticks\":\"\"}},\"type\":\"scatterpolar\"}],\"scatterpolargl\":[{\"marker\":{\"colorbar\":{\"outlinewidth\":0,\"ticks\":\"\"}},\"type\":\"scatterpolargl\"}],\"scatterternary\":[{\"marker\":{\"colorbar\":{\"outlinewidth\":0,\"ticks\":\"\"}},\"type\":\"scatterternary\"}],\"surface\":[{\"colorbar\":{\"outlinewidth\":0,\"ticks\":\"\"},\"colorscale\":[[0.0,\"#0d0887\"],[0.1111111111111111,\"#46039f\"],[0.2222222222222222,\"#7201a8\"],[0.3333333333333333,\"#9c179e\"],[0.4444444444444444,\"#bd3786\"],[0.5555555555555556,\"#d8576b\"],[0.6666666666666666,\"#ed7953\"],[0.7777777777777778,\"#fb9f3a\"],[0.8888888888888888,\"#fdca26\"],[1.0,\"#f0f921\"]],\"type\":\"surface\"}],\"table\":[{\"cells\":{\"fill\":{\"color\":\"#EBF0F8\"},\"line\":{\"color\":\"white\"}},\"header\":{\"fill\":{\"color\":\"#C8D4E3\"},\"line\":{\"color\":\"white\"}},\"type\":\"table\"}]},\"layout\":{\"annotationdefaults\":{\"arrowcolor\":\"#2a3f5f\",\"arrowhead\":0,\"arrowwidth\":1},\"autotypenumbers\":\"strict\",\"coloraxis\":{\"colorbar\":{\"outlinewidth\":0,\"ticks\":\"\"}},\"colorscale\":{\"diverging\":[[0,\"#8e0152\"],[0.1,\"#c51b7d\"],[0.2,\"#de77ae\"],[0.3,\"#f1b6da\"],[0.4,\"#fde0ef\"],[0.5,\"#f7f7f7\"],[0.6,\"#e6f5d0\"],[0.7,\"#b8e186\"],[0.8,\"#7fbc41\"],[0.9,\"#4d9221\"],[1,\"#276419\"]],\"sequential\":[[0.0,\"#0d0887\"],[0.1111111111111111,\"#46039f\"],[0.2222222222222222,\"#7201a8\"],[0.3333333333333333,\"#9c179e\"],[0.4444444444444444,\"#bd3786\"],[0.5555555555555556,\"#d8576b\"],[0.6666666666666666,\"#ed7953\"],[0.7777777777777778,\"#fb9f3a\"],[0.8888888888888888,\"#fdca26\"],[1.0,\"#f0f921\"]],\"sequentialminus\":[[0.0,\"#0d0887\"],[0.1111111111111111,\"#46039f\"],[0.2222222222222222,\"#7201a8\"],[0.3333333333333333,\"#9c179e\"],[0.4444444444444444,\"#bd3786\"],[0.5555555555555556,\"#d8576b\"],[0.6666666666666666,\"#ed7953\"],[0.7777777777777778,\"#fb9f3a\"],[0.8888888888888888,\"#fdca26\"],[1.0,\"#f0f921\"]]},\"colorway\":[\"#636efa\",\"#EF553B\",\"#00cc96\",\"#ab63fa\",\"#FFA15A\",\"#19d3f3\",\"#FF6692\",\"#B6E880\",\"#FF97FF\",\"#FECB52\"],\"font\":{\"color\":\"#2a3f5f\"},\"geo\":{\"bgcolor\":\"white\",\"lakecolor\":\"white\",\"landcolor\":\"#E5ECF6\",\"showlakes\":true,\"showland\":true,\"subunitcolor\":\"white\"},\"hoverlabel\":{\"align\":\"left\"},\"hovermode\":\"closest\",\"mapbox\":{\"style\":\"light\"},\"paper_bgcolor\":\"white\",\"plot_bgcolor\":\"#E5ECF6\",\"polar\":{\"angularaxis\":{\"gridcolor\":\"white\",\"linecolor\":\"white\",\"ticks\":\"\"},\"bgcolor\":\"#E5ECF6\",\"radialaxis\":{\"gridcolor\":\"white\",\"linecolor\":\"white\",\"ticks\":\"\"}},\"scene\":{\"xaxis\":{\"backgroundcolor\":\"#E5ECF6\",\"gridcolor\":\"white\",\"gridwidth\":2,\"linecolor\":\"white\",\"showbackground\":true,\"ticks\":\"\",\"zerolinecolor\":\"white\"},\"yaxis\":{\"backgroundcolor\":\"#E5ECF6\",\"gridcolor\":\"white\",\"gridwidth\":2,\"linecolor\":\"white\",\"showbackground\":true,\"ticks\":\"\",\"zerolinecolor\":\"white\"},\"zaxis\":{\"backgroundcolor\":\"#E5ECF6\",\"gridcolor\":\"white\",\"gridwidth\":2,\"linecolor\":\"white\",\"showbackground\":true,\"ticks\":\"\",\"zerolinecolor\":\"white\"}},\"shapedefaults\":{\"line\":{\"color\":\"#2a3f5f\"}},\"ternary\":{\"aaxis\":{\"gridcolor\":\"white\",\"linecolor\":\"white\",\"ticks\":\"\"},\"baxis\":{\"gridcolor\":\"white\",\"linecolor\":\"white\",\"ticks\":\"\"},\"bgcolor\":\"#E5ECF6\",\"caxis\":{\"gridcolor\":\"white\",\"linecolor\":\"white\",\"ticks\":\"\"}},\"title\":{\"x\":0.05},\"xaxis\":{\"automargin\":true,\"gridcolor\":\"white\",\"linecolor\":\"white\",\"ticks\":\"\",\"title\":{\"standoff\":15},\"zerolinecolor\":\"white\",\"zerolinewidth\":2},\"yaxis\":{\"automargin\":true,\"gridcolor\":\"white\",\"linecolor\":\"white\",\"ticks\":\"\",\"title\":{\"standoff\":15},\"zerolinecolor\":\"white\",\"zerolinewidth\":2}}},\"title\":{\"text\":\"Chances of winning game\"}},                        {\"responsive\": true}                    ).then(function(){\n",
       "                            \n",
       "var gd = document.getElementById('19ccf9a2-bffc-45c4-af5b-e9fba0a3aa8c');\n",
       "var x = new MutationObserver(function (mutations, observer) {{\n",
       "        var display = window.getComputedStyle(gd).display;\n",
       "        if (!display || display === 'none') {{\n",
       "            console.log([gd, 'removed!']);\n",
       "            Plotly.purge(gd);\n",
       "            observer.disconnect();\n",
       "        }}\n",
       "}});\n",
       "\n",
       "// Listen for the removal of the full notebook cells\n",
       "var notebookContainer = gd.closest('#notebook-container');\n",
       "if (notebookContainer) {{\n",
       "    x.observe(notebookContainer, {childList: true});\n",
       "}}\n",
       "\n",
       "// Listen for the clearing of the current output cell\n",
       "var outputEl = gd.closest('.output');\n",
       "if (outputEl) {{\n",
       "    x.observe(outputEl, {childList: true});\n",
       "}}\n",
       "\n",
       "                        })                };                });            </script>        </div>"
      ]
     },
     "metadata": {},
     "output_type": "display_data"
    },
    {
     "data": {
      "text/plain": [
       "England          0.646552\n",
       "Sweden           0.600868\n",
       "France           0.586907\n",
       "Hungary          0.565517\n",
       "Germany          0.629371\n",
       "United States    0.556373\n",
       "Austria          0.517327\n",
       "Switzerland      0.448363\n",
       "Norway           0.414758\n",
       "Denmark          0.565104\n",
       "Italy            0.667539\n",
       "Netherlands      0.586387\n",
       "Belgium          0.538058\n",
       "Scotland         0.578667\n",
       "Poland           0.506849\n",
       "Brazil           0.732955\n",
       "Argentina        0.659824\n",
       "Wales            0.385580\n",
       "Spain            0.700315\n",
       "Finland          0.325949\n",
       "dtype: float64"
      ]
     },
     "execution_count": 58,
     "metadata": {},
     "output_type": "execute_result"
    }
   ],
   "source": [
    "# result_df.loc[result_df['neutral'] == False, 'home_team'].sort_values( ascending = True)\n",
    "\n",
    "\n",
    "fig = go.Figure(data=[\n",
    "    go.Bar(name='games', x=new_df.index, y=new_df['win']/new_df['games'] )])\n",
    "\n",
    "# Change the bar mode\n",
    "fig.update_layout(title = 'Chances of winning game')\n",
    "\n",
    "fig.show()\n",
    "\n",
    "new_df['win']/new_df['games'] \n"
   ]
  },
  {
   "cell_type": "markdown",
   "id": "d025ca65",
   "metadata": {},
   "source": [
    "### Conclusion 2:\n",
    "\n",
    "Based on the analysis it seems like \n",
    "- Brazil is doing a good game being 0.732955 of winning @ home grounds\n",
    "- followed by Spain who stand at ~70% of winning @ home ground\n",
    "- Later trail followed by Italy at ~66%, England ~64%, Germany ~62%\n",
    "\n",
    "\n",
    "### Focusing on number of Goals hit by teams\n",
    "\n",
    "- There is a pattern on the number of games played by each team and win.\n",
    "- Focusing on number of golas hit by these teams would give more patterns\n",
    "\n"
   ]
  },
  {
   "cell_type": "code",
   "execution_count": 60,
   "id": "02ec75ec",
   "metadata": {},
   "outputs": [
    {
     "data": {
      "application/vnd.plotly.v1+json": {
       "config": {
        "plotlyServerURL": "https://plot.ly"
       },
       "data": [
        {
         "name": "games",
         "type": "bar",
         "x": [
          "England",
          "Sweden",
          "France",
          "Hungary",
          "Germany",
          "United States",
          "Austria",
          "Switzerland",
          "Norway",
          "Denmark",
          "Italy",
          "Netherlands",
          "Belgium",
          "Scotland",
          "Poland",
          "Brazil",
          "Argentina",
          "Wales",
          "Spain",
          "Finland"
         ],
         "y": [
          0.5387931034482759,
          0.420824295010846,
          0.28216704288939054,
          0.39080459770114945,
          0.5011655011655012,
          0.14950980392156862,
          0.28465346534653463,
          0.23173803526448364,
          0.3155216284987277,
          0.3411458333333333,
          0.32460732984293195,
          0.36649214659685864,
          0.29396325459317585,
          0.408,
          0.33972602739726027,
          0.4744318181818182,
          0.4398826979472141,
          0.26959247648902823,
          0.41009463722397477,
          0.25
         ]
        }
       ],
       "layout": {
        "template": {
         "data": {
          "bar": [
           {
            "error_x": {
             "color": "#2a3f5f"
            },
            "error_y": {
             "color": "#2a3f5f"
            },
            "marker": {
             "line": {
              "color": "#E5ECF6",
              "width": 0.5
             },
             "pattern": {
              "fillmode": "overlay",
              "size": 10,
              "solidity": 0.2
             }
            },
            "type": "bar"
           }
          ],
          "barpolar": [
           {
            "marker": {
             "line": {
              "color": "#E5ECF6",
              "width": 0.5
             },
             "pattern": {
              "fillmode": "overlay",
              "size": 10,
              "solidity": 0.2
             }
            },
            "type": "barpolar"
           }
          ],
          "carpet": [
           {
            "aaxis": {
             "endlinecolor": "#2a3f5f",
             "gridcolor": "white",
             "linecolor": "white",
             "minorgridcolor": "white",
             "startlinecolor": "#2a3f5f"
            },
            "baxis": {
             "endlinecolor": "#2a3f5f",
             "gridcolor": "white",
             "linecolor": "white",
             "minorgridcolor": "white",
             "startlinecolor": "#2a3f5f"
            },
            "type": "carpet"
           }
          ],
          "choropleth": [
           {
            "colorbar": {
             "outlinewidth": 0,
             "ticks": ""
            },
            "type": "choropleth"
           }
          ],
          "contour": [
           {
            "colorbar": {
             "outlinewidth": 0,
             "ticks": ""
            },
            "colorscale": [
             [
              0,
              "#0d0887"
             ],
             [
              0.1111111111111111,
              "#46039f"
             ],
             [
              0.2222222222222222,
              "#7201a8"
             ],
             [
              0.3333333333333333,
              "#9c179e"
             ],
             [
              0.4444444444444444,
              "#bd3786"
             ],
             [
              0.5555555555555556,
              "#d8576b"
             ],
             [
              0.6666666666666666,
              "#ed7953"
             ],
             [
              0.7777777777777778,
              "#fb9f3a"
             ],
             [
              0.8888888888888888,
              "#fdca26"
             ],
             [
              1,
              "#f0f921"
             ]
            ],
            "type": "contour"
           }
          ],
          "contourcarpet": [
           {
            "colorbar": {
             "outlinewidth": 0,
             "ticks": ""
            },
            "type": "contourcarpet"
           }
          ],
          "heatmap": [
           {
            "colorbar": {
             "outlinewidth": 0,
             "ticks": ""
            },
            "colorscale": [
             [
              0,
              "#0d0887"
             ],
             [
              0.1111111111111111,
              "#46039f"
             ],
             [
              0.2222222222222222,
              "#7201a8"
             ],
             [
              0.3333333333333333,
              "#9c179e"
             ],
             [
              0.4444444444444444,
              "#bd3786"
             ],
             [
              0.5555555555555556,
              "#d8576b"
             ],
             [
              0.6666666666666666,
              "#ed7953"
             ],
             [
              0.7777777777777778,
              "#fb9f3a"
             ],
             [
              0.8888888888888888,
              "#fdca26"
             ],
             [
              1,
              "#f0f921"
             ]
            ],
            "type": "heatmap"
           }
          ],
          "heatmapgl": [
           {
            "colorbar": {
             "outlinewidth": 0,
             "ticks": ""
            },
            "colorscale": [
             [
              0,
              "#0d0887"
             ],
             [
              0.1111111111111111,
              "#46039f"
             ],
             [
              0.2222222222222222,
              "#7201a8"
             ],
             [
              0.3333333333333333,
              "#9c179e"
             ],
             [
              0.4444444444444444,
              "#bd3786"
             ],
             [
              0.5555555555555556,
              "#d8576b"
             ],
             [
              0.6666666666666666,
              "#ed7953"
             ],
             [
              0.7777777777777778,
              "#fb9f3a"
             ],
             [
              0.8888888888888888,
              "#fdca26"
             ],
             [
              1,
              "#f0f921"
             ]
            ],
            "type": "heatmapgl"
           }
          ],
          "histogram": [
           {
            "marker": {
             "pattern": {
              "fillmode": "overlay",
              "size": 10,
              "solidity": 0.2
             }
            },
            "type": "histogram"
           }
          ],
          "histogram2d": [
           {
            "colorbar": {
             "outlinewidth": 0,
             "ticks": ""
            },
            "colorscale": [
             [
              0,
              "#0d0887"
             ],
             [
              0.1111111111111111,
              "#46039f"
             ],
             [
              0.2222222222222222,
              "#7201a8"
             ],
             [
              0.3333333333333333,
              "#9c179e"
             ],
             [
              0.4444444444444444,
              "#bd3786"
             ],
             [
              0.5555555555555556,
              "#d8576b"
             ],
             [
              0.6666666666666666,
              "#ed7953"
             ],
             [
              0.7777777777777778,
              "#fb9f3a"
             ],
             [
              0.8888888888888888,
              "#fdca26"
             ],
             [
              1,
              "#f0f921"
             ]
            ],
            "type": "histogram2d"
           }
          ],
          "histogram2dcontour": [
           {
            "colorbar": {
             "outlinewidth": 0,
             "ticks": ""
            },
            "colorscale": [
             [
              0,
              "#0d0887"
             ],
             [
              0.1111111111111111,
              "#46039f"
             ],
             [
              0.2222222222222222,
              "#7201a8"
             ],
             [
              0.3333333333333333,
              "#9c179e"
             ],
             [
              0.4444444444444444,
              "#bd3786"
             ],
             [
              0.5555555555555556,
              "#d8576b"
             ],
             [
              0.6666666666666666,
              "#ed7953"
             ],
             [
              0.7777777777777778,
              "#fb9f3a"
             ],
             [
              0.8888888888888888,
              "#fdca26"
             ],
             [
              1,
              "#f0f921"
             ]
            ],
            "type": "histogram2dcontour"
           }
          ],
          "mesh3d": [
           {
            "colorbar": {
             "outlinewidth": 0,
             "ticks": ""
            },
            "type": "mesh3d"
           }
          ],
          "parcoords": [
           {
            "line": {
             "colorbar": {
              "outlinewidth": 0,
              "ticks": ""
             }
            },
            "type": "parcoords"
           }
          ],
          "pie": [
           {
            "automargin": true,
            "type": "pie"
           }
          ],
          "scatter": [
           {
            "marker": {
             "colorbar": {
              "outlinewidth": 0,
              "ticks": ""
             }
            },
            "type": "scatter"
           }
          ],
          "scatter3d": [
           {
            "line": {
             "colorbar": {
              "outlinewidth": 0,
              "ticks": ""
             }
            },
            "marker": {
             "colorbar": {
              "outlinewidth": 0,
              "ticks": ""
             }
            },
            "type": "scatter3d"
           }
          ],
          "scattercarpet": [
           {
            "marker": {
             "colorbar": {
              "outlinewidth": 0,
              "ticks": ""
             }
            },
            "type": "scattercarpet"
           }
          ],
          "scattergeo": [
           {
            "marker": {
             "colorbar": {
              "outlinewidth": 0,
              "ticks": ""
             }
            },
            "type": "scattergeo"
           }
          ],
          "scattergl": [
           {
            "marker": {
             "colorbar": {
              "outlinewidth": 0,
              "ticks": ""
             }
            },
            "type": "scattergl"
           }
          ],
          "scattermapbox": [
           {
            "marker": {
             "colorbar": {
              "outlinewidth": 0,
              "ticks": ""
             }
            },
            "type": "scattermapbox"
           }
          ],
          "scatterpolar": [
           {
            "marker": {
             "colorbar": {
              "outlinewidth": 0,
              "ticks": ""
             }
            },
            "type": "scatterpolar"
           }
          ],
          "scatterpolargl": [
           {
            "marker": {
             "colorbar": {
              "outlinewidth": 0,
              "ticks": ""
             }
            },
            "type": "scatterpolargl"
           }
          ],
          "scatterternary": [
           {
            "marker": {
             "colorbar": {
              "outlinewidth": 0,
              "ticks": ""
             }
            },
            "type": "scatterternary"
           }
          ],
          "surface": [
           {
            "colorbar": {
             "outlinewidth": 0,
             "ticks": ""
            },
            "colorscale": [
             [
              0,
              "#0d0887"
             ],
             [
              0.1111111111111111,
              "#46039f"
             ],
             [
              0.2222222222222222,
              "#7201a8"
             ],
             [
              0.3333333333333333,
              "#9c179e"
             ],
             [
              0.4444444444444444,
              "#bd3786"
             ],
             [
              0.5555555555555556,
              "#d8576b"
             ],
             [
              0.6666666666666666,
              "#ed7953"
             ],
             [
              0.7777777777777778,
              "#fb9f3a"
             ],
             [
              0.8888888888888888,
              "#fdca26"
             ],
             [
              1,
              "#f0f921"
             ]
            ],
            "type": "surface"
           }
          ],
          "table": [
           {
            "cells": {
             "fill": {
              "color": "#EBF0F8"
             },
             "line": {
              "color": "white"
             }
            },
            "header": {
             "fill": {
              "color": "#C8D4E3"
             },
             "line": {
              "color": "white"
             }
            },
            "type": "table"
           }
          ]
         },
         "layout": {
          "annotationdefaults": {
           "arrowcolor": "#2a3f5f",
           "arrowhead": 0,
           "arrowwidth": 1
          },
          "autotypenumbers": "strict",
          "coloraxis": {
           "colorbar": {
            "outlinewidth": 0,
            "ticks": ""
           }
          },
          "colorscale": {
           "diverging": [
            [
             0,
             "#8e0152"
            ],
            [
             0.1,
             "#c51b7d"
            ],
            [
             0.2,
             "#de77ae"
            ],
            [
             0.3,
             "#f1b6da"
            ],
            [
             0.4,
             "#fde0ef"
            ],
            [
             0.5,
             "#f7f7f7"
            ],
            [
             0.6,
             "#e6f5d0"
            ],
            [
             0.7,
             "#b8e186"
            ],
            [
             0.8,
             "#7fbc41"
            ],
            [
             0.9,
             "#4d9221"
            ],
            [
             1,
             "#276419"
            ]
           ],
           "sequential": [
            [
             0,
             "#0d0887"
            ],
            [
             0.1111111111111111,
             "#46039f"
            ],
            [
             0.2222222222222222,
             "#7201a8"
            ],
            [
             0.3333333333333333,
             "#9c179e"
            ],
            [
             0.4444444444444444,
             "#bd3786"
            ],
            [
             0.5555555555555556,
             "#d8576b"
            ],
            [
             0.6666666666666666,
             "#ed7953"
            ],
            [
             0.7777777777777778,
             "#fb9f3a"
            ],
            [
             0.8888888888888888,
             "#fdca26"
            ],
            [
             1,
             "#f0f921"
            ]
           ],
           "sequentialminus": [
            [
             0,
             "#0d0887"
            ],
            [
             0.1111111111111111,
             "#46039f"
            ],
            [
             0.2222222222222222,
             "#7201a8"
            ],
            [
             0.3333333333333333,
             "#9c179e"
            ],
            [
             0.4444444444444444,
             "#bd3786"
            ],
            [
             0.5555555555555556,
             "#d8576b"
            ],
            [
             0.6666666666666666,
             "#ed7953"
            ],
            [
             0.7777777777777778,
             "#fb9f3a"
            ],
            [
             0.8888888888888888,
             "#fdca26"
            ],
            [
             1,
             "#f0f921"
            ]
           ]
          },
          "colorway": [
           "#636efa",
           "#EF553B",
           "#00cc96",
           "#ab63fa",
           "#FFA15A",
           "#19d3f3",
           "#FF6692",
           "#B6E880",
           "#FF97FF",
           "#FECB52"
          ],
          "font": {
           "color": "#2a3f5f"
          },
          "geo": {
           "bgcolor": "white",
           "lakecolor": "white",
           "landcolor": "#E5ECF6",
           "showlakes": true,
           "showland": true,
           "subunitcolor": "white"
          },
          "hoverlabel": {
           "align": "left"
          },
          "hovermode": "closest",
          "mapbox": {
           "style": "light"
          },
          "paper_bgcolor": "white",
          "plot_bgcolor": "#E5ECF6",
          "polar": {
           "angularaxis": {
            "gridcolor": "white",
            "linecolor": "white",
            "ticks": ""
           },
           "bgcolor": "#E5ECF6",
           "radialaxis": {
            "gridcolor": "white",
            "linecolor": "white",
            "ticks": ""
           }
          },
          "scene": {
           "xaxis": {
            "backgroundcolor": "#E5ECF6",
            "gridcolor": "white",
            "gridwidth": 2,
            "linecolor": "white",
            "showbackground": true,
            "ticks": "",
            "zerolinecolor": "white"
           },
           "yaxis": {
            "backgroundcolor": "#E5ECF6",
            "gridcolor": "white",
            "gridwidth": 2,
            "linecolor": "white",
            "showbackground": true,
            "ticks": "",
            "zerolinecolor": "white"
           },
           "zaxis": {
            "backgroundcolor": "#E5ECF6",
            "gridcolor": "white",
            "gridwidth": 2,
            "linecolor": "white",
            "showbackground": true,
            "ticks": "",
            "zerolinecolor": "white"
           }
          },
          "shapedefaults": {
           "line": {
            "color": "#2a3f5f"
           }
          },
          "ternary": {
           "aaxis": {
            "gridcolor": "white",
            "linecolor": "white",
            "ticks": ""
           },
           "baxis": {
            "gridcolor": "white",
            "linecolor": "white",
            "ticks": ""
           },
           "bgcolor": "#E5ECF6",
           "caxis": {
            "gridcolor": "white",
            "linecolor": "white",
            "ticks": ""
           }
          },
          "title": {
           "x": 0.05
          },
          "xaxis": {
           "automargin": true,
           "gridcolor": "white",
           "linecolor": "white",
           "ticks": "",
           "title": {
            "standoff": 15
           },
           "zerolinecolor": "white",
           "zerolinewidth": 2
          },
          "yaxis": {
           "automargin": true,
           "gridcolor": "white",
           "linecolor": "white",
           "ticks": "",
           "title": {
            "standoff": 15
           },
           "zerolinecolor": "white",
           "zerolinewidth": 2
          }
         }
        },
        "title": {
         "text": "Chances of winning game @ Non home ground"
        }
       }
      },
      "text/html": [
       "<div>                            <div id=\"b7083f7c-174f-43d4-b49d-5ca2b320741c\" class=\"plotly-graph-div\" style=\"height:525px; width:100%;\"></div>            <script type=\"text/javascript\">                require([\"plotly\"], function(Plotly) {                    window.PLOTLYENV=window.PLOTLYENV || {};                                    if (document.getElementById(\"b7083f7c-174f-43d4-b49d-5ca2b320741c\")) {                    Plotly.newPlot(                        \"b7083f7c-174f-43d4-b49d-5ca2b320741c\",                        [{\"name\":\"games\",\"type\":\"bar\",\"x\":[\"England\",\"Sweden\",\"France\",\"Hungary\",\"Germany\",\"United States\",\"Austria\",\"Switzerland\",\"Norway\",\"Denmark\",\"Italy\",\"Netherlands\",\"Belgium\",\"Scotland\",\"Poland\",\"Brazil\",\"Argentina\",\"Wales\",\"Spain\",\"Finland\"],\"y\":[0.5387931034482759,0.420824295010846,0.28216704288939054,0.39080459770114945,0.5011655011655012,0.14950980392156862,0.28465346534653463,0.23173803526448364,0.3155216284987277,0.3411458333333333,0.32460732984293195,0.36649214659685864,0.29396325459317585,0.408,0.33972602739726027,0.4744318181818182,0.4398826979472141,0.26959247648902823,0.41009463722397477,0.25]}],                        {\"template\":{\"data\":{\"bar\":[{\"error_x\":{\"color\":\"#2a3f5f\"},\"error_y\":{\"color\":\"#2a3f5f\"},\"marker\":{\"line\":{\"color\":\"#E5ECF6\",\"width\":0.5},\"pattern\":{\"fillmode\":\"overlay\",\"size\":10,\"solidity\":0.2}},\"type\":\"bar\"}],\"barpolar\":[{\"marker\":{\"line\":{\"color\":\"#E5ECF6\",\"width\":0.5},\"pattern\":{\"fillmode\":\"overlay\",\"size\":10,\"solidity\":0.2}},\"type\":\"barpolar\"}],\"carpet\":[{\"aaxis\":{\"endlinecolor\":\"#2a3f5f\",\"gridcolor\":\"white\",\"linecolor\":\"white\",\"minorgridcolor\":\"white\",\"startlinecolor\":\"#2a3f5f\"},\"baxis\":{\"endlinecolor\":\"#2a3f5f\",\"gridcolor\":\"white\",\"linecolor\":\"white\",\"minorgridcolor\":\"white\",\"startlinecolor\":\"#2a3f5f\"},\"type\":\"carpet\"}],\"choropleth\":[{\"colorbar\":{\"outlinewidth\":0,\"ticks\":\"\"},\"type\":\"choropleth\"}],\"contour\":[{\"colorbar\":{\"outlinewidth\":0,\"ticks\":\"\"},\"colorscale\":[[0.0,\"#0d0887\"],[0.1111111111111111,\"#46039f\"],[0.2222222222222222,\"#7201a8\"],[0.3333333333333333,\"#9c179e\"],[0.4444444444444444,\"#bd3786\"],[0.5555555555555556,\"#d8576b\"],[0.6666666666666666,\"#ed7953\"],[0.7777777777777778,\"#fb9f3a\"],[0.8888888888888888,\"#fdca26\"],[1.0,\"#f0f921\"]],\"type\":\"contour\"}],\"contourcarpet\":[{\"colorbar\":{\"outlinewidth\":0,\"ticks\":\"\"},\"type\":\"contourcarpet\"}],\"heatmap\":[{\"colorbar\":{\"outlinewidth\":0,\"ticks\":\"\"},\"colorscale\":[[0.0,\"#0d0887\"],[0.1111111111111111,\"#46039f\"],[0.2222222222222222,\"#7201a8\"],[0.3333333333333333,\"#9c179e\"],[0.4444444444444444,\"#bd3786\"],[0.5555555555555556,\"#d8576b\"],[0.6666666666666666,\"#ed7953\"],[0.7777777777777778,\"#fb9f3a\"],[0.8888888888888888,\"#fdca26\"],[1.0,\"#f0f921\"]],\"type\":\"heatmap\"}],\"heatmapgl\":[{\"colorbar\":{\"outlinewidth\":0,\"ticks\":\"\"},\"colorscale\":[[0.0,\"#0d0887\"],[0.1111111111111111,\"#46039f\"],[0.2222222222222222,\"#7201a8\"],[0.3333333333333333,\"#9c179e\"],[0.4444444444444444,\"#bd3786\"],[0.5555555555555556,\"#d8576b\"],[0.6666666666666666,\"#ed7953\"],[0.7777777777777778,\"#fb9f3a\"],[0.8888888888888888,\"#fdca26\"],[1.0,\"#f0f921\"]],\"type\":\"heatmapgl\"}],\"histogram\":[{\"marker\":{\"pattern\":{\"fillmode\":\"overlay\",\"size\":10,\"solidity\":0.2}},\"type\":\"histogram\"}],\"histogram2d\":[{\"colorbar\":{\"outlinewidth\":0,\"ticks\":\"\"},\"colorscale\":[[0.0,\"#0d0887\"],[0.1111111111111111,\"#46039f\"],[0.2222222222222222,\"#7201a8\"],[0.3333333333333333,\"#9c179e\"],[0.4444444444444444,\"#bd3786\"],[0.5555555555555556,\"#d8576b\"],[0.6666666666666666,\"#ed7953\"],[0.7777777777777778,\"#fb9f3a\"],[0.8888888888888888,\"#fdca26\"],[1.0,\"#f0f921\"]],\"type\":\"histogram2d\"}],\"histogram2dcontour\":[{\"colorbar\":{\"outlinewidth\":0,\"ticks\":\"\"},\"colorscale\":[[0.0,\"#0d0887\"],[0.1111111111111111,\"#46039f\"],[0.2222222222222222,\"#7201a8\"],[0.3333333333333333,\"#9c179e\"],[0.4444444444444444,\"#bd3786\"],[0.5555555555555556,\"#d8576b\"],[0.6666666666666666,\"#ed7953\"],[0.7777777777777778,\"#fb9f3a\"],[0.8888888888888888,\"#fdca26\"],[1.0,\"#f0f921\"]],\"type\":\"histogram2dcontour\"}],\"mesh3d\":[{\"colorbar\":{\"outlinewidth\":0,\"ticks\":\"\"},\"type\":\"mesh3d\"}],\"parcoords\":[{\"line\":{\"colorbar\":{\"outlinewidth\":0,\"ticks\":\"\"}},\"type\":\"parcoords\"}],\"pie\":[{\"automargin\":true,\"type\":\"pie\"}],\"scatter\":[{\"marker\":{\"colorbar\":{\"outlinewidth\":0,\"ticks\":\"\"}},\"type\":\"scatter\"}],\"scatter3d\":[{\"line\":{\"colorbar\":{\"outlinewidth\":0,\"ticks\":\"\"}},\"marker\":{\"colorbar\":{\"outlinewidth\":0,\"ticks\":\"\"}},\"type\":\"scatter3d\"}],\"scattercarpet\":[{\"marker\":{\"colorbar\":{\"outlinewidth\":0,\"ticks\":\"\"}},\"type\":\"scattercarpet\"}],\"scattergeo\":[{\"marker\":{\"colorbar\":{\"outlinewidth\":0,\"ticks\":\"\"}},\"type\":\"scattergeo\"}],\"scattergl\":[{\"marker\":{\"colorbar\":{\"outlinewidth\":0,\"ticks\":\"\"}},\"type\":\"scattergl\"}],\"scattermapbox\":[{\"marker\":{\"colorbar\":{\"outlinewidth\":0,\"ticks\":\"\"}},\"type\":\"scattermapbox\"}],\"scatterpolar\":[{\"marker\":{\"colorbar\":{\"outlinewidth\":0,\"ticks\":\"\"}},\"type\":\"scatterpolar\"}],\"scatterpolargl\":[{\"marker\":{\"colorbar\":{\"outlinewidth\":0,\"ticks\":\"\"}},\"type\":\"scatterpolargl\"}],\"scatterternary\":[{\"marker\":{\"colorbar\":{\"outlinewidth\":0,\"ticks\":\"\"}},\"type\":\"scatterternary\"}],\"surface\":[{\"colorbar\":{\"outlinewidth\":0,\"ticks\":\"\"},\"colorscale\":[[0.0,\"#0d0887\"],[0.1111111111111111,\"#46039f\"],[0.2222222222222222,\"#7201a8\"],[0.3333333333333333,\"#9c179e\"],[0.4444444444444444,\"#bd3786\"],[0.5555555555555556,\"#d8576b\"],[0.6666666666666666,\"#ed7953\"],[0.7777777777777778,\"#fb9f3a\"],[0.8888888888888888,\"#fdca26\"],[1.0,\"#f0f921\"]],\"type\":\"surface\"}],\"table\":[{\"cells\":{\"fill\":{\"color\":\"#EBF0F8\"},\"line\":{\"color\":\"white\"}},\"header\":{\"fill\":{\"color\":\"#C8D4E3\"},\"line\":{\"color\":\"white\"}},\"type\":\"table\"}]},\"layout\":{\"annotationdefaults\":{\"arrowcolor\":\"#2a3f5f\",\"arrowhead\":0,\"arrowwidth\":1},\"autotypenumbers\":\"strict\",\"coloraxis\":{\"colorbar\":{\"outlinewidth\":0,\"ticks\":\"\"}},\"colorscale\":{\"diverging\":[[0,\"#8e0152\"],[0.1,\"#c51b7d\"],[0.2,\"#de77ae\"],[0.3,\"#f1b6da\"],[0.4,\"#fde0ef\"],[0.5,\"#f7f7f7\"],[0.6,\"#e6f5d0\"],[0.7,\"#b8e186\"],[0.8,\"#7fbc41\"],[0.9,\"#4d9221\"],[1,\"#276419\"]],\"sequential\":[[0.0,\"#0d0887\"],[0.1111111111111111,\"#46039f\"],[0.2222222222222222,\"#7201a8\"],[0.3333333333333333,\"#9c179e\"],[0.4444444444444444,\"#bd3786\"],[0.5555555555555556,\"#d8576b\"],[0.6666666666666666,\"#ed7953\"],[0.7777777777777778,\"#fb9f3a\"],[0.8888888888888888,\"#fdca26\"],[1.0,\"#f0f921\"]],\"sequentialminus\":[[0.0,\"#0d0887\"],[0.1111111111111111,\"#46039f\"],[0.2222222222222222,\"#7201a8\"],[0.3333333333333333,\"#9c179e\"],[0.4444444444444444,\"#bd3786\"],[0.5555555555555556,\"#d8576b\"],[0.6666666666666666,\"#ed7953\"],[0.7777777777777778,\"#fb9f3a\"],[0.8888888888888888,\"#fdca26\"],[1.0,\"#f0f921\"]]},\"colorway\":[\"#636efa\",\"#EF553B\",\"#00cc96\",\"#ab63fa\",\"#FFA15A\",\"#19d3f3\",\"#FF6692\",\"#B6E880\",\"#FF97FF\",\"#FECB52\"],\"font\":{\"color\":\"#2a3f5f\"},\"geo\":{\"bgcolor\":\"white\",\"lakecolor\":\"white\",\"landcolor\":\"#E5ECF6\",\"showlakes\":true,\"showland\":true,\"subunitcolor\":\"white\"},\"hoverlabel\":{\"align\":\"left\"},\"hovermode\":\"closest\",\"mapbox\":{\"style\":\"light\"},\"paper_bgcolor\":\"white\",\"plot_bgcolor\":\"#E5ECF6\",\"polar\":{\"angularaxis\":{\"gridcolor\":\"white\",\"linecolor\":\"white\",\"ticks\":\"\"},\"bgcolor\":\"#E5ECF6\",\"radialaxis\":{\"gridcolor\":\"white\",\"linecolor\":\"white\",\"ticks\":\"\"}},\"scene\":{\"xaxis\":{\"backgroundcolor\":\"#E5ECF6\",\"gridcolor\":\"white\",\"gridwidth\":2,\"linecolor\":\"white\",\"showbackground\":true,\"ticks\":\"\",\"zerolinecolor\":\"white\"},\"yaxis\":{\"backgroundcolor\":\"#E5ECF6\",\"gridcolor\":\"white\",\"gridwidth\":2,\"linecolor\":\"white\",\"showbackground\":true,\"ticks\":\"\",\"zerolinecolor\":\"white\"},\"zaxis\":{\"backgroundcolor\":\"#E5ECF6\",\"gridcolor\":\"white\",\"gridwidth\":2,\"linecolor\":\"white\",\"showbackground\":true,\"ticks\":\"\",\"zerolinecolor\":\"white\"}},\"shapedefaults\":{\"line\":{\"color\":\"#2a3f5f\"}},\"ternary\":{\"aaxis\":{\"gridcolor\":\"white\",\"linecolor\":\"white\",\"ticks\":\"\"},\"baxis\":{\"gridcolor\":\"white\",\"linecolor\":\"white\",\"ticks\":\"\"},\"bgcolor\":\"#E5ECF6\",\"caxis\":{\"gridcolor\":\"white\",\"linecolor\":\"white\",\"ticks\":\"\"}},\"title\":{\"x\":0.05},\"xaxis\":{\"automargin\":true,\"gridcolor\":\"white\",\"linecolor\":\"white\",\"ticks\":\"\",\"title\":{\"standoff\":15},\"zerolinecolor\":\"white\",\"zerolinewidth\":2},\"yaxis\":{\"automargin\":true,\"gridcolor\":\"white\",\"linecolor\":\"white\",\"ticks\":\"\",\"title\":{\"standoff\":15},\"zerolinecolor\":\"white\",\"zerolinewidth\":2}}},\"title\":{\"text\":\"Chances of winning game @ Non home ground\"}},                        {\"responsive\": true}                    ).then(function(){\n",
       "                            \n",
       "var gd = document.getElementById('b7083f7c-174f-43d4-b49d-5ca2b320741c');\n",
       "var x = new MutationObserver(function (mutations, observer) {{\n",
       "        var display = window.getComputedStyle(gd).display;\n",
       "        if (!display || display === 'none') {{\n",
       "            console.log([gd, 'removed!']);\n",
       "            Plotly.purge(gd);\n",
       "            observer.disconnect();\n",
       "        }}\n",
       "}});\n",
       "\n",
       "// Listen for the removal of the full notebook cells\n",
       "var notebookContainer = gd.closest('#notebook-container');\n",
       "if (notebookContainer) {{\n",
       "    x.observe(notebookContainer, {childList: true});\n",
       "}}\n",
       "\n",
       "// Listen for the clearing of the current output cell\n",
       "var outputEl = gd.closest('.output');\n",
       "if (outputEl) {{\n",
       "    x.observe(outputEl, {childList: true});\n",
       "}}\n",
       "\n",
       "                        })                };                });            </script>        </div>"
      ]
     },
     "metadata": {},
     "output_type": "display_data"
    },
    {
     "data": {
      "text/plain": [
       "England          0.538793\n",
       "Sweden           0.420824\n",
       "France           0.282167\n",
       "Hungary          0.390805\n",
       "Germany          0.501166\n",
       "United States    0.149510\n",
       "Austria          0.284653\n",
       "Switzerland      0.231738\n",
       "Norway           0.315522\n",
       "Denmark          0.341146\n",
       "Italy            0.324607\n",
       "Netherlands      0.366492\n",
       "Belgium          0.293963\n",
       "Scotland         0.408000\n",
       "Poland           0.339726\n",
       "Brazil           0.474432\n",
       "Argentina        0.439883\n",
       "Wales            0.269592\n",
       "Spain            0.410095\n",
       "Finland          0.250000\n",
       "dtype: float64"
      ]
     },
     "execution_count": 60,
     "metadata": {},
     "output_type": "execute_result"
    }
   ],
   "source": [
    "# How are the teams doing in away groounds ?\n",
    "# win_at_away['away_team'].value_counts().head(n = 10)\n",
    "\n",
    "fig = go.Figure(data=[\n",
    "    go.Bar(name='games', x=new_df.index, y=new_df['win_away']/new_df['games'] )])\n",
    "\n",
    "# Change the bar mode\n",
    "fig.update_layout(title = 'Chances of winning game @ Non home ground')\n",
    "\n",
    "fig.show()\n",
    "\n",
    "new_df['win_away']/new_df['games'] "
   ]
  },
  {
   "cell_type": "markdown",
   "id": "f08294f1",
   "metadata": {},
   "source": [
    "### Conclusion 3:\n",
    "\n",
    "Teams seems to be doing good but not as good in comparision with Home ground.\n",
    "This pattern infers.,\n",
    "- England is doing better with ~50% good in non home ground \n",
    "- Followed by Hungary with ~%50% of winning chances\n",
    "- Brazil follows by ~%47, Argentina ~43%\n"
   ]
  },
  {
   "cell_type": "code",
   "execution_count": 50,
   "id": "f2075876",
   "metadata": {},
   "outputs": [
    {
     "data": {
      "text/html": [
       "<div>\n",
       "<style scoped>\n",
       "    .dataframe tbody tr th:only-of-type {\n",
       "        vertical-align: middle;\n",
       "    }\n",
       "\n",
       "    .dataframe tbody tr th {\n",
       "        vertical-align: top;\n",
       "    }\n",
       "\n",
       "    .dataframe thead th {\n",
       "        text-align: right;\n",
       "    }\n",
       "</style>\n",
       "<table border=\"1\" class=\"dataframe\">\n",
       "  <thead>\n",
       "    <tr style=\"text-align: right;\">\n",
       "      <th></th>\n",
       "      <th>date</th>\n",
       "      <th>home_team</th>\n",
       "      <th>away_team</th>\n",
       "      <th>home_score</th>\n",
       "      <th>away_score</th>\n",
       "      <th>tournament</th>\n",
       "      <th>city</th>\n",
       "      <th>country</th>\n",
       "      <th>neutral</th>\n",
       "    </tr>\n",
       "  </thead>\n",
       "  <tbody>\n",
       "    <tr>\n",
       "      <th>0</th>\n",
       "      <td>1872-11-30</td>\n",
       "      <td>Scotland</td>\n",
       "      <td>England</td>\n",
       "      <td>0.0</td>\n",
       "      <td>0.0</td>\n",
       "      <td>Friendly</td>\n",
       "      <td>Glasgow</td>\n",
       "      <td>Scotland</td>\n",
       "      <td>False</td>\n",
       "    </tr>\n",
       "    <tr>\n",
       "      <th>1</th>\n",
       "      <td>1873-03-08</td>\n",
       "      <td>England</td>\n",
       "      <td>Scotland</td>\n",
       "      <td>4.0</td>\n",
       "      <td>2.0</td>\n",
       "      <td>Friendly</td>\n",
       "      <td>London</td>\n",
       "      <td>England</td>\n",
       "      <td>False</td>\n",
       "    </tr>\n",
       "    <tr>\n",
       "      <th>2</th>\n",
       "      <td>1874-03-07</td>\n",
       "      <td>Scotland</td>\n",
       "      <td>England</td>\n",
       "      <td>2.0</td>\n",
       "      <td>1.0</td>\n",
       "      <td>Friendly</td>\n",
       "      <td>Glasgow</td>\n",
       "      <td>Scotland</td>\n",
       "      <td>False</td>\n",
       "    </tr>\n",
       "    <tr>\n",
       "      <th>3</th>\n",
       "      <td>1875-03-06</td>\n",
       "      <td>England</td>\n",
       "      <td>Scotland</td>\n",
       "      <td>2.0</td>\n",
       "      <td>2.0</td>\n",
       "      <td>Friendly</td>\n",
       "      <td>London</td>\n",
       "      <td>England</td>\n",
       "      <td>False</td>\n",
       "    </tr>\n",
       "    <tr>\n",
       "      <th>4</th>\n",
       "      <td>1876-03-04</td>\n",
       "      <td>Scotland</td>\n",
       "      <td>England</td>\n",
       "      <td>3.0</td>\n",
       "      <td>0.0</td>\n",
       "      <td>Friendly</td>\n",
       "      <td>Glasgow</td>\n",
       "      <td>Scotland</td>\n",
       "      <td>False</td>\n",
       "    </tr>\n",
       "    <tr>\n",
       "      <th>...</th>\n",
       "      <td>...</td>\n",
       "      <td>...</td>\n",
       "      <td>...</td>\n",
       "      <td>...</td>\n",
       "      <td>...</td>\n",
       "      <td>...</td>\n",
       "      <td>...</td>\n",
       "      <td>...</td>\n",
       "      <td>...</td>\n",
       "    </tr>\n",
       "    <tr>\n",
       "      <th>43050</th>\n",
       "      <td>2021-11-30</td>\n",
       "      <td>Qatar</td>\n",
       "      <td>Bahrain</td>\n",
       "      <td>1.0</td>\n",
       "      <td>0.0</td>\n",
       "      <td>Arab Cup</td>\n",
       "      <td>Al Khor</td>\n",
       "      <td>Qatar</td>\n",
       "      <td>False</td>\n",
       "    </tr>\n",
       "    <tr>\n",
       "      <th>43058</th>\n",
       "      <td>2021-12-03</td>\n",
       "      <td>Qatar</td>\n",
       "      <td>Oman</td>\n",
       "      <td>2.0</td>\n",
       "      <td>1.0</td>\n",
       "      <td>Arab Cup</td>\n",
       "      <td>Al Rayyan</td>\n",
       "      <td>Qatar</td>\n",
       "      <td>False</td>\n",
       "    </tr>\n",
       "    <tr>\n",
       "      <th>43067</th>\n",
       "      <td>2021-12-06</td>\n",
       "      <td>Qatar</td>\n",
       "      <td>Iraq</td>\n",
       "      <td>3.0</td>\n",
       "      <td>0.0</td>\n",
       "      <td>Arab Cup</td>\n",
       "      <td>Al Khor</td>\n",
       "      <td>Qatar</td>\n",
       "      <td>False</td>\n",
       "    </tr>\n",
       "    <tr>\n",
       "      <th>43075</th>\n",
       "      <td>2021-12-09</td>\n",
       "      <td>Tanzania</td>\n",
       "      <td>Uganda</td>\n",
       "      <td>0.0</td>\n",
       "      <td>2.0</td>\n",
       "      <td>Friendly</td>\n",
       "      <td>Dar es Salaam</td>\n",
       "      <td>Tanzania</td>\n",
       "      <td>False</td>\n",
       "    </tr>\n",
       "    <tr>\n",
       "      <th>43077</th>\n",
       "      <td>2021-12-10</td>\n",
       "      <td>Qatar</td>\n",
       "      <td>United Arab Emirates</td>\n",
       "      <td>5.0</td>\n",
       "      <td>0.0</td>\n",
       "      <td>Arab Cup</td>\n",
       "      <td>Al Khor</td>\n",
       "      <td>Qatar</td>\n",
       "      <td>False</td>\n",
       "    </tr>\n",
       "  </tbody>\n",
       "</table>\n",
       "<p>32424 rows × 9 columns</p>\n",
       "</div>"
      ],
      "text/plain": [
       "            date home_team             away_team  home_score  away_score  \\\n",
       "0     1872-11-30  Scotland               England         0.0         0.0   \n",
       "1     1873-03-08   England              Scotland         4.0         2.0   \n",
       "2     1874-03-07  Scotland               England         2.0         1.0   \n",
       "3     1875-03-06   England              Scotland         2.0         2.0   \n",
       "4     1876-03-04  Scotland               England         3.0         0.0   \n",
       "...          ...       ...                   ...         ...         ...   \n",
       "43050 2021-11-30     Qatar               Bahrain         1.0         0.0   \n",
       "43058 2021-12-03     Qatar                  Oman         2.0         1.0   \n",
       "43067 2021-12-06     Qatar                  Iraq         3.0         0.0   \n",
       "43075 2021-12-09  Tanzania                Uganda         0.0         2.0   \n",
       "43077 2021-12-10     Qatar  United Arab Emirates         5.0         0.0   \n",
       "\n",
       "      tournament           city   country  neutral  \n",
       "0       Friendly        Glasgow  Scotland    False  \n",
       "1       Friendly         London   England    False  \n",
       "2       Friendly        Glasgow  Scotland    False  \n",
       "3       Friendly         London   England    False  \n",
       "4       Friendly        Glasgow  Scotland    False  \n",
       "...          ...            ...       ...      ...  \n",
       "43050   Arab Cup        Al Khor     Qatar    False  \n",
       "43058   Arab Cup      Al Rayyan     Qatar    False  \n",
       "43067   Arab Cup        Al Khor     Qatar    False  \n",
       "43075   Friendly  Dar es Salaam  Tanzania    False  \n",
       "43077   Arab Cup        Al Khor     Qatar    False  \n",
       "\n",
       "[32424 rows x 9 columns]"
      ]
     },
     "execution_count": 50,
     "metadata": {},
     "output_type": "execute_result"
    }
   ],
   "source": [
    "#Focusing more on the Goals made in each game\n",
    "\n",
    "# Looking at the df we are dealing with \n",
    "# result_df.loc[result_df['neutral'] == False].sort_values(by = ['home_team'], ascending = True)\n",
    "\n",
    "mask_non_neutral"
   ]
  },
  {
   "cell_type": "code",
   "execution_count": 51,
   "id": "205d0978",
   "metadata": {},
   "outputs": [
    {
     "name": "stdout",
     "output_type": "stream",
     "text": [
      "             home_score  away_score  neutral\n",
      "home_team                                   \n",
      "England           964.0       160.0        0\n",
      "Germany           937.0       167.0        0\n",
      "Sweden            920.0       189.0        0\n",
      "Hungary           820.0       171.0        0\n",
      "Brazil            799.0       134.0        0\n",
      "Netherlands       777.0       133.0        0\n",
      "France            740.0       133.0        0\n",
      "Italy             718.0       121.0        0\n",
      "Denmark           701.0       133.0        0\n",
      "Spain             681.0        83.0        0\n"
     ]
    },
    {
     "data": {
      "image/png": "[encoded data removed]",
      "text/plain": [
       "<Figure size 648x360 with 1 Axes>"
      ]
     },
     "metadata": {
      "needs_background": "light"
     },
     "output_type": "display_data"
    }
   ],
   "source": [
    "# How many Goals have the teams made @ Home ground\n",
    "\n",
    "home_goals_df = win_at_home.groupby(['home_team']).sum().sort_values(by =['home_score'], ascending = False)\n",
    "\n",
    "#also can be this: for understanding  its for each of the element of won matches\n",
    "# win_at_home[win_at_home['home_team'] == 'England']['home_score'].sum()\n",
    "\n",
    "print(home_goals_df.head(n= 10))\n",
    "\n",
    "# Teams seems doing better in their home ground\n",
    "plt.title(\"Distribution of total Gloas hit\")\n",
    "plt.bar(home_goals_df.index[:8], home_goals_df.home_score[:8]);\n",
    "\n"
   ]
  },
  {
   "cell_type": "code",
   "execution_count": 61,
   "id": "bf0ae6e8",
   "metadata": {},
   "outputs": [
    {
     "name": "stdout",
     "output_type": "stream",
     "text": [
      "             home_score  away_score  neutral\n",
      "away_team                                   \n",
      "England           155.0       839.0        0\n",
      "Germany           151.0       623.0        0\n",
      "Sweden            127.0       549.0        0\n",
      "Hungary           138.0       517.0        0\n",
      "Brazil             87.0       441.0        0\n",
      "Scotland           97.0       422.0        0\n",
      "Netherlands        92.0       383.0        0\n",
      "Russia             74.0       371.0        0\n",
      "Argentina          91.0       370.0        0\n",
      "Denmark            77.0       355.0        0\n"
     ]
    },
    {
     "data": {
      "image/png": "[encoded data removed]",
      "text/plain": [
       "<Figure size 648x360 with 1 Axes>"
      ]
     },
     "metadata": {
      "needs_background": "light"
     },
     "output_type": "display_data"
    }
   ],
   "source": [
    "# How many Goals have the teams made @ non Home ground\n",
    "\n",
    "\n",
    "away_goals_df = win_at_away.groupby(['away_team']).sum().sort_values(by =['away_score'], ascending = False)\n",
    "\n",
    "\n",
    "print(away_goals_df.head(n= 10))\n",
    "\n",
    "# Teams seems doing better in their home ground\n",
    "plt.title(\"Distribution of total Gloas hit\")\n",
    "plt.bar(away_goals_df.index[:8], away_goals_df.home_score[:8]);\n"
   ]
  },
  {
   "cell_type": "markdown",
   "id": "0787e991",
   "metadata": {},
   "source": [
    "#### Concusion:\n",
    "\n",
    "Seems like England is doing better in home ground and non home ground standing 1st on the table with\n",
    "- 964 goals @ home ground and 155 at non home ground \n",
    "\n",
    "Followed by Germany and Sweden"
   ]
  },
  {
   "cell_type": "code",
   "execution_count": 64,
   "id": "a876ebbe",
   "metadata": {},
   "outputs": [
    {
     "data": {
      "text/html": [
       "<div>\n",
       "<style scoped>\n",
       "    .dataframe tbody tr th:only-of-type {\n",
       "        vertical-align: middle;\n",
       "    }\n",
       "\n",
       "    .dataframe tbody tr th {\n",
       "        vertical-align: top;\n",
       "    }\n",
       "\n",
       "    .dataframe thead th {\n",
       "        text-align: right;\n",
       "    }\n",
       "</style>\n",
       "<table border=\"1\" class=\"dataframe\">\n",
       "  <thead>\n",
       "    <tr style=\"text-align: right;\">\n",
       "      <th></th>\n",
       "      <th>home_score</th>\n",
       "      <th>away_score</th>\n",
       "      <th>neutral</th>\n",
       "      <th>loose_pec</th>\n",
       "    </tr>\n",
       "    <tr>\n",
       "      <th>home_team</th>\n",
       "      <th></th>\n",
       "      <th></th>\n",
       "      <th></th>\n",
       "      <th></th>\n",
       "    </tr>\n",
       "  </thead>\n",
       "  <tbody>\n",
       "    <tr>\n",
       "      <th>England</th>\n",
       "      <td>964.0</td>\n",
       "      <td>160.0</td>\n",
       "      <td>0</td>\n",
       "      <td>0.142349</td>\n",
       "    </tr>\n",
       "    <tr>\n",
       "      <th>Germany</th>\n",
       "      <td>937.0</td>\n",
       "      <td>167.0</td>\n",
       "      <td>0</td>\n",
       "      <td>0.151268</td>\n",
       "    </tr>\n",
       "    <tr>\n",
       "      <th>Sweden</th>\n",
       "      <td>920.0</td>\n",
       "      <td>189.0</td>\n",
       "      <td>0</td>\n",
       "      <td>0.170424</td>\n",
       "    </tr>\n",
       "    <tr>\n",
       "      <th>Hungary</th>\n",
       "      <td>820.0</td>\n",
       "      <td>171.0</td>\n",
       "      <td>0</td>\n",
       "      <td>0.172553</td>\n",
       "    </tr>\n",
       "    <tr>\n",
       "      <th>Brazil</th>\n",
       "      <td>799.0</td>\n",
       "      <td>134.0</td>\n",
       "      <td>0</td>\n",
       "      <td>0.143623</td>\n",
       "    </tr>\n",
       "    <tr>\n",
       "      <th>Netherlands</th>\n",
       "      <td>777.0</td>\n",
       "      <td>133.0</td>\n",
       "      <td>0</td>\n",
       "      <td>0.146154</td>\n",
       "    </tr>\n",
       "    <tr>\n",
       "      <th>France</th>\n",
       "      <td>740.0</td>\n",
       "      <td>133.0</td>\n",
       "      <td>0</td>\n",
       "      <td>0.152348</td>\n",
       "    </tr>\n",
       "    <tr>\n",
       "      <th>Italy</th>\n",
       "      <td>718.0</td>\n",
       "      <td>121.0</td>\n",
       "      <td>0</td>\n",
       "      <td>0.144219</td>\n",
       "    </tr>\n",
       "    <tr>\n",
       "      <th>Denmark</th>\n",
       "      <td>701.0</td>\n",
       "      <td>133.0</td>\n",
       "      <td>0</td>\n",
       "      <td>0.159472</td>\n",
       "    </tr>\n",
       "    <tr>\n",
       "      <th>Spain</th>\n",
       "      <td>681.0</td>\n",
       "      <td>83.0</td>\n",
       "      <td>0</td>\n",
       "      <td>0.108639</td>\n",
       "    </tr>\n",
       "    <tr>\n",
       "      <th>Austria</th>\n",
       "      <td>650.0</td>\n",
       "      <td>146.0</td>\n",
       "      <td>0</td>\n",
       "      <td>0.183417</td>\n",
       "    </tr>\n",
       "    <tr>\n",
       "      <th>Argentina</th>\n",
       "      <td>624.0</td>\n",
       "      <td>108.0</td>\n",
       "      <td>0</td>\n",
       "      <td>0.147541</td>\n",
       "    </tr>\n",
       "    <tr>\n",
       "      <th>Belgium</th>\n",
       "      <td>621.0</td>\n",
       "      <td>124.0</td>\n",
       "      <td>0</td>\n",
       "      <td>0.166443</td>\n",
       "    </tr>\n",
       "    <tr>\n",
       "      <th>Scotland</th>\n",
       "      <td>618.0</td>\n",
       "      <td>121.0</td>\n",
       "      <td>0</td>\n",
       "      <td>0.163735</td>\n",
       "    </tr>\n",
       "    <tr>\n",
       "      <th>United States</th>\n",
       "      <td>586.0</td>\n",
       "      <td>95.0</td>\n",
       "      <td>0</td>\n",
       "      <td>0.139501</td>\n",
       "    </tr>\n",
       "    <tr>\n",
       "      <th>Mexico</th>\n",
       "      <td>569.0</td>\n",
       "      <td>89.0</td>\n",
       "      <td>0</td>\n",
       "      <td>0.135258</td>\n",
       "    </tr>\n",
       "    <tr>\n",
       "      <th>Poland</th>\n",
       "      <td>564.0</td>\n",
       "      <td>102.0</td>\n",
       "      <td>0</td>\n",
       "      <td>0.153153</td>\n",
       "    </tr>\n",
       "    <tr>\n",
       "      <th>South Korea</th>\n",
       "      <td>539.0</td>\n",
       "      <td>60.0</td>\n",
       "      <td>0</td>\n",
       "      <td>0.100167</td>\n",
       "    </tr>\n",
       "    <tr>\n",
       "      <th>Romania</th>\n",
       "      <td>508.0</td>\n",
       "      <td>94.0</td>\n",
       "      <td>0</td>\n",
       "      <td>0.156146</td>\n",
       "    </tr>\n",
       "    <tr>\n",
       "      <th>Portugal</th>\n",
       "      <td>500.0</td>\n",
       "      <td>63.0</td>\n",
       "      <td>0</td>\n",
       "      <td>0.111901</td>\n",
       "    </tr>\n",
       "  </tbody>\n",
       "</table>\n",
       "</div>"
      ],
      "text/plain": [
       "               home_score  away_score  neutral  loose_pec\n",
       "home_team                                                \n",
       "England             964.0       160.0        0   0.142349\n",
       "Germany             937.0       167.0        0   0.151268\n",
       "Sweden              920.0       189.0        0   0.170424\n",
       "Hungary             820.0       171.0        0   0.172553\n",
       "Brazil              799.0       134.0        0   0.143623\n",
       "Netherlands         777.0       133.0        0   0.146154\n",
       "France              740.0       133.0        0   0.152348\n",
       "Italy               718.0       121.0        0   0.144219\n",
       "Denmark             701.0       133.0        0   0.159472\n",
       "Spain               681.0        83.0        0   0.108639\n",
       "Austria             650.0       146.0        0   0.183417\n",
       "Argentina           624.0       108.0        0   0.147541\n",
       "Belgium             621.0       124.0        0   0.166443\n",
       "Scotland            618.0       121.0        0   0.163735\n",
       "United States       586.0        95.0        0   0.139501\n",
       "Mexico              569.0        89.0        0   0.135258\n",
       "Poland              564.0       102.0        0   0.153153\n",
       "South Korea         539.0        60.0        0   0.100167\n",
       "Romania             508.0        94.0        0   0.156146\n",
       "Portugal            500.0        63.0        0   0.111901"
      ]
     },
     "execution_count": 64,
     "metadata": {},
     "output_type": "execute_result"
    }
   ],
   "source": [
    "# win %ge in home ground\n",
    "home_goals_df['loose_pec'] = home_goals_df['away_score'] / (home_goals_df['home_score']+home_goals_df['away_score'])\n",
    "\n",
    "# (home_goals_df['away_score'] / (home_goals_df['home_score']+home_goals_df['away_score']) ).sort_values(ascending = False)\n",
    "home_goals_df[:20]"
   ]
  },
  {
   "cell_type": "code",
   "execution_count": 65,
   "id": "386b454b",
   "metadata": {},
   "outputs": [
    {
     "data": {
      "application/vnd.plotly.v1+json": {
       "config": {
        "plotlyServerURL": "https://plot.ly"
       },
       "data": [
        {
         "insidetextorientation": "radial",
         "labels": [
          "England",
          "Germany",
          "Sweden",
          "Hungary",
          "Brazil",
          "Netherlands",
          "France",
          "Italy",
          "Denmark",
          "Spain",
          "Austria",
          "Argentina",
          "Belgium",
          "Scotland",
          "United States",
          "Mexico",
          "Poland",
          "South Korea",
          "Romania",
          "Portugal"
         ],
         "textinfo": "label+percent",
         "type": "pie",
         "values": [
          964,
          937,
          920,
          820,
          799,
          777,
          740,
          718,
          701,
          681,
          650,
          624,
          621,
          618,
          586,
          569,
          564,
          539,
          508,
          500
         ]
        }
       ],
       "layout": {
        "template": {
         "data": {
          "bar": [
           {
            "error_x": {
             "color": "#2a3f5f"
            },
            "error_y": {
             "color": "#2a3f5f"
            },
            "marker": {
             "line": {
              "color": "#E5ECF6",
              "width": 0.5
             },
             "pattern": {
              "fillmode": "overlay",
              "size": 10,
              "solidity": 0.2
             }
            },
            "type": "bar"
           }
          ],
          "barpolar": [
           {
            "marker": {
             "line": {
              "color": "#E5ECF6",
              "width": 0.5
             },
             "pattern": {
              "fillmode": "overlay",
              "size": 10,
              "solidity": 0.2
             }
            },
            "type": "barpolar"
           }
          ],
          "carpet": [
           {
            "aaxis": {
             "endlinecolor": "#2a3f5f",
             "gridcolor": "white",
             "linecolor": "white",
             "minorgridcolor": "white",
             "startlinecolor": "#2a3f5f"
            },
            "baxis": {
             "endlinecolor": "#2a3f5f",
             "gridcolor": "white",
             "linecolor": "white",
             "minorgridcolor": "white",
             "startlinecolor": "#2a3f5f"
            },
            "type": "carpet"
           }
          ],
          "choropleth": [
           {
            "colorbar": {
             "outlinewidth": 0,
             "ticks": ""
            },
            "type": "choropleth"
           }
          ],
          "contour": [
           {
            "colorbar": {
             "outlinewidth": 0,
             "ticks": ""
            },
            "colorscale": [
             [
              0,
              "#0d0887"
             ],
             [
              0.1111111111111111,
              "#46039f"
             ],
             [
              0.2222222222222222,
              "#7201a8"
             ],
             [
              0.3333333333333333,
              "#9c179e"
             ],
             [
              0.4444444444444444,
              "#bd3786"
             ],
             [
              0.5555555555555556,
              "#d8576b"
             ],
             [
              0.6666666666666666,
              "#ed7953"
             ],
             [
              0.7777777777777778,
              "#fb9f3a"
             ],
             [
              0.8888888888888888,
              "#fdca26"
             ],
             [
              1,
              "#f0f921"
             ]
            ],
            "type": "contour"
           }
          ],
          "contourcarpet": [
           {
            "colorbar": {
             "outlinewidth": 0,
             "ticks": ""
            },
            "type": "contourcarpet"
           }
          ],
          "heatmap": [
           {
            "colorbar": {
             "outlinewidth": 0,
             "ticks": ""
            },
            "colorscale": [
             [
              0,
              "#0d0887"
             ],
             [
              0.1111111111111111,
              "#46039f"
             ],
             [
              0.2222222222222222,
              "#7201a8"
             ],
             [
              0.3333333333333333,
              "#9c179e"
             ],
             [
              0.4444444444444444,
              "#bd3786"
             ],
             [
              0.5555555555555556,
              "#d8576b"
             ],
             [
              0.6666666666666666,
              "#ed7953"
             ],
             [
              0.7777777777777778,
              "#fb9f3a"
             ],
             [
              0.8888888888888888,
              "#fdca26"
             ],
             [
              1,
              "#f0f921"
             ]
            ],
            "type": "heatmap"
           }
          ],
          "heatmapgl": [
           {
            "colorbar": {
             "outlinewidth": 0,
             "ticks": ""
            },
            "colorscale": [
             [
              0,
              "#0d0887"
             ],
             [
              0.1111111111111111,
              "#46039f"
             ],
             [
              0.2222222222222222,
              "#7201a8"
             ],
             [
              0.3333333333333333,
              "#9c179e"
             ],
             [
              0.4444444444444444,
              "#bd3786"
             ],
             [
              0.5555555555555556,
              "#d8576b"
             ],
             [
              0.6666666666666666,
              "#ed7953"
             ],
             [
              0.7777777777777778,
              "#fb9f3a"
             ],
             [
              0.8888888888888888,
              "#fdca26"
             ],
             [
              1,
              "#f0f921"
             ]
            ],
            "type": "heatmapgl"
           }
          ],
          "histogram": [
           {
            "marker": {
             "pattern": {
              "fillmode": "overlay",
              "size": 10,
              "solidity": 0.2
             }
            },
            "type": "histogram"
           }
          ],
          "histogram2d": [
           {
            "colorbar": {
             "outlinewidth": 0,
             "ticks": ""
            },
            "colorscale": [
             [
              0,
              "#0d0887"
             ],
             [
              0.1111111111111111,
              "#46039f"
             ],
             [
              0.2222222222222222,
              "#7201a8"
             ],
             [
              0.3333333333333333,
              "#9c179e"
             ],
             [
              0.4444444444444444,
              "#bd3786"
             ],
             [
              0.5555555555555556,
              "#d8576b"
             ],
             [
              0.6666666666666666,
              "#ed7953"
             ],
             [
              0.7777777777777778,
              "#fb9f3a"
             ],
             [
              0.8888888888888888,
              "#fdca26"
             ],
             [
              1,
              "#f0f921"
             ]
            ],
            "type": "histogram2d"
           }
          ],
          "histogram2dcontour": [
           {
            "colorbar": {
             "outlinewidth": 0,
             "ticks": ""
            },
            "colorscale": [
             [
              0,
              "#0d0887"
             ],
             [
              0.1111111111111111,
              "#46039f"
             ],
             [
              0.2222222222222222,
              "#7201a8"
             ],
             [
              0.3333333333333333,
              "#9c179e"
             ],
             [
              0.4444444444444444,
              "#bd3786"
             ],
             [
              0.5555555555555556,
              "#d8576b"
             ],
             [
              0.6666666666666666,
              "#ed7953"
             ],
             [
              0.7777777777777778,
              "#fb9f3a"
             ],
             [
              0.8888888888888888,
              "#fdca26"
             ],
             [
              1,
              "#f0f921"
             ]
            ],
            "type": "histogram2dcontour"
           }
          ],
          "mesh3d": [
           {
            "colorbar": {
             "outlinewidth": 0,
             "ticks": ""
            },
            "type": "mesh3d"
           }
          ],
          "parcoords": [
           {
            "line": {
             "colorbar": {
              "outlinewidth": 0,
              "ticks": ""
             }
            },
            "type": "parcoords"
           }
          ],
          "pie": [
           {
            "automargin": true,
            "type": "pie"
           }
          ],
          "scatter": [
           {
            "marker": {
             "colorbar": {
              "outlinewidth": 0,
              "ticks": ""
             }
            },
            "type": "scatter"
           }
          ],
          "scatter3d": [
           {
            "line": {
             "colorbar": {
              "outlinewidth": 0,
              "ticks": ""
             }
            },
            "marker": {
             "colorbar": {
              "outlinewidth": 0,
              "ticks": ""
             }
            },
            "type": "scatter3d"
           }
          ],
          "scattercarpet": [
           {
            "marker": {
             "colorbar": {
              "outlinewidth": 0,
              "ticks": ""
             }
            },
            "type": "scattercarpet"
           }
          ],
          "scattergeo": [
           {
            "marker": {
             "colorbar": {
              "outlinewidth": 0,
              "ticks": ""
             }
            },
            "type": "scattergeo"
           }
          ],
          "scattergl": [
           {
            "marker": {
             "colorbar": {
              "outlinewidth": 0,
              "ticks": ""
             }
            },
            "type": "scattergl"
           }
          ],
          "scattermapbox": [
           {
            "marker": {
             "colorbar": {
              "outlinewidth": 0,
              "ticks": ""
             }
            },
            "type": "scattermapbox"
           }
          ],
          "scatterpolar": [
           {
            "marker": {
             "colorbar": {
              "outlinewidth": 0,
              "ticks": ""
             }
            },
            "type": "scatterpolar"
           }
          ],
          "scatterpolargl": [
           {
            "marker": {
             "colorbar": {
              "outlinewidth": 0,
              "ticks": ""
             }
            },
            "type": "scatterpolargl"
           }
          ],
          "scatterternary": [
           {
            "marker": {
             "colorbar": {
              "outlinewidth": 0,
              "ticks": ""
             }
            },
            "type": "scatterternary"
           }
          ],
          "surface": [
           {
            "colorbar": {
             "outlinewidth": 0,
             "ticks": ""
            },
            "colorscale": [
             [
              0,
              "#0d0887"
             ],
             [
              0.1111111111111111,
              "#46039f"
             ],
             [
              0.2222222222222222,
              "#7201a8"
             ],
             [
              0.3333333333333333,
              "#9c179e"
             ],
             [
              0.4444444444444444,
              "#bd3786"
             ],
             [
              0.5555555555555556,
              "#d8576b"
             ],
             [
              0.6666666666666666,
              "#ed7953"
             ],
             [
              0.7777777777777778,
              "#fb9f3a"
             ],
             [
              0.8888888888888888,
              "#fdca26"
             ],
             [
              1,
              "#f0f921"
             ]
            ],
            "type": "surface"
           }
          ],
          "table": [
           {
            "cells": {
             "fill": {
              "color": "#EBF0F8"
             },
             "line": {
              "color": "white"
             }
            },
            "header": {
             "fill": {
              "color": "#C8D4E3"
             },
             "line": {
              "color": "white"
             }
            },
            "type": "table"
           }
          ]
         },
         "layout": {
          "annotationdefaults": {
           "arrowcolor": "#2a3f5f",
           "arrowhead": 0,
           "arrowwidth": 1
          },
          "autotypenumbers": "strict",
          "coloraxis": {
           "colorbar": {
            "outlinewidth": 0,
            "ticks": ""
           }
          },
          "colorscale": {
           "diverging": [
            [
             0,
             "#8e0152"
            ],
            [
             0.1,
             "#c51b7d"
            ],
            [
             0.2,
             "#de77ae"
            ],
            [
             0.3,
             "#f1b6da"
            ],
            [
             0.4,
             "#fde0ef"
            ],
            [
             0.5,
             "#f7f7f7"
            ],
            [
             0.6,
             "#e6f5d0"
            ],
            [
             0.7,
             "#b8e186"
            ],
            [
             0.8,
             "#7fbc41"
            ],
            [
             0.9,
             "#4d9221"
            ],
            [
             1,
             "#276419"
            ]
           ],
           "sequential": [
            [
             0,
             "#0d0887"
            ],
            [
             0.1111111111111111,
             "#46039f"
            ],
            [
             0.2222222222222222,
             "#7201a8"
            ],
            [
             0.3333333333333333,
             "#9c179e"
            ],
            [
             0.4444444444444444,
             "#bd3786"
            ],
            [
             0.5555555555555556,
             "#d8576b"
            ],
            [
             0.6666666666666666,
             "#ed7953"
            ],
            [
             0.7777777777777778,
             "#fb9f3a"
            ],
            [
             0.8888888888888888,
             "#fdca26"
            ],
            [
             1,
             "#f0f921"
            ]
           ],
           "sequentialminus": [
            [
             0,
             "#0d0887"
            ],
            [
             0.1111111111111111,
             "#46039f"
            ],
            [
             0.2222222222222222,
             "#7201a8"
            ],
            [
             0.3333333333333333,
             "#9c179e"
            ],
            [
             0.4444444444444444,
             "#bd3786"
            ],
            [
             0.5555555555555556,
             "#d8576b"
            ],
            [
             0.6666666666666666,
             "#ed7953"
            ],
            [
             0.7777777777777778,
             "#fb9f3a"
            ],
            [
             0.8888888888888888,
             "#fdca26"
            ],
            [
             1,
             "#f0f921"
            ]
           ]
          },
          "colorway": [
           "#636efa",
           "#EF553B",
           "#00cc96",
           "#ab63fa",
           "#FFA15A",
           "#19d3f3",
           "#FF6692",
           "#B6E880",
           "#FF97FF",
           "#FECB52"
          ],
          "font": {
           "color": "#2a3f5f"
          },
          "geo": {
           "bgcolor": "white",
           "lakecolor": "white",
           "landcolor": "#E5ECF6",
           "showlakes": true,
           "showland": true,
           "subunitcolor": "white"
          },
          "hoverlabel": {
           "align": "left"
          },
          "hovermode": "closest",
          "mapbox": {
           "style": "light"
          },
          "paper_bgcolor": "white",
          "plot_bgcolor": "#E5ECF6",
          "polar": {
           "angularaxis": {
            "gridcolor": "white",
            "linecolor": "white",
            "ticks": ""
           },
           "bgcolor": "#E5ECF6",
           "radialaxis": {
            "gridcolor": "white",
            "linecolor": "white",
            "ticks": ""
           }
          },
          "scene": {
           "xaxis": {
            "backgroundcolor": "#E5ECF6",
            "gridcolor": "white",
            "gridwidth": 2,
            "linecolor": "white",
            "showbackground": true,
            "ticks": "",
            "zerolinecolor": "white"
           },
           "yaxis": {
            "backgroundcolor": "#E5ECF6",
            "gridcolor": "white",
            "gridwidth": 2,
            "linecolor": "white",
            "showbackground": true,
            "ticks": "",
            "zerolinecolor": "white"
           },
           "zaxis": {
            "backgroundcolor": "#E5ECF6",
            "gridcolor": "white",
            "gridwidth": 2,
            "linecolor": "white",
            "showbackground": true,
            "ticks": "",
            "zerolinecolor": "white"
           }
          },
          "shapedefaults": {
           "line": {
            "color": "#2a3f5f"
           }
          },
          "ternary": {
           "aaxis": {
            "gridcolor": "white",
            "linecolor": "white",
            "ticks": ""
           },
           "baxis": {
            "gridcolor": "white",
            "linecolor": "white",
            "ticks": ""
           },
           "bgcolor": "#E5ECF6",
           "caxis": {
            "gridcolor": "white",
            "linecolor": "white",
            "ticks": ""
           }
          },
          "title": {
           "x": 0.05
          },
          "xaxis": {
           "automargin": true,
           "gridcolor": "white",
           "linecolor": "white",
           "ticks": "",
           "title": {
            "standoff": 15
           },
           "zerolinecolor": "white",
           "zerolinewidth": 2
          },
          "yaxis": {
           "automargin": true,
           "gridcolor": "white",
           "linecolor": "white",
           "ticks": "",
           "title": {
            "standoff": 15
           },
           "zerolinecolor": "white",
           "zerolinewidth": 2
          }
         }
        },
        "title": {
         "text": "%ge win in home ground"
        }
       }
      },
      "text/html": [
       "<div>                            <div id=\"826a271a-6b28-472d-b4b0-bffd6c1f03ca\" class=\"plotly-graph-div\" style=\"height:525px; width:100%;\"></div>            <script type=\"text/javascript\">                require([\"plotly\"], function(Plotly) {                    window.PLOTLYENV=window.PLOTLYENV || {};                                    if (document.getElementById(\"826a271a-6b28-472d-b4b0-bffd6c1f03ca\")) {                    Plotly.newPlot(                        \"826a271a-6b28-472d-b4b0-bffd6c1f03ca\",                        [{\"insidetextorientation\":\"radial\",\"labels\":[\"England\",\"Germany\",\"Sweden\",\"Hungary\",\"Brazil\",\"Netherlands\",\"France\",\"Italy\",\"Denmark\",\"Spain\",\"Austria\",\"Argentina\",\"Belgium\",\"Scotland\",\"United States\",\"Mexico\",\"Poland\",\"South Korea\",\"Romania\",\"Portugal\"],\"textinfo\":\"label+percent\",\"type\":\"pie\",\"values\":[964.0,937.0,920.0,820.0,799.0,777.0,740.0,718.0,701.0,681.0,650.0,624.0,621.0,618.0,586.0,569.0,564.0,539.0,508.0,500.0]}],                        {\"template\":{\"data\":{\"bar\":[{\"error_x\":{\"color\":\"#2a3f5f\"},\"error_y\":{\"color\":\"#2a3f5f\"},\"marker\":{\"line\":{\"color\":\"#E5ECF6\",\"width\":0.5},\"pattern\":{\"fillmode\":\"overlay\",\"size\":10,\"solidity\":0.2}},\"type\":\"bar\"}],\"barpolar\":[{\"marker\":{\"line\":{\"color\":\"#E5ECF6\",\"width\":0.5},\"pattern\":{\"fillmode\":\"overlay\",\"size\":10,\"solidity\":0.2}},\"type\":\"barpolar\"}],\"carpet\":[{\"aaxis\":{\"endlinecolor\":\"#2a3f5f\",\"gridcolor\":\"white\",\"linecolor\":\"white\",\"minorgridcolor\":\"white\",\"startlinecolor\":\"#2a3f5f\"},\"baxis\":{\"endlinecolor\":\"#2a3f5f\",\"gridcolor\":\"white\",\"linecolor\":\"white\",\"minorgridcolor\":\"white\",\"startlinecolor\":\"#2a3f5f\"},\"type\":\"carpet\"}],\"choropleth\":[{\"colorbar\":{\"outlinewidth\":0,\"ticks\":\"\"},\"type\":\"choropleth\"}],\"contour\":[{\"colorbar\":{\"outlinewidth\":0,\"ticks\":\"\"},\"colorscale\":[[0.0,\"#0d0887\"],[0.1111111111111111,\"#46039f\"],[0.2222222222222222,\"#7201a8\"],[0.3333333333333333,\"#9c179e\"],[0.4444444444444444,\"#bd3786\"],[0.5555555555555556,\"#d8576b\"],[0.6666666666666666,\"#ed7953\"],[0.7777777777777778,\"#fb9f3a\"],[0.8888888888888888,\"#fdca26\"],[1.0,\"#f0f921\"]],\"type\":\"contour\"}],\"contourcarpet\":[{\"colorbar\":{\"outlinewidth\":0,\"ticks\":\"\"},\"type\":\"contourcarpet\"}],\"heatmap\":[{\"colorbar\":{\"outlinewidth\":0,\"ticks\":\"\"},\"colorscale\":[[0.0,\"#0d0887\"],[0.1111111111111111,\"#46039f\"],[0.2222222222222222,\"#7201a8\"],[0.3333333333333333,\"#9c179e\"],[0.4444444444444444,\"#bd3786\"],[0.5555555555555556,\"#d8576b\"],[0.6666666666666666,\"#ed7953\"],[0.7777777777777778,\"#fb9f3a\"],[0.8888888888888888,\"#fdca26\"],[1.0,\"#f0f921\"]],\"type\":\"heatmap\"}],\"heatmapgl\":[{\"colorbar\":{\"outlinewidth\":0,\"ticks\":\"\"},\"colorscale\":[[0.0,\"#0d0887\"],[0.1111111111111111,\"#46039f\"],[0.2222222222222222,\"#7201a8\"],[0.3333333333333333,\"#9c179e\"],[0.4444444444444444,\"#bd3786\"],[0.5555555555555556,\"#d8576b\"],[0.6666666666666666,\"#ed7953\"],[0.7777777777777778,\"#fb9f3a\"],[0.8888888888888888,\"#fdca26\"],[1.0,\"#f0f921\"]],\"type\":\"heatmapgl\"}],\"histogram\":[{\"marker\":{\"pattern\":{\"fillmode\":\"overlay\",\"size\":10,\"solidity\":0.2}},\"type\":\"histogram\"}],\"histogram2d\":[{\"colorbar\":{\"outlinewidth\":0,\"ticks\":\"\"},\"colorscale\":[[0.0,\"#0d0887\"],[0.1111111111111111,\"#46039f\"],[0.2222222222222222,\"#7201a8\"],[0.3333333333333333,\"#9c179e\"],[0.4444444444444444,\"#bd3786\"],[0.5555555555555556,\"#d8576b\"],[0.6666666666666666,\"#ed7953\"],[0.7777777777777778,\"#fb9f3a\"],[0.8888888888888888,\"#fdca26\"],[1.0,\"#f0f921\"]],\"type\":\"histogram2d\"}],\"histogram2dcontour\":[{\"colorbar\":{\"outlinewidth\":0,\"ticks\":\"\"},\"colorscale\":[[0.0,\"#0d0887\"],[0.1111111111111111,\"#46039f\"],[0.2222222222222222,\"#7201a8\"],[0.3333333333333333,\"#9c179e\"],[0.4444444444444444,\"#bd3786\"],[0.5555555555555556,\"#d8576b\"],[0.6666666666666666,\"#ed7953\"],[0.7777777777777778,\"#fb9f3a\"],[0.8888888888888888,\"#fdca26\"],[1.0,\"#f0f921\"]],\"type\":\"histogram2dcontour\"}],\"mesh3d\":[{\"colorbar\":{\"outlinewidth\":0,\"ticks\":\"\"},\"type\":\"mesh3d\"}],\"parcoords\":[{\"line\":{\"colorbar\":{\"outlinewidth\":0,\"ticks\":\"\"}},\"type\":\"parcoords\"}],\"pie\":[{\"automargin\":true,\"type\":\"pie\"}],\"scatter\":[{\"marker\":{\"colorbar\":{\"outlinewidth\":0,\"ticks\":\"\"}},\"type\":\"scatter\"}],\"scatter3d\":[{\"line\":{\"colorbar\":{\"outlinewidth\":0,\"ticks\":\"\"}},\"marker\":{\"colorbar\":{\"outlinewidth\":0,\"ticks\":\"\"}},\"type\":\"scatter3d\"}],\"scattercarpet\":[{\"marker\":{\"colorbar\":{\"outlinewidth\":0,\"ticks\":\"\"}},\"type\":\"scattercarpet\"}],\"scattergeo\":[{\"marker\":{\"colorbar\":{\"outlinewidth\":0,\"ticks\":\"\"}},\"type\":\"scattergeo\"}],\"scattergl\":[{\"marker\":{\"colorbar\":{\"outlinewidth\":0,\"ticks\":\"\"}},\"type\":\"scattergl\"}],\"scattermapbox\":[{\"marker\":{\"colorbar\":{\"outlinewidth\":0,\"ticks\":\"\"}},\"type\":\"scattermapbox\"}],\"scatterpolar\":[{\"marker\":{\"colorbar\":{\"outlinewidth\":0,\"ticks\":\"\"}},\"type\":\"scatterpolar\"}],\"scatterpolargl\":[{\"marker\":{\"colorbar\":{\"outlinewidth\":0,\"ticks\":\"\"}},\"type\":\"scatterpolargl\"}],\"scatterternary\":[{\"marker\":{\"colorbar\":{\"outlinewidth\":0,\"ticks\":\"\"}},\"type\":\"scatterternary\"}],\"surface\":[{\"colorbar\":{\"outlinewidth\":0,\"ticks\":\"\"},\"colorscale\":[[0.0,\"#0d0887\"],[0.1111111111111111,\"#46039f\"],[0.2222222222222222,\"#7201a8\"],[0.3333333333333333,\"#9c179e\"],[0.4444444444444444,\"#bd3786\"],[0.5555555555555556,\"#d8576b\"],[0.6666666666666666,\"#ed7953\"],[0.7777777777777778,\"#fb9f3a\"],[0.8888888888888888,\"#fdca26\"],[1.0,\"#f0f921\"]],\"type\":\"surface\"}],\"table\":[{\"cells\":{\"fill\":{\"color\":\"#EBF0F8\"},\"line\":{\"color\":\"white\"}},\"header\":{\"fill\":{\"color\":\"#C8D4E3\"},\"line\":{\"color\":\"white\"}},\"type\":\"table\"}]},\"layout\":{\"annotationdefaults\":{\"arrowcolor\":\"#2a3f5f\",\"arrowhead\":0,\"arrowwidth\":1},\"autotypenumbers\":\"strict\",\"coloraxis\":{\"colorbar\":{\"outlinewidth\":0,\"ticks\":\"\"}},\"colorscale\":{\"diverging\":[[0,\"#8e0152\"],[0.1,\"#c51b7d\"],[0.2,\"#de77ae\"],[0.3,\"#f1b6da\"],[0.4,\"#fde0ef\"],[0.5,\"#f7f7f7\"],[0.6,\"#e6f5d0\"],[0.7,\"#b8e186\"],[0.8,\"#7fbc41\"],[0.9,\"#4d9221\"],[1,\"#276419\"]],\"sequential\":[[0.0,\"#0d0887\"],[0.1111111111111111,\"#46039f\"],[0.2222222222222222,\"#7201a8\"],[0.3333333333333333,\"#9c179e\"],[0.4444444444444444,\"#bd3786\"],[0.5555555555555556,\"#d8576b\"],[0.6666666666666666,\"#ed7953\"],[0.7777777777777778,\"#fb9f3a\"],[0.8888888888888888,\"#fdca26\"],[1.0,\"#f0f921\"]],\"sequentialminus\":[[0.0,\"#0d0887\"],[0.1111111111111111,\"#46039f\"],[0.2222222222222222,\"#7201a8\"],[0.3333333333333333,\"#9c179e\"],[0.4444444444444444,\"#bd3786\"],[0.5555555555555556,\"#d8576b\"],[0.6666666666666666,\"#ed7953\"],[0.7777777777777778,\"#fb9f3a\"],[0.8888888888888888,\"#fdca26\"],[1.0,\"#f0f921\"]]},\"colorway\":[\"#636efa\",\"#EF553B\",\"#00cc96\",\"#ab63fa\",\"#FFA15A\",\"#19d3f3\",\"#FF6692\",\"#B6E880\",\"#FF97FF\",\"#FECB52\"],\"font\":{\"color\":\"#2a3f5f\"},\"geo\":{\"bgcolor\":\"white\",\"lakecolor\":\"white\",\"landcolor\":\"#E5ECF6\",\"showlakes\":true,\"showland\":true,\"subunitcolor\":\"white\"},\"hoverlabel\":{\"align\":\"left\"},\"hovermode\":\"closest\",\"mapbox\":{\"style\":\"light\"},\"paper_bgcolor\":\"white\",\"plot_bgcolor\":\"#E5ECF6\",\"polar\":{\"angularaxis\":{\"gridcolor\":\"white\",\"linecolor\":\"white\",\"ticks\":\"\"},\"bgcolor\":\"#E5ECF6\",\"radialaxis\":{\"gridcolor\":\"white\",\"linecolor\":\"white\",\"ticks\":\"\"}},\"scene\":{\"xaxis\":{\"backgroundcolor\":\"#E5ECF6\",\"gridcolor\":\"white\",\"gridwidth\":2,\"linecolor\":\"white\",\"showbackground\":true,\"ticks\":\"\",\"zerolinecolor\":\"white\"},\"yaxis\":{\"backgroundcolor\":\"#E5ECF6\",\"gridcolor\":\"white\",\"gridwidth\":2,\"linecolor\":\"white\",\"showbackground\":true,\"ticks\":\"\",\"zerolinecolor\":\"white\"},\"zaxis\":{\"backgroundcolor\":\"#E5ECF6\",\"gridcolor\":\"white\",\"gridwidth\":2,\"linecolor\":\"white\",\"showbackground\":true,\"ticks\":\"\",\"zerolinecolor\":\"white\"}},\"shapedefaults\":{\"line\":{\"color\":\"#2a3f5f\"}},\"ternary\":{\"aaxis\":{\"gridcolor\":\"white\",\"linecolor\":\"white\",\"ticks\":\"\"},\"baxis\":{\"gridcolor\":\"white\",\"linecolor\":\"white\",\"ticks\":\"\"},\"bgcolor\":\"#E5ECF6\",\"caxis\":{\"gridcolor\":\"white\",\"linecolor\":\"white\",\"ticks\":\"\"}},\"title\":{\"x\":0.05},\"xaxis\":{\"automargin\":true,\"gridcolor\":\"white\",\"linecolor\":\"white\",\"ticks\":\"\",\"title\":{\"standoff\":15},\"zerolinecolor\":\"white\",\"zerolinewidth\":2},\"yaxis\":{\"automargin\":true,\"gridcolor\":\"white\",\"linecolor\":\"white\",\"ticks\":\"\",\"title\":{\"standoff\":15},\"zerolinecolor\":\"white\",\"zerolinewidth\":2}}},\"title\":{\"text\":\"%ge win in home ground\"}},                        {\"responsive\": true}                    ).then(function(){\n",
       "                            \n",
       "var gd = document.getElementById('826a271a-6b28-472d-b4b0-bffd6c1f03ca');\n",
       "var x = new MutationObserver(function (mutations, observer) {{\n",
       "        var display = window.getComputedStyle(gd).display;\n",
       "        if (!display || display === 'none') {{\n",
       "            console.log([gd, 'removed!']);\n",
       "            Plotly.purge(gd);\n",
       "            observer.disconnect();\n",
       "        }}\n",
       "}});\n",
       "\n",
       "// Listen for the removal of the full notebook cells\n",
       "var notebookContainer = gd.closest('#notebook-container');\n",
       "if (notebookContainer) {{\n",
       "    x.observe(notebookContainer, {childList: true});\n",
       "}}\n",
       "\n",
       "// Listen for the clearing of the current output cell\n",
       "var outputEl = gd.closest('.output');\n",
       "if (outputEl) {{\n",
       "    x.observe(outputEl, {childList: true});\n",
       "}}\n",
       "\n",
       "                        })                };                });            </script>        </div>"
      ]
     },
     "metadata": {},
     "output_type": "display_data"
    }
   ],
   "source": [
    "# Teams Win percentage distribution based on number of goals hit by each team\n",
    "fig = go.Figure(data=[go.Pie(labels=home_goals_df.index[:20], \n",
    "                             values=home_goals_df.home_score[:20], \n",
    "                             textinfo='label+percent',\n",
    "                             insidetextorientation='radial'\n",
    "                            )])\n",
    "fig.update_layout(title=\"%ge win in home ground\")\n",
    "fig.show()\n",
    "\n",
    "\n",
    "# fig1 = go.Figure(data=[go.Pie(labels=home_goals_df.index[:20], \n",
    "#                              values=home_goals_df.away_score[:20], \n",
    "#                              textinfo='label+percent',\n",
    "#                              insidetextorientation='radial'\n",
    "#                             )])\n",
    "# fig1.update_layout(title=\"%ge of other team's win\")\n",
    "# fig1.show()"
   ]
  },
  {
   "cell_type": "markdown",
   "id": "4bb0fe5a",
   "metadata": {},
   "source": [
    "##### Observe a perticular team over the time \n",
    "\n",
    "- To say how many times the team has won.\n",
    "\n",
    "We have Time data we can make use of it to conclude teams perfomrance over time"
   ]
  },
  {
   "cell_type": "code",
   "execution_count": 66,
   "id": "9e4cfcf4",
   "metadata": {},
   "outputs": [
    {
     "data": {
      "text/html": [
       "<div>\n",
       "<style scoped>\n",
       "    .dataframe tbody tr th:only-of-type {\n",
       "        vertical-align: middle;\n",
       "    }\n",
       "\n",
       "    .dataframe tbody tr th {\n",
       "        vertical-align: top;\n",
       "    }\n",
       "\n",
       "    .dataframe thead th {\n",
       "        text-align: right;\n",
       "    }\n",
       "</style>\n",
       "<table border=\"1\" class=\"dataframe\">\n",
       "  <thead>\n",
       "    <tr style=\"text-align: right;\">\n",
       "      <th></th>\n",
       "      <th>date</th>\n",
       "      <th>home_team</th>\n",
       "      <th>away_team</th>\n",
       "      <th>home_score</th>\n",
       "      <th>away_score</th>\n",
       "      <th>tournament</th>\n",
       "      <th>city</th>\n",
       "      <th>country</th>\n",
       "      <th>neutral</th>\n",
       "    </tr>\n",
       "  </thead>\n",
       "  <tbody>\n",
       "    <tr>\n",
       "      <th>0</th>\n",
       "      <td>1872-11-30</td>\n",
       "      <td>Scotland</td>\n",
       "      <td>England</td>\n",
       "      <td>0.0</td>\n",
       "      <td>0.0</td>\n",
       "      <td>Friendly</td>\n",
       "      <td>Glasgow</td>\n",
       "      <td>Scotland</td>\n",
       "      <td>False</td>\n",
       "    </tr>\n",
       "    <tr>\n",
       "      <th>1</th>\n",
       "      <td>1873-03-08</td>\n",
       "      <td>England</td>\n",
       "      <td>Scotland</td>\n",
       "      <td>4.0</td>\n",
       "      <td>2.0</td>\n",
       "      <td>Friendly</td>\n",
       "      <td>London</td>\n",
       "      <td>England</td>\n",
       "      <td>False</td>\n",
       "    </tr>\n",
       "    <tr>\n",
       "      <th>2</th>\n",
       "      <td>1874-03-07</td>\n",
       "      <td>Scotland</td>\n",
       "      <td>England</td>\n",
       "      <td>2.0</td>\n",
       "      <td>1.0</td>\n",
       "      <td>Friendly</td>\n",
       "      <td>Glasgow</td>\n",
       "      <td>Scotland</td>\n",
       "      <td>False</td>\n",
       "    </tr>\n",
       "    <tr>\n",
       "      <th>3</th>\n",
       "      <td>1875-03-06</td>\n",
       "      <td>England</td>\n",
       "      <td>Scotland</td>\n",
       "      <td>2.0</td>\n",
       "      <td>2.0</td>\n",
       "      <td>Friendly</td>\n",
       "      <td>London</td>\n",
       "      <td>England</td>\n",
       "      <td>False</td>\n",
       "    </tr>\n",
       "    <tr>\n",
       "      <th>4</th>\n",
       "      <td>1876-03-04</td>\n",
       "      <td>Scotland</td>\n",
       "      <td>England</td>\n",
       "      <td>3.0</td>\n",
       "      <td>0.0</td>\n",
       "      <td>Friendly</td>\n",
       "      <td>Glasgow</td>\n",
       "      <td>Scotland</td>\n",
       "      <td>False</td>\n",
       "    </tr>\n",
       "    <tr>\n",
       "      <th>...</th>\n",
       "      <td>...</td>\n",
       "      <td>...</td>\n",
       "      <td>...</td>\n",
       "      <td>...</td>\n",
       "      <td>...</td>\n",
       "      <td>...</td>\n",
       "      <td>...</td>\n",
       "      <td>...</td>\n",
       "      <td>...</td>\n",
       "    </tr>\n",
       "    <tr>\n",
       "      <th>42726</th>\n",
       "      <td>2021-09-08</td>\n",
       "      <td>Poland</td>\n",
       "      <td>England</td>\n",
       "      <td>1.0</td>\n",
       "      <td>1.0</td>\n",
       "      <td>FIFA World Cup qualification</td>\n",
       "      <td>Warsaw</td>\n",
       "      <td>Poland</td>\n",
       "      <td>False</td>\n",
       "    </tr>\n",
       "    <tr>\n",
       "      <th>42806</th>\n",
       "      <td>2021-10-09</td>\n",
       "      <td>Andorra</td>\n",
       "      <td>England</td>\n",
       "      <td>0.0</td>\n",
       "      <td>5.0</td>\n",
       "      <td>FIFA World Cup qualification</td>\n",
       "      <td>Andorra la Vella</td>\n",
       "      <td>Andorra</td>\n",
       "      <td>False</td>\n",
       "    </tr>\n",
       "    <tr>\n",
       "      <th>42875</th>\n",
       "      <td>2021-10-12</td>\n",
       "      <td>England</td>\n",
       "      <td>Hungary</td>\n",
       "      <td>1.0</td>\n",
       "      <td>1.0</td>\n",
       "      <td>FIFA World Cup qualification</td>\n",
       "      <td>London</td>\n",
       "      <td>England</td>\n",
       "      <td>False</td>\n",
       "    </tr>\n",
       "    <tr>\n",
       "      <th>42954</th>\n",
       "      <td>2021-11-12</td>\n",
       "      <td>England</td>\n",
       "      <td>Albania</td>\n",
       "      <td>5.0</td>\n",
       "      <td>0.0</td>\n",
       "      <td>FIFA World Cup qualification</td>\n",
       "      <td>London</td>\n",
       "      <td>England</td>\n",
       "      <td>False</td>\n",
       "    </tr>\n",
       "    <tr>\n",
       "      <th>43007</th>\n",
       "      <td>2021-11-15</td>\n",
       "      <td>San Marino</td>\n",
       "      <td>England</td>\n",
       "      <td>0.0</td>\n",
       "      <td>10.0</td>\n",
       "      <td>FIFA World Cup qualification</td>\n",
       "      <td>Serravalle</td>\n",
       "      <td>San Marino</td>\n",
       "      <td>False</td>\n",
       "    </tr>\n",
       "  </tbody>\n",
       "</table>\n",
       "<p>928 rows × 9 columns</p>\n",
       "</div>"
      ],
      "text/plain": [
       "            date   home_team away_team  home_score  away_score  \\\n",
       "0     1872-11-30    Scotland   England         0.0         0.0   \n",
       "1     1873-03-08     England  Scotland         4.0         2.0   \n",
       "2     1874-03-07    Scotland   England         2.0         1.0   \n",
       "3     1875-03-06     England  Scotland         2.0         2.0   \n",
       "4     1876-03-04    Scotland   England         3.0         0.0   \n",
       "...          ...         ...       ...         ...         ...   \n",
       "42726 2021-09-08      Poland   England         1.0         1.0   \n",
       "42806 2021-10-09     Andorra   England         0.0         5.0   \n",
       "42875 2021-10-12     England   Hungary         1.0         1.0   \n",
       "42954 2021-11-12     England   Albania         5.0         0.0   \n",
       "43007 2021-11-15  San Marino   England         0.0        10.0   \n",
       "\n",
       "                         tournament              city     country  neutral  \n",
       "0                          Friendly           Glasgow    Scotland    False  \n",
       "1                          Friendly            London     England    False  \n",
       "2                          Friendly           Glasgow    Scotland    False  \n",
       "3                          Friendly            London     England    False  \n",
       "4                          Friendly           Glasgow    Scotland    False  \n",
       "...                             ...               ...         ...      ...  \n",
       "42726  FIFA World Cup qualification            Warsaw      Poland    False  \n",
       "42806  FIFA World Cup qualification  Andorra la Vella     Andorra    False  \n",
       "42875  FIFA World Cup qualification            London     England    False  \n",
       "42954  FIFA World Cup qualification            London     England    False  \n",
       "43007  FIFA World Cup qualification        Serravalle  San Marino    False  \n",
       "\n",
       "[928 rows x 9 columns]"
      ]
     },
     "execution_count": 66,
     "metadata": {},
     "output_type": "execute_result"
    }
   ],
   "source": [
    "# Looking at a specific team score who played in home ground\n",
    "eng_df = mask_non_neutral.loc[(mask_non_neutral['home_team'] == 'England') | (mask_non_neutral['away_team'] == 'England')]\n",
    "eng_df"
   ]
  },
  {
   "cell_type": "code",
   "execution_count": 67,
   "id": "0f750aa0",
   "metadata": {},
   "outputs": [
    {
     "data": {
      "text/plain": [
       "Friendly                        402\n",
       "British Championship            254\n",
       "FIFA World Cup qualification    120\n",
       "UEFA Euro qualification         107\n",
       "UEFA Euro                        15\n",
       "UEFA Nations League              10\n",
       "FIFA World Cup                    9\n",
       "Rous Cup                          8\n",
       "King Hassan II Tournament         1\n",
       "USA Cup                           1\n",
       "Tournoi de France                 1\n",
       "Name: tournament, dtype: int64"
      ]
     },
     "execution_count": 67,
     "metadata": {},
     "output_type": "execute_result"
    }
   ],
   "source": [
    "# Next thing would be to see No. games played by the team\n",
    "eng_df['tournament'].value_counts()"
   ]
  },
  {
   "cell_type": "code",
   "execution_count": 68,
   "id": "a33aeeb6",
   "metadata": {},
   "outputs": [
    {
     "data": {
      "application/vnd.plotly.v1+json": {
       "config": {
        "plotlyServerURL": "https://plot.ly"
       },
       "data": [
        {
         "alignmentgroup": "True",
         "bingroup": "x",
         "hovertemplate": "variable=tournament<br>value=%{x}<br>count=%{y}<extra></extra>",
         "legendgroup": "tournament",
         "marker": {
          "color": "#636efa",
          "pattern": {
           "shape": ""
          }
         },
         "name": "tournament",
         "nbinsx": 10,
         "offsetgroup": "tournament",
         "orientation": "v",
         "showlegend": true,
         "type": "histogram",
         "x": [
          "Friendly",
          "Friendly",
          "Friendly",
          "Friendly",
          "Friendly",
          "Friendly",
          "Friendly",
          "Friendly",
          "Friendly",
          "Friendly",
          "Friendly",
          "Friendly",
          "Friendly",
          "Friendly",
          "Friendly",
          "Friendly",
          "Friendly",
          "Friendly",
          "Friendly",
          "British Championship",
          "British Championship",
          "British Championship",
          "British Championship",
          "British Championship",
          "British Championship",
          "British Championship",
          "British Championship",
          "British Championship",
          "British Championship",
          "British Championship",
          "British Championship",
          "British Championship",
          "British Championship",
          "British Championship",
          "British Championship",
          "British Championship",
          "British Championship",
          "British Championship",
          "British Championship",
          "British Championship",
          "British Championship",
          "British Championship",
          "British Championship",
          "British Championship",
          "British Championship",
          "British Championship",
          "British Championship",
          "British Championship",
          "British Championship",
          "British Championship",
          "British Championship",
          "British Championship",
          "British Championship",
          "British Championship",
          "British Championship",
          "British Championship",
          "British Championship",
          "British Championship",
          "British Championship",
          "British Championship",
          "British Championship",
          "British Championship",
          "British Championship",
          "British Championship",
          "British Championship",
          "British Championship",
          "British Championship",
          "British Championship",
          "British Championship",
          "British Championship",
          "British Championship",
          "British Championship",
          "British Championship",
          "British Championship",
          "British Championship",
          "British Championship",
          "British Championship",
          "British Championship",
          "British Championship",
          "British Championship",
          "British Championship",
          "British Championship",
          "British Championship",
          "British Championship",
          "British Championship",
          "British Championship",
          "British Championship",
          "British Championship",
          "British Championship",
          "British Championship",
          "British Championship",
          "British Championship",
          "British Championship",
          "British Championship",
          "Friendly",
          "Friendly",
          "Friendly",
          "Friendly",
          "British Championship",
          "British Championship",
          "British Championship",
          "Friendly",
          "Friendly",
          "Friendly",
          "British Championship",
          "British Championship",
          "British Championship",
          "British Championship",
          "British Championship",
          "British Championship",
          "British Championship",
          "British Championship",
          "British Championship",
          "British Championship",
          "British Championship",
          "British Championship",
          "British Championship",
          "British Championship",
          "British Championship",
          "British Championship",
          "British Championship",
          "British Championship",
          "British Championship",
          "British Championship",
          "British Championship",
          "Friendly",
          "British Championship",
          "British Championship",
          "British Championship",
          "British Championship",
          "British Championship",
          "Friendly",
          "British Championship",
          "Friendly",
          "Friendly",
          "Friendly",
          "British Championship",
          "Friendly",
          "British Championship",
          "British Championship",
          "Friendly",
          "British Championship",
          "Friendly",
          "British Championship",
          "British Championship",
          "Friendly",
          "British Championship",
          "British Championship",
          "British Championship",
          "Friendly",
          "British Championship",
          "British Championship",
          "British Championship",
          "Friendly",
          "Friendly",
          "Friendly",
          "British Championship",
          "British Championship",
          "British Championship",
          "Friendly",
          "Friendly",
          "British Championship",
          "British Championship",
          "British Championship",
          "Friendly",
          "Friendly",
          "Friendly",
          "British Championship",
          "British Championship",
          "British Championship",
          "Friendly",
          "Friendly",
          "British Championship",
          "British Championship",
          "British Championship",
          "Friendly",
          "Friendly",
          "British Championship",
          "British Championship",
          "Friendly",
          "British Championship",
          "British Championship",
          "British Championship",
          "Friendly",
          "British Championship",
          "Friendly",
          "Friendly",
          "British Championship",
          "British Championship",
          "Friendly",
          "British Championship",
          "Friendly",
          "Friendly",
          "British Championship",
          "Friendly",
          "British Championship",
          "British Championship",
          "Friendly",
          "British Championship",
          "Friendly",
          "British Championship",
          "British Championship",
          "Friendly",
          "Friendly",
          "British Championship",
          "British Championship",
          "Friendly",
          "British Championship",
          "Friendly",
          "Friendly",
          "Friendly",
          "British Championship",
          "British Championship",
          "Friendly",
          "British Championship",
          "Friendly",
          "Friendly",
          "Friendly",
          "British Championship",
          "Friendly",
          "British Championship",
          "British Championship",
          "Friendly",
          "Friendly",
          "Friendly",
          "Friendly",
          "Friendly",
          "Friendly",
          "Friendly",
          "Friendly",
          "Friendly",
          "Friendly",
          "Friendly",
          "Friendly",
          "British Championship",
          "Friendly",
          "British Championship",
          "Friendly",
          "British Championship",
          "Friendly",
          "Friendly",
          "Friendly",
          "Friendly",
          "British Championship",
          "British Championship",
          "Friendly",
          "British Championship",
          "Friendly",
          "Friendly",
          "British Championship",
          "British Championship",
          "Friendly",
          "British Championship",
          "Friendly",
          "Friendly",
          "Friendly",
          "Friendly",
          "FIFA World Cup qualification",
          "FIFA World Cup qualification",
          "Friendly",
          "FIFA World Cup qualification",
          "Friendly",
          "Friendly",
          "British Championship",
          "British Championship",
          "Friendly",
          "British Championship",
          "Friendly",
          "Friendly",
          "Friendly",
          "British Championship",
          "British Championship",
          "Friendly",
          "British Championship",
          "Friendly",
          "Friendly",
          "Friendly",
          "British Championship",
          "British Championship",
          "Friendly",
          "British Championship",
          "Friendly",
          "Friendly",
          "Friendly",
          "Friendly",
          "Friendly",
          "FIFA World Cup qualification",
          "FIFA World Cup qualification",
          "Friendly",
          "FIFA World Cup qualification",
          "Friendly",
          "Friendly",
          "FIFA World Cup",
          "British Championship",
          "British Championship",
          "Friendly",
          "British Championship",
          "Friendly",
          "Friendly",
          "Friendly",
          "Friendly",
          "British Championship",
          "British Championship",
          "Friendly",
          "British Championship",
          "Friendly",
          "Friendly",
          "Friendly",
          "Friendly",
          "British Championship",
          "British Championship",
          "Friendly",
          "FIFA World Cup qualification",
          "British Championship",
          "FIFA World Cup qualification",
          "FIFA World Cup qualification",
          "FIFA World Cup qualification",
          "British Championship",
          "British Championship",
          "Friendly",
          "British Championship",
          "Friendly",
          "Friendly",
          "Friendly",
          "British Championship",
          "Friendly",
          "British Championship",
          "British Championship",
          "Friendly",
          "Friendly",
          "Friendly",
          "Friendly",
          "Friendly",
          "British Championship",
          "Friendly",
          "British Championship",
          "British Championship",
          "Friendly",
          "Friendly",
          "Friendly",
          "British Championship",
          "FIFA World Cup qualification",
          "Friendly",
          "British Championship",
          "British Championship",
          "Friendly",
          "FIFA World Cup qualification",
          "Friendly",
          "Friendly",
          "FIFA World Cup qualification",
          "British Championship",
          "FIFA World Cup qualification",
          "British Championship",
          "Friendly",
          "British Championship",
          "Friendly",
          "Friendly",
          "UEFA Euro qualification",
          "British Championship",
          "British Championship",
          "UEFA Euro qualification",
          "British Championship",
          "Friendly",
          "Friendly",
          "Friendly",
          "Friendly",
          "British Championship",
          "British Championship",
          "British Championship",
          "Friendly",
          "Friendly",
          "Friendly",
          "Friendly",
          "Friendly",
          "British Championship",
          "Friendly",
          "British Championship",
          "Friendly",
          "British Championship",
          "Friendly",
          "Friendly",
          "Friendly",
          "Friendly",
          "British Championship",
          "Friendly",
          "British Championship",
          "Friendly",
          "Friendly",
          "Friendly",
          "British Championship",
          "Friendly",
          "Friendly",
          "Friendly",
          "Friendly",
          "Friendly",
          "FIFA World Cup",
          "FIFA World Cup",
          "FIFA World Cup",
          "FIFA World Cup",
          "FIFA World Cup",
          "FIFA World Cup",
          "UEFA Euro qualification",
          "Friendly",
          "UEFA Euro qualification",
          "UEFA Euro qualification",
          "Friendly",
          "Friendly",
          "UEFA Euro qualification",
          "UEFA Euro qualification",
          "Friendly",
          "UEFA Euro qualification",
          "UEFA Euro qualification",
          "UEFA Euro qualification",
          "Friendly",
          "Friendly",
          "Friendly",
          "Friendly",
          "Friendly",
          "Friendly",
          "British Championship",
          "British Championship",
          "British Championship",
          "Friendly",
          "Friendly",
          "Friendly",
          "Friendly",
          "Friendly",
          "Friendly",
          "Friendly",
          "Friendly",
          "British Championship",
          "British Championship",
          "British Championship",
          "Friendly",
          "Friendly",
          "Friendly",
          "UEFA Euro qualification",
          "UEFA Euro qualification",
          "UEFA Euro qualification",
          "British Championship",
          "British Championship",
          "British Championship",
          "UEFA Euro qualification",
          "UEFA Euro qualification",
          "UEFA Euro qualification",
          "UEFA Euro qualification",
          "UEFA Euro qualification",
          "British Championship",
          "British Championship",
          "British Championship",
          "Friendly",
          "FIFA World Cup qualification",
          "FIFA World Cup qualification",
          "Friendly",
          "British Championship",
          "British Championship",
          "British Championship",
          "Friendly",
          "FIFA World Cup qualification",
          "Friendly",
          "Friendly",
          "Friendly",
          "FIFA World Cup qualification",
          "Friendly",
          "Friendly",
          "British Championship",
          "British Championship",
          "British Championship",
          "Friendly",
          "Friendly",
          "Friendly",
          "Friendly",
          "UEFA Euro qualification",
          "UEFA Euro qualification",
          "Friendly",
          "UEFA Euro qualification",
          "UEFA Euro qualification",
          "British Championship",
          "British Championship",
          "British Championship",
          "Friendly",
          "UEFA Euro qualification",
          "UEFA Euro qualification",
          "Friendly",
          "British Championship",
          "British Championship",
          "British Championship",
          "FIFA World Cup qualification",
          "Friendly",
          "FIFA World Cup qualification",
          "FIFA World Cup qualification",
          "Friendly",
          "FIFA World Cup qualification",
          "British Championship",
          "British Championship",
          "British Championship",
          "Friendly",
          "Friendly",
          "Friendly",
          "Friendly",
          "FIFA World Cup qualification",
          "FIFA World Cup qualification",
          "Friendly",
          "Friendly",
          "British Championship",
          "British Championship",
          "British Championship",
          "Friendly",
          "UEFA Euro qualification",
          "UEFA Euro qualification",
          "Friendly",
          "UEFA Euro qualification",
          "British Championship",
          "British Championship",
          "British Championship",
          "UEFA Euro qualification",
          "Friendly",
          "Friendly",
          "UEFA Euro qualification",
          "UEFA Euro qualification",
          "UEFA Euro qualification",
          "UEFA Euro qualification",
          "Friendly",
          "Friendly",
          "British Championship",
          "British Championship",
          "British Championship",
          "Friendly",
          "UEFA Euro",
          "FIFA World Cup qualification",
          "FIFA World Cup qualification",
          "FIFA World Cup qualification",
          "Friendly",
          "FIFA World Cup qualification",
          "Friendly",
          "British Championship",
          "British Championship",
          "FIFA World Cup qualification",
          "FIFA World Cup qualification",
          "FIFA World Cup qualification",
          "FIFA World Cup qualification",
          "British Championship",
          "British Championship",
          "Friendly",
          "British Championship",
          "Friendly",
          "Friendly",
          "FIFA World Cup",
          "UEFA Euro qualification",
          "Friendly",
          "UEFA Euro qualification",
          "UEFA Euro qualification",
          "British Championship",
          "UEFA Euro qualification",
          "UEFA Euro qualification",
          "British Championship",
          "British Championship",
          "Friendly",
          "Friendly",
          "Friendly",
          "UEFA Euro qualification",
          "UEFA Euro qualification",
          "UEFA Euro qualification",
          "Friendly",
          "British Championship",
          "British Championship",
          "British Championship",
          "Friendly",
          "Friendly",
          "Friendly",
          "Friendly",
          "Friendly",
          "FIFA World Cup qualification",
          "FIFA World Cup qualification",
          "FIFA World Cup qualification",
          "Friendly",
          "FIFA World Cup qualification",
          "FIFA World Cup qualification",
          "Rous Cup",
          "Friendly",
          "Friendly",
          "FIFA World Cup qualification",
          "FIFA World Cup qualification",
          "FIFA World Cup qualification",
          "Friendly",
          "Friendly",
          "Friendly",
          "Rous Cup",
          "Friendly",
          "Friendly",
          "UEFA Euro qualification",
          "UEFA Euro qualification",
          "Friendly",
          "UEFA Euro qualification",
          "UEFA Euro qualification",
          "Rous Cup",
          "Rous Cup",
          "Friendly",
          "UEFA Euro qualification",
          "UEFA Euro qualification",
          "Friendly",
          "Friendly",
          "Friendly",
          "Rous Cup",
          "Rous Cup",
          "Friendly",
          "Friendly",
          "FIFA World Cup qualification",
          "Friendly",
          "Friendly",
          "FIFA World Cup qualification",
          "FIFA World Cup qualification",
          "Rous Cup",
          "Rous Cup",
          "FIFA World Cup qualification",
          "Friendly",
          "FIFA World Cup qualification",
          "FIFA World Cup qualification",
          "Friendly",
          "Friendly",
          "Friendly",
          "Friendly",
          "Friendly",
          "Friendly",
          "Friendly",
          "FIFA World Cup",
          "Friendly",
          "UEFA Euro qualification",
          "UEFA Euro qualification",
          "Friendly",
          "UEFA Euro qualification",
          "UEFA Euro qualification",
          "Friendly",
          "Friendly",
          "Friendly",
          "Friendly",
          "Friendly",
          "Friendly",
          "Friendly",
          "UEFA Euro qualification",
          "UEFA Euro qualification",
          "Friendly",
          "Friendly",
          "Friendly",
          "Friendly",
          "Friendly",
          "Friendly",
          "UEFA Euro",
          "Friendly",
          "FIFA World Cup qualification",
          "FIFA World Cup qualification",
          "FIFA World Cup qualification",
          "FIFA World Cup qualification",
          "FIFA World Cup qualification",
          "FIFA World Cup qualification",
          "FIFA World Cup qualification",
          "USA Cup",
          "FIFA World Cup qualification",
          "FIFA World Cup qualification",
          "Friendly",
          "Friendly",
          "Friendly",
          "Friendly",
          "Friendly",
          "Friendly",
          "Friendly",
          "Friendly",
          "Friendly",
          "Friendly",
          "Friendly",
          "Friendly",
          "Friendly",
          "Friendly",
          "Friendly",
          "Friendly",
          "Friendly",
          "Friendly",
          "Friendly",
          "UEFA Euro",
          "UEFA Euro",
          "UEFA Euro",
          "UEFA Euro",
          "UEFA Euro",
          "FIFA World Cup qualification",
          "FIFA World Cup qualification",
          "FIFA World Cup qualification",
          "FIFA World Cup qualification",
          "Friendly",
          "FIFA World Cup qualification",
          "Friendly",
          "FIFA World Cup qualification",
          "Tournoi de France",
          "FIFA World Cup qualification",
          "FIFA World Cup qualification",
          "Friendly",
          "Friendly",
          "Friendly",
          "Friendly",
          "Friendly",
          "King Hassan II Tournament",
          "UEFA Euro qualification",
          "UEFA Euro qualification",
          "UEFA Euro qualification",
          "Friendly",
          "Friendly",
          "UEFA Euro qualification",
          "Friendly",
          "UEFA Euro qualification",
          "UEFA Euro qualification",
          "UEFA Euro qualification",
          "UEFA Euro qualification",
          "Friendly",
          "UEFA Euro qualification",
          "UEFA Euro qualification",
          "Friendly",
          "Friendly",
          "Friendly",
          "Friendly",
          "Friendly",
          "FIFA World Cup qualification",
          "FIFA World Cup qualification",
          "Friendly",
          "Friendly",
          "FIFA World Cup qualification",
          "FIFA World Cup qualification",
          "Friendly",
          "FIFA World Cup qualification",
          "Friendly",
          "FIFA World Cup qualification",
          "FIFA World Cup qualification",
          "FIFA World Cup qualification",
          "Friendly",
          "Friendly",
          "Friendly",
          "Friendly",
          "Friendly",
          "Friendly",
          "UEFA Euro qualification",
          "UEFA Euro qualification",
          "Friendly",
          "UEFA Euro qualification",
          "UEFA Euro qualification",
          "Friendly",
          "Friendly",
          "UEFA Euro qualification",
          "Friendly",
          "UEFA Euro qualification",
          "UEFA Euro qualification",
          "UEFA Euro qualification",
          "Friendly",
          "Friendly",
          "Friendly",
          "Friendly",
          "Friendly",
          "UEFA Euro",
          "Friendly",
          "FIFA World Cup qualification",
          "FIFA World Cup qualification",
          "FIFA World Cup qualification",
          "FIFA World Cup qualification",
          "Friendly",
          "Friendly",
          "FIFA World Cup qualification",
          "FIFA World Cup qualification",
          "Friendly",
          "Friendly",
          "FIFA World Cup qualification",
          "FIFA World Cup qualification",
          "FIFA World Cup qualification",
          "FIFA World Cup qualification",
          "Friendly",
          "Friendly",
          "Friendly",
          "Friendly",
          "UEFA Euro qualification",
          "UEFA Euro qualification",
          "UEFA Euro qualification",
          "UEFA Euro qualification",
          "Friendly",
          "Friendly",
          "UEFA Euro qualification",
          "Friendly",
          "UEFA Euro qualification",
          "Friendly",
          "UEFA Euro qualification",
          "UEFA Euro qualification",
          "UEFA Euro qualification",
          "UEFA Euro qualification",
          "Friendly",
          "UEFA Euro qualification",
          "Friendly",
          "Friendly",
          "Friendly",
          "Friendly",
          "Friendly",
          "FIFA World Cup qualification",
          "FIFA World Cup qualification",
          "FIFA World Cup qualification",
          "Friendly",
          "Friendly",
          "Friendly",
          "FIFA World Cup qualification",
          "FIFA World Cup qualification",
          "FIFA World Cup qualification",
          "Friendly",
          "Friendly",
          "FIFA World Cup qualification",
          "FIFA World Cup qualification",
          "FIFA World Cup qualification",
          "Friendly",
          "Friendly",
          "Friendly",
          "UEFA Euro qualification",
          "UEFA Euro qualification",
          "UEFA Euro qualification",
          "Friendly",
          "Friendly",
          "UEFA Euro qualification",
          "Friendly",
          "UEFA Euro qualification",
          "UEFA Euro qualification",
          "UEFA Euro qualification",
          "UEFA Euro qualification",
          "Friendly",
          "Friendly",
          "Friendly",
          "Friendly",
          "Friendly",
          "UEFA Euro",
          "FIFA World Cup qualification",
          "FIFA World Cup qualification",
          "FIFA World Cup qualification",
          "FIFA World Cup qualification",
          "Friendly",
          "Friendly",
          "FIFA World Cup qualification",
          "FIFA World Cup qualification",
          "Friendly",
          "Friendly",
          "Friendly",
          "FIFA World Cup qualification",
          "FIFA World Cup qualification",
          "FIFA World Cup qualification",
          "FIFA World Cup qualification",
          "Friendly",
          "Friendly",
          "Friendly",
          "Friendly",
          "Friendly",
          "UEFA Euro qualification",
          "UEFA Euro qualification",
          "UEFA Euro qualification",
          "UEFA Euro qualification",
          "Friendly",
          "UEFA Euro qualification",
          "Friendly",
          "Friendly",
          "UEFA Euro qualification",
          "UEFA Euro qualification",
          "UEFA Euro qualification",
          "UEFA Euro qualification",
          "UEFA Euro qualification",
          "Friendly",
          "Friendly",
          "Friendly",
          "Friendly",
          "Friendly",
          "Friendly",
          "Friendly",
          "FIFA World Cup qualification",
          "FIFA World Cup qualification",
          "FIFA World Cup qualification",
          "FIFA World Cup qualification",
          "Friendly",
          "Friendly",
          "FIFA World Cup qualification",
          "FIFA World Cup qualification",
          "Friendly",
          "FIFA World Cup qualification",
          "FIFA World Cup qualification",
          "FIFA World Cup qualification",
          "FIFA World Cup qualification",
          "Friendly",
          "Friendly",
          "Friendly",
          "Friendly",
          "Friendly",
          "Friendly",
          "UEFA Nations League",
          "Friendly",
          "UEFA Nations League",
          "UEFA Nations League",
          "Friendly",
          "UEFA Nations League",
          "UEFA Euro qualification",
          "UEFA Euro qualification",
          "UEFA Euro qualification",
          "UEFA Euro qualification",
          "UEFA Euro qualification",
          "UEFA Euro qualification",
          "UEFA Euro qualification",
          "UEFA Euro qualification",
          "UEFA Nations League",
          "UEFA Nations League",
          "Friendly",
          "UEFA Nations League",
          "UEFA Nations League",
          "Friendly",
          "UEFA Nations League",
          "UEFA Nations League",
          "FIFA World Cup qualification",
          "FIFA World Cup qualification",
          "FIFA World Cup qualification",
          "Friendly",
          "Friendly",
          "UEFA Euro",
          "UEFA Euro",
          "UEFA Euro",
          "UEFA Euro",
          "UEFA Euro",
          "UEFA Euro",
          "FIFA World Cup qualification",
          "FIFA World Cup qualification",
          "FIFA World Cup qualification",
          "FIFA World Cup qualification",
          "FIFA World Cup qualification",
          "FIFA World Cup qualification",
          "FIFA World Cup qualification"
         ],
         "xaxis": "x",
         "yaxis": "y"
        }
       ],
       "layout": {
        "barmode": "relative",
        "legend": {
         "title": {
          "text": "variable"
         },
         "tracegroupgap": 0
        },
        "margin": {
         "t": 60
        },
        "template": {
         "data": {
          "bar": [
           {
            "error_x": {
             "color": "#2a3f5f"
            },
            "error_y": {
             "color": "#2a3f5f"
            },
            "marker": {
             "line": {
              "color": "#E5ECF6",
              "width": 0.5
             },
             "pattern": {
              "fillmode": "overlay",
              "size": 10,
              "solidity": 0.2
             }
            },
            "type": "bar"
           }
          ],
          "barpolar": [
           {
            "marker": {
             "line": {
              "color": "#E5ECF6",
              "width": 0.5
             },
             "pattern": {
              "fillmode": "overlay",
              "size": 10,
              "solidity": 0.2
             }
            },
            "type": "barpolar"
           }
          ],
          "carpet": [
           {
            "aaxis": {
             "endlinecolor": "#2a3f5f",
             "gridcolor": "white",
             "linecolor": "white",
             "minorgridcolor": "white",
             "startlinecolor": "#2a3f5f"
            },
            "baxis": {
             "endlinecolor": "#2a3f5f",
             "gridcolor": "white",
             "linecolor": "white",
             "minorgridcolor": "white",
             "startlinecolor": "#2a3f5f"
            },
            "type": "carpet"
           }
          ],
          "choropleth": [
           {
            "colorbar": {
             "outlinewidth": 0,
             "ticks": ""
            },
            "type": "choropleth"
           }
          ],
          "contour": [
           {
            "colorbar": {
             "outlinewidth": 0,
             "ticks": ""
            },
            "colorscale": [
             [
              0,
              "#0d0887"
             ],
             [
              0.1111111111111111,
              "#46039f"
             ],
             [
              0.2222222222222222,
              "#7201a8"
             ],
             [
              0.3333333333333333,
              "#9c179e"
             ],
             [
              0.4444444444444444,
              "#bd3786"
             ],
             [
              0.5555555555555556,
              "#d8576b"
             ],
             [
              0.6666666666666666,
              "#ed7953"
             ],
             [
              0.7777777777777778,
              "#fb9f3a"
             ],
             [
              0.8888888888888888,
              "#fdca26"
             ],
             [
              1,
              "#f0f921"
             ]
            ],
            "type": "contour"
           }
          ],
          "contourcarpet": [
           {
            "colorbar": {
             "outlinewidth": 0,
             "ticks": ""
            },
            "type": "contourcarpet"
           }
          ],
          "heatmap": [
           {
            "colorbar": {
             "outlinewidth": 0,
             "ticks": ""
            },
            "colorscale": [
             [
              0,
              "#0d0887"
             ],
             [
              0.1111111111111111,
              "#46039f"
             ],
             [
              0.2222222222222222,
              "#7201a8"
             ],
             [
              0.3333333333333333,
              "#9c179e"
             ],
             [
              0.4444444444444444,
              "#bd3786"
             ],
             [
              0.5555555555555556,
              "#d8576b"
             ],
             [
              0.6666666666666666,
              "#ed7953"
             ],
             [
              0.7777777777777778,
              "#fb9f3a"
             ],
             [
              0.8888888888888888,
              "#fdca26"
             ],
             [
              1,
              "#f0f921"
             ]
            ],
            "type": "heatmap"
           }
          ],
          "heatmapgl": [
           {
            "colorbar": {
             "outlinewidth": 0,
             "ticks": ""
            },
            "colorscale": [
             [
              0,
              "#0d0887"
             ],
             [
              0.1111111111111111,
              "#46039f"
             ],
             [
              0.2222222222222222,
              "#7201a8"
             ],
             [
              0.3333333333333333,
              "#9c179e"
             ],
             [
              0.4444444444444444,
              "#bd3786"
             ],
             [
              0.5555555555555556,
              "#d8576b"
             ],
             [
              0.6666666666666666,
              "#ed7953"
             ],
             [
              0.7777777777777778,
              "#fb9f3a"
             ],
             [
              0.8888888888888888,
              "#fdca26"
             ],
             [
              1,
              "#f0f921"
             ]
            ],
            "type": "heatmapgl"
           }
          ],
          "histogram": [
           {
            "marker": {
             "pattern": {
              "fillmode": "overlay",
              "size": 10,
              "solidity": 0.2
             }
            },
            "type": "histogram"
           }
          ],
          "histogram2d": [
           {
            "colorbar": {
             "outlinewidth": 0,
             "ticks": ""
            },
            "colorscale": [
             [
              0,
              "#0d0887"
             ],
             [
              0.1111111111111111,
              "#46039f"
             ],
             [
              0.2222222222222222,
              "#7201a8"
             ],
             [
              0.3333333333333333,
              "#9c179e"
             ],
             [
              0.4444444444444444,
              "#bd3786"
             ],
             [
              0.5555555555555556,
              "#d8576b"
             ],
             [
              0.6666666666666666,
              "#ed7953"
             ],
             [
              0.7777777777777778,
              "#fb9f3a"
             ],
             [
              0.8888888888888888,
              "#fdca26"
             ],
             [
              1,
              "#f0f921"
             ]
            ],
            "type": "histogram2d"
           }
          ],
          "histogram2dcontour": [
           {
            "colorbar": {
             "outlinewidth": 0,
             "ticks": ""
            },
            "colorscale": [
             [
              0,
              "#0d0887"
             ],
             [
              0.1111111111111111,
              "#46039f"
             ],
             [
              0.2222222222222222,
              "#7201a8"
             ],
             [
              0.3333333333333333,
              "#9c179e"
             ],
             [
              0.4444444444444444,
              "#bd3786"
             ],
             [
              0.5555555555555556,
              "#d8576b"
             ],
             [
              0.6666666666666666,
              "#ed7953"
             ],
             [
              0.7777777777777778,
              "#fb9f3a"
             ],
             [
              0.8888888888888888,
              "#fdca26"
             ],
             [
              1,
              "#f0f921"
             ]
            ],
            "type": "histogram2dcontour"
           }
          ],
          "mesh3d": [
           {
            "colorbar": {
             "outlinewidth": 0,
             "ticks": ""
            },
            "type": "mesh3d"
           }
          ],
          "parcoords": [
           {
            "line": {
             "colorbar": {
              "outlinewidth": 0,
              "ticks": ""
             }
            },
            "type": "parcoords"
           }
          ],
          "pie": [
           {
            "automargin": true,
            "type": "pie"
           }
          ],
          "scatter": [
           {
            "marker": {
             "colorbar": {
              "outlinewidth": 0,
              "ticks": ""
             }
            },
            "type": "scatter"
           }
          ],
          "scatter3d": [
           {
            "line": {
             "colorbar": {
              "outlinewidth": 0,
              "ticks": ""
             }
            },
            "marker": {
             "colorbar": {
              "outlinewidth": 0,
              "ticks": ""
             }
            },
            "type": "scatter3d"
           }
          ],
          "scattercarpet": [
           {
            "marker": {
             "colorbar": {
              "outlinewidth": 0,
              "ticks": ""
             }
            },
            "type": "scattercarpet"
           }
          ],
          "scattergeo": [
           {
            "marker": {
             "colorbar": {
              "outlinewidth": 0,
              "ticks": ""
             }
            },
            "type": "scattergeo"
           }
          ],
          "scattergl": [
           {
            "marker": {
             "colorbar": {
              "outlinewidth": 0,
              "ticks": ""
             }
            },
            "type": "scattergl"
           }
          ],
          "scattermapbox": [
           {
            "marker": {
             "colorbar": {
              "outlinewidth": 0,
              "ticks": ""
             }
            },
            "type": "scattermapbox"
           }
          ],
          "scatterpolar": [
           {
            "marker": {
             "colorbar": {
              "outlinewidth": 0,
              "ticks": ""
             }
            },
            "type": "scatterpolar"
           }
          ],
          "scatterpolargl": [
           {
            "marker": {
             "colorbar": {
              "outlinewidth": 0,
              "ticks": ""
             }
            },
            "type": "scatterpolargl"
           }
          ],
          "scatterternary": [
           {
            "marker": {
             "colorbar": {
              "outlinewidth": 0,
              "ticks": ""
             }
            },
            "type": "scatterternary"
           }
          ],
          "surface": [
           {
            "colorbar": {
             "outlinewidth": 0,
             "ticks": ""
            },
            "colorscale": [
             [
              0,
              "#0d0887"
             ],
             [
              0.1111111111111111,
              "#46039f"
             ],
             [
              0.2222222222222222,
              "#7201a8"
             ],
             [
              0.3333333333333333,
              "#9c179e"
             ],
             [
              0.4444444444444444,
              "#bd3786"
             ],
             [
              0.5555555555555556,
              "#d8576b"
             ],
             [
              0.6666666666666666,
              "#ed7953"
             ],
             [
              0.7777777777777778,
              "#fb9f3a"
             ],
             [
              0.8888888888888888,
              "#fdca26"
             ],
             [
              1,
              "#f0f921"
             ]
            ],
            "type": "surface"
           }
          ],
          "table": [
           {
            "cells": {
             "fill": {
              "color": "#EBF0F8"
             },
             "line": {
              "color": "white"
             }
            },
            "header": {
             "fill": {
              "color": "#C8D4E3"
             },
             "line": {
              "color": "white"
             }
            },
            "type": "table"
           }
          ]
         },
         "layout": {
          "annotationdefaults": {
           "arrowcolor": "#2a3f5f",
           "arrowhead": 0,
           "arrowwidth": 1
          },
          "autotypenumbers": "strict",
          "coloraxis": {
           "colorbar": {
            "outlinewidth": 0,
            "ticks": ""
           }
          },
          "colorscale": {
           "diverging": [
            [
             0,
             "#8e0152"
            ],
            [
             0.1,
             "#c51b7d"
            ],
            [
             0.2,
             "#de77ae"
            ],
            [
             0.3,
             "#f1b6da"
            ],
            [
             0.4,
             "#fde0ef"
            ],
            [
             0.5,
             "#f7f7f7"
            ],
            [
             0.6,
             "#e6f5d0"
            ],
            [
             0.7,
             "#b8e186"
            ],
            [
             0.8,
             "#7fbc41"
            ],
            [
             0.9,
             "#4d9221"
            ],
            [
             1,
             "#276419"
            ]
           ],
           "sequential": [
            [
             0,
             "#0d0887"
            ],
            [
             0.1111111111111111,
             "#46039f"
            ],
            [
             0.2222222222222222,
             "#7201a8"
            ],
            [
             0.3333333333333333,
             "#9c179e"
            ],
            [
             0.4444444444444444,
             "#bd3786"
            ],
            [
             0.5555555555555556,
             "#d8576b"
            ],
            [
             0.6666666666666666,
             "#ed7953"
            ],
            [
             0.7777777777777778,
             "#fb9f3a"
            ],
            [
             0.8888888888888888,
             "#fdca26"
            ],
            [
             1,
             "#f0f921"
            ]
           ],
           "sequentialminus": [
            [
             0,
             "#0d0887"
            ],
            [
             0.1111111111111111,
             "#46039f"
            ],
            [
             0.2222222222222222,
             "#7201a8"
            ],
            [
             0.3333333333333333,
             "#9c179e"
            ],
            [
             0.4444444444444444,
             "#bd3786"
            ],
            [
             0.5555555555555556,
             "#d8576b"
            ],
            [
             0.6666666666666666,
             "#ed7953"
            ],
            [
             0.7777777777777778,
             "#fb9f3a"
            ],
            [
             0.8888888888888888,
             "#fdca26"
            ],
            [
             1,
             "#f0f921"
            ]
           ]
          },
          "colorway": [
           "#636efa",
           "#EF553B",
           "#00cc96",
           "#ab63fa",
           "#FFA15A",
           "#19d3f3",
           "#FF6692",
           "#B6E880",
           "#FF97FF",
           "#FECB52"
          ],
          "font": {
           "color": "#2a3f5f"
          },
          "geo": {
           "bgcolor": "white",
           "lakecolor": "white",
           "landcolor": "#E5ECF6",
           "showlakes": true,
           "showland": true,
           "subunitcolor": "white"
          },
          "hoverlabel": {
           "align": "left"
          },
          "hovermode": "closest",
          "mapbox": {
           "style": "light"
          },
          "paper_bgcolor": "white",
          "plot_bgcolor": "#E5ECF6",
          "polar": {
           "angularaxis": {
            "gridcolor": "white",
            "linecolor": "white",
            "ticks": ""
           },
           "bgcolor": "#E5ECF6",
           "radialaxis": {
            "gridcolor": "white",
            "linecolor": "white",
            "ticks": ""
           }
          },
          "scene": {
           "xaxis": {
            "backgroundcolor": "#E5ECF6",
            "gridcolor": "white",
            "gridwidth": 2,
            "linecolor": "white",
            "showbackground": true,
            "ticks": "",
            "zerolinecolor": "white"
           },
           "yaxis": {
            "backgroundcolor": "#E5ECF6",
            "gridcolor": "white",
            "gridwidth": 2,
            "linecolor": "white",
            "showbackground": true,
            "ticks": "",
            "zerolinecolor": "white"
           },
           "zaxis": {
            "backgroundcolor": "#E5ECF6",
            "gridcolor": "white",
            "gridwidth": 2,
            "linecolor": "white",
            "showbackground": true,
            "ticks": "",
            "zerolinecolor": "white"
           }
          },
          "shapedefaults": {
           "line": {
            "color": "#2a3f5f"
           }
          },
          "ternary": {
           "aaxis": {
            "gridcolor": "white",
            "linecolor": "white",
            "ticks": ""
           },
           "baxis": {
            "gridcolor": "white",
            "linecolor": "white",
            "ticks": ""
           },
           "bgcolor": "#E5ECF6",
           "caxis": {
            "gridcolor": "white",
            "linecolor": "white",
            "ticks": ""
           }
          },
          "title": {
           "x": 0.05
          },
          "xaxis": {
           "automargin": true,
           "gridcolor": "white",
           "linecolor": "white",
           "ticks": "",
           "title": {
            "standoff": 15
           },
           "zerolinecolor": "white",
           "zerolinewidth": 2
          },
          "yaxis": {
           "automargin": true,
           "gridcolor": "white",
           "linecolor": "white",
           "ticks": "",
           "title": {
            "standoff": 15
           },
           "zerolinecolor": "white",
           "zerolinewidth": 2
          }
         }
        },
        "xaxis": {
         "anchor": "y",
         "domain": [
          0,
          1
         ],
         "title": {
          "text": "value"
         }
        },
        "yaxis": {
         "anchor": "x",
         "domain": [
          0,
          1
         ],
         "title": {
          "text": "count"
         }
        }
       }
      },
      "text/html": [
       "<div>                            <div id=\"77345532-3cd1-4d5a-be2c-293025c1b922\" class=\"plotly-graph-div\" style=\"height:525px; width:100%;\"></div>            <script type=\"text/javascript\">                require([\"plotly\"], function(Plotly) {                    window.PLOTLYENV=window.PLOTLYENV || {};                                    if (document.getElementById(\"77345532-3cd1-4d5a-be2c-293025c1b922\")) {                    Plotly.newPlot(                        \"77345532-3cd1-4d5a-be2c-293025c1b922\",                        [{\"alignmentgroup\":\"True\",\"bingroup\":\"x\",\"hovertemplate\":\"variable=tournament<br>value=%{x}<br>count=%{y}<extra></extra>\",\"legendgroup\":\"tournament\",\"marker\":{\"color\":\"#636efa\",\"pattern\":{\"shape\":\"\"}},\"name\":\"tournament\",\"nbinsx\":10,\"offsetgroup\":\"tournament\",\"orientation\":\"v\",\"showlegend\":true,\"type\":\"histogram\",\"x\":[\"Friendly\",\"Friendly\",\"Friendly\",\"Friendly\",\"Friendly\",\"Friendly\",\"Friendly\",\"Friendly\",\"Friendly\",\"Friendly\",\"Friendly\",\"Friendly\",\"Friendly\",\"Friendly\",\"Friendly\",\"Friendly\",\"Friendly\",\"Friendly\",\"Friendly\",\"British Championship\",\"British Championship\",\"British Championship\",\"British Championship\",\"British Championship\",\"British Championship\",\"British Championship\",\"British Championship\",\"British Championship\",\"British Championship\",\"British Championship\",\"British Championship\",\"British Championship\",\"British Championship\",\"British Championship\",\"British Championship\",\"British Championship\",\"British Championship\",\"British Championship\",\"British Championship\",\"British Championship\",\"British Championship\",\"British Championship\",\"British Championship\",\"British Championship\",\"British Championship\",\"British Championship\",\"British Championship\",\"British Championship\",\"British Championship\",\"British Championship\",\"British Championship\",\"British Championship\",\"British Championship\",\"British Championship\",\"British Championship\",\"British Championship\",\"British Championship\",\"British Championship\",\"British Championship\",\"British Championship\",\"British Championship\",\"British Championship\",\"British Championship\",\"British Championship\",\"British Championship\",\"British Championship\",\"British Championship\",\"British Championship\",\"British Championship\",\"British Championship\",\"British Championship\",\"British Championship\",\"British Championship\",\"British Championship\",\"British Championship\",\"British Championship\",\"British Championship\",\"British Championship\",\"British Championship\",\"British Championship\",\"British Championship\",\"British Championship\",\"British Championship\",\"British Championship\",\"British Championship\",\"British Championship\",\"British Championship\",\"British Championship\",\"British Championship\",\"British Championship\",\"British Championship\",\"British Championship\",\"British Championship\",\"British Championship\",\"Friendly\",\"Friendly\",\"Friendly\",\"Friendly\",\"British Championship\",\"British Championship\",\"British Championship\",\"Friendly\",\"Friendly\",\"Friendly\",\"British Championship\",\"British Championship\",\"British Championship\",\"British Championship\",\"British Championship\",\"British Championship\",\"British Championship\",\"British Championship\",\"British Championship\",\"British Championship\",\"British Championship\",\"British Championship\",\"British Championship\",\"British Championship\",\"British Championship\",\"British Championship\",\"British Championship\",\"British Championship\",\"British Championship\",\"British Championship\",\"British Championship\",\"Friendly\",\"British Championship\",\"British Championship\",\"British Championship\",\"British Championship\",\"British Championship\",\"Friendly\",\"British Championship\",\"Friendly\",\"Friendly\",\"Friendly\",\"British Championship\",\"Friendly\",\"British Championship\",\"British Championship\",\"Friendly\",\"British Championship\",\"Friendly\",\"British Championship\",\"British Championship\",\"Friendly\",\"British Championship\",\"British Championship\",\"British Championship\",\"Friendly\",\"British Championship\",\"British Championship\",\"British Championship\",\"Friendly\",\"Friendly\",\"Friendly\",\"British Championship\",\"British Championship\",\"British Championship\",\"Friendly\",\"Friendly\",\"British Championship\",\"British Championship\",\"British Championship\",\"Friendly\",\"Friendly\",\"Friendly\",\"British Championship\",\"British Championship\",\"British Championship\",\"Friendly\",\"Friendly\",\"British Championship\",\"British Championship\",\"British Championship\",\"Friendly\",\"Friendly\",\"British Championship\",\"British Championship\",\"Friendly\",\"British Championship\",\"British Championship\",\"British Championship\",\"Friendly\",\"British Championship\",\"Friendly\",\"Friendly\",\"British Championship\",\"British Championship\",\"Friendly\",\"British Championship\",\"Friendly\",\"Friendly\",\"British Championship\",\"Friendly\",\"British Championship\",\"British Championship\",\"Friendly\",\"British Championship\",\"Friendly\",\"British Championship\",\"British Championship\",\"Friendly\",\"Friendly\",\"British Championship\",\"British Championship\",\"Friendly\",\"British Championship\",\"Friendly\",\"Friendly\",\"Friendly\",\"British Championship\",\"British Championship\",\"Friendly\",\"British Championship\",\"Friendly\",\"Friendly\",\"Friendly\",\"British Championship\",\"Friendly\",\"British Championship\",\"British Championship\",\"Friendly\",\"Friendly\",\"Friendly\",\"Friendly\",\"Friendly\",\"Friendly\",\"Friendly\",\"Friendly\",\"Friendly\",\"Friendly\",\"Friendly\",\"Friendly\",\"British Championship\",\"Friendly\",\"British Championship\",\"Friendly\",\"British Championship\",\"Friendly\",\"Friendly\",\"Friendly\",\"Friendly\",\"British Championship\",\"British Championship\",\"Friendly\",\"British Championship\",\"Friendly\",\"Friendly\",\"British Championship\",\"British Championship\",\"Friendly\",\"British Championship\",\"Friendly\",\"Friendly\",\"Friendly\",\"Friendly\",\"FIFA World Cup qualification\",\"FIFA World Cup qualification\",\"Friendly\",\"FIFA World Cup qualification\",\"Friendly\",\"Friendly\",\"British Championship\",\"British Championship\",\"Friendly\",\"British Championship\",\"Friendly\",\"Friendly\",\"Friendly\",\"British Championship\",\"British Championship\",\"Friendly\",\"British Championship\",\"Friendly\",\"Friendly\",\"Friendly\",\"British Championship\",\"British Championship\",\"Friendly\",\"British Championship\",\"Friendly\",\"Friendly\",\"Friendly\",\"Friendly\",\"Friendly\",\"FIFA World Cup qualification\",\"FIFA World Cup qualification\",\"Friendly\",\"FIFA World Cup qualification\",\"Friendly\",\"Friendly\",\"FIFA World Cup\",\"British Championship\",\"British Championship\",\"Friendly\",\"British Championship\",\"Friendly\",\"Friendly\",\"Friendly\",\"Friendly\",\"British Championship\",\"British Championship\",\"Friendly\",\"British Championship\",\"Friendly\",\"Friendly\",\"Friendly\",\"Friendly\",\"British Championship\",\"British Championship\",\"Friendly\",\"FIFA World Cup qualification\",\"British Championship\",\"FIFA World Cup qualification\",\"FIFA World Cup qualification\",\"FIFA World Cup qualification\",\"British Championship\",\"British Championship\",\"Friendly\",\"British Championship\",\"Friendly\",\"Friendly\",\"Friendly\",\"British Championship\",\"Friendly\",\"British Championship\",\"British Championship\",\"Friendly\",\"Friendly\",\"Friendly\",\"Friendly\",\"Friendly\",\"British Championship\",\"Friendly\",\"British Championship\",\"British Championship\",\"Friendly\",\"Friendly\",\"Friendly\",\"British Championship\",\"FIFA World Cup qualification\",\"Friendly\",\"British Championship\",\"British Championship\",\"Friendly\",\"FIFA World Cup qualification\",\"Friendly\",\"Friendly\",\"FIFA World Cup qualification\",\"British Championship\",\"FIFA World Cup qualification\",\"British Championship\",\"Friendly\",\"British Championship\",\"Friendly\",\"Friendly\",\"UEFA Euro qualification\",\"British Championship\",\"British Championship\",\"UEFA Euro qualification\",\"British Championship\",\"Friendly\",\"Friendly\",\"Friendly\",\"Friendly\",\"British Championship\",\"British Championship\",\"British Championship\",\"Friendly\",\"Friendly\",\"Friendly\",\"Friendly\",\"Friendly\",\"British Championship\",\"Friendly\",\"British Championship\",\"Friendly\",\"British Championship\",\"Friendly\",\"Friendly\",\"Friendly\",\"Friendly\",\"British Championship\",\"Friendly\",\"British Championship\",\"Friendly\",\"Friendly\",\"Friendly\",\"British Championship\",\"Friendly\",\"Friendly\",\"Friendly\",\"Friendly\",\"Friendly\",\"FIFA World Cup\",\"FIFA World Cup\",\"FIFA World Cup\",\"FIFA World Cup\",\"FIFA World Cup\",\"FIFA World Cup\",\"UEFA Euro qualification\",\"Friendly\",\"UEFA Euro qualification\",\"UEFA Euro qualification\",\"Friendly\",\"Friendly\",\"UEFA Euro qualification\",\"UEFA Euro qualification\",\"Friendly\",\"UEFA Euro qualification\",\"UEFA Euro qualification\",\"UEFA Euro qualification\",\"Friendly\",\"Friendly\",\"Friendly\",\"Friendly\",\"Friendly\",\"Friendly\",\"British Championship\",\"British Championship\",\"British Championship\",\"Friendly\",\"Friendly\",\"Friendly\",\"Friendly\",\"Friendly\",\"Friendly\",\"Friendly\",\"Friendly\",\"British Championship\",\"British Championship\",\"British Championship\",\"Friendly\",\"Friendly\",\"Friendly\",\"UEFA Euro qualification\",\"UEFA Euro qualification\",\"UEFA Euro qualification\",\"British Championship\",\"British Championship\",\"British Championship\",\"UEFA Euro qualification\",\"UEFA Euro qualification\",\"UEFA Euro qualification\",\"UEFA Euro qualification\",\"UEFA Euro qualification\",\"British Championship\",\"British Championship\",\"British Championship\",\"Friendly\",\"FIFA World Cup qualification\",\"FIFA World Cup qualification\",\"Friendly\",\"British Championship\",\"British Championship\",\"British Championship\",\"Friendly\",\"FIFA World Cup qualification\",\"Friendly\",\"Friendly\",\"Friendly\",\"FIFA World Cup qualification\",\"Friendly\",\"Friendly\",\"British Championship\",\"British Championship\",\"British Championship\",\"Friendly\",\"Friendly\",\"Friendly\",\"Friendly\",\"UEFA Euro qualification\",\"UEFA Euro qualification\",\"Friendly\",\"UEFA Euro qualification\",\"UEFA Euro qualification\",\"British Championship\",\"British Championship\",\"British Championship\",\"Friendly\",\"UEFA Euro qualification\",\"UEFA Euro qualification\",\"Friendly\",\"British Championship\",\"British Championship\",\"British Championship\",\"FIFA World Cup qualification\",\"Friendly\",\"FIFA World Cup qualification\",\"FIFA World Cup qualification\",\"Friendly\",\"FIFA World Cup qualification\",\"British Championship\",\"British Championship\",\"British Championship\",\"Friendly\",\"Friendly\",\"Friendly\",\"Friendly\",\"FIFA World Cup qualification\",\"FIFA World Cup qualification\",\"Friendly\",\"Friendly\",\"British Championship\",\"British Championship\",\"British Championship\",\"Friendly\",\"UEFA Euro qualification\",\"UEFA Euro qualification\",\"Friendly\",\"UEFA Euro qualification\",\"British Championship\",\"British Championship\",\"British Championship\",\"UEFA Euro qualification\",\"Friendly\",\"Friendly\",\"UEFA Euro qualification\",\"UEFA Euro qualification\",\"UEFA Euro qualification\",\"UEFA Euro qualification\",\"Friendly\",\"Friendly\",\"British Championship\",\"British Championship\",\"British Championship\",\"Friendly\",\"UEFA Euro\",\"FIFA World Cup qualification\",\"FIFA World Cup qualification\",\"FIFA World Cup qualification\",\"Friendly\",\"FIFA World Cup qualification\",\"Friendly\",\"British Championship\",\"British Championship\",\"FIFA World Cup qualification\",\"FIFA World Cup qualification\",\"FIFA World Cup qualification\",\"FIFA World Cup qualification\",\"British Championship\",\"British Championship\",\"Friendly\",\"British Championship\",\"Friendly\",\"Friendly\",\"FIFA World Cup\",\"UEFA Euro qualification\",\"Friendly\",\"UEFA Euro qualification\",\"UEFA Euro qualification\",\"British Championship\",\"UEFA Euro qualification\",\"UEFA Euro qualification\",\"British Championship\",\"British Championship\",\"Friendly\",\"Friendly\",\"Friendly\",\"UEFA Euro qualification\",\"UEFA Euro qualification\",\"UEFA Euro qualification\",\"Friendly\",\"British Championship\",\"British Championship\",\"British Championship\",\"Friendly\",\"Friendly\",\"Friendly\",\"Friendly\",\"Friendly\",\"FIFA World Cup qualification\",\"FIFA World Cup qualification\",\"FIFA World Cup qualification\",\"Friendly\",\"FIFA World Cup qualification\",\"FIFA World Cup qualification\",\"Rous Cup\",\"Friendly\",\"Friendly\",\"FIFA World Cup qualification\",\"FIFA World Cup qualification\",\"FIFA World Cup qualification\",\"Friendly\",\"Friendly\",\"Friendly\",\"Rous Cup\",\"Friendly\",\"Friendly\",\"UEFA Euro qualification\",\"UEFA Euro qualification\",\"Friendly\",\"UEFA Euro qualification\",\"UEFA Euro qualification\",\"Rous Cup\",\"Rous Cup\",\"Friendly\",\"UEFA Euro qualification\",\"UEFA Euro qualification\",\"Friendly\",\"Friendly\",\"Friendly\",\"Rous Cup\",\"Rous Cup\",\"Friendly\",\"Friendly\",\"FIFA World Cup qualification\",\"Friendly\",\"Friendly\",\"FIFA World Cup qualification\",\"FIFA World Cup qualification\",\"Rous Cup\",\"Rous Cup\",\"FIFA World Cup qualification\",\"Friendly\",\"FIFA World Cup qualification\",\"FIFA World Cup qualification\",\"Friendly\",\"Friendly\",\"Friendly\",\"Friendly\",\"Friendly\",\"Friendly\",\"Friendly\",\"FIFA World Cup\",\"Friendly\",\"UEFA Euro qualification\",\"UEFA Euro qualification\",\"Friendly\",\"UEFA Euro qualification\",\"UEFA Euro qualification\",\"Friendly\",\"Friendly\",\"Friendly\",\"Friendly\",\"Friendly\",\"Friendly\",\"Friendly\",\"UEFA Euro qualification\",\"UEFA Euro qualification\",\"Friendly\",\"Friendly\",\"Friendly\",\"Friendly\",\"Friendly\",\"Friendly\",\"UEFA Euro\",\"Friendly\",\"FIFA World Cup qualification\",\"FIFA World Cup qualification\",\"FIFA World Cup qualification\",\"FIFA World Cup qualification\",\"FIFA World Cup qualification\",\"FIFA World Cup qualification\",\"FIFA World Cup qualification\",\"USA Cup\",\"FIFA World Cup qualification\",\"FIFA World Cup qualification\",\"Friendly\",\"Friendly\",\"Friendly\",\"Friendly\",\"Friendly\",\"Friendly\",\"Friendly\",\"Friendly\",\"Friendly\",\"Friendly\",\"Friendly\",\"Friendly\",\"Friendly\",\"Friendly\",\"Friendly\",\"Friendly\",\"Friendly\",\"Friendly\",\"Friendly\",\"UEFA Euro\",\"UEFA Euro\",\"UEFA Euro\",\"UEFA Euro\",\"UEFA Euro\",\"FIFA World Cup qualification\",\"FIFA World Cup qualification\",\"FIFA World Cup qualification\",\"FIFA World Cup qualification\",\"Friendly\",\"FIFA World Cup qualification\",\"Friendly\",\"FIFA World Cup qualification\",\"Tournoi de France\",\"FIFA World Cup qualification\",\"FIFA World Cup qualification\",\"Friendly\",\"Friendly\",\"Friendly\",\"Friendly\",\"Friendly\",\"King Hassan II Tournament\",\"UEFA Euro qualification\",\"UEFA Euro qualification\",\"UEFA Euro qualification\",\"Friendly\",\"Friendly\",\"UEFA Euro qualification\",\"Friendly\",\"UEFA Euro qualification\",\"UEFA Euro qualification\",\"UEFA Euro qualification\",\"UEFA Euro qualification\",\"Friendly\",\"UEFA Euro qualification\",\"UEFA Euro qualification\",\"Friendly\",\"Friendly\",\"Friendly\",\"Friendly\",\"Friendly\",\"FIFA World Cup qualification\",\"FIFA World Cup qualification\",\"Friendly\",\"Friendly\",\"FIFA World Cup qualification\",\"FIFA World Cup qualification\",\"Friendly\",\"FIFA World Cup qualification\",\"Friendly\",\"FIFA World Cup qualification\",\"FIFA World Cup qualification\",\"FIFA World Cup qualification\",\"Friendly\",\"Friendly\",\"Friendly\",\"Friendly\",\"Friendly\",\"Friendly\",\"UEFA Euro qualification\",\"UEFA Euro qualification\",\"Friendly\",\"UEFA Euro qualification\",\"UEFA Euro qualification\",\"Friendly\",\"Friendly\",\"UEFA Euro qualification\",\"Friendly\",\"UEFA Euro qualification\",\"UEFA Euro qualification\",\"UEFA Euro qualification\",\"Friendly\",\"Friendly\",\"Friendly\",\"Friendly\",\"Friendly\",\"UEFA Euro\",\"Friendly\",\"FIFA World Cup qualification\",\"FIFA World Cup qualification\",\"FIFA World Cup qualification\",\"FIFA World Cup qualification\",\"Friendly\",\"Friendly\",\"FIFA World Cup qualification\",\"FIFA World Cup qualification\",\"Friendly\",\"Friendly\",\"FIFA World Cup qualification\",\"FIFA World Cup qualification\",\"FIFA World Cup qualification\",\"FIFA World Cup qualification\",\"Friendly\",\"Friendly\",\"Friendly\",\"Friendly\",\"UEFA Euro qualification\",\"UEFA Euro qualification\",\"UEFA Euro qualification\",\"UEFA Euro qualification\",\"Friendly\",\"Friendly\",\"UEFA Euro qualification\",\"Friendly\",\"UEFA Euro qualification\",\"Friendly\",\"UEFA Euro qualification\",\"UEFA Euro qualification\",\"UEFA Euro qualification\",\"UEFA Euro qualification\",\"Friendly\",\"UEFA Euro qualification\",\"Friendly\",\"Friendly\",\"Friendly\",\"Friendly\",\"Friendly\",\"FIFA World Cup qualification\",\"FIFA World Cup qualification\",\"FIFA World Cup qualification\",\"Friendly\",\"Friendly\",\"Friendly\",\"FIFA World Cup qualification\",\"FIFA World Cup qualification\",\"FIFA World Cup qualification\",\"Friendly\",\"Friendly\",\"FIFA World Cup qualification\",\"FIFA World Cup qualification\",\"FIFA World Cup qualification\",\"Friendly\",\"Friendly\",\"Friendly\",\"UEFA Euro qualification\",\"UEFA Euro qualification\",\"UEFA Euro qualification\",\"Friendly\",\"Friendly\",\"UEFA Euro qualification\",\"Friendly\",\"UEFA Euro qualification\",\"UEFA Euro qualification\",\"UEFA Euro qualification\",\"UEFA Euro qualification\",\"Friendly\",\"Friendly\",\"Friendly\",\"Friendly\",\"Friendly\",\"UEFA Euro\",\"FIFA World Cup qualification\",\"FIFA World Cup qualification\",\"FIFA World Cup qualification\",\"FIFA World Cup qualification\",\"Friendly\",\"Friendly\",\"FIFA World Cup qualification\",\"FIFA World Cup qualification\",\"Friendly\",\"Friendly\",\"Friendly\",\"FIFA World Cup qualification\",\"FIFA World Cup qualification\",\"FIFA World Cup qualification\",\"FIFA World Cup qualification\",\"Friendly\",\"Friendly\",\"Friendly\",\"Friendly\",\"Friendly\",\"UEFA Euro qualification\",\"UEFA Euro qualification\",\"UEFA Euro qualification\",\"UEFA Euro qualification\",\"Friendly\",\"UEFA Euro qualification\",\"Friendly\",\"Friendly\",\"UEFA Euro qualification\",\"UEFA Euro qualification\",\"UEFA Euro qualification\",\"UEFA Euro qualification\",\"UEFA Euro qualification\",\"Friendly\",\"Friendly\",\"Friendly\",\"Friendly\",\"Friendly\",\"Friendly\",\"Friendly\",\"FIFA World Cup qualification\",\"FIFA World Cup qualification\",\"FIFA World Cup qualification\",\"FIFA World Cup qualification\",\"Friendly\",\"Friendly\",\"FIFA World Cup qualification\",\"FIFA World Cup qualification\",\"Friendly\",\"FIFA World Cup qualification\",\"FIFA World Cup qualification\",\"FIFA World Cup qualification\",\"FIFA World Cup qualification\",\"Friendly\",\"Friendly\",\"Friendly\",\"Friendly\",\"Friendly\",\"Friendly\",\"UEFA Nations League\",\"Friendly\",\"UEFA Nations League\",\"UEFA Nations League\",\"Friendly\",\"UEFA Nations League\",\"UEFA Euro qualification\",\"UEFA Euro qualification\",\"UEFA Euro qualification\",\"UEFA Euro qualification\",\"UEFA Euro qualification\",\"UEFA Euro qualification\",\"UEFA Euro qualification\",\"UEFA Euro qualification\",\"UEFA Nations League\",\"UEFA Nations League\",\"Friendly\",\"UEFA Nations League\",\"UEFA Nations League\",\"Friendly\",\"UEFA Nations League\",\"UEFA Nations League\",\"FIFA World Cup qualification\",\"FIFA World Cup qualification\",\"FIFA World Cup qualification\",\"Friendly\",\"Friendly\",\"UEFA Euro\",\"UEFA Euro\",\"UEFA Euro\",\"UEFA Euro\",\"UEFA Euro\",\"UEFA Euro\",\"FIFA World Cup qualification\",\"FIFA World Cup qualification\",\"FIFA World Cup qualification\",\"FIFA World Cup qualification\",\"FIFA World Cup qualification\",\"FIFA World Cup qualification\",\"FIFA World Cup qualification\"],\"xaxis\":\"x\",\"yaxis\":\"y\"}],                        {\"barmode\":\"relative\",\"legend\":{\"title\":{\"text\":\"variable\"},\"tracegroupgap\":0},\"margin\":{\"t\":60},\"template\":{\"data\":{\"bar\":[{\"error_x\":{\"color\":\"#2a3f5f\"},\"error_y\":{\"color\":\"#2a3f5f\"},\"marker\":{\"line\":{\"color\":\"#E5ECF6\",\"width\":0.5},\"pattern\":{\"fillmode\":\"overlay\",\"size\":10,\"solidity\":0.2}},\"type\":\"bar\"}],\"barpolar\":[{\"marker\":{\"line\":{\"color\":\"#E5ECF6\",\"width\":0.5},\"pattern\":{\"fillmode\":\"overlay\",\"size\":10,\"solidity\":0.2}},\"type\":\"barpolar\"}],\"carpet\":[{\"aaxis\":{\"endlinecolor\":\"#2a3f5f\",\"gridcolor\":\"white\",\"linecolor\":\"white\",\"minorgridcolor\":\"white\",\"startlinecolor\":\"#2a3f5f\"},\"baxis\":{\"endlinecolor\":\"#2a3f5f\",\"gridcolor\":\"white\",\"linecolor\":\"white\",\"minorgridcolor\":\"white\",\"startlinecolor\":\"#2a3f5f\"},\"type\":\"carpet\"}],\"choropleth\":[{\"colorbar\":{\"outlinewidth\":0,\"ticks\":\"\"},\"type\":\"choropleth\"}],\"contour\":[{\"colorbar\":{\"outlinewidth\":0,\"ticks\":\"\"},\"colorscale\":[[0.0,\"#0d0887\"],[0.1111111111111111,\"#46039f\"],[0.2222222222222222,\"#7201a8\"],[0.3333333333333333,\"#9c179e\"],[0.4444444444444444,\"#bd3786\"],[0.5555555555555556,\"#d8576b\"],[0.6666666666666666,\"#ed7953\"],[0.7777777777777778,\"#fb9f3a\"],[0.8888888888888888,\"#fdca26\"],[1.0,\"#f0f921\"]],\"type\":\"contour\"}],\"contourcarpet\":[{\"colorbar\":{\"outlinewidth\":0,\"ticks\":\"\"},\"type\":\"contourcarpet\"}],\"heatmap\":[{\"colorbar\":{\"outlinewidth\":0,\"ticks\":\"\"},\"colorscale\":[[0.0,\"#0d0887\"],[0.1111111111111111,\"#46039f\"],[0.2222222222222222,\"#7201a8\"],[0.3333333333333333,\"#9c179e\"],[0.4444444444444444,\"#bd3786\"],[0.5555555555555556,\"#d8576b\"],[0.6666666666666666,\"#ed7953\"],[0.7777777777777778,\"#fb9f3a\"],[0.8888888888888888,\"#fdca26\"],[1.0,\"#f0f921\"]],\"type\":\"heatmap\"}],\"heatmapgl\":[{\"colorbar\":{\"outlinewidth\":0,\"ticks\":\"\"},\"colorscale\":[[0.0,\"#0d0887\"],[0.1111111111111111,\"#46039f\"],[0.2222222222222222,\"#7201a8\"],[0.3333333333333333,\"#9c179e\"],[0.4444444444444444,\"#bd3786\"],[0.5555555555555556,\"#d8576b\"],[0.6666666666666666,\"#ed7953\"],[0.7777777777777778,\"#fb9f3a\"],[0.8888888888888888,\"#fdca26\"],[1.0,\"#f0f921\"]],\"type\":\"heatmapgl\"}],\"histogram\":[{\"marker\":{\"pattern\":{\"fillmode\":\"overlay\",\"size\":10,\"solidity\":0.2}},\"type\":\"histogram\"}],\"histogram2d\":[{\"colorbar\":{\"outlinewidth\":0,\"ticks\":\"\"},\"colorscale\":[[0.0,\"#0d0887\"],[0.1111111111111111,\"#46039f\"],[0.2222222222222222,\"#7201a8\"],[0.3333333333333333,\"#9c179e\"],[0.4444444444444444,\"#bd3786\"],[0.5555555555555556,\"#d8576b\"],[0.6666666666666666,\"#ed7953\"],[0.7777777777777778,\"#fb9f3a\"],[0.8888888888888888,\"#fdca26\"],[1.0,\"#f0f921\"]],\"type\":\"histogram2d\"}],\"histogram2dcontour\":[{\"colorbar\":{\"outlinewidth\":0,\"ticks\":\"\"},\"colorscale\":[[0.0,\"#0d0887\"],[0.1111111111111111,\"#46039f\"],[0.2222222222222222,\"#7201a8\"],[0.3333333333333333,\"#9c179e\"],[0.4444444444444444,\"#bd3786\"],[0.5555555555555556,\"#d8576b\"],[0.6666666666666666,\"#ed7953\"],[0.7777777777777778,\"#fb9f3a\"],[0.8888888888888888,\"#fdca26\"],[1.0,\"#f0f921\"]],\"type\":\"histogram2dcontour\"}],\"mesh3d\":[{\"colorbar\":{\"outlinewidth\":0,\"ticks\":\"\"},\"type\":\"mesh3d\"}],\"parcoords\":[{\"line\":{\"colorbar\":{\"outlinewidth\":0,\"ticks\":\"\"}},\"type\":\"parcoords\"}],\"pie\":[{\"automargin\":true,\"type\":\"pie\"}],\"scatter\":[{\"marker\":{\"colorbar\":{\"outlinewidth\":0,\"ticks\":\"\"}},\"type\":\"scatter\"}],\"scatter3d\":[{\"line\":{\"colorbar\":{\"outlinewidth\":0,\"ticks\":\"\"}},\"marker\":{\"colorbar\":{\"outlinewidth\":0,\"ticks\":\"\"}},\"type\":\"scatter3d\"}],\"scattercarpet\":[{\"marker\":{\"colorbar\":{\"outlinewidth\":0,\"ticks\":\"\"}},\"type\":\"scattercarpet\"}],\"scattergeo\":[{\"marker\":{\"colorbar\":{\"outlinewidth\":0,\"ticks\":\"\"}},\"type\":\"scattergeo\"}],\"scattergl\":[{\"marker\":{\"colorbar\":{\"outlinewidth\":0,\"ticks\":\"\"}},\"type\":\"scattergl\"}],\"scattermapbox\":[{\"marker\":{\"colorbar\":{\"outlinewidth\":0,\"ticks\":\"\"}},\"type\":\"scattermapbox\"}],\"scatterpolar\":[{\"marker\":{\"colorbar\":{\"outlinewidth\":0,\"ticks\":\"\"}},\"type\":\"scatterpolar\"}],\"scatterpolargl\":[{\"marker\":{\"colorbar\":{\"outlinewidth\":0,\"ticks\":\"\"}},\"type\":\"scatterpolargl\"}],\"scatterternary\":[{\"marker\":{\"colorbar\":{\"outlinewidth\":0,\"ticks\":\"\"}},\"type\":\"scatterternary\"}],\"surface\":[{\"colorbar\":{\"outlinewidth\":0,\"ticks\":\"\"},\"colorscale\":[[0.0,\"#0d0887\"],[0.1111111111111111,\"#46039f\"],[0.2222222222222222,\"#7201a8\"],[0.3333333333333333,\"#9c179e\"],[0.4444444444444444,\"#bd3786\"],[0.5555555555555556,\"#d8576b\"],[0.6666666666666666,\"#ed7953\"],[0.7777777777777778,\"#fb9f3a\"],[0.8888888888888888,\"#fdca26\"],[1.0,\"#f0f921\"]],\"type\":\"surface\"}],\"table\":[{\"cells\":{\"fill\":{\"color\":\"#EBF0F8\"},\"line\":{\"color\":\"white\"}},\"header\":{\"fill\":{\"color\":\"#C8D4E3\"},\"line\":{\"color\":\"white\"}},\"type\":\"table\"}]},\"layout\":{\"annotationdefaults\":{\"arrowcolor\":\"#2a3f5f\",\"arrowhead\":0,\"arrowwidth\":1},\"autotypenumbers\":\"strict\",\"coloraxis\":{\"colorbar\":{\"outlinewidth\":0,\"ticks\":\"\"}},\"colorscale\":{\"diverging\":[[0,\"#8e0152\"],[0.1,\"#c51b7d\"],[0.2,\"#de77ae\"],[0.3,\"#f1b6da\"],[0.4,\"#fde0ef\"],[0.5,\"#f7f7f7\"],[0.6,\"#e6f5d0\"],[0.7,\"#b8e186\"],[0.8,\"#7fbc41\"],[0.9,\"#4d9221\"],[1,\"#276419\"]],\"sequential\":[[0.0,\"#0d0887\"],[0.1111111111111111,\"#46039f\"],[0.2222222222222222,\"#7201a8\"],[0.3333333333333333,\"#9c179e\"],[0.4444444444444444,\"#bd3786\"],[0.5555555555555556,\"#d8576b\"],[0.6666666666666666,\"#ed7953\"],[0.7777777777777778,\"#fb9f3a\"],[0.8888888888888888,\"#fdca26\"],[1.0,\"#f0f921\"]],\"sequentialminus\":[[0.0,\"#0d0887\"],[0.1111111111111111,\"#46039f\"],[0.2222222222222222,\"#7201a8\"],[0.3333333333333333,\"#9c179e\"],[0.4444444444444444,\"#bd3786\"],[0.5555555555555556,\"#d8576b\"],[0.6666666666666666,\"#ed7953\"],[0.7777777777777778,\"#fb9f3a\"],[0.8888888888888888,\"#fdca26\"],[1.0,\"#f0f921\"]]},\"colorway\":[\"#636efa\",\"#EF553B\",\"#00cc96\",\"#ab63fa\",\"#FFA15A\",\"#19d3f3\",\"#FF6692\",\"#B6E880\",\"#FF97FF\",\"#FECB52\"],\"font\":{\"color\":\"#2a3f5f\"},\"geo\":{\"bgcolor\":\"white\",\"lakecolor\":\"white\",\"landcolor\":\"#E5ECF6\",\"showlakes\":true,\"showland\":true,\"subunitcolor\":\"white\"},\"hoverlabel\":{\"align\":\"left\"},\"hovermode\":\"closest\",\"mapbox\":{\"style\":\"light\"},\"paper_bgcolor\":\"white\",\"plot_bgcolor\":\"#E5ECF6\",\"polar\":{\"angularaxis\":{\"gridcolor\":\"white\",\"linecolor\":\"white\",\"ticks\":\"\"},\"bgcolor\":\"#E5ECF6\",\"radialaxis\":{\"gridcolor\":\"white\",\"linecolor\":\"white\",\"ticks\":\"\"}},\"scene\":{\"xaxis\":{\"backgroundcolor\":\"#E5ECF6\",\"gridcolor\":\"white\",\"gridwidth\":2,\"linecolor\":\"white\",\"showbackground\":true,\"ticks\":\"\",\"zerolinecolor\":\"white\"},\"yaxis\":{\"backgroundcolor\":\"#E5ECF6\",\"gridcolor\":\"white\",\"gridwidth\":2,\"linecolor\":\"white\",\"showbackground\":true,\"ticks\":\"\",\"zerolinecolor\":\"white\"},\"zaxis\":{\"backgroundcolor\":\"#E5ECF6\",\"gridcolor\":\"white\",\"gridwidth\":2,\"linecolor\":\"white\",\"showbackground\":true,\"ticks\":\"\",\"zerolinecolor\":\"white\"}},\"shapedefaults\":{\"line\":{\"color\":\"#2a3f5f\"}},\"ternary\":{\"aaxis\":{\"gridcolor\":\"white\",\"linecolor\":\"white\",\"ticks\":\"\"},\"baxis\":{\"gridcolor\":\"white\",\"linecolor\":\"white\",\"ticks\":\"\"},\"bgcolor\":\"#E5ECF6\",\"caxis\":{\"gridcolor\":\"white\",\"linecolor\":\"white\",\"ticks\":\"\"}},\"title\":{\"x\":0.05},\"xaxis\":{\"automargin\":true,\"gridcolor\":\"white\",\"linecolor\":\"white\",\"ticks\":\"\",\"title\":{\"standoff\":15},\"zerolinecolor\":\"white\",\"zerolinewidth\":2},\"yaxis\":{\"automargin\":true,\"gridcolor\":\"white\",\"linecolor\":\"white\",\"ticks\":\"\",\"title\":{\"standoff\":15},\"zerolinecolor\":\"white\",\"zerolinewidth\":2}}},\"xaxis\":{\"anchor\":\"y\",\"domain\":[0.0,1.0],\"title\":{\"text\":\"value\"}},\"yaxis\":{\"anchor\":\"x\",\"domain\":[0.0,1.0],\"title\":{\"text\":\"count\"}}},                        {\"responsive\": true}                    ).then(function(){\n",
       "                            \n",
       "var gd = document.getElementById('77345532-3cd1-4d5a-be2c-293025c1b922');\n",
       "var x = new MutationObserver(function (mutations, observer) {{\n",
       "        var display = window.getComputedStyle(gd).display;\n",
       "        if (!display || display === 'none') {{\n",
       "            console.log([gd, 'removed!']);\n",
       "            Plotly.purge(gd);\n",
       "            observer.disconnect();\n",
       "        }}\n",
       "}});\n",
       "\n",
       "// Listen for the removal of the full notebook cells\n",
       "var notebookContainer = gd.closest('#notebook-container');\n",
       "if (notebookContainer) {{\n",
       "    x.observe(notebookContainer, {childList: true});\n",
       "}}\n",
       "\n",
       "// Listen for the clearing of the current output cell\n",
       "var outputEl = gd.closest('.output');\n",
       "if (outputEl) {{\n",
       "    x.observe(outputEl, {childList: true});\n",
       "}}\n",
       "\n",
       "                        })                };                });            </script>        </div>"
      ]
     },
     "metadata": {},
     "output_type": "display_data"
    }
   ],
   "source": [
    "px.histogram(eng_df['tournament'], nbins = 10)"
   ]
  },
  {
   "cell_type": "code",
   "execution_count": 69,
   "id": "f793608c",
   "metadata": {},
   "outputs": [
    {
     "data": {
      "application/vnd.plotly.v1+json": {
       "config": {
        "plotlyServerURL": "https://plot.ly"
       },
       "data": [
        {
         "customdata": [
          [
           2,
           "Albania",
           "England"
          ],
          [
           2,
           "Albania",
           "England"
          ],
          [
           3,
           "Albania",
           "England"
          ],
          [
           5,
           "Andorra",
           "England"
          ],
          [
           1,
           "Argentina",
           "England"
          ],
          [
           1,
           "Argentina",
           "England"
          ],
          [
           0,
           "Argentina",
           "England"
          ],
          [
           1,
           "Australia",
           "England"
          ],
          [
           1,
           "Australia",
           "England"
          ],
          [
           1,
           "Australia",
           "England"
          ],
          [
           0,
           "Australia",
           "England"
          ],
          [
           2,
           "Australia",
           "England"
          ],
          [
           2,
           "Austria",
           "England"
          ],
          [
           8,
           "Austria",
           "England"
          ],
          [
           11,
           "Austria",
           "England"
          ],
          [
           1,
           "Austria",
           "England"
          ],
          [
           6,
           "Austria",
           "England"
          ],
          [
           1,
           "Austria",
           "England"
          ],
          [
           1,
           "Austria",
           "England"
          ],
          [
           0,
           "Austria",
           "England"
          ],
          [
           3,
           "Austria",
           "England"
          ],
          [
           3,
           "Austria",
           "England"
          ],
          [
           1,
           "Austria",
           "England"
          ],
          [
           1,
           "Azerbaijan",
           "England"
          ],
          [
           3,
           "Belarus",
           "England"
          ],
          [
           0,
           "Belgium",
           "England"
          ],
          [
           5,
           "Belgium",
           "England"
          ],
          [
           4,
           "Belgium",
           "England"
          ],
          [
           2,
           "Belgium",
           "England"
          ],
          [
           2,
           "Belgium",
           "England"
          ],
          [
           3,
           "Belgium",
           "England"
          ],
          [
           9,
           "Belgium",
           "England"
          ],
          [
           2,
           "Belgium",
           "England"
          ],
          [
           4,
           "Belgium",
           "England"
          ],
          [
           5,
           "Belgium",
           "England"
          ],
          [
           3,
           "Belgium",
           "England"
          ],
          [
           5,
           "Belgium",
           "England"
          ],
          [
           2,
           "Brazil",
           "England"
          ],
          [
           1,
           "Brazil",
           "England"
          ],
          [
           0,
           "Brazil",
           "England"
          ],
          [
           2,
           "Brazil",
           "England"
          ],
          [
           1,
           "Brazil",
           "England"
          ],
          [
           0,
           "Brazil",
           "England"
          ],
          [
           1,
           "Bulgaria",
           "England"
          ],
          [
           1,
           "Bulgaria",
           "England"
          ],
          [
           6,
           "Bulgaria",
           "England"
          ],
          [
           3,
           "Bulgaria",
           "England"
          ],
          [
           3,
           "Bulgaria",
           "England"
          ],
          [
           1,
           "Canada",
           "England"
          ],
          [
           2,
           "Chile",
           "England"
          ],
          [
           0,
           "Chile",
           "England"
          ],
          [
           3,
           "China PR",
           "England"
          ],
          [
           4,
           "Colombia",
           "England"
          ],
          [
           0,
           "Croatia",
           "England"
          ],
          [
           0,
           "Croatia",
           "England"
          ],
          [
           4,
           "Croatia",
           "England"
          ],
          [
           1,
           "Cyprus",
           "England"
          ],
          [
           1,
           "Czech Republic",
           "England"
          ],
          [
           2,
           "Czechoslovakia",
           "England"
          ],
          [
           1,
           "Czechoslovakia",
           "England"
          ],
          [
           1,
           "Czechoslovakia",
           "England"
          ],
          [
           4,
           "Czechoslovakia",
           "England"
          ],
          [
           1,
           "Czechoslovakia",
           "England"
          ],
          [
           4,
           "Czechoslovakia",
           "England"
          ],
          [
           4,
           "Denmark",
           "England"
          ],
          [
           1,
           "Denmark",
           "England"
          ],
          [
           0,
           "Denmark",
           "England"
          ],
          [
           1,
           "Denmark",
           "England"
          ],
          [
           2,
           "Denmark",
           "England"
          ],
          [
           2,
           "Denmark",
           "England"
          ],
          [
           4,
           "Denmark",
           "England"
          ],
          [
           5,
           "Denmark",
           "England"
          ],
          [
           2,
           "Denmark",
           "England"
          ],
          [
           0,
           "Denmark",
           "England"
          ],
          [
           2,
           "Ecuador",
           "England"
          ],
          [
           4,
           "Egypt",
           "England"
          ],
          [
           0,
           "England",
           "Estonia"
          ],
          [
           1,
           "England",
           "Switzerland"
          ],
          [
           1,
           "England",
           "France"
          ],
          [
           0,
           "England",
           "United States"
          ],
          [
           1,
           "England",
           "Scotland"
          ],
          [
           0,
           "England",
           "Wales"
          ],
          [
           2,
           "England",
           "Scotland"
          ],
          [
           1,
           "England",
           "Brazil"
          ],
          [
           2,
           "England",
           "Switzerland"
          ],
          [
           2,
           "England",
           "Wales"
          ],
          [
           3,
           "England",
           "Northern Ireland"
          ],
          [
           1,
           "England",
           "Ghana"
          ],
          [
           0,
           "England",
           "Cyprus"
          ],
          [
           0,
           "England",
           "Germany"
          ],
          [
           1,
           "England",
           "Uruguay"
          ],
          [
           1,
           "England",
           "Slovakia"
          ],
          [
           0,
           "England",
           "Portugal"
          ],
          [
           2,
           "England",
           "Belgium"
          ],
          [
           0,
           "England",
           "Czechoslovakia"
          ],
          [
           2,
           "England",
           "Czech Republic"
          ],
          [
           0,
           "England",
           "Czechoslovakia"
          ],
          [
           2,
           "England",
           "Argentina"
          ],
          [
           1,
           "England",
           "Wales"
          ],
          [
           0,
           "England",
           "Northern Ireland"
          ],
          [
           1,
           "England",
           "Switzerland"
          ],
          [
           1,
           "England",
           "Hungary"
          ],
          [
           0,
           "England",
           "Northern Ireland"
          ],
          [
           1,
           "England",
           "Northern Ireland"
          ],
          [
           3,
           "England",
           "Yugoslavia"
          ],
          [
           0,
           "England",
           "Northern Ireland"
          ],
          [
           0,
           "England",
           "Spain"
          ],
          [
           1,
           "England",
           "Brazil"
          ],
          [
           0,
           "England",
           "Italy"
          ],
          [
           2,
           "England",
           "Spain"
          ],
          [
           0,
           "England",
           "Switzerland"
          ],
          [
           1,
           "England",
           "Wales"
          ],
          [
           3,
           "England",
           "Scotland"
          ],
          [
           0,
           "England",
           "Mexico"
          ],
          [
           1,
           "England",
           "Luxembourg"
          ],
          [
           2,
           "England",
           "Scotland"
          ],
          [
           1,
           "England",
           "Wales"
          ],
          [
           0,
           "England",
           "Portugal"
          ],
          [
           1,
           "England",
           "Northern Ireland"
          ],
          [
           1,
           "England",
           "Austria"
          ],
          [
           0,
           "England",
           "Luxembourg"
          ],
          [
           2,
           "England",
           "Netherlands"
          ],
          [
           0,
           "England",
           "Wales"
          ],
          [
           1,
           "England",
           "Finland"
          ],
          [
           0,
           "England",
           "Sweden"
          ],
          [
           1,
           "England",
           "Republic of Ireland"
          ],
          [
           1,
           "England",
           "Kazakhstan"
          ],
          [
           3,
           "England",
           "Croatia"
          ],
          [
           0,
           "England",
           "Northern Ireland"
          ],
          [
           1,
           "England",
           "Poland"
          ],
          [
           1,
           "England",
           "Egypt"
          ],
          [
           0,
           "England",
           "Uruguay"
          ],
          [
           0,
           "England",
           "Mexico"
          ],
          [
           1,
           "England",
           "Northern Ireland"
          ],
          [
           0,
           "England",
           "France"
          ],
          [
           0,
           "England",
           "Argentina"
          ],
          [
           0,
           "England",
           "Netherlands"
          ],
          [
           0,
           "England",
           "Portugal"
          ],
          [
           1,
           "England",
           "Portugal"
          ],
          [
           1,
           "England",
           "Slovenia"
          ],
          [
           2,
           "England",
           "Germany"
          ],
          [
           1,
           "England",
           "Scotland"
          ],
          [
           0,
           "England",
           "Andorra"
          ],
          [
           1,
           "England",
           "Wales"
          ],
          [
           0,
           "England",
           "Czechoslovakia"
          ],
          [
           1,
           "England",
           "Wales"
          ],
          [
           1,
           "England",
           "Romania"
          ],
          [
           1,
           "England",
           "Bulgaria"
          ],
          [
           3,
           "England",
           "Scotland"
          ],
          [
           0,
           "England",
           "Spain"
          ],
          [
           1,
           "England",
           "Sweden"
          ],
          [
           1,
           "England",
           "Croatia"
          ],
          [
           0,
           "England",
           "Spain"
          ],
          [
           0,
           "England",
           "Belarus"
          ],
          [
           2,
           "England",
           "Russia"
          ],
          [
           0,
           "England",
           "France"
          ],
          [
           0,
           "England",
           "Yugoslavia"
          ],
          [
           1,
           "England",
           "Mexico"
          ],
          [
           1,
           "England",
           "German DR"
          ],
          [
           2,
           "England",
           "Scotland"
          ],
          [
           0,
           "England",
           "Hungary"
          ],
          [
           0,
           "England",
           "Austria"
          ],
          [
           2,
           "England",
           "France"
          ],
          [
           0,
           "England",
           "Scotland"
          ],
          [
           0,
           "England",
           "Wales"
          ],
          [
           1,
           "England",
           "Northern Ireland"
          ],
          [
           0,
           "England",
           "Montenegro"
          ],
          [
           1,
           "England",
           "Wales"
          ],
          [
           1,
           "England",
           "Yugoslavia"
          ],
          [
           0,
           "England",
           "Slovakia"
          ],
          [
           1,
           "England",
           "Northern Ireland"
          ],
          [
           1,
           "England",
           "Ukraine"
          ],
          [
           0,
           "England",
           "Bulgaria"
          ],
          [
           3,
           "England",
           "Austria"
          ],
          [
           3,
           "England",
           "Germany"
          ],
          [
           1,
           "England",
           "Switzerland"
          ],
          [
           1,
           "England",
           "Scotland"
          ],
          [
           1,
           "England",
           "Northern Ireland"
          ],
          [
           1,
           "England",
           "Hungary"
          ],
          [
           0,
           "England",
           "Wales"
          ],
          [
           0,
           "England",
           "Malta"
          ],
          [
           0,
           "England",
           "Greece"
          ],
          [
           1,
           "England",
           "Poland"
          ],
          [
           0,
           "England",
           "Germany"
          ],
          [
           0,
           "England",
           "Albania"
          ],
          [
           0,
           "England",
           "Northern Ireland"
          ],
          [
           0,
           "England",
           "Wales"
          ],
          [
           1,
           "England",
           "Scotland"
          ],
          [
           0,
           "England",
           "Colombia"
          ],
          [
           1,
           "England",
           "Switzerland"
          ],
          [
           1,
           "England",
           "Portugal"
          ],
          [
           0,
           "England",
           "Bulgaria"
          ],
          [
           0,
           "England",
           "Croatia"
          ],
          [
           0,
           "England",
           "Hungary"
          ],
          [
           3,
           "England",
           "Brazil"
          ],
          [
           1,
           "England",
           "Switzerland"
          ],
          [
           1,
           "England",
           "Netherlands"
          ],
          [
           0,
           "England",
           "Spain"
          ],
          [
           1,
           "England",
           "Germany"
          ],
          [
           1,
           "England",
           "Poland"
          ],
          [
           1,
           "England",
           "Italy"
          ],
          [
           0,
           "England",
           "Mexico"
          ],
          [
           0,
           "England",
           "Scotland"
          ],
          [
           0,
           "England",
           "Georgia"
          ],
          [
           3,
           "England",
           "Sweden"
          ],
          [
           0,
           "England",
           "Uruguay"
          ],
          [
           0,
           "England",
           "France"
          ],
          [
           1,
           "England",
           "Brazil"
          ],
          [
           1,
           "England",
           "Norway"
          ],
          [
           0,
           "England",
           "Turkey"
          ],
          [
           0,
           "England",
           "San Marino"
          ],
          [
           0,
           "England",
           "Ukraine"
          ],
          [
           1,
           "England",
           "Japan"
          ],
          [
           2,
           "England",
           "Netherlands"
          ],
          [
           0,
           "England",
           "Denmark"
          ],
          [
           0,
           "England",
           "Greece"
          ],
          [
           0,
           "England",
           "Norway"
          ],
          [
           0,
           "England",
           "United States"
          ],
          [
           1,
           "England",
           "Romania"
          ],
          [
           0,
           "England",
           "Nigeria"
          ],
          [
           0,
           "England",
           "Poland"
          ],
          [
           1,
           "England",
           "South Africa"
          ],
          [
           0,
           "England",
           "Moldova"
          ],
          [
           0,
           "England",
           "Cameroon"
          ],
          [
           0,
           "England",
           "Mexico"
          ],
          [
           2,
           "England",
           "Netherlands"
          ],
          [
           0,
           "England",
           "Albania"
          ],
          [
           2,
           "England",
           "Greece"
          ],
          [
           1,
           "England",
           "Sweden"
          ],
          [
           2,
           "England",
           "Italy"
          ],
          [
           1,
           "England",
           "Finland"
          ],
          [
           0,
           "England",
           "Paraguay"
          ],
          [
           1,
           "England",
           "Portugal"
          ],
          [
           0,
           "England",
           "Liechtenstein"
          ],
          [
           2,
           "England",
           "North Macedonia"
          ],
          [
           3,
           "England",
           "Australia"
          ],
          [
           0,
           "England",
           "Turkey"
          ],
          [
           1,
           "England",
           "Serbia"
          ],
          [
           3,
           "England",
           "Denmark"
          ],
          [
           0,
           "England",
           "Spain"
          ],
          [
           1,
           "England",
           "Germany"
          ],
          [
           0,
           "England",
           "Ukraine"
          ],
          [
           2,
           "England",
           "Chile"
          ],
          [
           1,
           "England",
           "Iceland"
          ],
          [
           0,
           "England",
           "Portugal"
          ],
          [
           0,
           "England",
           "Saudi Arabia"
          ],
          [
           1,
           "England",
           "Japan"
          ],
          [
           0,
           "England",
           "Bulgaria"
          ],
          [
           0,
           "England",
           "Czech Republic"
          ],
          [
           2,
           "England",
           "France"
          ],
          [
           1,
           "England",
           "Poland"
          ],
          [
           0,
           "England",
           "Sweden"
          ],
          [
           0,
           "England",
           "Luxembourg"
          ],
          [
           1,
           "England",
           "Belgium"
          ],
          [
           1,
           "England",
           "Scotland"
          ],
          [
           0,
           "England",
           "Argentina"
          ],
          [
           1,
           "England",
           "Brazil"
          ],
          [
           0,
           "England",
           "Turkey"
          ],
          [
           1,
           "England",
           "Germany"
          ],
          [
           2,
           "England",
           "Argentina"
          ],
          [
           1,
           "England",
           "Russia"
          ],
          [
           1,
           "England",
           "Spain"
          ],
          [
           2,
           "England",
           "Germany"
          ],
          [
           0,
           "England",
           "Luxembourg"
          ],
          [
           1,
           "England",
           "Wales"
          ],
          [
           0,
           "England",
           "Greece"
          ],
          [
           0,
           "England",
           "Hungary"
          ],
          [
           0,
           "England",
           "Netherlands"
          ],
          [
           0,
           "England",
           "Scotland"
          ],
          [
           0,
           "England",
           "Northern Ireland"
          ],
          [
           0,
           "England",
           "North Macedonia"
          ],
          [
           2,
           "England",
           "Russia"
          ],
          [
           0,
           "England",
           "German DR"
          ],
          [
           0,
           "England",
           "Finland"
          ],
          [
           0,
           "England",
           "Andorra"
          ],
          [
           1,
           "England",
           "Denmark"
          ],
          [
           0,
           "England",
           "Northern Ireland"
          ],
          [
           0,
           "England",
           "Hungary"
          ],
          [
           1,
           "England",
           "Brazil"
          ],
          [
           0,
           "England",
           "Russia"
          ],
          [
           0,
           "England",
           "Denmark"
          ],
          [
           0,
           "England",
           "Bulgaria"
          ],
          [
           0,
           "England",
           "Republic of Ireland"
          ],
          [
           0,
           "England",
           "Israel"
          ],
          [
           1,
           "England",
           "Argentina"
          ],
          [
           2,
           "England",
           "Germany"
          ],
          [
           1,
           "England",
           "Northern Ireland"
          ],
          [
           0,
           "England",
           "Norway"
          ],
          [
           1,
           "England",
           "Switzerland"
          ],
          [
           2,
           "England",
           "Spain"
          ],
          [
           0,
           "England",
           "Romania"
          ],
          [
           1,
           "England",
           "Brazil"
          ],
          [
           3,
           "England",
           "Sweden"
          ],
          [
           1,
           "England",
           "Scotland"
          ],
          [
           1,
           "England",
           "Republic of Ireland"
          ],
          [
           0,
           "England",
           "Wales"
          ],
          [
           0,
           "England",
           "Greece"
          ],
          [
           1,
           "England",
           "Romania"
          ],
          [
           0,
           "England",
           "Northern Ireland"
          ],
          [
           0,
           "England",
           "Poland"
          ],
          [
           0,
           "England",
           "Netherlands"
          ],
          [
           0,
           "England",
           "Italy"
          ],
          [
           1,
           "England",
           "Yugoslavia"
          ],
          [
           0,
           "England",
           "Brazil"
          ],
          [
           0,
           "England",
           "Chile"
          ],
          [
           2,
           "England",
           "Czechoslovakia"
          ],
          [
           2,
           "England",
           "Uruguay"
          ],
          [
           0,
           "England",
           "Hungary"
          ],
          [
           0,
           "England",
           "Poland"
          ],
          [
           0,
           "England",
           "Cameroon"
          ],
          [
           1,
           "England",
           "Republic of Ireland"
          ],
          [
           0,
           "England",
           "Wales"
          ],
          [
           0,
           "England",
           "Denmark"
          ],
          [
           0,
           "England",
           "Albania"
          ],
          [
           0,
           "England",
           "Azerbaijan"
          ],
          [
           0,
           "England",
           "Sweden"
          ],
          [
           0,
           "England",
           "Turkey"
          ],
          [
           0,
           "England",
           "Northern Ireland"
          ],
          [
           1,
           "England",
           "Scotland"
          ],
          [
           1,
           "England",
           "Hungary"
          ],
          [
           0,
           "England",
           "Northern Ireland"
          ],
          [
           0,
           "England",
           "Yugoslavia"
          ],
          [
           1,
           "England",
           "Uruguay"
          ],
          [
           1,
           "England",
           "Poland"
          ],
          [
           1,
           "England",
           "Brazil"
          ],
          [
           0,
           "England",
           "Austria"
          ],
          [
           0,
           "England",
           "Turkey"
          ],
          [
           2,
           "England",
           "Netherlands"
          ],
          [
           0,
           "England",
           "Scotland"
          ],
          [
           1,
           "England",
           "Colombia"
          ],
          [
           0,
           "England",
           "Denmark"
          ],
          [
           0,
           "England",
           "Jamaica"
          ],
          [
           3,
           "England",
           "Netherlands"
          ],
          [
           1,
           "England",
           "Italy"
          ],
          [
           1,
           "England",
           "Croatia"
          ],
          [
           1,
           "England",
           "Northern Ireland"
          ],
          [
           2,
           "England",
           "Italy"
          ],
          [
           0,
           "England",
           "Northern Ireland"
          ],
          [
           1,
           "England",
           "Turkey"
          ],
          [
           0,
           "England",
           "Scotland"
          ],
          [
           1,
           "England",
           "France"
          ],
          [
           1,
           "England",
           "Wales"
          ],
          [
           2,
           "England",
           "Wales"
          ],
          [
           0,
           "England",
           "Scotland"
          ],
          [
           0,
           "England",
           "Republic of Ireland"
          ],
          [
           1,
           "England",
           "Australia"
          ],
          [
           0,
           "England",
           "Portugal"
          ],
          [
           3,
           "England",
           "Austria"
          ],
          [
           0,
           "England",
           "Malta"
          ],
          [
           0,
           "England",
           "Northern Ireland"
          ],
          [
           1,
           "England",
           "Denmark"
          ],
          [
           0,
           "England",
           "Scotland"
          ],
          [
           1,
           "England",
           "Spain"
          ],
          [
           1,
           "England",
           "Wales"
          ],
          [
           0,
           "England",
           "Northern Ireland"
          ],
          [
           0,
           "England",
           "Scotland"
          ],
          [
           2,
           "England",
           "Spain"
          ],
          [
           1,
           "England",
           "Northern Ireland"
          ],
          [
           0,
           "England",
           "Wales"
          ],
          [
           2,
           "England",
           "Scotland"
          ],
          [
           2,
           "England",
           "Netherlands"
          ],
          [
           0,
           "England",
           "Iceland"
          ],
          [
           2,
           "England",
           "Scotland"
          ],
          [
           0,
           "England",
           "Germany"
          ],
          [
           0,
           "England",
           "Lithuania"
          ],
          [
           0,
           "England",
           "Belgium"
          ],
          [
           3,
           "England",
           "Scotland"
          ],
          [
           1,
           "England",
           "Wales"
          ],
          [
           0,
           "England",
           "Austria"
          ],
          [
           2,
           "England",
           "France"
          ],
          [
           1,
           "England",
           "Poland"
          ],
          [
           1,
           "England",
           "Wales"
          ],
          [
           1,
           "England",
           "Northern Ireland"
          ],
          [
           0,
           "England",
           "Northern Ireland"
          ],
          [
           0,
           "England",
           "Norway"
          ],
          [
           0,
           "England",
           "Switzerland"
          ],
          [
           0,
           "England",
           "Wales"
          ],
          [
           0,
           "England",
           "Estonia"
          ],
          [
           1,
           "England",
           "Scotland"
          ],
          [
           4,
           "England",
           "Czechoslovakia"
          ],
          [
           1,
           "England",
           "Wales"
          ],
          [
           1,
           "England",
           "Wales"
          ],
          [
           0,
           "England",
           "San Marino"
          ],
          [
           1,
           "England",
           "Northern Ireland"
          ],
          [
           0,
           "England",
           "France"
          ],
          [
           2,
           "England",
           "Hungary"
          ],
          [
           1,
           "England",
           "Northern Ireland"
          ],
          [
           0,
           "England",
           "Wales"
          ],
          [
           1,
           "England",
           "Scotland"
          ],
          [
           2,
           "England",
           "Wales"
          ],
          [
           1,
           "England",
           "Scotland"
          ],
          [
           2,
           "England",
           "Scotland"
          ],
          [
           0,
           "England",
           "Lithuania"
          ],
          [
           1,
           "England",
           "Belgium"
          ],
          [
           0,
           "England",
           "Northern Ireland"
          ],
          [
           4,
           "England",
           "Scotland"
          ],
          [
           2,
           "England",
           "Wales"
          ],
          [
           1,
           "England",
           "Wales"
          ],
          [
           2,
           "England",
           "Spain"
          ],
          [
           0,
           "England",
           "Switzerland"
          ],
          [
           2,
           "England",
           "Scotland"
          ],
          [
           3,
           "England",
           "Northern Ireland"
          ],
          [
           0,
           "England",
           "Scotland"
          ],
          [
           3,
           "England",
           "Wales"
          ],
          [
           0,
           "England",
           "Montenegro"
          ],
          [
           0,
           "England",
           "United States"
          ],
          [
           0,
           "England",
           "Costa Rica"
          ],
          [
           1,
           "England",
           "Scotland"
          ],
          [
           1,
           "England",
           "Northern Ireland"
          ],
          [
           1,
           "England",
           "Croatia"
          ],
          [
           0,
           "England",
           "Czech Republic"
          ],
          [
           1,
           "England",
           "Northern Ireland"
          ],
          [
           1,
           "England",
           "Wales"
          ],
          [
           0,
           "England",
           "Scotland"
          ],
          [
           0,
           "England",
           "Wales"
          ],
          [
           0,
           "England",
           "Northern Ireland"
          ],
          [
           0,
           "England",
           "Scotland"
          ],
          [
           0,
           "England",
           "Bulgaria"
          ],
          [
           3,
           "England",
           "Kosovo"
          ],
          [
           1,
           "England",
           "Scotland"
          ],
          [
           0,
           "England",
           "Wales"
          ],
          [
           2,
           "England",
           "Scotland"
          ],
          [
           1,
           "England",
           "Nigeria"
          ],
          [
           0,
           "England",
           "Wales"
          ],
          [
           1,
           "England",
           "Northern Ireland"
          ],
          [
           5,
           "England",
           "Scotland"
          ],
          [
           0,
           "England",
           "Wales"
          ],
          [
           2,
           "England",
           "Wales"
          ],
          [
           2,
           "England",
           "Northern Ireland"
          ],
          [
           1,
           "England",
           "Slovakia"
          ],
          [
           0,
           "England",
           "Wales"
          ],
          [
           3,
           "England",
           "Northern Ireland"
          ],
          [
           1,
           "England",
           "Scotland"
          ],
          [
           3,
           "England",
           "Wales"
          ],
          [
           1,
           "England",
           "Scotland"
          ],
          [
           0,
           "England",
           "Slovenia"
          ],
          [
           0,
           "England",
           "Northern Ireland"
          ],
          [
           0,
           "England",
           "Belgium"
          ],
          [
           1,
           "England",
           "Scotland"
          ],
          [
           2,
           "England",
           "Wales"
          ],
          [
           0,
           "England",
           "Northern Ireland"
          ],
          [
           0,
           "England",
           "Germany"
          ],
          [
           0,
           "England",
           "Wales"
          ],
          [
           0,
           "England",
           "Brazil"
          ],
          [
           2,
           "England",
           "Scotland"
          ],
          [
           2,
           "England",
           "Scotland"
          ],
          [
           1,
           "England",
           "Belgium"
          ],
          [
           1,
           "England",
           "Italy"
          ],
          [
           0,
           "England",
           "Northern Ireland"
          ],
          [
           1,
           "England",
           "Scotland"
          ],
          [
           1,
           "England",
           "Northern Ireland"
          ],
          [
           1,
           "England",
           "Switzerland"
          ],
          [
           0,
           "England",
           "Northern Ireland"
          ],
          [
           0,
           "England",
           "Denmark"
          ],
          [
           0,
           "England",
           "San Marino"
          ],
          [
           2,
           "England",
           "Chile"
          ],
          [
           2,
           "England",
           "Austria"
          ],
          [
           0,
           "England",
           "Northern Ireland"
          ],
          [
           1,
           "England",
           "Germany"
          ],
          [
           2,
           "England",
           "France"
          ],
          [
           2,
           "England",
           "Portugal"
          ],
          [
           1,
           "England",
           "Argentina"
          ],
          [
           3,
           "England",
           "Scotland"
          ],
          [
           2,
           "England",
           "Yugoslavia"
          ],
          [
           2,
           "England",
           "Wales"
          ],
          [
           0,
           "England",
           "Northern Ireland"
          ],
          [
           1,
           "England",
           "Wales"
          ],
          [
           6,
           "England",
           "Scotland"
          ],
          [
           1,
           "England",
           "Scotland"
          ],
          [
           1,
           "England",
           "Germany"
          ],
          [
           0,
           "England",
           "Italy"
          ],
          [
           1,
           "England",
           "Wales"
          ],
          [
           0,
           "England",
           "Scotland"
          ],
          [
           0,
           "England",
           "Czech Republic"
          ],
          [
           0,
           "England",
           "Yugoslavia"
          ],
          [
           0,
           "England",
           "Poland"
          ],
          [
           0,
           "England",
           "Germany"
          ],
          [
           2,
           "England",
           "Scotland"
          ],
          [
           3,
           "England",
           "Scotland"
          ],
          [
           1,
           "England",
           "Republic of Ireland"
          ],
          [
           6,
           "England",
           "Hungary"
          ],
          [
           0,
           "England",
           "Northern Ireland"
          ],
          [
           1,
           "England",
           "Northern Ireland"
          ],
          [
           0,
           "England",
           "Wales"
          ],
          [
           2,
           "England",
           "Scotland"
          ],
          [
           1,
           "England",
           "Northern Ireland"
          ],
          [
           1,
           "England",
           "Brazil"
          ],
          [
           1,
           "England",
           "Denmark"
          ],
          [
           0,
           "England",
           "Northern Ireland"
          ],
          [
           1,
           "England",
           "Spain"
          ],
          [
           0,
           "England",
           "Moldova"
          ],
          [
           1,
           "England",
           "Italy"
          ],
          [
           1,
           "England",
           "Montenegro"
          ],
          [
           2,
           "England",
           "Scotland"
          ],
          [
           0,
           "England",
           "Belgium"
          ],
          [
           2,
           "England",
           "Wales"
          ],
          [
           2,
           "England",
           "Brazil"
          ],
          [
           2,
           "England",
           "Northern Ireland"
          ],
          [
           2,
           "England",
           "Wales"
          ],
          [
           0,
           "England",
           "Croatia"
          ],
          [
           1,
           "England",
           "Wales"
          ],
          [
           2,
           "England",
           "Northern Ireland"
          ],
          [
           0,
           "England",
           "Peru"
          ],
          [
           0,
           "England",
           "Romania"
          ],
          [
           1,
           "England",
           "Portugal"
          ],
          [
           3,
           "England",
           "Scotland"
          ],
          [
           0,
           "England",
           "Belgium"
          ],
          [
           1,
           "England",
           "Slovenia"
          ],
          [
           2,
           "England",
           "Scotland"
          ],
          [
           2,
           "England",
           "Sweden"
          ],
          [
           0,
           "England",
           "Russia"
          ],
          [
           0,
           "England",
           "France"
          ],
          [
           2,
           "England",
           "Wales"
          ],
          [
           0,
           "England",
           "Scotland"
          ],
          [
           2,
           "England",
           "Italy"
          ],
          [
           1,
           "England",
           "Scotland"
          ],
          [
           2,
           "England",
           "Netherlands"
          ],
          [
           0,
           "England",
           "Wales"
          ],
          [
           1,
           "England",
           "Wales"
          ],
          [
           2,
           "England",
           "Scotland"
          ],
          [
           1,
           "England",
           "Hungary"
          ],
          [
           4,
           "England",
           "Scotland"
          ],
          [
           1,
           "England",
           "Wales"
          ],
          [
           0,
           "England",
           "San Marino"
          ],
          [
           0,
           "England",
           "Norway"
          ],
          [
           1,
           "England",
           "Wales"
          ],
          [
           0,
           "England",
           "France"
          ],
          [
           3,
           "England",
           "Scotland"
          ],
          [
           3,
           "England",
           "Scotland"
          ],
          [
           1,
           "England",
           "Republic of Ireland"
          ],
          [
           0,
           "England",
           "Northern Ireland"
          ],
          [
           1,
           "England",
           "Scotland"
          ],
          [
           2,
           "England",
           "Denmark"
          ],
          [
           2,
           "England",
           "Republic of Ireland"
          ],
          [
           0,
           "England",
           "Switzerland"
          ],
          [
           0,
           "England",
           "Wales"
          ],
          [
           1,
           "England",
           "Ukraine"
          ],
          [
           3,
           "England",
           "Northern Ireland"
          ],
          [
           0,
           "England",
           "Andorra"
          ],
          [
           0,
           "England",
           "Wales"
          ],
          [
           1,
           "Estonia",
           "England"
          ],
          [
           3,
           "Estonia",
           "England"
          ],
          [
           0,
           "Finland",
           "England"
          ],
          [
           4,
           "Finland",
           "England"
          ],
          [
           3,
           "Finland",
           "England"
          ],
          [
           2,
           "Finland",
           "England"
          ],
          [
           4,
           "Finland",
           "England"
          ],
          [
           8,
           "Finland",
           "England"
          ],
          [
           5,
           "Finland",
           "England"
          ],
          [
           1,
           "Finland",
           "England"
          ],
          [
           0,
           "France",
           "England"
          ],
          [
           0,
           "France",
           "England"
          ],
          [
           3,
           "France",
           "England"
          ],
          [
           2,
           "France",
           "England"
          ],
          [
           4,
           "France",
           "England"
          ],
          [
           3,
           "France",
           "England"
          ],
          [
           1,
           "France",
           "England"
          ],
          [
           2,
           "France",
           "England"
          ],
          [
           5,
           "France",
           "England"
          ],
          [
           4,
           "France",
           "England"
          ],
          [
           1,
           "France",
           "England"
          ],
          [
           1,
           "France",
           "England"
          ],
          [
           3,
           "France",
           "England"
          ],
          [
           6,
           "France",
           "England"
          ],
          [
           4,
           "France",
           "England"
          ],
          [
           2,
           "France",
           "England"
          ],
          [
           0,
           "France",
           "England"
          ],
          [
           2,
           "Georgia",
           "England"
          ],
          [
           1,
           "German DR",
           "England"
          ],
          [
           2,
           "German DR",
           "England"
          ],
          [
           6,
           "Germany",
           "England"
          ],
          [
           3,
           "Germany",
           "England"
          ],
          [
           1,
           "Germany",
           "England"
          ],
          [
           0,
           "Germany",
           "England"
          ],
          [
           2,
           "Germany",
           "England"
          ],
          [
           0,
           "Germany",
           "England"
          ],
          [
           3,
           "Germany",
           "England"
          ],
          [
           1,
           "Germany",
           "England"
          ],
          [
           5,
           "Germany",
           "England"
          ],
          [
           1,
           "Germany",
           "England"
          ],
          [
           3,
           "Germany",
           "England"
          ],
          [
           0,
           "Germany",
           "England"
          ],
          [
           2,
           "Greece",
           "England"
          ],
          [
           3,
           "Greece",
           "England"
          ],
          [
           2,
           "Greece",
           "England"
          ],
          [
           2,
           "Greece",
           "England"
          ],
          [
           8,
           "Hungary",
           "England"
          ],
          [
           0,
           "Hungary",
           "England"
          ],
          [
           4,
           "Hungary",
           "England"
          ],
          [
           1,
           "Hungary",
           "England"
          ],
          [
           3,
           "Hungary",
           "England"
          ],
          [
           4,
           "Hungary",
           "England"
          ],
          [
           0,
           "Hungary",
           "England"
          ],
          [
           1,
           "Hungary",
           "England"
          ],
          [
           1,
           "Hungary",
           "England"
          ],
          [
           7,
           "Hungary",
           "England"
          ],
          [
           3,
           "Hungary",
           "England"
          ],
          [
           1,
           "Hungary",
           "England"
          ],
          [
           1,
           "Iceland",
           "England"
          ],
          [
           1,
           "Iceland",
           "England"
          ],
          [
           0,
           "Israel",
           "England"
          ],
          [
           2,
           "Israel",
           "England"
          ],
          [
           0,
           "Israel",
           "England"
          ],
          [
           3,
           "Italy",
           "England"
          ],
          [
           1,
           "Italy",
           "England"
          ],
          [
           0,
           "Italy",
           "England"
          ],
          [
           0,
           "Italy",
           "England"
          ],
          [
           2,
           "Italy",
           "England"
          ],
          [
           1,
           "Italy",
           "England"
          ],
          [
           0,
           "Italy",
           "England"
          ],
          [
           0,
           "Italy",
           "England"
          ],
          [
           4,
           "Italy",
           "England"
          ],
          [
           0,
           "Italy",
           "England"
          ],
          [
           1,
           "Italy",
           "England"
          ],
          [
           1,
           "Italy",
           "England"
          ],
          [
           4,
           "Kazakhstan",
           "England"
          ],
          [
           4,
           "Kosovo",
           "England"
          ],
          [
           2,
           "Liechtenstein",
           "England"
          ],
          [
           1,
           "Lithuania",
           "England"
          ],
          [
           3,
           "Lithuania",
           "England"
          ],
          [
           3,
           "Luxembourg",
           "England"
          ],
          [
           9,
           "Luxembourg",
           "England"
          ],
          [
           4,
           "Luxembourg",
           "England"
          ],
          [
           2,
           "Luxembourg",
           "England"
          ],
          [
           5,
           "Luxembourg",
           "England"
          ],
          [
           4,
           "Malaysia",
           "England"
          ],
          [
           4,
           "Malta",
           "England"
          ],
          [
           2,
           "Malta",
           "England"
          ],
          [
           1,
           "Malta",
           "England"
          ],
          [
           1,
           "Mexico",
           "England"
          ],
          [
           0,
           "Mexico",
           "England"
          ],
          [
           4,
           "Mexico",
           "England"
          ],
          [
           0,
           "Mexico",
           "England"
          ],
          [
           3,
           "Moldova",
           "England"
          ],
          [
           5,
           "Moldova",
           "England"
          ],
          [
           1,
           "Montenegro",
           "England"
          ],
          [
           5,
           "Montenegro",
           "England"
          ],
          [
           2,
           "Montenegro",
           "England"
          ],
          [
           1,
           "Morocco",
           "England"
          ],
          [
           1,
           "Netherlands",
           "England"
          ],
          [
           1,
           "Netherlands",
           "England"
          ],
          [
           0,
           "Netherlands",
           "England"
          ],
          [
           1,
           "Netherlands",
           "England"
          ],
          [
           1,
           "Netherlands",
           "England"
          ],
          [
           1,
           "Netherlands",
           "England"
          ],
          [
           1,
           "Netherlands",
           "England"
          ],
          [
           2,
           "Netherlands",
           "England"
          ],
          [
           2,
           "New Zealand",
           "England"
          ],
          [
           1,
           "New Zealand",
           "England"
          ],
          [
           1,
           "North Macedonia",
           "England"
          ],
          [
           2,
           "North Macedonia",
           "England"
          ],
          [
           2,
           "Northern Ireland",
           "England"
          ],
          [
           3,
           "Northern Ireland",
           "England"
          ],
          [
           8,
           "Northern Ireland",
           "England"
          ],
          [
           5,
           "Northern Ireland",
           "England"
          ],
          [
           2,
           "Northern Ireland",
           "England"
          ],
          [
           3,
           "Northern Ireland",
           "England"
          ],
          [
           2,
           "Northern Ireland",
           "England"
          ],
          [
           2,
           "Northern Ireland",
           "England"
          ],
          [
           6,
           "Northern Ireland",
           "England"
          ],
          [
           2,
           "Northern Ireland",
           "England"
          ],
          [
           2,
           "Northern Ireland",
           "England"
          ],
          [
           5,
           "Northern Ireland",
           "England"
          ],
          [
           0,
           "Northern Ireland",
           "England"
          ],
          [
           7,
           "Northern Ireland",
           "England"
          ],
          [
           2,
           "Northern Ireland",
           "England"
          ],
          [
           9,
           "Northern Ireland",
           "England"
          ],
          [
           1,
           "Northern Ireland",
           "England"
          ],
          [
           3,
           "Northern Ireland",
           "England"
          ],
          [
           4,
           "Northern Ireland",
           "England"
          ],
          [
           3,
           "Northern Ireland",
           "England"
          ],
          [
           6,
           "Northern Ireland",
           "England"
          ],
          [
           5,
           "Northern Ireland",
           "England"
          ],
          [
           1,
           "Northern Ireland",
           "England"
          ],
          [
           6,
           "Northern Ireland",
           "England"
          ],
          [
           3,
           "Northern Ireland",
           "England"
          ],
          [
           1,
           "Northern Ireland",
           "England"
          ],
          [
           5,
           "Northern Ireland",
           "England"
          ],
          [
           0,
           "Northern Ireland",
           "England"
          ],
          [
           1,
           "Northern Ireland",
           "England"
          ],
          [
           3,
           "Northern Ireland",
           "England"
          ],
          [
           2,
           "Northern Ireland",
           "England"
          ],
          [
           1,
           "Northern Ireland",
           "England"
          ],
          [
           1,
           "Northern Ireland",
           "England"
          ],
          [
           5,
           "Northern Ireland",
           "England"
          ],
          [
           1,
           "Northern Ireland",
           "England"
          ],
          [
           3,
           "Northern Ireland",
           "England"
          ],
          [
           1,
           "Northern Ireland",
           "England"
          ],
          [
           13,
           "Northern Ireland",
           "England"
          ],
          [
           2,
           "Northern Ireland",
           "England"
          ],
          [
           0,
           "Northern Ireland",
           "England"
          ],
          [
           0,
           "Northern Ireland",
           "England"
          ],
          [
           0,
           "Northern Ireland",
           "England"
          ],
          [
           4,
           "Northern Ireland",
           "England"
          ],
          [
           6,
           "Northern Ireland",
           "England"
          ],
          [
           3,
           "Northern Ireland",
           "England"
          ],
          [
           3,
           "Northern Ireland",
           "England"
          ],
          [
           2,
           "Northern Ireland",
           "England"
          ],
          [
           1,
           "Northern Ireland",
           "England"
          ],
          [
           1,
           "Northern Ireland",
           "England"
          ],
          [
           6,
           "Norway",
           "England"
          ],
          [
           4,
           "Norway",
           "England"
          ],
          [
           1,
           "Norway",
           "England"
          ],
          [
           1,
           "Norway",
           "England"
          ],
          [
           6,
           "Norway",
           "England"
          ],
          [
           0,
           "Norway",
           "England"
          ],
          [
           0,
           "Norway",
           "England"
          ],
          [
           4,
           "Peru",
           "England"
          ],
          [
           1,
           "Peru",
           "England"
          ],
          [
           2,
           "Poland",
           "England"
          ],
          [
           0,
           "Poland",
           "England"
          ],
          [
           1,
           "Poland",
           "England"
          ],
          [
           0,
           "Poland",
           "England"
          ],
          [
           1,
           "Poland",
           "England"
          ],
          [
           1,
           "Poland",
           "England"
          ],
          [
           0,
           "Poland",
           "England"
          ],
          [
           1,
           "Poland",
           "England"
          ],
          [
           2,
           "Poland",
           "England"
          ],
          [
           1,
           "Poland",
           "England"
          ],
          [
           10,
           "Portugal",
           "England"
          ],
          [
           2,
           "Portugal",
           "England"
          ],
          [
           1,
           "Portugal",
           "England"
          ],
          [
           4,
           "Portugal",
           "England"
          ],
          [
           1,
           "Portugal",
           "England"
          ],
          [
           1,
           "Portugal",
           "England"
          ],
          [
           5,
           "Portugal",
           "England"
          ],
          [
           0,
           "Portugal",
           "England"
          ],
          [
           1,
           "Portugal",
           "England"
          ],
          [
           1,
           "Republic of Ireland",
           "England"
          ],
          [
           1,
           "Republic of Ireland",
           "England"
          ],
          [
           0,
           "Republic of Ireland",
           "England"
          ],
          [
           1,
           "Republic of Ireland",
           "England"
          ],
          [
           1,
           "Republic of Ireland",
           "England"
          ],
          [
           0,
           "Republic of Ireland",
           "England"
          ],
          [
           3,
           "Republic of Ireland",
           "England"
          ],
          [
           0,
           "Romania",
           "England"
          ],
          [
           1,
           "Romania",
           "England"
          ],
          [
           0,
           "Romania",
           "England"
          ],
          [
           2,
           "Romania",
           "England"
          ],
          [
           1,
           "Russia",
           "England"
          ],
          [
           1,
           "Russia",
           "England"
          ],
          [
           1,
           "Russia",
           "England"
          ],
          [
           2,
           "Russia",
           "England"
          ],
          [
           2,
           "Russia",
           "England"
          ],
          [
           8,
           "San Marino",
           "England"
          ],
          [
           6,
           "San Marino",
           "England"
          ],
          [
           10,
           "San Marino",
           "England"
          ],
          [
           1,
           "Saudi Arabia",
           "England"
          ],
          [
           0,
           "Scotland",
           "England"
          ],
          [
           1,
           "Scotland",
           "England"
          ],
          [
           0,
           "Scotland",
           "England"
          ],
          [
           0,
           "Scotland",
           "England"
          ],
          [
           2,
           "Scotland",
           "England"
          ],
          [
           1,
           "Scotland",
           "England"
          ],
          [
           0,
           "Scotland",
           "England"
          ],
          [
           1,
           "Scotland",
           "England"
          ],
          [
           1,
           "Scotland",
           "England"
          ],
          [
           2,
           "Scotland",
           "England"
          ],
          [
           1,
           "Scotland",
           "England"
          ],
          [
           0,
           "Scotland",
           "England"
          ],
          [
           2,
           "Scotland",
           "England"
          ],
          [
           3,
           "Scotland",
           "England"
          ],
          [
           1,
           "Scotland",
           "England"
          ],
          [
           2,
           "Scotland",
           "England"
          ],
          [
           0,
           "Scotland",
           "England"
          ],
          [
           4,
           "Scotland",
           "England"
          ],
          [
           5,
           "Scotland",
           "England"
          ],
          [
           1,
           "Scotland",
           "England"
          ],
          [
           4,
           "Scotland",
           "England"
          ],
          [
           1,
           "Scotland",
           "England"
          ],
          [
           1,
           "Scotland",
           "England"
          ],
          [
           0,
           "Scotland",
           "England"
          ],
          [
           0,
           "Scotland",
           "England"
          ],
          [
           0,
           "Scotland",
           "England"
          ],
          [
           2,
           "Scotland",
           "England"
          ],
          [
           2,
           "Scotland",
           "England"
          ],
          [
           1,
           "Scotland",
           "England"
          ],
          [
           0,
           "Scotland",
           "England"
          ],
          [
           1,
           "Scotland",
           "England"
          ],
          [
           0,
           "Scotland",
           "England"
          ],
          [
           2,
           "Scotland",
           "England"
          ],
          [
           2,
           "Scotland",
           "England"
          ],
          [
           4,
           "Scotland",
           "England"
          ],
          [
           1,
           "Scotland",
           "England"
          ],
          [
           0,
           "Scotland",
           "England"
          ],
          [
           1,
           "Scotland",
           "England"
          ],
          [
           5,
           "Scotland",
           "England"
          ],
          [
           1,
           "Scotland",
           "England"
          ],
          [
           4,
           "Scotland",
           "England"
          ],
          [
           2,
           "Scotland",
           "England"
          ],
          [
           1,
           "Scotland",
           "England"
          ],
          [
           3,
           "Scotland",
           "England"
          ],
          [
           2,
           "Scotland",
           "England"
          ],
          [
           1,
           "Scotland",
           "England"
          ],
          [
           1,
           "Scotland",
           "England"
          ],
          [
           1,
           "Scotland",
           "England"
          ],
          [
           1,
           "Scotland",
           "England"
          ],
          [
           0,
           "Scotland",
           "England"
          ],
          [
           0,
           "Scotland",
           "England"
          ],
          [
           1,
           "Scotland",
           "England"
          ],
          [
           1,
           "Scotland",
           "England"
          ],
          [
           0,
           "Scotland",
           "England"
          ],
          [
           0,
           "Scotland",
           "England"
          ],
          [
           2,
           "Scotland",
           "England"
          ],
          [
           4,
           "Scotland",
           "England"
          ],
          [
           1,
           "Scotland",
           "England"
          ],
          [
           1,
           "Slovakia",
           "England"
          ],
          [
           2,
           "Slovakia",
           "England"
          ],
          [
           3,
           "Slovenia",
           "England"
          ],
          [
           0,
           "Slovenia",
           "England"
          ],
          [
           2,
           "South Africa",
           "England"
          ],
          [
           1,
           "South Korea",
           "England"
          ],
          [
           2,
           "Spain",
           "England"
          ],
          [
           0,
           "Spain",
           "England"
          ],
          [
           1,
           "Spain",
           "England"
          ],
          [
           2,
           "Spain",
           "England"
          ],
          [
           0,
           "Spain",
           "England"
          ],
          [
           3,
           "Spain",
           "England"
          ],
          [
           0,
           "Spain",
           "England"
          ],
          [
           4,
           "Spain",
           "England"
          ],
          [
           0,
           "Spain",
           "England"
          ],
          [
           2,
           "Spain",
           "England"
          ],
          [
           0,
           "Spain",
           "England"
          ],
          [
           3,
           "Spain",
           "England"
          ],
          [
           0,
           "Spain",
           "England"
          ],
          [
           2,
           "Sweden",
           "England"
          ],
          [
           0,
           "Sweden",
           "England"
          ],
          [
           4,
           "Sweden",
           "England"
          ],
          [
           1,
           "Sweden",
           "England"
          ],
          [
           0,
           "Sweden",
           "England"
          ],
          [
           2,
           "Sweden",
           "England"
          ],
          [
           1,
           "Sweden",
           "England"
          ],
          [
           1,
           "Sweden",
           "England"
          ],
          [
           3,
           "Sweden",
           "England"
          ],
          [
           4,
           "Sweden",
           "England"
          ],
          [
           0,
           "Sweden",
           "England"
          ],
          [
           0,
           "Sweden",
           "England"
          ],
          [
           0,
           "Sweden",
           "England"
          ],
          [
           1,
           "Switzerland",
           "England"
          ],
          [
           2,
           "Switzerland",
           "England"
          ],
          [
           1,
           "Switzerland",
           "England"
          ],
          [
           1,
           "Switzerland",
           "England"
          ],
          [
           1,
           "Switzerland",
           "England"
          ],
          [
           0,
           "Switzerland",
           "England"
          ],
          [
           2,
           "Switzerland",
           "England"
          ],
          [
           1,
           "Switzerland",
           "England"
          ],
          [
           4,
           "Switzerland",
           "England"
          ],
          [
           2,
           "Switzerland",
           "England"
          ],
          [
           8,
           "Switzerland",
           "England"
          ],
          [
           3,
           "Switzerland",
           "England"
          ],
          [
           3,
           "Switzerland",
           "England"
          ],
          [
           3,
           "Switzerland",
           "England"
          ],
          [
           3,
           "Trinidad and Tobago",
           "England"
          ],
          [
           1,
           "Tunisia",
           "England"
          ],
          [
           1,
           "Turkey",
           "England"
          ],
          [
           8,
           "Turkey",
           "England"
          ],
          [
           2,
           "Turkey",
           "England"
          ],
          [
           0,
           "Turkey",
           "England"
          ],
          [
           0,
           "Turkey",
           "England"
          ],
          [
           0,
           "Ukraine",
           "England"
          ],
          [
           1,
           "Ukraine",
           "England"
          ],
          [
           0,
           "Ukraine",
           "England"
          ],
          [
           6,
           "United States",
           "England"
          ],
          [
           10,
           "United States",
           "England"
          ],
          [
           2,
           "United States",
           "England"
          ],
          [
           8,
           "United States",
           "England"
          ],
          [
           0,
           "United States",
           "England"
          ],
          [
           5,
           "United States",
           "England"
          ],
          [
           1,
           "Uruguay",
           "England"
          ],
          [
           2,
           "Uruguay",
           "England"
          ],
          [
           0,
           "Uruguay",
           "England"
          ],
          [
           0,
           "Uruguay",
           "England"
          ],
          [
           1,
           "Wales",
           "England"
          ],
          [
           7,
           "Wales",
           "England"
          ],
          [
           4,
           "Wales",
           "England"
          ],
          [
           1,
           "Wales",
           "England"
          ],
          [
           2,
           "Wales",
           "England"
          ],
          [
           0,
           "Wales",
           "England"
          ],
          [
           4,
           "Wales",
           "England"
          ],
          [
           1,
           "Wales",
           "England"
          ],
          [
           3,
           "Wales",
           "England"
          ],
          [
           2,
           "Wales",
           "England"
          ],
          [
           9,
           "Wales",
           "England"
          ],
          [
           1,
           "Wales",
           "England"
          ],
          [
           2,
           "Wales",
           "England"
          ],
          [
           3,
           "Wales",
           "England"
          ],
          [
           3,
           "Wales",
           "England"
          ],
          [
           4,
           "Wales",
           "England"
          ],
          [
           3,
           "Wales",
           "England"
          ],
          [
           3,
           "Wales",
           "England"
          ],
          [
           0,
           "Wales",
           "England"
          ],
          [
           3,
           "Wales",
           "England"
          ],
          [
           1,
           "Wales",
           "England"
          ],
          [
           5,
           "Wales",
           "England"
          ],
          [
           0,
           "Wales",
           "England"
          ],
          [
           1,
           "Wales",
           "England"
          ],
          [
           3,
           "Wales",
           "England"
          ],
          [
           2,
           "Wales",
           "England"
          ],
          [
           4,
           "Wales",
           "England"
          ],
          [
           2,
           "Wales",
           "England"
          ],
          [
           3,
           "Wales",
           "England"
          ],
          [
           1,
           "Wales",
           "England"
          ],
          [
           1,
           "Wales",
           "England"
          ],
          [
           4,
           "Wales",
           "England"
          ],
          [
           2,
           "Wales",
           "England"
          ],
          [
           1,
           "Wales",
           "England"
          ],
          [
           0,
           "Wales",
           "England"
          ],
          [
           1,
           "Wales",
           "England"
          ],
          [
           4,
           "Wales",
           "England"
          ],
          [
           1,
           "Wales",
           "England"
          ],
          [
           1,
           "Wales",
           "England"
          ],
          [
           3,
           "Wales",
           "England"
          ],
          [
           0,
           "Wales",
           "England"
          ],
          [
           3,
           "Wales",
           "England"
          ],
          [
           2,
           "Wales",
           "England"
          ],
          [
           1,
           "Wales",
           "England"
          ],
          [
           3,
           "Wales",
           "England"
          ],
          [
           2,
           "Wales",
           "England"
          ],
          [
           1,
           "Wales",
           "England"
          ],
          [
           2,
           "Wales",
           "England"
          ],
          [
           4,
           "Wales",
           "England"
          ],
          [
           2,
           "Wales",
           "England"
          ],
          [
           2,
           "Yugoslavia",
           "England"
          ],
          [
           4,
           "Yugoslavia",
           "England"
          ],
          [
           1,
           "Yugoslavia",
           "England"
          ],
          [
           0,
           "Yugoslavia",
           "England"
          ],
          [
           1,
           "Yugoslavia",
           "England"
          ],
          [
           0,
           "Yugoslavia",
           "England"
          ]
         ],
         "hovertemplate": "date=%{x}<br>home_score=%{y}<br>away_score=%{customdata[0]}<br>home_team=%{customdata[1]}<br>away_team=%{customdata[2]}<extra></extra>",
         "legendgroup": "",
         "marker": {
          "color": "#636efa",
          "symbol": "circle"
         },
         "mode": "markers",
         "name": "",
         "orientation": "v",
         "showlegend": false,
         "type": "scatter",
         "x": [
          "1989-03-08T00:00:00",
          "2021-03-28T00:00:00",
          "2001-03-28T00:00:00",
          "2021-10-09T00:00:00",
          "1977-06-12T00:00:00",
          "1953-05-14T00:00:00",
          "1953-05-17T00:00:00",
          "1983-06-19T00:00:00",
          "1991-06-01T00:00:00",
          "1983-06-15T00:00:00",
          "1983-06-12T00:00:00",
          "1980-05-31T00:00:00",
          "2004-09-04T00:00:00",
          "1909-06-01T00:00:00",
          "1908-06-08T00:00:00",
          "1936-05-06T00:00:00",
          "1908-06-06T00:00:00",
          "1961-05-27T00:00:00",
          "2007-11-16T00:00:00",
          "1930-05-14T00:00:00",
          "1952-05-25T00:00:00",
          "1979-06-13T00:00:00",
          "1967-05-27T00:00:00",
          "2004-10-13T00:00:00",
          "2008-10-15T00:00:00",
          "2020-11-15T00:00:00",
          "1947-09-21T00:00:00",
          "1950-05-18T00:00:00",
          "1921-05-21T00:00:00",
          "1923-11-01T00:00:00",
          "1970-02-25T00:00:00",
          "1927-05-11T00:00:00",
          "1936-05-09T00:00:00",
          "1931-05-16T00:00:00",
          "1926-05-24T00:00:00",
          "1928-05-19T00:00:00",
          "1929-05-11T00:00:00",
          "1984-06-10T00:00:00",
          "1964-05-30T00:00:00",
          "1959-05-13T00:00:00",
          "2013-06-02T00:00:00",
          "1969-06-12T00:00:00",
          "1977-06-08T00:00:00",
          "1974-06-01T00:00:00",
          "1999-06-09T00:00:00",
          "2019-10-14T00:00:00",
          "2011-09-02T00:00:00",
          "1979-06-06T00:00:00",
          "1986-05-24T00:00:00",
          "1953-05-24T00:00:00",
          "1984-06-17T00:00:00",
          "1996-05-23T00:00:00",
          "1970-05-20T00:00:00",
          "2006-10-11T00:00:00",
          "2018-10-12T00:00:00",
          "2008-09-10T00:00:00",
          "1975-05-11T00:00:00",
          "2019-10-11T00:00:00",
          "1992-03-25T00:00:00",
          "1934-05-16T00:00:00",
          "1973-05-27T00:00:00",
          "1963-05-29T00:00:00",
          "1975-10-30T00:00:00",
          "1908-06-13T00:00:00",
          "1978-09-20T00:00:00",
          "1989-06-07T00:00:00",
          "1948-09-26T00:00:00",
          "2005-08-17T00:00:00",
          "1982-09-22T00:00:00",
          "2011-02-09T00:00:00",
          "1957-05-15T00:00:00",
          "1955-10-02T00:00:00",
          "1966-07-03T00:00:00",
          "2020-09-08T00:00:00",
          "1970-05-24T00:00:00",
          "1986-01-29T00:00:00",
          "2007-10-13T00:00:00",
          "1962-05-09T00:00:00",
          "1962-10-03T00:00:00",
          "2008-05-28T00:00:00",
          "1975-05-24T00:00:00",
          "1962-11-21T00:00:00",
          "1963-04-06T00:00:00",
          "1963-05-08T00:00:00",
          "2011-06-04T00:00:00",
          "1975-05-21T00:00:00",
          "1963-11-20T00:00:00",
          "2011-03-29T00:00:00",
          "1975-04-16T00:00:00",
          "1975-03-12T00:00:00",
          "1964-05-06T00:00:00",
          "2003-06-11T00:00:00",
          "1974-11-20T00:00:00",
          "1964-10-21T00:00:00",
          "1974-10-30T00:00:00",
          "2008-08-20T00:00:00",
          "1978-11-29T00:00:00",
          "1974-05-22T00:00:00",
          "1964-11-18T00:00:00",
          "1974-05-15T00:00:00",
          "2008-02-06T00:00:00",
          "1978-05-24T00:00:00",
          "1976-05-11T00:00:00",
          "1959-11-18T00:00:00",
          "1960-05-11T00:00:00",
          "1978-05-16T00:00:00",
          "2011-11-12T00:00:00",
          "1978-04-19T00:00:00",
          "1977-11-16T00:00:00",
          "1960-10-26T00:00:00",
          "1977-09-07T00:00:00",
          "1960-11-23T00:00:00",
          "1961-04-15T00:00:00",
          "1961-05-10T00:00:00",
          "1961-09-28T00:00:00",
          "1977-06-04T00:00:00",
          "1977-05-31T00:00:00",
          "1961-10-25T00:00:00",
          "1961-11-22T00:00:00",
          "1962-04-04T00:00:00",
          "1977-03-30T00:00:00",
          "1977-02-09T00:00:00",
          "2011-09-06T00:00:00",
          "1976-10-13T00:00:00",
          "2011-11-15T00:00:00",
          "1976-09-08T00:00:00",
          "2008-10-11T00:00:00",
          "2007-11-21T00:00:00",
          "1967-11-22T00:00:00",
          "1973-10-17T00:00:00",
          "2010-03-03T00:00:00",
          "1966-07-11T00:00:00",
          "1966-07-16T00:00:00",
          "1970-04-21T00:00:00",
          "1966-07-20T00:00:00",
          "1966-07-23T00:00:00",
          "1970-01-14T00:00:00",
          "1969-12-10T00:00:00",
          "1966-07-26T00:00:00",
          "2009-09-05T00:00:00",
          "1966-07-30T00:00:00",
          "1969-05-10T00:00:00",
          "2009-06-10T00:00:00",
          "1969-05-07T00:00:00",
          "1966-11-02T00:00:00",
          "1966-11-16T00:00:00",
          "1969-01-15T00:00:00",
          "1968-12-11T00:00:00",
          "1967-04-15T00:00:00",
          "1967-05-24T00:00:00",
          "1968-05-22T00:00:00",
          "2009-09-09T00:00:00",
          "1968-04-03T00:00:00",
          "2009-10-14T00:00:00",
          "1967-12-06T00:00:00",
          "1969-03-12T00:00:00",
          "1966-05-04T00:00:00",
          "2010-05-24T00:00:00",
          "1970-11-25T00:00:00",
          "1965-04-10T00:00:00",
          "1965-05-05T00:00:00",
          "1973-09-26T00:00:00",
          "2010-11-17T00:00:00",
          "1973-05-19T00:00:00",
          "1973-05-15T00:00:00",
          "1973-05-12T00:00:00",
          "2010-10-12T00:00:00",
          "1973-01-24T00:00:00",
          "1972-10-11T00:00:00",
          "2009-03-28T00:00:00",
          "1972-05-23T00:00:00",
          "2009-04-01T00:00:00",
          "2010-09-03T00:00:00",
          "1965-10-20T00:00:00",
          "1972-04-29T00:00:00",
          "1971-11-10T00:00:00",
          "1971-05-22T00:00:00",
          "1965-11-10T00:00:00",
          "2010-08-11T00:00:00",
          "1971-05-19T00:00:00",
          "1971-05-12T00:00:00",
          "1971-04-21T00:00:00",
          "1966-01-05T00:00:00",
          "1966-02-23T00:00:00",
          "2021-11-12T00:00:00",
          "1979-02-07T00:00:00",
          "1981-05-20T00:00:00",
          "1979-05-26T00:00:00",
          "1995-09-06T00:00:00",
          "1995-11-15T00:00:00",
          "1995-12-12T00:00:00",
          "1996-03-27T00:00:00",
          "1996-04-24T00:00:00",
          "1996-05-18T00:00:00",
          "1995-06-11T00:00:00",
          "1996-06-08T00:00:00",
          "1996-06-18T00:00:00",
          "1996-06-22T00:00:00",
          "1996-06-26T00:00:00",
          "1996-10-09T00:00:00",
          "1997-02-12T00:00:00",
          "1997-03-29T00:00:00",
          "1996-06-15T00:00:00",
          "1997-04-30T00:00:00",
          "1995-06-08T00:00:00",
          "1995-03-29T00:00:00",
          "1992-02-19T00:00:00",
          "1992-05-17T00:00:00",
          "1992-10-14T00:00:00",
          "1992-11-18T00:00:00",
          "1993-02-17T00:00:00",
          "2004-08-18T00:00:00",
          "1995-06-03T00:00:00",
          "1993-04-28T00:00:00",
          "1994-03-09T00:00:00",
          "1994-05-17T00:00:00",
          "1994-05-22T00:00:00",
          "1994-09-07T00:00:00",
          "1994-10-12T00:00:00",
          "1994-11-16T00:00:00",
          "1993-09-08T00:00:00",
          "1997-05-24T00:00:00",
          "1997-09-10T00:00:00",
          "1997-11-15T00:00:00",
          "2001-05-25T00:00:00",
          "2001-08-15T00:00:00",
          "2001-09-05T00:00:00",
          "2001-10-06T00:00:00",
          "2001-11-10T00:00:00",
          "2002-03-27T00:00:00",
          "2001-03-24T00:00:00",
          "2002-04-17T00:00:00",
          "2002-09-07T00:00:00",
          "2003-09-10T00:00:00",
          "2002-10-16T00:00:00",
          "2003-02-12T00:00:00",
          "2003-04-02T00:00:00",
          "2003-06-03T00:00:00",
          "2003-11-16T00:00:00",
          "2001-02-28T00:00:00",
          "2000-10-07T00:00:00",
          "2000-05-31T00:00:00",
          "1998-02-11T00:00:00",
          "2004-06-05T00:00:00",
          "1998-04-22T00:00:00",
          "1998-05-23T00:00:00",
          "2004-06-01T00:00:00",
          "1998-10-10T00:00:00",
          "1998-11-18T00:00:00",
          "1999-02-10T00:00:00",
          "1999-03-27T00:00:00",
          "1999-06-05T00:00:00",
          "1999-09-04T00:00:00",
          "1999-10-10T00:00:00",
          "1999-11-17T00:00:00",
          "2000-02-23T00:00:00",
          "2000-05-27T00:00:00",
          "1991-10-16T00:00:00",
          "1991-09-11T00:00:00",
          "1991-05-25T00:00:00",
          "1991-05-21T00:00:00",
          "2007-02-07T00:00:00",
          "1982-10-13T00:00:00",
          "1982-12-15T00:00:00",
          "1983-02-23T00:00:00",
          "1983-03-30T00:00:00",
          "1983-04-27T00:00:00",
          "1982-05-25T00:00:00",
          "1983-06-01T00:00:00",
          "1984-04-04T00:00:00",
          "2006-10-07T00:00:00",
          "1984-06-02T00:00:00",
          "1984-09-12T00:00:00",
          "1984-10-17T00:00:00",
          "2006-09-02T00:00:00",
          "1983-09-21T00:00:00",
          "1982-02-23T00:00:00",
          "1981-11-18T00:00:00",
          "2007-06-01T00:00:00",
          "2007-09-12T00:00:00",
          "1979-09-12T00:00:00",
          "1979-11-22T00:00:00",
          "1980-02-06T00:00:00",
          "2007-09-08T00:00:00",
          "1980-05-13T00:00:00",
          "2007-08-22T00:00:00",
          "1980-05-20T00:00:00",
          "1980-09-10T00:00:00",
          "1980-11-19T00:00:00",
          "1981-03-25T00:00:00",
          "1981-04-29T00:00:00",
          "1981-05-12T00:00:00",
          "1959-10-28T00:00:00",
          "1981-05-23T00:00:00",
          "1985-03-26T00:00:00",
          "1979-05-23T00:00:00",
          "2006-08-16T00:00:00",
          "1985-09-11T00:00:00",
          "2005-03-26T00:00:00",
          "1989-06-03T00:00:00",
          "2005-02-09T00:00:00",
          "1989-11-15T00:00:00",
          "1989-12-13T00:00:00",
          "1990-03-28T00:00:00",
          "1989-05-23T00:00:00",
          "1990-04-25T00:00:00",
          "1990-05-22T00:00:00",
          "1990-09-12T00:00:00",
          "1990-10-17T00:00:00",
          "1991-02-06T00:00:00",
          "1991-03-27T00:00:00",
          "2004-10-09T00:00:00",
          "1990-05-15T00:00:00",
          "1989-04-26T00:00:00",
          "2005-03-30T00:00:00",
          "1988-10-19T00:00:00",
          "1985-10-16T00:00:00",
          "1985-11-13T00:00:00",
          "1986-04-23T00:00:00",
          "2006-05-30T00:00:00",
          "1986-10-15T00:00:00",
          "1986-11-12T00:00:00",
          "2006-03-01T00:00:00",
          "2005-10-12T00:00:00",
          "1987-05-19T00:00:00",
          "2005-10-08T00:00:00",
          "1987-10-14T00:00:00",
          "1988-03-23T00:00:00",
          "1988-05-21T00:00:00",
          "1988-05-24T00:00:00",
          "1988-09-14T00:00:00",
          "2006-06-03T00:00:00",
          "2012-02-29T00:00:00",
          "1973-11-14T00:00:00",
          "2003-08-20T00:00:00",
          "1935-02-06T00:00:00",
          "1934-11-14T00:00:00",
          "1895-03-09T00:00:00",
          "2016-05-22T00:00:00",
          "1934-04-14T00:00:00",
          "1933-12-06T00:00:00",
          "1895-03-18T00:00:00",
          "1933-11-15T00:00:00",
          "1895-04-06T00:00:00",
          "2020-11-12T00:00:00",
          "2016-05-27T00:00:00",
          "2016-06-02T00:00:00",
          "1932-12-07T00:00:00",
          "2016-10-08T00:00:00",
          "1932-10-17T00:00:00",
          "2020-10-14T00:00:00",
          "1932-04-09T00:00:00",
          "1931-12-09T00:00:00",
          "1931-11-18T00:00:00",
          "1897-02-20T00:00:00",
          "2016-11-11T00:00:00",
          "2016-11-15T00:00:00",
          "1930-10-20T00:00:00",
          "1897-03-29T00:00:00",
          "1930-04-05T00:00:00",
          "2016-03-29T00:00:00",
          "2020-11-18T00:00:00",
          "1893-04-01T00:00:00",
          "1935-12-04T00:00:00",
          "2015-03-27T00:00:00",
          "1946-01-19T00:00:00",
          "1889-04-13T00:00:00",
          "1945-10-20T00:00:00",
          "2021-06-02T00:00:00",
          "1945-05-26T00:00:00",
          "2021-03-31T00:00:00",
          "1891-03-07T00:00:00",
          "1891-03-07T00:00:00",
          "1938-11-16T00:00:00",
          "1938-11-09T00:00:00",
          "2015-09-08T00:00:00",
          "1929-11-20T00:00:00",
          "2015-10-09T00:00:00",
          "1938-04-09T00:00:00",
          "1937-12-01T00:00:00",
          "1937-11-17T00:00:00",
          "1907-03-18T00:00:00",
          "2021-03-25T00:00:00",
          "1893-02-25T00:00:00",
          "2015-11-17T00:00:00",
          "1936-12-02T00:00:00",
          "1936-11-18T00:00:00",
          "1893-03-13T00:00:00",
          "1936-04-04T00:00:00",
          "1936-02-05T00:00:00",
          "1891-04-06T00:00:00",
          "1897-04-03T00:00:00",
          "2017-03-26T00:00:00",
          "2020-10-11T00:00:00",
          "1920-10-23T00:00:00",
          "1920-04-10T00:00:00",
          "1920-03-15T00:00:00",
          "1903-03-02T00:00:00",
          "2018-09-08T00:00:00",
          "2018-09-11T00:00:00",
          "1903-04-04T00:00:00",
          "1914-02-14T00:00:00",
          "1913-04-05T00:00:00",
          "1913-03-17T00:00:00",
          "2019-11-14T00:00:00",
          "2018-11-15T00:00:00",
          "2018-06-07T00:00:00",
          "1911-04-01T00:00:00",
          "1911-02-11T00:00:00",
          "2018-11-18T00:00:00",
          "2019-03-22T00:00:00",
          "1905-02-25T00:00:00",
          "1905-03-27T00:00:00",
          "1909-04-03T00:00:00",
          "1909-03-15T00:00:00",
          "1909-02-13T00:00:00",
          "1905-04-01T00:00:00",
          "2019-09-07T00:00:00",
          "2019-09-10T00:00:00",
          "1907-04-06T00:00:00",
          "1911-03-13T00:00:00",
          "1946-04-24T00:00:00",
          "2018-06-02T00:00:00",
          "1922-03-13T00:00:00",
          "1928-10-22T00:00:00",
          "1928-03-31T00:00:00",
          "2020-10-08T00:00:00",
          "1927-11-28T00:00:00",
          "1899-02-18T00:00:00",
          "2017-09-04T00:00:00",
          "1899-03-20T00:00:00",
          "1926-10-20T00:00:00",
          "1926-04-17T00:00:00",
          "1926-03-01T00:00:00",
          "1899-04-08T00:00:00",
          "2017-10-05T00:00:00",
          "1903-02-14T00:00:00",
          "1924-12-08T00:00:00",
          "1924-04-12T00:00:00",
          "1924-03-03T00:00:00",
          "1901-03-09T00:00:00",
          "2017-11-10T00:00:00",
          "1901-03-18T00:00:00",
          "2017-11-14T00:00:00",
          "1901-03-30T00:00:00",
          "1902-05-03T00:00:00",
          "1923-03-19T00:00:00",
          "2018-03-27T00:00:00",
          "1922-10-21T00:00:00",
          "1922-04-08T00:00:00",
          "1924-10-22T00:00:00",
          "1946-05-11T00:00:00",
          "1907-02-16T00:00:00",
          "2014-03-05T00:00:00",
          "2012-10-12T00:00:00",
          "2013-11-15T00:00:00",
          "1951-11-28T00:00:00",
          "1951-11-14T00:00:00",
          "2013-11-19T00:00:00",
          "1951-10-03T00:00:00",
          "1951-05-19T00:00:00",
          "1951-05-09T00:00:00",
          "1951-04-14T00:00:00",
          "1950-11-22T00:00:00",
          "1950-11-15T00:00:00",
          "1885-02-28T00:00:00",
          "1885-03-14T00:00:00",
          "1881-03-12T00:00:00",
          "1885-03-21T00:00:00",
          "1954-12-01T00:00:00",
          "1949-11-30T00:00:00",
          "1956-11-14T00:00:00",
          "2021-06-18T00:00:00",
          "2021-06-22T00:00:00",
          "1956-11-28T00:00:00",
          "2013-10-15T00:00:00",
          "2021-06-29T00:00:00",
          "1955-04-02T00:00:00",
          "1883-03-10T00:00:00",
          "2013-05-29T00:00:00",
          "1953-11-25T00:00:00",
          "1883-02-24T00:00:00",
          "1953-11-11T00:00:00",
          "1883-02-03T00:00:00",
          "2013-08-14T00:00:00",
          "1889-03-02T00:00:00",
          "2013-02-06T00:00:00",
          "2021-07-07T00:00:00",
          "1955-11-02T00:00:00",
          "1955-11-30T00:00:00",
          "2013-09-06T00:00:00",
          "2021-07-11T00:00:00",
          "2013-10-11T00:00:00",
          "1953-04-18T00:00:00",
          "1952-11-26T00:00:00",
          "1952-11-12T00:00:00",
          "1956-05-09T00:00:00",
          "1949-11-16T00:00:00",
          "1954-11-10T00:00:00",
          "2021-06-13T00:00:00",
          "1879-01-18T00:00:00",
          "1947-11-05T00:00:00",
          "2014-05-30T00:00:00",
          "2021-06-06T00:00:00",
          "1958-05-07T00:00:00",
          "1877-03-03T00:00:00",
          "2012-06-02T00:00:00",
          "2014-11-15T00:00:00",
          "1875-03-06T00:00:00",
          "1947-11-19T00:00:00",
          "1958-10-22T00:00:00",
          "1947-05-03T00:00:00",
          "1958-11-26T00:00:00",
          "1959-04-11T00:00:00",
          "1959-05-06T00:00:00",
          "1947-04-12T00:00:00",
          "1946-11-27T00:00:00",
          "1946-11-13T00:00:00",
          "1889-02-23T00:00:00",
          "1873-03-08T00:00:00",
          "2021-10-12T00:00:00",
          "1879-04-05T00:00:00",
          "1888-02-04T00:00:00",
          "2014-10-09T00:00:00",
          "2014-09-03T00:00:00",
          "1881-02-26T00:00:00",
          "1957-11-27T00:00:00",
          "1949-04-09T00:00:00",
          "1887-03-19T00:00:00",
          "1957-05-08T00:00:00",
          "1887-02-05T00:00:00",
          "1957-04-06T00:00:00",
          "1956-12-05T00:00:00",
          "1949-09-21T00:00:00",
          "1948-12-02T00:00:00",
          "1948-11-10T00:00:00",
          "2012-09-11T00:00:00",
          "1957-11-06T00:00:00",
          "2021-09-05T00:00:00",
          "1887-02-26T00:00:00",
          "2014-10-12T00:00:00",
          "2007-06-06T00:00:00",
          "2000-10-11T00:00:00",
          "1982-06-03T00:00:00",
          "1966-06-26T00:00:00",
          "1992-06-03T00:00:00",
          "1976-06-13T00:00:00",
          "1937-05-20T00:00:00",
          "1956-05-20T00:00:00",
          "1985-05-22T00:00:00",
          "1955-05-15T00:00:00",
          "1984-02-29T00:00:00",
          "1925-05-21T00:00:00",
          "1963-02-27T00:00:00",
          "1923-05-10T00:00:00",
          "1924-05-17T00:00:00",
          "1946-05-19T00:00:00",
          "2017-06-13T00:00:00",
          "1928-05-17T00:00:00",
          "1929-05-09T00:00:00",
          "2000-09-02T00:00:00",
          "1997-06-07T00:00:00",
          "1949-05-22T00:00:00",
          "1927-05-26T00:00:00",
          "1938-05-26T00:00:00",
          "1931-05-14T00:00:00",
          "2008-03-26T00:00:00",
          "1996-11-09T00:00:00",
          "1974-05-29T00:00:00",
          "1963-06-02T00:00:00",
          "1938-05-14T00:00:00",
          "2016-03-26T00:00:00",
          "1978-02-22T00:00:00",
          "1972-05-13T00:00:00",
          "2008-11-19T00:00:00",
          "1968-06-01T00:00:00",
          "1956-05-26T00:00:00",
          "1987-09-09T00:00:00",
          "2001-09-01T00:00:00",
          "1965-05-12T00:00:00",
          "1930-05-10T00:00:00",
          "2017-03-22T00:00:00",
          "1989-02-08T00:00:00",
          "1982-11-17T00:00:00",
          "1971-12-01T00:00:00",
          "2001-06-06T00:00:00",
          "1909-05-31T00:00:00",
          "1988-04-27T00:00:00",
          "1909-05-29T00:00:00",
          "1954-05-23T00:00:00",
          "1983-10-12T00:00:00",
          "2021-09-02T00:00:00",
          "1960-05-22T00:00:00",
          "1992-05-12T00:00:00",
          "1999-04-28T00:00:00",
          "1908-06-10T00:00:00",
          "1981-06-06T00:00:00",
          "1934-05-10T00:00:00",
          "1982-06-02T00:00:00",
          "2020-09-05T00:00:00",
          "1988-02-17T00:00:00",
          "1986-02-26T00:00:00",
          "2007-03-24T00:00:00",
          "1961-05-24T00:00:00",
          "2015-03-31T00:00:00",
          "1973-06-14T00:00:00",
          "1997-10-11T00:00:00",
          "1939-05-13T00:00:00",
          "1990-07-07T00:00:00",
          "1980-06-15T00:00:00",
          "1976-11-17T00:00:00",
          "1948-05-16T00:00:00",
          "2000-11-15T00:00:00",
          "1952-05-18T00:00:00",
          "1933-05-13T00:00:00",
          "2009-06-06T00:00:00",
          "2019-11-17T00:00:00",
          "2003-03-29T00:00:00",
          "2017-10-08T00:00:00",
          "2015-10-12T00:00:00",
          "1998-10-14T00:00:00",
          "1960-10-19T00:00:00",
          "1983-11-16T00:00:00",
          "1977-10-12T00:00:00",
          "1927-05-21T00:00:00",
          "1991-06-12T00:00:00",
          "2017-09-01T00:00:00",
          "2000-06-03T00:00:00",
          "1971-02-03T00:00:00",
          "1959-05-24T00:00:00",
          "1985-06-09T00:00:00",
          "1969-06-03T00:00:00",
          "1969-06-01T00:00:00",
          "1996-09-01T00:00:00",
          "2012-09-07T00:00:00",
          "2013-03-26T00:00:00",
          "2019-03-25T00:00:00",
          "2011-10-07T00:00:00",
          "1998-05-27T00:00:00",
          "1935-05-18T00:00:00",
          "2006-11-15T00:00:00",
          "1993-10-13T00:00:00",
          "2002-02-13T00:00:00",
          "2018-03-23T00:00:00",
          "1964-12-09T00:00:00",
          "1969-11-05T00:00:00",
          "2009-08-12T00:00:00",
          "1991-06-08T00:00:00",
          "1991-06-03T00:00:00",
          "2006-09-06T00:00:00",
          "2003-09-06T00:00:00",
          "1896-03-07T00:00:00",
          "1933-10-14T00:00:00",
          "1884-02-23T00:00:00",
          "1888-04-07T00:00:00",
          "1894-03-03T00:00:00",
          "1935-10-19T00:00:00",
          "1977-05-28T00:00:00",
          "1952-10-04T00:00:00",
          "1886-03-13T00:00:00",
          "1966-10-22T00:00:00",
          "1892-03-05T00:00:00",
          "1937-10-23T00:00:00",
          "1975-05-17T00:00:00",
          "1946-09-28T00:00:00",
          "1979-05-19T00:00:00",
          "1890-03-15T00:00:00",
          "1945-09-15T00:00:00",
          "1969-05-03T00:00:00",
          "1950-10-07T00:00:00",
          "1908-02-15T00:00:00",
          "1931-10-17T00:00:00",
          "1906-02-17T00:00:00",
          "1910-02-12T00:00:00",
          "1912-02-10T00:00:00",
          "1904-03-12T00:00:00",
          "1913-02-15T00:00:00",
          "1960-10-08T00:00:00",
          "2005-09-07T00:00:00",
          "1919-10-25T00:00:00",
          "1958-10-04T00:00:00",
          "1987-04-01T00:00:00",
          "1921-10-22T00:00:00",
          "1902-03-22T00:00:00",
          "1979-10-17T00:00:00",
          "1985-02-27T00:00:00",
          "1962-10-20T00:00:00",
          "1956-10-06T00:00:00",
          "1882-02-18T00:00:00",
          "1900-03-17T00:00:00",
          "1925-10-24T00:00:00",
          "1983-05-28T00:00:00",
          "1927-10-22T00:00:00",
          "1964-10-03T00:00:00",
          "1948-10-09T00:00:00",
          "1898-03-05T00:00:00",
          "1929-10-19T00:00:00",
          "1954-10-02T00:00:00",
          "1923-10-20T00:00:00",
          "1971-05-15T00:00:00",
          "1966-06-29T00:00:00",
          "1949-05-18T00:00:00",
          "1981-09-09T00:00:00",
          "2012-05-26T00:00:00",
          "1937-05-14T00:00:00",
          "1993-06-02T00:00:00",
          "1995-10-11T00:00:00",
          "1962-05-20T00:00:00",
          "1959-05-17T00:00:00",
          "1997-05-31T00:00:00",
          "1989-10-11T00:00:00",
          "1991-11-13T00:00:00",
          "1999-09-08T00:00:00",
          "2021-09-08T00:00:00",
          "1993-05-29T00:00:00",
          "1973-06-06T00:00:00",
          "1966-07-05T00:00:00",
          "2004-09-08T00:00:00",
          "2012-10-17T00:00:00",
          "1947-05-25T00:00:00",
          "2004-06-24T00:00:00",
          "1955-05-22T00:00:00",
          "1964-05-17T00:00:00",
          "1961-05-21T00:00:00",
          "2004-02-18T00:00:00",
          "1950-05-14T00:00:00",
          "1974-04-03T00:00:00",
          "1975-11-19T00:00:00",
          "1957-05-19T00:00:00",
          "1946-09-30T00:00:00",
          "1995-02-15T00:00:00",
          "1978-10-25T00:00:00",
          "1990-11-14T00:00:00",
          "2015-06-07T00:00:00",
          "1964-05-24T00:00:00",
          "1985-05-01T00:00:00",
          "1980-10-15T00:00:00",
          "1968-11-06T00:00:00",
          "1939-05-24T00:00:00",
          "2007-10-17T00:00:00",
          "1986-03-26T00:00:00",
          "1958-05-18T00:00:00",
          "1992-04-29T00:00:00",
          "1973-06-10T00:00:00",
          "2013-03-22T00:00:00",
          "2015-09-05T00:00:00",
          "2021-11-15T00:00:00",
          "1988-11-16T00:00:00",
          "1872-11-30T00:00:00",
          "1982-05-29T00:00:00",
          "1929-04-13T00:00:00",
          "1931-03-28T00:00:00",
          "1980-05-24T00:00:00",
          "1933-04-01T00:00:00",
          "1935-04-06T00:00:00",
          "1978-05-20T00:00:00",
          "1937-04-17T00:00:00",
          "1939-04-15T00:00:00",
          "1976-05-15T00:00:00",
          "1946-04-13T00:00:00",
          "2017-06-10T00:00:00",
          "2014-11-18T00:00:00",
          "1950-04-15T00:00:00",
          "1952-04-05T00:00:00",
          "1974-05-18T00:00:00",
          "1954-04-03T00:00:00",
          "1973-02-14T00:00:00",
          "1956-04-14T00:00:00",
          "1958-04-19T00:00:00",
          "1972-05-27T00:00:00",
          "1960-04-09T00:00:00",
          "1962-04-14T00:00:00",
          "1970-04-25T00:00:00",
          "1964-04-11T00:00:00",
          "1948-04-10T00:00:00",
          "1927-04-02T00:00:00",
          "1984-05-26T00:00:00",
          "1925-04-04T00:00:00",
          "1874-03-07T00:00:00",
          "1876-03-04T00:00:00",
          "1999-11-13T00:00:00",
          "1878-03-02T00:00:00",
          "1880-03-13T00:00:00",
          "1882-03-11T00:00:00",
          "1884-03-15T00:00:00",
          "1886-03-27T00:00:00",
          "1888-03-17T00:00:00",
          "1890-04-05T00:00:00",
          "1892-04-02T00:00:00",
          "1894-04-07T00:00:00",
          "1896-04-04T00:00:00",
          "1898-04-02T00:00:00",
          "1989-05-27T00:00:00",
          "1900-04-07T00:00:00",
          "1904-04-09T00:00:00",
          "1906-04-07T00:00:00",
          "1908-04-04T00:00:00",
          "1987-05-23T00:00:00",
          "1910-04-02T00:00:00",
          "1912-03-23T00:00:00",
          "1914-04-14T00:00:00",
          "1921-04-09T00:00:00",
          "1985-05-25T00:00:00",
          "1923-04-14T00:00:00",
          "1966-04-02T00:00:00",
          "1968-02-24T00:00:00",
          "2016-09-04T00:00:00",
          "2002-10-12T00:00:00",
          "2015-06-14T00:00:00",
          "2016-10-11T00:00:00",
          "2003-05-22T00:00:00",
          "2002-05-21T00:00:00",
          "1968-05-08T00:00:00",
          "2015-11-13T00:00:00",
          "1955-05-18T00:00:00",
          "1980-03-26T00:00:00",
          "2009-02-11T00:00:00",
          "1929-05-15T00:00:00",
          "1960-05-15T00:00:00",
          "1987-02-18T00:00:00",
          "1982-07-05T00:00:00",
          "1965-12-08T00:00:00",
          "2004-11-17T00:00:00",
          "2018-10-15T00:00:00",
          "1992-09-09T00:00:00",
          "2012-11-14T00:00:00",
          "2004-03-31T00:00:00",
          "1937-05-17T00:00:00",
          "1998-09-05T00:00:00",
          "1979-06-10T00:00:00",
          "1965-05-16T00:00:00",
          "1949-05-13T00:00:00",
          "1992-06-17T00:00:00",
          "1923-05-24T00:00:00",
          "1923-05-21T00:00:00",
          "1989-09-06T00:00:00",
          "1986-09-10T00:00:00",
          "1956-05-16T00:00:00",
          "1981-05-30T00:00:00",
          "2014-09-08T00:00:00",
          "1998-03-25T00:00:00",
          "1938-05-21T00:00:00",
          "1945-07-21T00:00:00",
          "1947-05-18T00:00:00",
          "1975-09-03T00:00:00",
          "1988-05-28T00:00:00",
          "1933-05-20T00:00:00",
          "1954-06-20T00:00:00",
          "1963-06-05T00:00:00",
          "1952-05-28T00:00:00",
          "1971-10-13T00:00:00",
          "2010-09-07T00:00:00",
          "2008-06-01T00:00:00",
          "1990-06-02T00:00:00",
          "1991-05-01T00:00:00",
          "1984-11-14T00:00:00",
          "1993-03-31T00:00:00",
          "1987-04-29T00:00:00",
          "2003-10-11T00:00:00",
          "2009-10-10T00:00:00",
          "2012-06-19T00:00:00",
          "2013-09-10T00:00:00",
          "1953-06-08T00:00:00",
          "1964-05-27T00:00:00",
          "2005-05-28T00:00:00",
          "1959-05-28T00:00:00",
          "1993-06-09T00:00:00",
          "1985-06-16T00:00:00",
          "1953-05-31T00:00:00",
          "1969-06-08T00:00:00",
          "1984-06-13T00:00:00",
          "1977-06-15T00:00:00",
          "1906-03-19T00:00:00",
          "1908-03-16T00:00:00",
          "1963-10-12T00:00:00",
          "2005-09-03T00:00:00",
          "1904-02-29T00:00:00",
          "1902-03-03T00:00:00",
          "1949-10-15T00:00:00",
          "1970-04-18T00:00:00",
          "1898-03-28T00:00:00",
          "2011-03-26T00:00:00",
          "1896-03-16T00:00:00",
          "1910-03-14T00:00:00",
          "1892-03-05T00:00:00",
          "1890-03-15T00:00:00",
          "1886-03-29T00:00:00",
          "1884-03-17T00:00:00",
          "1882-03-13T00:00:00",
          "1880-03-15T00:00:00",
          "1965-10-02T00:00:00",
          "1967-10-21T00:00:00",
          "1900-03-26T00:00:00",
          "1894-03-12T00:00:00",
          "1921-03-14T00:00:00",
          "1972-11-15T00:00:00",
          "1947-10-18T00:00:00",
          "1938-10-22T00:00:00",
          "1953-10-10T00:00:00",
          "1974-05-11T00:00:00",
          "1978-05-13T00:00:00",
          "1936-10-17T00:00:00",
          "1955-10-22T00:00:00",
          "1934-09-29T00:00:00",
          "1912-03-11T00:00:00",
          "1980-05-17T00:00:00",
          "1932-11-16T00:00:00",
          "1976-05-08T00:00:00",
          "1957-10-19T00:00:00",
          "1951-10-20T00:00:00",
          "1982-04-27T00:00:00",
          "1928-11-17T00:00:00",
          "1984-05-02T00:00:00",
          "1927-02-12T00:00:00",
          "1925-02-28T00:00:00",
          "1959-10-17T00:00:00",
          "1972-05-20T00:00:00",
          "1923-03-05T00:00:00",
          "1961-10-14T00:00:00",
          "1914-03-16T00:00:00",
          "1930-11-22T00:00:00",
          "1976-03-24T00:00:00",
          "1974-06-05T00:00:00",
          "1987-11-11T00:00:00",
          "1965-05-09T00:00:00",
          "1958-05-11T00:00:00",
          "1939-05-18T00:00:00",
          "1954-05-16T00:00:00"
         ],
         "xaxis": "x",
         "y": [
          0,
          0,
          1,
          0,
          1,
          3,
          0,
          1,
          0,
          0,
          0,
          1,
          2,
          1,
          1,
          2,
          1,
          3,
          0,
          0,
          2,
          4,
          0,
          0,
          1,
          2,
          2,
          1,
          0,
          2,
          1,
          1,
          3,
          1,
          3,
          1,
          1,
          0,
          5,
          2,
          2,
          2,
          0,
          0,
          1,
          0,
          0,
          0,
          0,
          1,
          0,
          0,
          0,
          2,
          0,
          1,
          0,
          2,
          2,
          2,
          1,
          2,
          2,
          0,
          3,
          1,
          0,
          4,
          2,
          1,
          1,
          1,
          0,
          0,
          0,
          0,
          3,
          3,
          1,
          2,
          5,
          4,
          1,
          1,
          2,
          2,
          8,
          1,
          5,
          2,
          2,
          2,
          0,
          2,
          3,
          2,
          1,
          2,
          2,
          1,
          2,
          4,
          4,
          2,
          3,
          1,
          1,
          1,
          2,
          4,
          0,
          5,
          9,
          8,
          4,
          1,
          0,
          2,
          1,
          3,
          5,
          0,
          1,
          2,
          1,
          1,
          5,
          2,
          2,
          1,
          3,
          0,
          2,
          3,
          2,
          1,
          0,
          1,
          2,
          2,
          4,
          4,
          6,
          2,
          0,
          5,
          1,
          1,
          2,
          2,
          3,
          5,
          1,
          3,
          2,
          5,
          2,
          3,
          3,
          2,
          1,
          7,
          1,
          1,
          3,
          2,
          0,
          1,
          1,
          4,
          0,
          2,
          4,
          2,
          1,
          1,
          3,
          2,
          2,
          0,
          5,
          3,
          1,
          1,
          5,
          4,
          0,
          3,
          0,
          3,
          1,
          1,
          0,
          3,
          1,
          1,
          4,
          0,
          1,
          2,
          0,
          2,
          2,
          2,
          3,
          0,
          2,
          1,
          1,
          4,
          6,
          3,
          2,
          2,
          1,
          5,
          0,
          2,
          1,
          1,
          3,
          2,
          4,
          2,
          4,
          0,
          2,
          2,
          1,
          1,
          2,
          4,
          1,
          2,
          2,
          1,
          2,
          2,
          2,
          3,
          0,
          2,
          0,
          6,
          3,
          0,
          1,
          0,
          2,
          0,
          3,
          0,
          6,
          2,
          0,
          0,
          1,
          1,
          0,
          2,
          3,
          0,
          1,
          9,
          2,
          0,
          2,
          2,
          2,
          1,
          0,
          0,
          1,
          5,
          5,
          0,
          4,
          1,
          1,
          3,
          1,
          2,
          2,
          3,
          3,
          1,
          1,
          4,
          2,
          1,
          0,
          0,
          2,
          0,
          2,
          0,
          4,
          1,
          4,
          3,
          0,
          0,
          2,
          1,
          0,
          4,
          1,
          1,
          2,
          2,
          1,
          2,
          1,
          5,
          2,
          0,
          5,
          0,
          2,
          3,
          3,
          2,
          2,
          2,
          1,
          1,
          8,
          2,
          1,
          1,
          1,
          6,
          2,
          0,
          3,
          2,
          3,
          9,
          2,
          3,
          4,
          1,
          1,
          3,
          3,
          2,
          1,
          4,
          2,
          1,
          0,
          3,
          7,
          3,
          6,
          3,
          2,
          5,
          4,
          5,
          1,
          4,
          5,
          3,
          4,
          2,
          2,
          0,
          1,
          2,
          2,
          4,
          6,
          7,
          4,
          2,
          6,
          2,
          0,
          5,
          2,
          1,
          5,
          6,
          2,
          6,
          3,
          6,
          1,
          1,
          2,
          1,
          2,
          2,
          2,
          5,
          1,
          2,
          1,
          1,
          1,
          0,
          1,
          4,
          7,
          3,
          2,
          1,
          2,
          2,
          5,
          1,
          3,
          2,
          2,
          4,
          1,
          4,
          5,
          1,
          3,
          2,
          2,
          1,
          2,
          1,
          3,
          1,
          13,
          2,
          4,
          3,
          0,
          1,
          2,
          1,
          4,
          4,
          1,
          1,
          3,
          0,
          6,
          0,
          2,
          2,
          6,
          1,
          2,
          0,
          3,
          4,
          1,
          1,
          5,
          0,
          2,
          2,
          0,
          2,
          5,
          2,
          2,
          2,
          4,
          4,
          1,
          1,
          1,
          3,
          2,
          3,
          0,
          1,
          3,
          2,
          2,
          7,
          2,
          1,
          3,
          7,
          3,
          5,
          3,
          6,
          2,
          2,
          3,
          4,
          4,
          1,
          4,
          2,
          5,
          5,
          4,
          9,
          3,
          1,
          2,
          2,
          3,
          1,
          2,
          1,
          1,
          3,
          2,
          4,
          5,
          3,
          2,
          1,
          2,
          1,
          8,
          3,
          4,
          4,
          1,
          5,
          5,
          5,
          1,
          0,
          4,
          1,
          2,
          5,
          7,
          2,
          5,
          0,
          6,
          1,
          1,
          2,
          4,
          4,
          0,
          0,
          0,
          1,
          0,
          1,
          1,
          0,
          1,
          1,
          1,
          2,
          2,
          5,
          1,
          1,
          2,
          3,
          1,
          1,
          1,
          0,
          1,
          0,
          2,
          5,
          1,
          0,
          1,
          1,
          3,
          2,
          2,
          0,
          1,
          1,
          1,
          3,
          1,
          0,
          3,
          1,
          1,
          0,
          0,
          0,
          2,
          0,
          2,
          7,
          0,
          0,
          2,
          0,
          1,
          0,
          1,
          2,
          1,
          0,
          0,
          1,
          0,
          2,
          1,
          2,
          0,
          2,
          2,
          1,
          2,
          0,
          1,
          1,
          1,
          0,
          0,
          0,
          0,
          0,
          0,
          0,
          0,
          0,
          2,
          2,
          0,
          1,
          0,
          2,
          1,
          0,
          0,
          0,
          0,
          1,
          1,
          2,
          0,
          0,
          1,
          2,
          1,
          0,
          1,
          0,
          2,
          0,
          0,
          0,
          1,
          0,
          0,
          1,
          1,
          2,
          1,
          1,
          2,
          1,
          0,
          0,
          1,
          0,
          2,
          0,
          1,
          0,
          1,
          1,
          1,
          2,
          0,
          1,
          1,
          1,
          2,
          2,
          1,
          1,
          3,
          0,
          1,
          0,
          1,
          0,
          1,
          1,
          0,
          0,
          0,
          0,
          2,
          3,
          2,
          2,
          0,
          0,
          2,
          0,
          1,
          1,
          2,
          0,
          0,
          2,
          0,
          0,
          4,
          0,
          0,
          1,
          0,
          1,
          1,
          2,
          0,
          1,
          1,
          0,
          2,
          3,
          3,
          1,
          1,
          3,
          0,
          1,
          1,
          0,
          1,
          1,
          1,
          0,
          1,
          0,
          2,
          0,
          0,
          2,
          0,
          1,
          2,
          1,
          0,
          0,
          0,
          1,
          0,
          0,
          1,
          2,
          0,
          2,
          2,
          0,
          3,
          1,
          2,
          1,
          2,
          1,
          0,
          1,
          2,
          2,
          0,
          1,
          0,
          0,
          1,
          2,
          0,
          1,
          0,
          1,
          1,
          2,
          2,
          3,
          0,
          7,
          5,
          5,
          1,
          1,
          0,
          1,
          1,
          2,
          2,
          1,
          0,
          4,
          0,
          2,
          1,
          0,
          2,
          1,
          3,
          3,
          1,
          2,
          3,
          1,
          0,
          1,
          2,
          0,
          1,
          1,
          1,
          2,
          1,
          0,
          2,
          4,
          3,
          2,
          0,
          0,
          1,
          2,
          1,
          4,
          1,
          0,
          2,
          0,
          1,
          3,
          2,
          1,
          2,
          0,
          1,
          0,
          2,
          0,
          1,
          2,
          3,
          1,
          1,
          0,
          0,
          0,
          1,
          0,
          2,
          1,
          0,
          1,
          0,
          0,
          0,
          0,
          0,
          1,
          0,
          0,
          3,
          0,
          1,
          1,
          2,
          0,
          2,
          1,
          2,
          0,
          0,
          1,
          0,
          0,
          2,
          0,
          1,
          1,
          0,
          0,
          1,
          0,
          0,
          1,
          1,
          0,
          5,
          2,
          0,
          0,
          1,
          1,
          0,
          0,
          0,
          4,
          1,
          0,
          1,
          2,
          2,
          0,
          0,
          4,
          0,
          0,
          0,
          1,
          0,
          2,
          1,
          3,
          1,
          1,
          0,
          2,
          1,
          0,
          0,
          1,
          2,
          1,
          1,
          5,
          2,
          1
         ],
         "yaxis": "y"
        }
       ],
       "layout": {
        "legend": {
         "tracegroupgap": 0
        },
        "margin": {
         "t": 60
        },
        "template": {
         "data": {
          "bar": [
           {
            "error_x": {
             "color": "#2a3f5f"
            },
            "error_y": {
             "color": "#2a3f5f"
            },
            "marker": {
             "line": {
              "color": "#E5ECF6",
              "width": 0.5
             },
             "pattern": {
              "fillmode": "overlay",
              "size": 10,
              "solidity": 0.2
             }
            },
            "type": "bar"
           }
          ],
          "barpolar": [
           {
            "marker": {
             "line": {
              "color": "#E5ECF6",
              "width": 0.5
             },
             "pattern": {
              "fillmode": "overlay",
              "size": 10,
              "solidity": 0.2
             }
            },
            "type": "barpolar"
           }
          ],
          "carpet": [
           {
            "aaxis": {
             "endlinecolor": "#2a3f5f",
             "gridcolor": "white",
             "linecolor": "white",
             "minorgridcolor": "white",
             "startlinecolor": "#2a3f5f"
            },
            "baxis": {
             "endlinecolor": "#2a3f5f",
             "gridcolor": "white",
             "linecolor": "white",
             "minorgridcolor": "white",
             "startlinecolor": "#2a3f5f"
            },
            "type": "carpet"
           }
          ],
          "choropleth": [
           {
            "colorbar": {
             "outlinewidth": 0,
             "ticks": ""
            },
            "type": "choropleth"
           }
          ],
          "contour": [
           {
            "colorbar": {
             "outlinewidth": 0,
             "ticks": ""
            },
            "colorscale": [
             [
              0,
              "#0d0887"
             ],
             [
              0.1111111111111111,
              "#46039f"
             ],
             [
              0.2222222222222222,
              "#7201a8"
             ],
             [
              0.3333333333333333,
              "#9c179e"
             ],
             [
              0.4444444444444444,
              "#bd3786"
             ],
             [
              0.5555555555555556,
              "#d8576b"
             ],
             [
              0.6666666666666666,
              "#ed7953"
             ],
             [
              0.7777777777777778,
              "#fb9f3a"
             ],
             [
              0.8888888888888888,
              "#fdca26"
             ],
             [
              1,
              "#f0f921"
             ]
            ],
            "type": "contour"
           }
          ],
          "contourcarpet": [
           {
            "colorbar": {
             "outlinewidth": 0,
             "ticks": ""
            },
            "type": "contourcarpet"
           }
          ],
          "heatmap": [
           {
            "colorbar": {
             "outlinewidth": 0,
             "ticks": ""
            },
            "colorscale": [
             [
              0,
              "#0d0887"
             ],
             [
              0.1111111111111111,
              "#46039f"
             ],
             [
              0.2222222222222222,
              "#7201a8"
             ],
             [
              0.3333333333333333,
              "#9c179e"
             ],
             [
              0.4444444444444444,
              "#bd3786"
             ],
             [
              0.5555555555555556,
              "#d8576b"
             ],
             [
              0.6666666666666666,
              "#ed7953"
             ],
             [
              0.7777777777777778,
              "#fb9f3a"
             ],
             [
              0.8888888888888888,
              "#fdca26"
             ],
             [
              1,
              "#f0f921"
             ]
            ],
            "type": "heatmap"
           }
          ],
          "heatmapgl": [
           {
            "colorbar": {
             "outlinewidth": 0,
             "ticks": ""
            },
            "colorscale": [
             [
              0,
              "#0d0887"
             ],
             [
              0.1111111111111111,
              "#46039f"
             ],
             [
              0.2222222222222222,
              "#7201a8"
             ],
             [
              0.3333333333333333,
              "#9c179e"
             ],
             [
              0.4444444444444444,
              "#bd3786"
             ],
             [
              0.5555555555555556,
              "#d8576b"
             ],
             [
              0.6666666666666666,
              "#ed7953"
             ],
             [
              0.7777777777777778,
              "#fb9f3a"
             ],
             [
              0.8888888888888888,
              "#fdca26"
             ],
             [
              1,
              "#f0f921"
             ]
            ],
            "type": "heatmapgl"
           }
          ],
          "histogram": [
           {
            "marker": {
             "pattern": {
              "fillmode": "overlay",
              "size": 10,
              "solidity": 0.2
             }
            },
            "type": "histogram"
           }
          ],
          "histogram2d": [
           {
            "colorbar": {
             "outlinewidth": 0,
             "ticks": ""
            },
            "colorscale": [
             [
              0,
              "#0d0887"
             ],
             [
              0.1111111111111111,
              "#46039f"
             ],
             [
              0.2222222222222222,
              "#7201a8"
             ],
             [
              0.3333333333333333,
              "#9c179e"
             ],
             [
              0.4444444444444444,
              "#bd3786"
             ],
             [
              0.5555555555555556,
              "#d8576b"
             ],
             [
              0.6666666666666666,
              "#ed7953"
             ],
             [
              0.7777777777777778,
              "#fb9f3a"
             ],
             [
              0.8888888888888888,
              "#fdca26"
             ],
             [
              1,
              "#f0f921"
             ]
            ],
            "type": "histogram2d"
           }
          ],
          "histogram2dcontour": [
           {
            "colorbar": {
             "outlinewidth": 0,
             "ticks": ""
            },
            "colorscale": [
             [
              0,
              "#0d0887"
             ],
             [
              0.1111111111111111,
              "#46039f"
             ],
             [
              0.2222222222222222,
              "#7201a8"
             ],
             [
              0.3333333333333333,
              "#9c179e"
             ],
             [
              0.4444444444444444,
              "#bd3786"
             ],
             [
              0.5555555555555556,
              "#d8576b"
             ],
             [
              0.6666666666666666,
              "#ed7953"
             ],
             [
              0.7777777777777778,
              "#fb9f3a"
             ],
             [
              0.8888888888888888,
              "#fdca26"
             ],
             [
              1,
              "#f0f921"
             ]
            ],
            "type": "histogram2dcontour"
           }
          ],
          "mesh3d": [
           {
            "colorbar": {
             "outlinewidth": 0,
             "ticks": ""
            },
            "type": "mesh3d"
           }
          ],
          "parcoords": [
           {
            "line": {
             "colorbar": {
              "outlinewidth": 0,
              "ticks": ""
             }
            },
            "type": "parcoords"
           }
          ],
          "pie": [
           {
            "automargin": true,
            "type": "pie"
           }
          ],
          "scatter": [
           {
            "marker": {
             "colorbar": {
              "outlinewidth": 0,
              "ticks": ""
             }
            },
            "type": "scatter"
           }
          ],
          "scatter3d": [
           {
            "line": {
             "colorbar": {
              "outlinewidth": 0,
              "ticks": ""
             }
            },
            "marker": {
             "colorbar": {
              "outlinewidth": 0,
              "ticks": ""
             }
            },
            "type": "scatter3d"
           }
          ],
          "scattercarpet": [
           {
            "marker": {
             "colorbar": {
              "outlinewidth": 0,
              "ticks": ""
             }
            },
            "type": "scattercarpet"
           }
          ],
          "scattergeo": [
           {
            "marker": {
             "colorbar": {
              "outlinewidth": 0,
              "ticks": ""
             }
            },
            "type": "scattergeo"
           }
          ],
          "scattergl": [
           {
            "marker": {
             "colorbar": {
              "outlinewidth": 0,
              "ticks": ""
             }
            },
            "type": "scattergl"
           }
          ],
          "scattermapbox": [
           {
            "marker": {
             "colorbar": {
              "outlinewidth": 0,
              "ticks": ""
             }
            },
            "type": "scattermapbox"
           }
          ],
          "scatterpolar": [
           {
            "marker": {
             "colorbar": {
              "outlinewidth": 0,
              "ticks": ""
             }
            },
            "type": "scatterpolar"
           }
          ],
          "scatterpolargl": [
           {
            "marker": {
             "colorbar": {
              "outlinewidth": 0,
              "ticks": ""
             }
            },
            "type": "scatterpolargl"
           }
          ],
          "scatterternary": [
           {
            "marker": {
             "colorbar": {
              "outlinewidth": 0,
              "ticks": ""
             }
            },
            "type": "scatterternary"
           }
          ],
          "surface": [
           {
            "colorbar": {
             "outlinewidth": 0,
             "ticks": ""
            },
            "colorscale": [
             [
              0,
              "#0d0887"
             ],
             [
              0.1111111111111111,
              "#46039f"
             ],
             [
              0.2222222222222222,
              "#7201a8"
             ],
             [
              0.3333333333333333,
              "#9c179e"
             ],
             [
              0.4444444444444444,
              "#bd3786"
             ],
             [
              0.5555555555555556,
              "#d8576b"
             ],
             [
              0.6666666666666666,
              "#ed7953"
             ],
             [
              0.7777777777777778,
              "#fb9f3a"
             ],
             [
              0.8888888888888888,
              "#fdca26"
             ],
             [
              1,
              "#f0f921"
             ]
            ],
            "type": "surface"
           }
          ],
          "table": [
           {
            "cells": {
             "fill": {
              "color": "#EBF0F8"
             },
             "line": {
              "color": "white"
             }
            },
            "header": {
             "fill": {
              "color": "#C8D4E3"
             },
             "line": {
              "color": "white"
             }
            },
            "type": "table"
           }
          ]
         },
         "layout": {
          "annotationdefaults": {
           "arrowcolor": "#2a3f5f",
           "arrowhead": 0,
           "arrowwidth": 1
          },
          "autotypenumbers": "strict",
          "coloraxis": {
           "colorbar": {
            "outlinewidth": 0,
            "ticks": ""
           }
          },
          "colorscale": {
           "diverging": [
            [
             0,
             "#8e0152"
            ],
            [
             0.1,
             "#c51b7d"
            ],
            [
             0.2,
             "#de77ae"
            ],
            [
             0.3,
             "#f1b6da"
            ],
            [
             0.4,
             "#fde0ef"
            ],
            [
             0.5,
             "#f7f7f7"
            ],
            [
             0.6,
             "#e6f5d0"
            ],
            [
             0.7,
             "#b8e186"
            ],
            [
             0.8,
             "#7fbc41"
            ],
            [
             0.9,
             "#4d9221"
            ],
            [
             1,
             "#276419"
            ]
           ],
           "sequential": [
            [
             0,
             "#0d0887"
            ],
            [
             0.1111111111111111,
             "#46039f"
            ],
            [
             0.2222222222222222,
             "#7201a8"
            ],
            [
             0.3333333333333333,
             "#9c179e"
            ],
            [
             0.4444444444444444,
             "#bd3786"
            ],
            [
             0.5555555555555556,
             "#d8576b"
            ],
            [
             0.6666666666666666,
             "#ed7953"
            ],
            [
             0.7777777777777778,
             "#fb9f3a"
            ],
            [
             0.8888888888888888,
             "#fdca26"
            ],
            [
             1,
             "#f0f921"
            ]
           ],
           "sequentialminus": [
            [
             0,
             "#0d0887"
            ],
            [
             0.1111111111111111,
             "#46039f"
            ],
            [
             0.2222222222222222,
             "#7201a8"
            ],
            [
             0.3333333333333333,
             "#9c179e"
            ],
            [
             0.4444444444444444,
             "#bd3786"
            ],
            [
             0.5555555555555556,
             "#d8576b"
            ],
            [
             0.6666666666666666,
             "#ed7953"
            ],
            [
             0.7777777777777778,
             "#fb9f3a"
            ],
            [
             0.8888888888888888,
             "#fdca26"
            ],
            [
             1,
             "#f0f921"
            ]
           ]
          },
          "colorway": [
           "#636efa",
           "#EF553B",
           "#00cc96",
           "#ab63fa",
           "#FFA15A",
           "#19d3f3",
           "#FF6692",
           "#B6E880",
           "#FF97FF",
           "#FECB52"
          ],
          "font": {
           "color": "#2a3f5f"
          },
          "geo": {
           "bgcolor": "white",
           "lakecolor": "white",
           "landcolor": "#E5ECF6",
           "showlakes": true,
           "showland": true,
           "subunitcolor": "white"
          },
          "hoverlabel": {
           "align": "left"
          },
          "hovermode": "closest",
          "mapbox": {
           "style": "light"
          },
          "paper_bgcolor": "white",
          "plot_bgcolor": "#E5ECF6",
          "polar": {
           "angularaxis": {
            "gridcolor": "white",
            "linecolor": "white",
            "ticks": ""
           },
           "bgcolor": "#E5ECF6",
           "radialaxis": {
            "gridcolor": "white",
            "linecolor": "white",
            "ticks": ""
           }
          },
          "scene": {
           "xaxis": {
            "backgroundcolor": "#E5ECF6",
            "gridcolor": "white",
            "gridwidth": 2,
            "linecolor": "white",
            "showbackground": true,
            "ticks": "",
            "zerolinecolor": "white"
           },
           "yaxis": {
            "backgroundcolor": "#E5ECF6",
            "gridcolor": "white",
            "gridwidth": 2,
            "linecolor": "white",
            "showbackground": true,
            "ticks": "",
            "zerolinecolor": "white"
           },
           "zaxis": {
            "backgroundcolor": "#E5ECF6",
            "gridcolor": "white",
            "gridwidth": 2,
            "linecolor": "white",
            "showbackground": true,
            "ticks": "",
            "zerolinecolor": "white"
           }
          },
          "shapedefaults": {
           "line": {
            "color": "#2a3f5f"
           }
          },
          "ternary": {
           "aaxis": {
            "gridcolor": "white",
            "linecolor": "white",
            "ticks": ""
           },
           "baxis": {
            "gridcolor": "white",
            "linecolor": "white",
            "ticks": ""
           },
           "bgcolor": "#E5ECF6",
           "caxis": {
            "gridcolor": "white",
            "linecolor": "white",
            "ticks": ""
           }
          },
          "title": {
           "x": 0.05
          },
          "xaxis": {
           "automargin": true,
           "gridcolor": "white",
           "linecolor": "white",
           "ticks": "",
           "title": {
            "standoff": 15
           },
           "zerolinecolor": "white",
           "zerolinewidth": 2
          },
          "yaxis": {
           "automargin": true,
           "gridcolor": "white",
           "linecolor": "white",
           "ticks": "",
           "title": {
            "standoff": 15
           },
           "zerolinecolor": "white",
           "zerolinewidth": 2
          }
         }
        },
        "xaxis": {
         "anchor": "y",
         "domain": [
          0,
          1
         ],
         "title": {
          "text": "date"
         }
        },
        "yaxis": {
         "anchor": "x",
         "domain": [
          0,
          1
         ],
         "title": {
          "text": "home_score"
         }
        }
       }
      },
      "text/html": [
       "<div>                            <div id=\"6642909f-f94d-4a27-ad05-10e19197bd5d\" class=\"plotly-graph-div\" style=\"height:525px; width:100%;\"></div>            <script type=\"text/javascript\">                require([\"plotly\"], function(Plotly) {                    window.PLOTLYENV=window.PLOTLYENV || {};                                    if (document.getElementById(\"6642909f-f94d-4a27-ad05-10e19197bd5d\")) {                    Plotly.newPlot(                        \"6642909f-f94d-4a27-ad05-10e19197bd5d\",                        [{\"customdata\":[[2.0,\"Albania\",\"England\"],[2.0,\"Albania\",\"England\"],[3.0,\"Albania\",\"England\"],[5.0,\"Andorra\",\"England\"],[1.0,\"Argentina\",\"England\"],[1.0,\"Argentina\",\"England\"],[0.0,\"Argentina\",\"England\"],[1.0,\"Australia\",\"England\"],[1.0,\"Australia\",\"England\"],[1.0,\"Australia\",\"England\"],[0.0,\"Australia\",\"England\"],[2.0,\"Australia\",\"England\"],[2.0,\"Austria\",\"England\"],[8.0,\"Austria\",\"England\"],[11.0,\"Austria\",\"England\"],[1.0,\"Austria\",\"England\"],[6.0,\"Austria\",\"England\"],[1.0,\"Austria\",\"England\"],[1.0,\"Austria\",\"England\"],[0.0,\"Austria\",\"England\"],[3.0,\"Austria\",\"England\"],[3.0,\"Austria\",\"England\"],[1.0,\"Austria\",\"England\"],[1.0,\"Azerbaijan\",\"England\"],[3.0,\"Belarus\",\"England\"],[0.0,\"Belgium\",\"England\"],[5.0,\"Belgium\",\"England\"],[4.0,\"Belgium\",\"England\"],[2.0,\"Belgium\",\"England\"],[2.0,\"Belgium\",\"England\"],[3.0,\"Belgium\",\"England\"],[9.0,\"Belgium\",\"England\"],[2.0,\"Belgium\",\"England\"],[4.0,\"Belgium\",\"England\"],[5.0,\"Belgium\",\"England\"],[3.0,\"Belgium\",\"England\"],[5.0,\"Belgium\",\"England\"],[2.0,\"Brazil\",\"England\"],[1.0,\"Brazil\",\"England\"],[0.0,\"Brazil\",\"England\"],[2.0,\"Brazil\",\"England\"],[1.0,\"Brazil\",\"England\"],[0.0,\"Brazil\",\"England\"],[1.0,\"Bulgaria\",\"England\"],[1.0,\"Bulgaria\",\"England\"],[6.0,\"Bulgaria\",\"England\"],[3.0,\"Bulgaria\",\"England\"],[3.0,\"Bulgaria\",\"England\"],[1.0,\"Canada\",\"England\"],[2.0,\"Chile\",\"England\"],[0.0,\"Chile\",\"England\"],[3.0,\"China PR\",\"England\"],[4.0,\"Colombia\",\"England\"],[0.0,\"Croatia\",\"England\"],[0.0,\"Croatia\",\"England\"],[4.0,\"Croatia\",\"England\"],[1.0,\"Cyprus\",\"England\"],[1.0,\"Czech Republic\",\"England\"],[2.0,\"Czechoslovakia\",\"England\"],[1.0,\"Czechoslovakia\",\"England\"],[1.0,\"Czechoslovakia\",\"England\"],[4.0,\"Czechoslovakia\",\"England\"],[1.0,\"Czechoslovakia\",\"England\"],[4.0,\"Czechoslovakia\",\"England\"],[4.0,\"Denmark\",\"England\"],[1.0,\"Denmark\",\"England\"],[0.0,\"Denmark\",\"England\"],[1.0,\"Denmark\",\"England\"],[2.0,\"Denmark\",\"England\"],[2.0,\"Denmark\",\"England\"],[4.0,\"Denmark\",\"England\"],[5.0,\"Denmark\",\"England\"],[2.0,\"Denmark\",\"England\"],[0.0,\"Denmark\",\"England\"],[2.0,\"Ecuador\",\"England\"],[4.0,\"Egypt\",\"England\"],[0.0,\"England\",\"Estonia\"],[1.0,\"England\",\"Switzerland\"],[1.0,\"England\",\"France\"],[0.0,\"England\",\"United States\"],[1.0,\"England\",\"Scotland\"],[0.0,\"England\",\"Wales\"],[2.0,\"England\",\"Scotland\"],[1.0,\"England\",\"Brazil\"],[2.0,\"England\",\"Switzerland\"],[2.0,\"England\",\"Wales\"],[3.0,\"England\",\"Northern Ireland\"],[1.0,\"England\",\"Ghana\"],[0.0,\"England\",\"Cyprus\"],[0.0,\"England\",\"Germany\"],[1.0,\"England\",\"Uruguay\"],[1.0,\"England\",\"Slovakia\"],[0.0,\"England\",\"Portugal\"],[2.0,\"England\",\"Belgium\"],[0.0,\"England\",\"Czechoslovakia\"],[2.0,\"England\",\"Czech Republic\"],[0.0,\"England\",\"Czechoslovakia\"],[2.0,\"England\",\"Argentina\"],[1.0,\"England\",\"Wales\"],[0.0,\"England\",\"Northern Ireland\"],[1.0,\"England\",\"Switzerland\"],[1.0,\"England\",\"Hungary\"],[0.0,\"England\",\"Northern Ireland\"],[1.0,\"England\",\"Northern Ireland\"],[3.0,\"England\",\"Yugoslavia\"],[0.0,\"England\",\"Northern Ireland\"],[0.0,\"England\",\"Spain\"],[1.0,\"England\",\"Brazil\"],[0.0,\"England\",\"Italy\"],[2.0,\"England\",\"Spain\"],[0.0,\"England\",\"Switzerland\"],[1.0,\"England\",\"Wales\"],[3.0,\"England\",\"Scotland\"],[0.0,\"England\",\"Mexico\"],[1.0,\"England\",\"Luxembourg\"],[2.0,\"England\",\"Scotland\"],[1.0,\"England\",\"Wales\"],[0.0,\"England\",\"Portugal\"],[1.0,\"England\",\"Northern Ireland\"],[1.0,\"England\",\"Austria\"],[0.0,\"England\",\"Luxembourg\"],[2.0,\"England\",\"Netherlands\"],[0.0,\"England\",\"Wales\"],[1.0,\"England\",\"Finland\"],[0.0,\"England\",\"Sweden\"],[1.0,\"England\",\"Republic of Ireland\"],[1.0,\"England\",\"Kazakhstan\"],[3.0,\"England\",\"Croatia\"],[0.0,\"England\",\"Northern Ireland\"],[1.0,\"England\",\"Poland\"],[1.0,\"England\",\"Egypt\"],[0.0,\"England\",\"Uruguay\"],[0.0,\"England\",\"Mexico\"],[1.0,\"England\",\"Northern Ireland\"],[0.0,\"England\",\"France\"],[0.0,\"England\",\"Argentina\"],[0.0,\"England\",\"Netherlands\"],[0.0,\"England\",\"Portugal\"],[1.0,\"England\",\"Portugal\"],[1.0,\"England\",\"Slovenia\"],[2.0,\"England\",\"Germany\"],[1.0,\"England\",\"Scotland\"],[0.0,\"England\",\"Andorra\"],[1.0,\"England\",\"Wales\"],[0.0,\"England\",\"Czechoslovakia\"],[1.0,\"England\",\"Wales\"],[1.0,\"England\",\"Romania\"],[1.0,\"England\",\"Bulgaria\"],[3.0,\"England\",\"Scotland\"],[0.0,\"England\",\"Spain\"],[1.0,\"England\",\"Sweden\"],[1.0,\"England\",\"Croatia\"],[0.0,\"England\",\"Spain\"],[0.0,\"England\",\"Belarus\"],[2.0,\"England\",\"Russia\"],[0.0,\"England\",\"France\"],[0.0,\"England\",\"Yugoslavia\"],[1.0,\"England\",\"Mexico\"],[1.0,\"England\",\"German DR\"],[2.0,\"England\",\"Scotland\"],[0.0,\"England\",\"Hungary\"],[0.0,\"England\",\"Austria\"],[2.0,\"England\",\"France\"],[0.0,\"England\",\"Scotland\"],[0.0,\"England\",\"Wales\"],[1.0,\"England\",\"Northern Ireland\"],[0.0,\"England\",\"Montenegro\"],[1.0,\"England\",\"Wales\"],[1.0,\"England\",\"Yugoslavia\"],[0.0,\"England\",\"Slovakia\"],[1.0,\"England\",\"Northern Ireland\"],[1.0,\"England\",\"Ukraine\"],[0.0,\"England\",\"Bulgaria\"],[3.0,\"England\",\"Austria\"],[3.0,\"England\",\"Germany\"],[1.0,\"England\",\"Switzerland\"],[1.0,\"England\",\"Scotland\"],[1.0,\"England\",\"Northern Ireland\"],[1.0,\"England\",\"Hungary\"],[0.0,\"England\",\"Wales\"],[0.0,\"England\",\"Malta\"],[0.0,\"England\",\"Greece\"],[1.0,\"England\",\"Poland\"],[0.0,\"England\",\"Germany\"],[0.0,\"England\",\"Albania\"],[0.0,\"England\",\"Northern Ireland\"],[0.0,\"England\",\"Wales\"],[1.0,\"England\",\"Scotland\"],[0.0,\"England\",\"Colombia\"],[1.0,\"England\",\"Switzerland\"],[1.0,\"England\",\"Portugal\"],[0.0,\"England\",\"Bulgaria\"],[0.0,\"England\",\"Croatia\"],[0.0,\"England\",\"Hungary\"],[3.0,\"England\",\"Brazil\"],[1.0,\"England\",\"Switzerland\"],[1.0,\"England\",\"Netherlands\"],[0.0,\"England\",\"Spain\"],[1.0,\"England\",\"Germany\"],[1.0,\"England\",\"Poland\"],[1.0,\"England\",\"Italy\"],[0.0,\"England\",\"Mexico\"],[0.0,\"England\",\"Scotland\"],[0.0,\"England\",\"Georgia\"],[3.0,\"England\",\"Sweden\"],[0.0,\"England\",\"Uruguay\"],[0.0,\"England\",\"France\"],[1.0,\"England\",\"Brazil\"],[1.0,\"England\",\"Norway\"],[0.0,\"England\",\"Turkey\"],[0.0,\"England\",\"San Marino\"],[0.0,\"England\",\"Ukraine\"],[1.0,\"England\",\"Japan\"],[2.0,\"England\",\"Netherlands\"],[0.0,\"England\",\"Denmark\"],[0.0,\"England\",\"Greece\"],[0.0,\"England\",\"Norway\"],[0.0,\"England\",\"United States\"],[1.0,\"England\",\"Romania\"],[0.0,\"England\",\"Nigeria\"],[0.0,\"England\",\"Poland\"],[1.0,\"England\",\"South Africa\"],[0.0,\"England\",\"Moldova\"],[0.0,\"England\",\"Cameroon\"],[0.0,\"England\",\"Mexico\"],[2.0,\"England\",\"Netherlands\"],[0.0,\"England\",\"Albania\"],[2.0,\"England\",\"Greece\"],[1.0,\"England\",\"Sweden\"],[2.0,\"England\",\"Italy\"],[1.0,\"England\",\"Finland\"],[0.0,\"England\",\"Paraguay\"],[1.0,\"England\",\"Portugal\"],[0.0,\"England\",\"Liechtenstein\"],[2.0,\"England\",\"North Macedonia\"],[3.0,\"England\",\"Australia\"],[0.0,\"England\",\"Turkey\"],[1.0,\"England\",\"Serbia\"],[3.0,\"England\",\"Denmark\"],[0.0,\"England\",\"Spain\"],[1.0,\"England\",\"Germany\"],[0.0,\"England\",\"Ukraine\"],[2.0,\"England\",\"Chile\"],[1.0,\"England\",\"Iceland\"],[0.0,\"England\",\"Portugal\"],[0.0,\"England\",\"Saudi Arabia\"],[1.0,\"England\",\"Japan\"],[0.0,\"England\",\"Bulgaria\"],[0.0,\"England\",\"Czech Republic\"],[2.0,\"England\",\"France\"],[1.0,\"England\",\"Poland\"],[0.0,\"England\",\"Sweden\"],[0.0,\"England\",\"Luxembourg\"],[1.0,\"England\",\"Belgium\"],[1.0,\"England\",\"Scotland\"],[0.0,\"England\",\"Argentina\"],[1.0,\"England\",\"Brazil\"],[0.0,\"England\",\"Turkey\"],[1.0,\"England\",\"Germany\"],[2.0,\"England\",\"Argentina\"],[1.0,\"England\",\"Russia\"],[1.0,\"England\",\"Spain\"],[2.0,\"England\",\"Germany\"],[0.0,\"England\",\"Luxembourg\"],[1.0,\"England\",\"Wales\"],[0.0,\"England\",\"Greece\"],[0.0,\"England\",\"Hungary\"],[0.0,\"England\",\"Netherlands\"],[0.0,\"England\",\"Scotland\"],[0.0,\"England\",\"Northern Ireland\"],[0.0,\"England\",\"North Macedonia\"],[2.0,\"England\",\"Russia\"],[0.0,\"England\",\"German DR\"],[0.0,\"England\",\"Finland\"],[0.0,\"England\",\"Andorra\"],[1.0,\"England\",\"Denmark\"],[0.0,\"England\",\"Northern Ireland\"],[0.0,\"England\",\"Hungary\"],[1.0,\"England\",\"Brazil\"],[0.0,\"England\",\"Russia\"],[0.0,\"England\",\"Denmark\"],[0.0,\"England\",\"Bulgaria\"],[0.0,\"England\",\"Republic of Ireland\"],[0.0,\"England\",\"Israel\"],[1.0,\"England\",\"Argentina\"],[2.0,\"England\",\"Germany\"],[1.0,\"England\",\"Northern Ireland\"],[0.0,\"England\",\"Norway\"],[1.0,\"England\",\"Switzerland\"],[2.0,\"England\",\"Spain\"],[0.0,\"England\",\"Romania\"],[1.0,\"England\",\"Brazil\"],[3.0,\"England\",\"Sweden\"],[1.0,\"England\",\"Scotland\"],[1.0,\"England\",\"Republic of Ireland\"],[0.0,\"England\",\"Wales\"],[0.0,\"England\",\"Greece\"],[1.0,\"England\",\"Romania\"],[0.0,\"England\",\"Northern Ireland\"],[0.0,\"England\",\"Poland\"],[0.0,\"England\",\"Netherlands\"],[0.0,\"England\",\"Italy\"],[1.0,\"England\",\"Yugoslavia\"],[0.0,\"England\",\"Brazil\"],[0.0,\"England\",\"Chile\"],[2.0,\"England\",\"Czechoslovakia\"],[2.0,\"England\",\"Uruguay\"],[0.0,\"England\",\"Hungary\"],[0.0,\"England\",\"Poland\"],[0.0,\"England\",\"Cameroon\"],[1.0,\"England\",\"Republic of Ireland\"],[0.0,\"England\",\"Wales\"],[0.0,\"England\",\"Denmark\"],[0.0,\"England\",\"Albania\"],[0.0,\"England\",\"Azerbaijan\"],[0.0,\"England\",\"Sweden\"],[0.0,\"England\",\"Turkey\"],[0.0,\"England\",\"Northern Ireland\"],[1.0,\"England\",\"Scotland\"],[1.0,\"England\",\"Hungary\"],[0.0,\"England\",\"Northern Ireland\"],[0.0,\"England\",\"Yugoslavia\"],[1.0,\"England\",\"Uruguay\"],[1.0,\"England\",\"Poland\"],[1.0,\"England\",\"Brazil\"],[0.0,\"England\",\"Austria\"],[0.0,\"England\",\"Turkey\"],[2.0,\"England\",\"Netherlands\"],[0.0,\"England\",\"Scotland\"],[1.0,\"England\",\"Colombia\"],[0.0,\"England\",\"Denmark\"],[0.0,\"England\",\"Jamaica\"],[3.0,\"England\",\"Netherlands\"],[1.0,\"England\",\"Italy\"],[1.0,\"England\",\"Croatia\"],[1.0,\"England\",\"Northern Ireland\"],[2.0,\"England\",\"Italy\"],[0.0,\"England\",\"Northern Ireland\"],[1.0,\"England\",\"Turkey\"],[0.0,\"England\",\"Scotland\"],[1.0,\"England\",\"France\"],[1.0,\"England\",\"Wales\"],[2.0,\"England\",\"Wales\"],[0.0,\"England\",\"Scotland\"],[0.0,\"England\",\"Republic of Ireland\"],[1.0,\"England\",\"Australia\"],[0.0,\"England\",\"Portugal\"],[3.0,\"England\",\"Austria\"],[0.0,\"England\",\"Malta\"],[0.0,\"England\",\"Northern Ireland\"],[1.0,\"England\",\"Denmark\"],[0.0,\"England\",\"Scotland\"],[1.0,\"England\",\"Spain\"],[1.0,\"England\",\"Wales\"],[0.0,\"England\",\"Northern Ireland\"],[0.0,\"England\",\"Scotland\"],[2.0,\"England\",\"Spain\"],[1.0,\"England\",\"Northern Ireland\"],[0.0,\"England\",\"Wales\"],[2.0,\"England\",\"Scotland\"],[2.0,\"England\",\"Netherlands\"],[0.0,\"England\",\"Iceland\"],[2.0,\"England\",\"Scotland\"],[0.0,\"England\",\"Germany\"],[0.0,\"England\",\"Lithuania\"],[0.0,\"England\",\"Belgium\"],[3.0,\"England\",\"Scotland\"],[1.0,\"England\",\"Wales\"],[0.0,\"England\",\"Austria\"],[2.0,\"England\",\"France\"],[1.0,\"England\",\"Poland\"],[1.0,\"England\",\"Wales\"],[1.0,\"England\",\"Northern Ireland\"],[0.0,\"England\",\"Northern Ireland\"],[0.0,\"England\",\"Norway\"],[0.0,\"England\",\"Switzerland\"],[0.0,\"England\",\"Wales\"],[0.0,\"England\",\"Estonia\"],[1.0,\"England\",\"Scotland\"],[4.0,\"England\",\"Czechoslovakia\"],[1.0,\"England\",\"Wales\"],[1.0,\"England\",\"Wales\"],[0.0,\"England\",\"San Marino\"],[1.0,\"England\",\"Northern Ireland\"],[0.0,\"England\",\"France\"],[2.0,\"England\",\"Hungary\"],[1.0,\"England\",\"Northern Ireland\"],[0.0,\"England\",\"Wales\"],[1.0,\"England\",\"Scotland\"],[2.0,\"England\",\"Wales\"],[1.0,\"England\",\"Scotland\"],[2.0,\"England\",\"Scotland\"],[0.0,\"England\",\"Lithuania\"],[1.0,\"England\",\"Belgium\"],[0.0,\"England\",\"Northern Ireland\"],[4.0,\"England\",\"Scotland\"],[2.0,\"England\",\"Wales\"],[1.0,\"England\",\"Wales\"],[2.0,\"England\",\"Spain\"],[0.0,\"England\",\"Switzerland\"],[2.0,\"England\",\"Scotland\"],[3.0,\"England\",\"Northern Ireland\"],[0.0,\"England\",\"Scotland\"],[3.0,\"England\",\"Wales\"],[0.0,\"England\",\"Montenegro\"],[0.0,\"England\",\"United States\"],[0.0,\"England\",\"Costa Rica\"],[1.0,\"England\",\"Scotland\"],[1.0,\"England\",\"Northern Ireland\"],[1.0,\"England\",\"Croatia\"],[0.0,\"England\",\"Czech Republic\"],[1.0,\"England\",\"Northern Ireland\"],[1.0,\"England\",\"Wales\"],[0.0,\"England\",\"Scotland\"],[0.0,\"England\",\"Wales\"],[0.0,\"England\",\"Northern Ireland\"],[0.0,\"England\",\"Scotland\"],[0.0,\"England\",\"Bulgaria\"],[3.0,\"England\",\"Kosovo\"],[1.0,\"England\",\"Scotland\"],[0.0,\"England\",\"Wales\"],[2.0,\"England\",\"Scotland\"],[1.0,\"England\",\"Nigeria\"],[0.0,\"England\",\"Wales\"],[1.0,\"England\",\"Northern Ireland\"],[5.0,\"England\",\"Scotland\"],[0.0,\"England\",\"Wales\"],[2.0,\"England\",\"Wales\"],[2.0,\"England\",\"Northern Ireland\"],[1.0,\"England\",\"Slovakia\"],[0.0,\"England\",\"Wales\"],[3.0,\"England\",\"Northern Ireland\"],[1.0,\"England\",\"Scotland\"],[3.0,\"England\",\"Wales\"],[1.0,\"England\",\"Scotland\"],[0.0,\"England\",\"Slovenia\"],[0.0,\"England\",\"Northern Ireland\"],[0.0,\"England\",\"Belgium\"],[1.0,\"England\",\"Scotland\"],[2.0,\"England\",\"Wales\"],[0.0,\"England\",\"Northern Ireland\"],[0.0,\"England\",\"Germany\"],[0.0,\"England\",\"Wales\"],[0.0,\"England\",\"Brazil\"],[2.0,\"England\",\"Scotland\"],[2.0,\"England\",\"Scotland\"],[1.0,\"England\",\"Belgium\"],[1.0,\"England\",\"Italy\"],[0.0,\"England\",\"Northern Ireland\"],[1.0,\"England\",\"Scotland\"],[1.0,\"England\",\"Northern Ireland\"],[1.0,\"England\",\"Switzerland\"],[0.0,\"England\",\"Northern Ireland\"],[0.0,\"England\",\"Denmark\"],[0.0,\"England\",\"San Marino\"],[2.0,\"England\",\"Chile\"],[2.0,\"England\",\"Austria\"],[0.0,\"England\",\"Northern Ireland\"],[1.0,\"England\",\"Germany\"],[2.0,\"England\",\"France\"],[2.0,\"England\",\"Portugal\"],[1.0,\"England\",\"Argentina\"],[3.0,\"England\",\"Scotland\"],[2.0,\"England\",\"Yugoslavia\"],[2.0,\"England\",\"Wales\"],[0.0,\"England\",\"Northern Ireland\"],[1.0,\"England\",\"Wales\"],[6.0,\"England\",\"Scotland\"],[1.0,\"England\",\"Scotland\"],[1.0,\"England\",\"Germany\"],[0.0,\"England\",\"Italy\"],[1.0,\"England\",\"Wales\"],[0.0,\"England\",\"Scotland\"],[0.0,\"England\",\"Czech Republic\"],[0.0,\"England\",\"Yugoslavia\"],[0.0,\"England\",\"Poland\"],[0.0,\"England\",\"Germany\"],[2.0,\"England\",\"Scotland\"],[3.0,\"England\",\"Scotland\"],[1.0,\"England\",\"Republic of Ireland\"],[6.0,\"England\",\"Hungary\"],[0.0,\"England\",\"Northern Ireland\"],[1.0,\"England\",\"Northern Ireland\"],[0.0,\"England\",\"Wales\"],[2.0,\"England\",\"Scotland\"],[1.0,\"England\",\"Northern Ireland\"],[1.0,\"England\",\"Brazil\"],[1.0,\"England\",\"Denmark\"],[0.0,\"England\",\"Northern Ireland\"],[1.0,\"England\",\"Spain\"],[0.0,\"England\",\"Moldova\"],[1.0,\"England\",\"Italy\"],[1.0,\"England\",\"Montenegro\"],[2.0,\"England\",\"Scotland\"],[0.0,\"England\",\"Belgium\"],[2.0,\"England\",\"Wales\"],[2.0,\"England\",\"Brazil\"],[2.0,\"England\",\"Northern Ireland\"],[2.0,\"England\",\"Wales\"],[0.0,\"England\",\"Croatia\"],[1.0,\"England\",\"Wales\"],[2.0,\"England\",\"Northern Ireland\"],[0.0,\"England\",\"Peru\"],[0.0,\"England\",\"Romania\"],[1.0,\"England\",\"Portugal\"],[3.0,\"England\",\"Scotland\"],[0.0,\"England\",\"Belgium\"],[1.0,\"England\",\"Slovenia\"],[2.0,\"England\",\"Scotland\"],[2.0,\"England\",\"Sweden\"],[0.0,\"England\",\"Russia\"],[0.0,\"England\",\"France\"],[2.0,\"England\",\"Wales\"],[0.0,\"England\",\"Scotland\"],[2.0,\"England\",\"Italy\"],[1.0,\"England\",\"Scotland\"],[2.0,\"England\",\"Netherlands\"],[0.0,\"England\",\"Wales\"],[1.0,\"England\",\"Wales\"],[2.0,\"England\",\"Scotland\"],[1.0,\"England\",\"Hungary\"],[4.0,\"England\",\"Scotland\"],[1.0,\"England\",\"Wales\"],[0.0,\"England\",\"San Marino\"],[0.0,\"England\",\"Norway\"],[1.0,\"England\",\"Wales\"],[0.0,\"England\",\"France\"],[3.0,\"England\",\"Scotland\"],[3.0,\"England\",\"Scotland\"],[1.0,\"England\",\"Republic of Ireland\"],[0.0,\"England\",\"Northern Ireland\"],[1.0,\"England\",\"Scotland\"],[2.0,\"England\",\"Denmark\"],[2.0,\"England\",\"Republic of Ireland\"],[0.0,\"England\",\"Switzerland\"],[0.0,\"England\",\"Wales\"],[1.0,\"England\",\"Ukraine\"],[3.0,\"England\",\"Northern Ireland\"],[0.0,\"England\",\"Andorra\"],[0.0,\"England\",\"Wales\"],[1.0,\"Estonia\",\"England\"],[3.0,\"Estonia\",\"England\"],[0.0,\"Finland\",\"England\"],[4.0,\"Finland\",\"England\"],[3.0,\"Finland\",\"England\"],[2.0,\"Finland\",\"England\"],[4.0,\"Finland\",\"England\"],[8.0,\"Finland\",\"England\"],[5.0,\"Finland\",\"England\"],[1.0,\"Finland\",\"England\"],[0.0,\"France\",\"England\"],[0.0,\"France\",\"England\"],[3.0,\"France\",\"England\"],[2.0,\"France\",\"England\"],[4.0,\"France\",\"England\"],[3.0,\"France\",\"England\"],[1.0,\"France\",\"England\"],[2.0,\"France\",\"England\"],[5.0,\"France\",\"England\"],[4.0,\"France\",\"England\"],[1.0,\"France\",\"England\"],[1.0,\"France\",\"England\"],[3.0,\"France\",\"England\"],[6.0,\"France\",\"England\"],[4.0,\"France\",\"England\"],[2.0,\"France\",\"England\"],[0.0,\"France\",\"England\"],[2.0,\"Georgia\",\"England\"],[1.0,\"German DR\",\"England\"],[2.0,\"German DR\",\"England\"],[6.0,\"Germany\",\"England\"],[3.0,\"Germany\",\"England\"],[1.0,\"Germany\",\"England\"],[0.0,\"Germany\",\"England\"],[2.0,\"Germany\",\"England\"],[0.0,\"Germany\",\"England\"],[3.0,\"Germany\",\"England\"],[1.0,\"Germany\",\"England\"],[5.0,\"Germany\",\"England\"],[1.0,\"Germany\",\"England\"],[3.0,\"Germany\",\"England\"],[0.0,\"Germany\",\"England\"],[2.0,\"Greece\",\"England\"],[3.0,\"Greece\",\"England\"],[2.0,\"Greece\",\"England\"],[2.0,\"Greece\",\"England\"],[8.0,\"Hungary\",\"England\"],[0.0,\"Hungary\",\"England\"],[4.0,\"Hungary\",\"England\"],[1.0,\"Hungary\",\"England\"],[3.0,\"Hungary\",\"England\"],[4.0,\"Hungary\",\"England\"],[0.0,\"Hungary\",\"England\"],[1.0,\"Hungary\",\"England\"],[1.0,\"Hungary\",\"England\"],[7.0,\"Hungary\",\"England\"],[3.0,\"Hungary\",\"England\"],[1.0,\"Hungary\",\"England\"],[1.0,\"Iceland\",\"England\"],[1.0,\"Iceland\",\"England\"],[0.0,\"Israel\",\"England\"],[2.0,\"Israel\",\"England\"],[0.0,\"Israel\",\"England\"],[3.0,\"Italy\",\"England\"],[1.0,\"Italy\",\"England\"],[0.0,\"Italy\",\"England\"],[0.0,\"Italy\",\"England\"],[2.0,\"Italy\",\"England\"],[1.0,\"Italy\",\"England\"],[0.0,\"Italy\",\"England\"],[0.0,\"Italy\",\"England\"],[4.0,\"Italy\",\"England\"],[0.0,\"Italy\",\"England\"],[1.0,\"Italy\",\"England\"],[1.0,\"Italy\",\"England\"],[4.0,\"Kazakhstan\",\"England\"],[4.0,\"Kosovo\",\"England\"],[2.0,\"Liechtenstein\",\"England\"],[1.0,\"Lithuania\",\"England\"],[3.0,\"Lithuania\",\"England\"],[3.0,\"Luxembourg\",\"England\"],[9.0,\"Luxembourg\",\"England\"],[4.0,\"Luxembourg\",\"England\"],[2.0,\"Luxembourg\",\"England\"],[5.0,\"Luxembourg\",\"England\"],[4.0,\"Malaysia\",\"England\"],[4.0,\"Malta\",\"England\"],[2.0,\"Malta\",\"England\"],[1.0,\"Malta\",\"England\"],[1.0,\"Mexico\",\"England\"],[0.0,\"Mexico\",\"England\"],[4.0,\"Mexico\",\"England\"],[0.0,\"Mexico\",\"England\"],[3.0,\"Moldova\",\"England\"],[5.0,\"Moldova\",\"England\"],[1.0,\"Montenegro\",\"England\"],[5.0,\"Montenegro\",\"England\"],[2.0,\"Montenegro\",\"England\"],[1.0,\"Morocco\",\"England\"],[1.0,\"Netherlands\",\"England\"],[1.0,\"Netherlands\",\"England\"],[0.0,\"Netherlands\",\"England\"],[1.0,\"Netherlands\",\"England\"],[1.0,\"Netherlands\",\"England\"],[1.0,\"Netherlands\",\"England\"],[1.0,\"Netherlands\",\"England\"],[2.0,\"Netherlands\",\"England\"],[2.0,\"New Zealand\",\"England\"],[1.0,\"New Zealand\",\"England\"],[1.0,\"North Macedonia\",\"England\"],[2.0,\"North Macedonia\",\"England\"],[2.0,\"Northern Ireland\",\"England\"],[3.0,\"Northern Ireland\",\"England\"],[8.0,\"Northern Ireland\",\"England\"],[5.0,\"Northern Ireland\",\"England\"],[2.0,\"Northern Ireland\",\"England\"],[3.0,\"Northern Ireland\",\"England\"],[2.0,\"Northern Ireland\",\"England\"],[2.0,\"Northern Ireland\",\"England\"],[6.0,\"Northern Ireland\",\"England\"],[2.0,\"Northern Ireland\",\"England\"],[2.0,\"Northern Ireland\",\"England\"],[5.0,\"Northern Ireland\",\"England\"],[0.0,\"Northern Ireland\",\"England\"],[7.0,\"Northern Ireland\",\"England\"],[2.0,\"Northern Ireland\",\"England\"],[9.0,\"Northern Ireland\",\"England\"],[1.0,\"Northern Ireland\",\"England\"],[3.0,\"Northern Ireland\",\"England\"],[4.0,\"Northern Ireland\",\"England\"],[3.0,\"Northern Ireland\",\"England\"],[6.0,\"Northern Ireland\",\"England\"],[5.0,\"Northern Ireland\",\"England\"],[1.0,\"Northern Ireland\",\"England\"],[6.0,\"Northern Ireland\",\"England\"],[3.0,\"Northern Ireland\",\"England\"],[1.0,\"Northern Ireland\",\"England\"],[5.0,\"Northern Ireland\",\"England\"],[0.0,\"Northern Ireland\",\"England\"],[1.0,\"Northern Ireland\",\"England\"],[3.0,\"Northern Ireland\",\"England\"],[2.0,\"Northern Ireland\",\"England\"],[1.0,\"Northern Ireland\",\"England\"],[1.0,\"Northern Ireland\",\"England\"],[5.0,\"Northern Ireland\",\"England\"],[1.0,\"Northern Ireland\",\"England\"],[3.0,\"Northern Ireland\",\"England\"],[1.0,\"Northern Ireland\",\"England\"],[13.0,\"Northern Ireland\",\"England\"],[2.0,\"Northern Ireland\",\"England\"],[0.0,\"Northern Ireland\",\"England\"],[0.0,\"Northern Ireland\",\"England\"],[0.0,\"Northern Ireland\",\"England\"],[4.0,\"Northern Ireland\",\"England\"],[6.0,\"Northern Ireland\",\"England\"],[3.0,\"Northern Ireland\",\"England\"],[3.0,\"Northern Ireland\",\"England\"],[2.0,\"Northern Ireland\",\"England\"],[1.0,\"Northern Ireland\",\"England\"],[1.0,\"Northern Ireland\",\"England\"],[6.0,\"Norway\",\"England\"],[4.0,\"Norway\",\"England\"],[1.0,\"Norway\",\"England\"],[1.0,\"Norway\",\"England\"],[6.0,\"Norway\",\"England\"],[0.0,\"Norway\",\"England\"],[0.0,\"Norway\",\"England\"],[4.0,\"Peru\",\"England\"],[1.0,\"Peru\",\"England\"],[2.0,\"Poland\",\"England\"],[0.0,\"Poland\",\"England\"],[1.0,\"Poland\",\"England\"],[0.0,\"Poland\",\"England\"],[1.0,\"Poland\",\"England\"],[1.0,\"Poland\",\"England\"],[0.0,\"Poland\",\"England\"],[1.0,\"Poland\",\"England\"],[2.0,\"Poland\",\"England\"],[1.0,\"Poland\",\"England\"],[10.0,\"Portugal\",\"England\"],[2.0,\"Portugal\",\"England\"],[1.0,\"Portugal\",\"England\"],[4.0,\"Portugal\",\"England\"],[1.0,\"Portugal\",\"England\"],[1.0,\"Portugal\",\"England\"],[5.0,\"Portugal\",\"England\"],[0.0,\"Portugal\",\"England\"],[1.0,\"Portugal\",\"England\"],[1.0,\"Republic of Ireland\",\"England\"],[1.0,\"Republic of Ireland\",\"England\"],[0.0,\"Republic of Ireland\",\"England\"],[1.0,\"Republic of Ireland\",\"England\"],[1.0,\"Republic of Ireland\",\"England\"],[0.0,\"Republic of Ireland\",\"England\"],[3.0,\"Republic of Ireland\",\"England\"],[0.0,\"Romania\",\"England\"],[1.0,\"Romania\",\"England\"],[0.0,\"Romania\",\"England\"],[2.0,\"Romania\",\"England\"],[1.0,\"Russia\",\"England\"],[1.0,\"Russia\",\"England\"],[1.0,\"Russia\",\"England\"],[2.0,\"Russia\",\"England\"],[2.0,\"Russia\",\"England\"],[8.0,\"San Marino\",\"England\"],[6.0,\"San Marino\",\"England\"],[10.0,\"San Marino\",\"England\"],[1.0,\"Saudi Arabia\",\"England\"],[0.0,\"Scotland\",\"England\"],[1.0,\"Scotland\",\"England\"],[0.0,\"Scotland\",\"England\"],[0.0,\"Scotland\",\"England\"],[2.0,\"Scotland\",\"England\"],[1.0,\"Scotland\",\"England\"],[0.0,\"Scotland\",\"England\"],[1.0,\"Scotland\",\"England\"],[1.0,\"Scotland\",\"England\"],[2.0,\"Scotland\",\"England\"],[1.0,\"Scotland\",\"England\"],[0.0,\"Scotland\",\"England\"],[2.0,\"Scotland\",\"England\"],[3.0,\"Scotland\",\"England\"],[1.0,\"Scotland\",\"England\"],[2.0,\"Scotland\",\"England\"],[0.0,\"Scotland\",\"England\"],[4.0,\"Scotland\",\"England\"],[5.0,\"Scotland\",\"England\"],[1.0,\"Scotland\",\"England\"],[4.0,\"Scotland\",\"England\"],[1.0,\"Scotland\",\"England\"],[1.0,\"Scotland\",\"England\"],[0.0,\"Scotland\",\"England\"],[0.0,\"Scotland\",\"England\"],[0.0,\"Scotland\",\"England\"],[2.0,\"Scotland\",\"England\"],[2.0,\"Scotland\",\"England\"],[1.0,\"Scotland\",\"England\"],[0.0,\"Scotland\",\"England\"],[1.0,\"Scotland\",\"England\"],[0.0,\"Scotland\",\"England\"],[2.0,\"Scotland\",\"England\"],[2.0,\"Scotland\",\"England\"],[4.0,\"Scotland\",\"England\"],[1.0,\"Scotland\",\"England\"],[0.0,\"Scotland\",\"England\"],[1.0,\"Scotland\",\"England\"],[5.0,\"Scotland\",\"England\"],[1.0,\"Scotland\",\"England\"],[4.0,\"Scotland\",\"England\"],[2.0,\"Scotland\",\"England\"],[1.0,\"Scotland\",\"England\"],[3.0,\"Scotland\",\"England\"],[2.0,\"Scotland\",\"England\"],[1.0,\"Scotland\",\"England\"],[1.0,\"Scotland\",\"England\"],[1.0,\"Scotland\",\"England\"],[1.0,\"Scotland\",\"England\"],[0.0,\"Scotland\",\"England\"],[0.0,\"Scotland\",\"England\"],[1.0,\"Scotland\",\"England\"],[1.0,\"Scotland\",\"England\"],[0.0,\"Scotland\",\"England\"],[0.0,\"Scotland\",\"England\"],[2.0,\"Scotland\",\"England\"],[4.0,\"Scotland\",\"England\"],[1.0,\"Scotland\",\"England\"],[1.0,\"Slovakia\",\"England\"],[2.0,\"Slovakia\",\"England\"],[3.0,\"Slovenia\",\"England\"],[0.0,\"Slovenia\",\"England\"],[2.0,\"South Africa\",\"England\"],[1.0,\"South Korea\",\"England\"],[2.0,\"Spain\",\"England\"],[0.0,\"Spain\",\"England\"],[1.0,\"Spain\",\"England\"],[2.0,\"Spain\",\"England\"],[0.0,\"Spain\",\"England\"],[3.0,\"Spain\",\"England\"],[0.0,\"Spain\",\"England\"],[4.0,\"Spain\",\"England\"],[0.0,\"Spain\",\"England\"],[2.0,\"Spain\",\"England\"],[0.0,\"Spain\",\"England\"],[3.0,\"Spain\",\"England\"],[0.0,\"Spain\",\"England\"],[2.0,\"Sweden\",\"England\"],[0.0,\"Sweden\",\"England\"],[4.0,\"Sweden\",\"England\"],[1.0,\"Sweden\",\"England\"],[0.0,\"Sweden\",\"England\"],[2.0,\"Sweden\",\"England\"],[1.0,\"Sweden\",\"England\"],[1.0,\"Sweden\",\"England\"],[3.0,\"Sweden\",\"England\"],[4.0,\"Sweden\",\"England\"],[0.0,\"Sweden\",\"England\"],[0.0,\"Sweden\",\"England\"],[0.0,\"Sweden\",\"England\"],[1.0,\"Switzerland\",\"England\"],[2.0,\"Switzerland\",\"England\"],[1.0,\"Switzerland\",\"England\"],[1.0,\"Switzerland\",\"England\"],[1.0,\"Switzerland\",\"England\"],[0.0,\"Switzerland\",\"England\"],[2.0,\"Switzerland\",\"England\"],[1.0,\"Switzerland\",\"England\"],[4.0,\"Switzerland\",\"England\"],[2.0,\"Switzerland\",\"England\"],[8.0,\"Switzerland\",\"England\"],[3.0,\"Switzerland\",\"England\"],[3.0,\"Switzerland\",\"England\"],[3.0,\"Switzerland\",\"England\"],[3.0,\"Trinidad and Tobago\",\"England\"],[1.0,\"Tunisia\",\"England\"],[1.0,\"Turkey\",\"England\"],[8.0,\"Turkey\",\"England\"],[2.0,\"Turkey\",\"England\"],[0.0,\"Turkey\",\"England\"],[0.0,\"Turkey\",\"England\"],[0.0,\"Ukraine\",\"England\"],[1.0,\"Ukraine\",\"England\"],[0.0,\"Ukraine\",\"England\"],[6.0,\"United States\",\"England\"],[10.0,\"United States\",\"England\"],[2.0,\"United States\",\"England\"],[8.0,\"United States\",\"England\"],[0.0,\"United States\",\"England\"],[5.0,\"United States\",\"England\"],[1.0,\"Uruguay\",\"England\"],[2.0,\"Uruguay\",\"England\"],[0.0,\"Uruguay\",\"England\"],[0.0,\"Uruguay\",\"England\"],[1.0,\"Wales\",\"England\"],[7.0,\"Wales\",\"England\"],[4.0,\"Wales\",\"England\"],[1.0,\"Wales\",\"England\"],[2.0,\"Wales\",\"England\"],[0.0,\"Wales\",\"England\"],[4.0,\"Wales\",\"England\"],[1.0,\"Wales\",\"England\"],[3.0,\"Wales\",\"England\"],[2.0,\"Wales\",\"England\"],[9.0,\"Wales\",\"England\"],[1.0,\"Wales\",\"England\"],[2.0,\"Wales\",\"England\"],[3.0,\"Wales\",\"England\"],[3.0,\"Wales\",\"England\"],[4.0,\"Wales\",\"England\"],[3.0,\"Wales\",\"England\"],[3.0,\"Wales\",\"England\"],[0.0,\"Wales\",\"England\"],[3.0,\"Wales\",\"England\"],[1.0,\"Wales\",\"England\"],[5.0,\"Wales\",\"England\"],[0.0,\"Wales\",\"England\"],[1.0,\"Wales\",\"England\"],[3.0,\"Wales\",\"England\"],[2.0,\"Wales\",\"England\"],[4.0,\"Wales\",\"England\"],[2.0,\"Wales\",\"England\"],[3.0,\"Wales\",\"England\"],[1.0,\"Wales\",\"England\"],[1.0,\"Wales\",\"England\"],[4.0,\"Wales\",\"England\"],[2.0,\"Wales\",\"England\"],[1.0,\"Wales\",\"England\"],[0.0,\"Wales\",\"England\"],[1.0,\"Wales\",\"England\"],[4.0,\"Wales\",\"England\"],[1.0,\"Wales\",\"England\"],[1.0,\"Wales\",\"England\"],[3.0,\"Wales\",\"England\"],[0.0,\"Wales\",\"England\"],[3.0,\"Wales\",\"England\"],[2.0,\"Wales\",\"England\"],[1.0,\"Wales\",\"England\"],[3.0,\"Wales\",\"England\"],[2.0,\"Wales\",\"England\"],[1.0,\"Wales\",\"England\"],[2.0,\"Wales\",\"England\"],[4.0,\"Wales\",\"England\"],[2.0,\"Wales\",\"England\"],[2.0,\"Yugoslavia\",\"England\"],[4.0,\"Yugoslavia\",\"England\"],[1.0,\"Yugoslavia\",\"England\"],[0.0,\"Yugoslavia\",\"England\"],[1.0,\"Yugoslavia\",\"England\"],[0.0,\"Yugoslavia\",\"England\"]],\"hovertemplate\":\"date=%{x}<br>home_score=%{y}<br>away_score=%{customdata[0]}<br>home_team=%{customdata[1]}<br>away_team=%{customdata[2]}<extra></extra>\",\"legendgroup\":\"\",\"marker\":{\"color\":\"#636efa\",\"symbol\":\"circle\"},\"mode\":\"markers\",\"name\":\"\",\"orientation\":\"v\",\"showlegend\":false,\"type\":\"scatter\",\"x\":[\"1989-03-08T00:00:00\",\"2021-03-28T00:00:00\",\"2001-03-28T00:00:00\",\"2021-10-09T00:00:00\",\"1977-06-12T00:00:00\",\"1953-05-14T00:00:00\",\"1953-05-17T00:00:00\",\"1983-06-19T00:00:00\",\"1991-06-01T00:00:00\",\"1983-06-15T00:00:00\",\"1983-06-12T00:00:00\",\"1980-05-31T00:00:00\",\"2004-09-04T00:00:00\",\"1909-06-01T00:00:00\",\"1908-06-08T00:00:00\",\"1936-05-06T00:00:00\",\"1908-06-06T00:00:00\",\"1961-05-27T00:00:00\",\"2007-11-16T00:00:00\",\"1930-05-14T00:00:00\",\"1952-05-25T00:00:00\",\"1979-06-13T00:00:00\",\"1967-05-27T00:00:00\",\"2004-10-13T00:00:00\",\"2008-10-15T00:00:00\",\"2020-11-15T00:00:00\",\"1947-09-21T00:00:00\",\"1950-05-18T00:00:00\",\"1921-05-21T00:00:00\",\"1923-11-01T00:00:00\",\"1970-02-25T00:00:00\",\"1927-05-11T00:00:00\",\"1936-05-09T00:00:00\",\"1931-05-16T00:00:00\",\"1926-05-24T00:00:00\",\"1928-05-19T00:00:00\",\"1929-05-11T00:00:00\",\"1984-06-10T00:00:00\",\"1964-05-30T00:00:00\",\"1959-05-13T00:00:00\",\"2013-06-02T00:00:00\",\"1969-06-12T00:00:00\",\"1977-06-08T00:00:00\",\"1974-06-01T00:00:00\",\"1999-06-09T00:00:00\",\"2019-10-14T00:00:00\",\"2011-09-02T00:00:00\",\"1979-06-06T00:00:00\",\"1986-05-24T00:00:00\",\"1953-05-24T00:00:00\",\"1984-06-17T00:00:00\",\"1996-05-23T00:00:00\",\"1970-05-20T00:00:00\",\"2006-10-11T00:00:00\",\"2018-10-12T00:00:00\",\"2008-09-10T00:00:00\",\"1975-05-11T00:00:00\",\"2019-10-11T00:00:00\",\"1992-03-25T00:00:00\",\"1934-05-16T00:00:00\",\"1973-05-27T00:00:00\",\"1963-05-29T00:00:00\",\"1975-10-30T00:00:00\",\"1908-06-13T00:00:00\",\"1978-09-20T00:00:00\",\"1989-06-07T00:00:00\",\"1948-09-26T00:00:00\",\"2005-08-17T00:00:00\",\"1982-09-22T00:00:00\",\"2011-02-09T00:00:00\",\"1957-05-15T00:00:00\",\"1955-10-02T00:00:00\",\"1966-07-03T00:00:00\",\"2020-09-08T00:00:00\",\"1970-05-24T00:00:00\",\"1986-01-29T00:00:00\",\"2007-10-13T00:00:00\",\"1962-05-09T00:00:00\",\"1962-10-03T00:00:00\",\"2008-05-28T00:00:00\",\"1975-05-24T00:00:00\",\"1962-11-21T00:00:00\",\"1963-04-06T00:00:00\",\"1963-05-08T00:00:00\",\"2011-06-04T00:00:00\",\"1975-05-21T00:00:00\",\"1963-11-20T00:00:00\",\"2011-03-29T00:00:00\",\"1975-04-16T00:00:00\",\"1975-03-12T00:00:00\",\"1964-05-06T00:00:00\",\"2003-06-11T00:00:00\",\"1974-11-20T00:00:00\",\"1964-10-21T00:00:00\",\"1974-10-30T00:00:00\",\"2008-08-20T00:00:00\",\"1978-11-29T00:00:00\",\"1974-05-22T00:00:00\",\"1964-11-18T00:00:00\",\"1974-05-15T00:00:00\",\"2008-02-06T00:00:00\",\"1978-05-24T00:00:00\",\"1976-05-11T00:00:00\",\"1959-11-18T00:00:00\",\"1960-05-11T00:00:00\",\"1978-05-16T00:00:00\",\"2011-11-12T00:00:00\",\"1978-04-19T00:00:00\",\"1977-11-16T00:00:00\",\"1960-10-26T00:00:00\",\"1977-09-07T00:00:00\",\"1960-11-23T00:00:00\",\"1961-04-15T00:00:00\",\"1961-05-10T00:00:00\",\"1961-09-28T00:00:00\",\"1977-06-04T00:00:00\",\"1977-05-31T00:00:00\",\"1961-10-25T00:00:00\",\"1961-11-22T00:00:00\",\"1962-04-04T00:00:00\",\"1977-03-30T00:00:00\",\"1977-02-09T00:00:00\",\"2011-09-06T00:00:00\",\"1976-10-13T00:00:00\",\"2011-11-15T00:00:00\",\"1976-09-08T00:00:00\",\"2008-10-11T00:00:00\",\"2007-11-21T00:00:00\",\"1967-11-22T00:00:00\",\"1973-10-17T00:00:00\",\"2010-03-03T00:00:00\",\"1966-07-11T00:00:00\",\"1966-07-16T00:00:00\",\"1970-04-21T00:00:00\",\"1966-07-20T00:00:00\",\"1966-07-23T00:00:00\",\"1970-01-14T00:00:00\",\"1969-12-10T00:00:00\",\"1966-07-26T00:00:00\",\"2009-09-05T00:00:00\",\"1966-07-30T00:00:00\",\"1969-05-10T00:00:00\",\"2009-06-10T00:00:00\",\"1969-05-07T00:00:00\",\"1966-11-02T00:00:00\",\"1966-11-16T00:00:00\",\"1969-01-15T00:00:00\",\"1968-12-11T00:00:00\",\"1967-04-15T00:00:00\",\"1967-05-24T00:00:00\",\"1968-05-22T00:00:00\",\"2009-09-09T00:00:00\",\"1968-04-03T00:00:00\",\"2009-10-14T00:00:00\",\"1967-12-06T00:00:00\",\"1969-03-12T00:00:00\",\"1966-05-04T00:00:00\",\"2010-05-24T00:00:00\",\"1970-11-25T00:00:00\",\"1965-04-10T00:00:00\",\"1965-05-05T00:00:00\",\"1973-09-26T00:00:00\",\"2010-11-17T00:00:00\",\"1973-05-19T00:00:00\",\"1973-05-15T00:00:00\",\"1973-05-12T00:00:00\",\"2010-10-12T00:00:00\",\"1973-01-24T00:00:00\",\"1972-10-11T00:00:00\",\"2009-03-28T00:00:00\",\"1972-05-23T00:00:00\",\"2009-04-01T00:00:00\",\"2010-09-03T00:00:00\",\"1965-10-20T00:00:00\",\"1972-04-29T00:00:00\",\"1971-11-10T00:00:00\",\"1971-05-22T00:00:00\",\"1965-11-10T00:00:00\",\"2010-08-11T00:00:00\",\"1971-05-19T00:00:00\",\"1971-05-12T00:00:00\",\"1971-04-21T00:00:00\",\"1966-01-05T00:00:00\",\"1966-02-23T00:00:00\",\"2021-11-12T00:00:00\",\"1979-02-07T00:00:00\",\"1981-05-20T00:00:00\",\"1979-05-26T00:00:00\",\"1995-09-06T00:00:00\",\"1995-11-15T00:00:00\",\"1995-12-12T00:00:00\",\"1996-03-27T00:00:00\",\"1996-04-24T00:00:00\",\"1996-05-18T00:00:00\",\"1995-06-11T00:00:00\",\"1996-06-08T00:00:00\",\"1996-06-18T00:00:00\",\"1996-06-22T00:00:00\",\"1996-06-26T00:00:00\",\"1996-10-09T00:00:00\",\"1997-02-12T00:00:00\",\"1997-03-29T00:00:00\",\"1996-06-15T00:00:00\",\"1997-04-30T00:00:00\",\"1995-06-08T00:00:00\",\"1995-03-29T00:00:00\",\"1992-02-19T00:00:00\",\"1992-05-17T00:00:00\",\"1992-10-14T00:00:00\",\"1992-11-18T00:00:00\",\"1993-02-17T00:00:00\",\"2004-08-18T00:00:00\",\"1995-06-03T00:00:00\",\"1993-04-28T00:00:00\",\"1994-03-09T00:00:00\",\"1994-05-17T00:00:00\",\"1994-05-22T00:00:00\",\"1994-09-07T00:00:00\",\"1994-10-12T00:00:00\",\"1994-11-16T00:00:00\",\"1993-09-08T00:00:00\",\"1997-05-24T00:00:00\",\"1997-09-10T00:00:00\",\"1997-11-15T00:00:00\",\"2001-05-25T00:00:00\",\"2001-08-15T00:00:00\",\"2001-09-05T00:00:00\",\"2001-10-06T00:00:00\",\"2001-11-10T00:00:00\",\"2002-03-27T00:00:00\",\"2001-03-24T00:00:00\",\"2002-04-17T00:00:00\",\"2002-09-07T00:00:00\",\"2003-09-10T00:00:00\",\"2002-10-16T00:00:00\",\"2003-02-12T00:00:00\",\"2003-04-02T00:00:00\",\"2003-06-03T00:00:00\",\"2003-11-16T00:00:00\",\"2001-02-28T00:00:00\",\"2000-10-07T00:00:00\",\"2000-05-31T00:00:00\",\"1998-02-11T00:00:00\",\"2004-06-05T00:00:00\",\"1998-04-22T00:00:00\",\"1998-05-23T00:00:00\",\"2004-06-01T00:00:00\",\"1998-10-10T00:00:00\",\"1998-11-18T00:00:00\",\"1999-02-10T00:00:00\",\"1999-03-27T00:00:00\",\"1999-06-05T00:00:00\",\"1999-09-04T00:00:00\",\"1999-10-10T00:00:00\",\"1999-11-17T00:00:00\",\"2000-02-23T00:00:00\",\"2000-05-27T00:00:00\",\"1991-10-16T00:00:00\",\"1991-09-11T00:00:00\",\"1991-05-25T00:00:00\",\"1991-05-21T00:00:00\",\"2007-02-07T00:00:00\",\"1982-10-13T00:00:00\",\"1982-12-15T00:00:00\",\"1983-02-23T00:00:00\",\"1983-03-30T00:00:00\",\"1983-04-27T00:00:00\",\"1982-05-25T00:00:00\",\"1983-06-01T00:00:00\",\"1984-04-04T00:00:00\",\"2006-10-07T00:00:00\",\"1984-06-02T00:00:00\",\"1984-09-12T00:00:00\",\"1984-10-17T00:00:00\",\"2006-09-02T00:00:00\",\"1983-09-21T00:00:00\",\"1982-02-23T00:00:00\",\"1981-11-18T00:00:00\",\"2007-06-01T00:00:00\",\"2007-09-12T00:00:00\",\"1979-09-12T00:00:00\",\"1979-11-22T00:00:00\",\"1980-02-06T00:00:00\",\"2007-09-08T00:00:00\",\"1980-05-13T00:00:00\",\"2007-08-22T00:00:00\",\"1980-05-20T00:00:00\",\"1980-09-10T00:00:00\",\"1980-11-19T00:00:00\",\"1981-03-25T00:00:00\",\"1981-04-29T00:00:00\",\"1981-05-12T00:00:00\",\"1959-10-28T00:00:00\",\"1981-05-23T00:00:00\",\"1985-03-26T00:00:00\",\"1979-05-23T00:00:00\",\"2006-08-16T00:00:00\",\"1985-09-11T00:00:00\",\"2005-03-26T00:00:00\",\"1989-06-03T00:00:00\",\"2005-02-09T00:00:00\",\"1989-11-15T00:00:00\",\"1989-12-13T00:00:00\",\"1990-03-28T00:00:00\",\"1989-05-23T00:00:00\",\"1990-04-25T00:00:00\",\"1990-05-22T00:00:00\",\"1990-09-12T00:00:00\",\"1990-10-17T00:00:00\",\"1991-02-06T00:00:00\",\"1991-03-27T00:00:00\",\"2004-10-09T00:00:00\",\"1990-05-15T00:00:00\",\"1989-04-26T00:00:00\",\"2005-03-30T00:00:00\",\"1988-10-19T00:00:00\",\"1985-10-16T00:00:00\",\"1985-11-13T00:00:00\",\"1986-04-23T00:00:00\",\"2006-05-30T00:00:00\",\"1986-10-15T00:00:00\",\"1986-11-12T00:00:00\",\"2006-03-01T00:00:00\",\"2005-10-12T00:00:00\",\"1987-05-19T00:00:00\",\"2005-10-08T00:00:00\",\"1987-10-14T00:00:00\",\"1988-03-23T00:00:00\",\"1988-05-21T00:00:00\",\"1988-05-24T00:00:00\",\"1988-09-14T00:00:00\",\"2006-06-03T00:00:00\",\"2012-02-29T00:00:00\",\"1973-11-14T00:00:00\",\"2003-08-20T00:00:00\",\"1935-02-06T00:00:00\",\"1934-11-14T00:00:00\",\"1895-03-09T00:00:00\",\"2016-05-22T00:00:00\",\"1934-04-14T00:00:00\",\"1933-12-06T00:00:00\",\"1895-03-18T00:00:00\",\"1933-11-15T00:00:00\",\"1895-04-06T00:00:00\",\"2020-11-12T00:00:00\",\"2016-05-27T00:00:00\",\"2016-06-02T00:00:00\",\"1932-12-07T00:00:00\",\"2016-10-08T00:00:00\",\"1932-10-17T00:00:00\",\"2020-10-14T00:00:00\",\"1932-04-09T00:00:00\",\"1931-12-09T00:00:00\",\"1931-11-18T00:00:00\",\"1897-02-20T00:00:00\",\"2016-11-11T00:00:00\",\"2016-11-15T00:00:00\",\"1930-10-20T00:00:00\",\"1897-03-29T00:00:00\",\"1930-04-05T00:00:00\",\"2016-03-29T00:00:00\",\"2020-11-18T00:00:00\",\"1893-04-01T00:00:00\",\"1935-12-04T00:00:00\",\"2015-03-27T00:00:00\",\"1946-01-19T00:00:00\",\"1889-04-13T00:00:00\",\"1945-10-20T00:00:00\",\"2021-06-02T00:00:00\",\"1945-05-26T00:00:00\",\"2021-03-31T00:00:00\",\"1891-03-07T00:00:00\",\"1891-03-07T00:00:00\",\"1938-11-16T00:00:00\",\"1938-11-09T00:00:00\",\"2015-09-08T00:00:00\",\"1929-11-20T00:00:00\",\"2015-10-09T00:00:00\",\"1938-04-09T00:00:00\",\"1937-12-01T00:00:00\",\"1937-11-17T00:00:00\",\"1907-03-18T00:00:00\",\"2021-03-25T00:00:00\",\"1893-02-25T00:00:00\",\"2015-11-17T00:00:00\",\"1936-12-02T00:00:00\",\"1936-11-18T00:00:00\",\"1893-03-13T00:00:00\",\"1936-04-04T00:00:00\",\"1936-02-05T00:00:00\",\"1891-04-06T00:00:00\",\"1897-04-03T00:00:00\",\"2017-03-26T00:00:00\",\"2020-10-11T00:00:00\",\"1920-10-23T00:00:00\",\"1920-04-10T00:00:00\",\"1920-03-15T00:00:00\",\"1903-03-02T00:00:00\",\"2018-09-08T00:00:00\",\"2018-09-11T00:00:00\",\"1903-04-04T00:00:00\",\"1914-02-14T00:00:00\",\"1913-04-05T00:00:00\",\"1913-03-17T00:00:00\",\"2019-11-14T00:00:00\",\"2018-11-15T00:00:00\",\"2018-06-07T00:00:00\",\"1911-04-01T00:00:00\",\"1911-02-11T00:00:00\",\"2018-11-18T00:00:00\",\"2019-03-22T00:00:00\",\"1905-02-25T00:00:00\",\"1905-03-27T00:00:00\",\"1909-04-03T00:00:00\",\"1909-03-15T00:00:00\",\"1909-02-13T00:00:00\",\"1905-04-01T00:00:00\",\"2019-09-07T00:00:00\",\"2019-09-10T00:00:00\",\"1907-04-06T00:00:00\",\"1911-03-13T00:00:00\",\"1946-04-24T00:00:00\",\"2018-06-02T00:00:00\",\"1922-03-13T00:00:00\",\"1928-10-22T00:00:00\",\"1928-03-31T00:00:00\",\"2020-10-08T00:00:00\",\"1927-11-28T00:00:00\",\"1899-02-18T00:00:00\",\"2017-09-04T00:00:00\",\"1899-03-20T00:00:00\",\"1926-10-20T00:00:00\",\"1926-04-17T00:00:00\",\"1926-03-01T00:00:00\",\"1899-04-08T00:00:00\",\"2017-10-05T00:00:00\",\"1903-02-14T00:00:00\",\"1924-12-08T00:00:00\",\"1924-04-12T00:00:00\",\"1924-03-03T00:00:00\",\"1901-03-09T00:00:00\",\"2017-11-10T00:00:00\",\"1901-03-18T00:00:00\",\"2017-11-14T00:00:00\",\"1901-03-30T00:00:00\",\"1902-05-03T00:00:00\",\"1923-03-19T00:00:00\",\"2018-03-27T00:00:00\",\"1922-10-21T00:00:00\",\"1922-04-08T00:00:00\",\"1924-10-22T00:00:00\",\"1946-05-11T00:00:00\",\"1907-02-16T00:00:00\",\"2014-03-05T00:00:00\",\"2012-10-12T00:00:00\",\"2013-11-15T00:00:00\",\"1951-11-28T00:00:00\",\"1951-11-14T00:00:00\",\"2013-11-19T00:00:00\",\"1951-10-03T00:00:00\",\"1951-05-19T00:00:00\",\"1951-05-09T00:00:00\",\"1951-04-14T00:00:00\",\"1950-11-22T00:00:00\",\"1950-11-15T00:00:00\",\"1885-02-28T00:00:00\",\"1885-03-14T00:00:00\",\"1881-03-12T00:00:00\",\"1885-03-21T00:00:00\",\"1954-12-01T00:00:00\",\"1949-11-30T00:00:00\",\"1956-11-14T00:00:00\",\"2021-06-18T00:00:00\",\"2021-06-22T00:00:00\",\"1956-11-28T00:00:00\",\"2013-10-15T00:00:00\",\"2021-06-29T00:00:00\",\"1955-04-02T00:00:00\",\"1883-03-10T00:00:00\",\"2013-05-29T00:00:00\",\"1953-11-25T00:00:00\",\"1883-02-24T00:00:00\",\"1953-11-11T00:00:00\",\"1883-02-03T00:00:00\",\"2013-08-14T00:00:00\",\"1889-03-02T00:00:00\",\"2013-02-06T00:00:00\",\"2021-07-07T00:00:00\",\"1955-11-02T00:00:00\",\"1955-11-30T00:00:00\",\"2013-09-06T00:00:00\",\"2021-07-11T00:00:00\",\"2013-10-11T00:00:00\",\"1953-04-18T00:00:00\",\"1952-11-26T00:00:00\",\"1952-11-12T00:00:00\",\"1956-05-09T00:00:00\",\"1949-11-16T00:00:00\",\"1954-11-10T00:00:00\",\"2021-06-13T00:00:00\",\"1879-01-18T00:00:00\",\"1947-11-05T00:00:00\",\"2014-05-30T00:00:00\",\"2021-06-06T00:00:00\",\"1958-05-07T00:00:00\",\"1877-03-03T00:00:00\",\"2012-06-02T00:00:00\",\"2014-11-15T00:00:00\",\"1875-03-06T00:00:00\",\"1947-11-19T00:00:00\",\"1958-10-22T00:00:00\",\"1947-05-03T00:00:00\",\"1958-11-26T00:00:00\",\"1959-04-11T00:00:00\",\"1959-05-06T00:00:00\",\"1947-04-12T00:00:00\",\"1946-11-27T00:00:00\",\"1946-11-13T00:00:00\",\"1889-02-23T00:00:00\",\"1873-03-08T00:00:00\",\"2021-10-12T00:00:00\",\"1879-04-05T00:00:00\",\"1888-02-04T00:00:00\",\"2014-10-09T00:00:00\",\"2014-09-03T00:00:00\",\"1881-02-26T00:00:00\",\"1957-11-27T00:00:00\",\"1949-04-09T00:00:00\",\"1887-03-19T00:00:00\",\"1957-05-08T00:00:00\",\"1887-02-05T00:00:00\",\"1957-04-06T00:00:00\",\"1956-12-05T00:00:00\",\"1949-09-21T00:00:00\",\"1948-12-02T00:00:00\",\"1948-11-10T00:00:00\",\"2012-09-11T00:00:00\",\"1957-11-06T00:00:00\",\"2021-09-05T00:00:00\",\"1887-02-26T00:00:00\",\"2014-10-12T00:00:00\",\"2007-06-06T00:00:00\",\"2000-10-11T00:00:00\",\"1982-06-03T00:00:00\",\"1966-06-26T00:00:00\",\"1992-06-03T00:00:00\",\"1976-06-13T00:00:00\",\"1937-05-20T00:00:00\",\"1956-05-20T00:00:00\",\"1985-05-22T00:00:00\",\"1955-05-15T00:00:00\",\"1984-02-29T00:00:00\",\"1925-05-21T00:00:00\",\"1963-02-27T00:00:00\",\"1923-05-10T00:00:00\",\"1924-05-17T00:00:00\",\"1946-05-19T00:00:00\",\"2017-06-13T00:00:00\",\"1928-05-17T00:00:00\",\"1929-05-09T00:00:00\",\"2000-09-02T00:00:00\",\"1997-06-07T00:00:00\",\"1949-05-22T00:00:00\",\"1927-05-26T00:00:00\",\"1938-05-26T00:00:00\",\"1931-05-14T00:00:00\",\"2008-03-26T00:00:00\",\"1996-11-09T00:00:00\",\"1974-05-29T00:00:00\",\"1963-06-02T00:00:00\",\"1938-05-14T00:00:00\",\"2016-03-26T00:00:00\",\"1978-02-22T00:00:00\",\"1972-05-13T00:00:00\",\"2008-11-19T00:00:00\",\"1968-06-01T00:00:00\",\"1956-05-26T00:00:00\",\"1987-09-09T00:00:00\",\"2001-09-01T00:00:00\",\"1965-05-12T00:00:00\",\"1930-05-10T00:00:00\",\"2017-03-22T00:00:00\",\"1989-02-08T00:00:00\",\"1982-11-17T00:00:00\",\"1971-12-01T00:00:00\",\"2001-06-06T00:00:00\",\"1909-05-31T00:00:00\",\"1988-04-27T00:00:00\",\"1909-05-29T00:00:00\",\"1954-05-23T00:00:00\",\"1983-10-12T00:00:00\",\"2021-09-02T00:00:00\",\"1960-05-22T00:00:00\",\"1992-05-12T00:00:00\",\"1999-04-28T00:00:00\",\"1908-06-10T00:00:00\",\"1981-06-06T00:00:00\",\"1934-05-10T00:00:00\",\"1982-06-02T00:00:00\",\"2020-09-05T00:00:00\",\"1988-02-17T00:00:00\",\"1986-02-26T00:00:00\",\"2007-03-24T00:00:00\",\"1961-05-24T00:00:00\",\"2015-03-31T00:00:00\",\"1973-06-14T00:00:00\",\"1997-10-11T00:00:00\",\"1939-05-13T00:00:00\",\"1990-07-07T00:00:00\",\"1980-06-15T00:00:00\",\"1976-11-17T00:00:00\",\"1948-05-16T00:00:00\",\"2000-11-15T00:00:00\",\"1952-05-18T00:00:00\",\"1933-05-13T00:00:00\",\"2009-06-06T00:00:00\",\"2019-11-17T00:00:00\",\"2003-03-29T00:00:00\",\"2017-10-08T00:00:00\",\"2015-10-12T00:00:00\",\"1998-10-14T00:00:00\",\"1960-10-19T00:00:00\",\"1983-11-16T00:00:00\",\"1977-10-12T00:00:00\",\"1927-05-21T00:00:00\",\"1991-06-12T00:00:00\",\"2017-09-01T00:00:00\",\"2000-06-03T00:00:00\",\"1971-02-03T00:00:00\",\"1959-05-24T00:00:00\",\"1985-06-09T00:00:00\",\"1969-06-03T00:00:00\",\"1969-06-01T00:00:00\",\"1996-09-01T00:00:00\",\"2012-09-07T00:00:00\",\"2013-03-26T00:00:00\",\"2019-03-25T00:00:00\",\"2011-10-07T00:00:00\",\"1998-05-27T00:00:00\",\"1935-05-18T00:00:00\",\"2006-11-15T00:00:00\",\"1993-10-13T00:00:00\",\"2002-02-13T00:00:00\",\"2018-03-23T00:00:00\",\"1964-12-09T00:00:00\",\"1969-11-05T00:00:00\",\"2009-08-12T00:00:00\",\"1991-06-08T00:00:00\",\"1991-06-03T00:00:00\",\"2006-09-06T00:00:00\",\"2003-09-06T00:00:00\",\"1896-03-07T00:00:00\",\"1933-10-14T00:00:00\",\"1884-02-23T00:00:00\",\"1888-04-07T00:00:00\",\"1894-03-03T00:00:00\",\"1935-10-19T00:00:00\",\"1977-05-28T00:00:00\",\"1952-10-04T00:00:00\",\"1886-03-13T00:00:00\",\"1966-10-22T00:00:00\",\"1892-03-05T00:00:00\",\"1937-10-23T00:00:00\",\"1975-05-17T00:00:00\",\"1946-09-28T00:00:00\",\"1979-05-19T00:00:00\",\"1890-03-15T00:00:00\",\"1945-09-15T00:00:00\",\"1969-05-03T00:00:00\",\"1950-10-07T00:00:00\",\"1908-02-15T00:00:00\",\"1931-10-17T00:00:00\",\"1906-02-17T00:00:00\",\"1910-02-12T00:00:00\",\"1912-02-10T00:00:00\",\"1904-03-12T00:00:00\",\"1913-02-15T00:00:00\",\"1960-10-08T00:00:00\",\"2005-09-07T00:00:00\",\"1919-10-25T00:00:00\",\"1958-10-04T00:00:00\",\"1987-04-01T00:00:00\",\"1921-10-22T00:00:00\",\"1902-03-22T00:00:00\",\"1979-10-17T00:00:00\",\"1985-02-27T00:00:00\",\"1962-10-20T00:00:00\",\"1956-10-06T00:00:00\",\"1882-02-18T00:00:00\",\"1900-03-17T00:00:00\",\"1925-10-24T00:00:00\",\"1983-05-28T00:00:00\",\"1927-10-22T00:00:00\",\"1964-10-03T00:00:00\",\"1948-10-09T00:00:00\",\"1898-03-05T00:00:00\",\"1929-10-19T00:00:00\",\"1954-10-02T00:00:00\",\"1923-10-20T00:00:00\",\"1971-05-15T00:00:00\",\"1966-06-29T00:00:00\",\"1949-05-18T00:00:00\",\"1981-09-09T00:00:00\",\"2012-05-26T00:00:00\",\"1937-05-14T00:00:00\",\"1993-06-02T00:00:00\",\"1995-10-11T00:00:00\",\"1962-05-20T00:00:00\",\"1959-05-17T00:00:00\",\"1997-05-31T00:00:00\",\"1989-10-11T00:00:00\",\"1991-11-13T00:00:00\",\"1999-09-08T00:00:00\",\"2021-09-08T00:00:00\",\"1993-05-29T00:00:00\",\"1973-06-06T00:00:00\",\"1966-07-05T00:00:00\",\"2004-09-08T00:00:00\",\"2012-10-17T00:00:00\",\"1947-05-25T00:00:00\",\"2004-06-24T00:00:00\",\"1955-05-22T00:00:00\",\"1964-05-17T00:00:00\",\"1961-05-21T00:00:00\",\"2004-02-18T00:00:00\",\"1950-05-14T00:00:00\",\"1974-04-03T00:00:00\",\"1975-11-19T00:00:00\",\"1957-05-19T00:00:00\",\"1946-09-30T00:00:00\",\"1995-02-15T00:00:00\",\"1978-10-25T00:00:00\",\"1990-11-14T00:00:00\",\"2015-06-07T00:00:00\",\"1964-05-24T00:00:00\",\"1985-05-01T00:00:00\",\"1980-10-15T00:00:00\",\"1968-11-06T00:00:00\",\"1939-05-24T00:00:00\",\"2007-10-17T00:00:00\",\"1986-03-26T00:00:00\",\"1958-05-18T00:00:00\",\"1992-04-29T00:00:00\",\"1973-06-10T00:00:00\",\"2013-03-22T00:00:00\",\"2015-09-05T00:00:00\",\"2021-11-15T00:00:00\",\"1988-11-16T00:00:00\",\"1872-11-30T00:00:00\",\"1982-05-29T00:00:00\",\"1929-04-13T00:00:00\",\"1931-03-28T00:00:00\",\"1980-05-24T00:00:00\",\"1933-04-01T00:00:00\",\"1935-04-06T00:00:00\",\"1978-05-20T00:00:00\",\"1937-04-17T00:00:00\",\"1939-04-15T00:00:00\",\"1976-05-15T00:00:00\",\"1946-04-13T00:00:00\",\"2017-06-10T00:00:00\",\"2014-11-18T00:00:00\",\"1950-04-15T00:00:00\",\"1952-04-05T00:00:00\",\"1974-05-18T00:00:00\",\"1954-04-03T00:00:00\",\"1973-02-14T00:00:00\",\"1956-04-14T00:00:00\",\"1958-04-19T00:00:00\",\"1972-05-27T00:00:00\",\"1960-04-09T00:00:00\",\"1962-04-14T00:00:00\",\"1970-04-25T00:00:00\",\"1964-04-11T00:00:00\",\"1948-04-10T00:00:00\",\"1927-04-02T00:00:00\",\"1984-05-26T00:00:00\",\"1925-04-04T00:00:00\",\"1874-03-07T00:00:00\",\"1876-03-04T00:00:00\",\"1999-11-13T00:00:00\",\"1878-03-02T00:00:00\",\"1880-03-13T00:00:00\",\"1882-03-11T00:00:00\",\"1884-03-15T00:00:00\",\"1886-03-27T00:00:00\",\"1888-03-17T00:00:00\",\"1890-04-05T00:00:00\",\"1892-04-02T00:00:00\",\"1894-04-07T00:00:00\",\"1896-04-04T00:00:00\",\"1898-04-02T00:00:00\",\"1989-05-27T00:00:00\",\"1900-04-07T00:00:00\",\"1904-04-09T00:00:00\",\"1906-04-07T00:00:00\",\"1908-04-04T00:00:00\",\"1987-05-23T00:00:00\",\"1910-04-02T00:00:00\",\"1912-03-23T00:00:00\",\"1914-04-14T00:00:00\",\"1921-04-09T00:00:00\",\"1985-05-25T00:00:00\",\"1923-04-14T00:00:00\",\"1966-04-02T00:00:00\",\"1968-02-24T00:00:00\",\"2016-09-04T00:00:00\",\"2002-10-12T00:00:00\",\"2015-06-14T00:00:00\",\"2016-10-11T00:00:00\",\"2003-05-22T00:00:00\",\"2002-05-21T00:00:00\",\"1968-05-08T00:00:00\",\"2015-11-13T00:00:00\",\"1955-05-18T00:00:00\",\"1980-03-26T00:00:00\",\"2009-02-11T00:00:00\",\"1929-05-15T00:00:00\",\"1960-05-15T00:00:00\",\"1987-02-18T00:00:00\",\"1982-07-05T00:00:00\",\"1965-12-08T00:00:00\",\"2004-11-17T00:00:00\",\"2018-10-15T00:00:00\",\"1992-09-09T00:00:00\",\"2012-11-14T00:00:00\",\"2004-03-31T00:00:00\",\"1937-05-17T00:00:00\",\"1998-09-05T00:00:00\",\"1979-06-10T00:00:00\",\"1965-05-16T00:00:00\",\"1949-05-13T00:00:00\",\"1992-06-17T00:00:00\",\"1923-05-24T00:00:00\",\"1923-05-21T00:00:00\",\"1989-09-06T00:00:00\",\"1986-09-10T00:00:00\",\"1956-05-16T00:00:00\",\"1981-05-30T00:00:00\",\"2014-09-08T00:00:00\",\"1998-03-25T00:00:00\",\"1938-05-21T00:00:00\",\"1945-07-21T00:00:00\",\"1947-05-18T00:00:00\",\"1975-09-03T00:00:00\",\"1988-05-28T00:00:00\",\"1933-05-20T00:00:00\",\"1954-06-20T00:00:00\",\"1963-06-05T00:00:00\",\"1952-05-28T00:00:00\",\"1971-10-13T00:00:00\",\"2010-09-07T00:00:00\",\"2008-06-01T00:00:00\",\"1990-06-02T00:00:00\",\"1991-05-01T00:00:00\",\"1984-11-14T00:00:00\",\"1993-03-31T00:00:00\",\"1987-04-29T00:00:00\",\"2003-10-11T00:00:00\",\"2009-10-10T00:00:00\",\"2012-06-19T00:00:00\",\"2013-09-10T00:00:00\",\"1953-06-08T00:00:00\",\"1964-05-27T00:00:00\",\"2005-05-28T00:00:00\",\"1959-05-28T00:00:00\",\"1993-06-09T00:00:00\",\"1985-06-16T00:00:00\",\"1953-05-31T00:00:00\",\"1969-06-08T00:00:00\",\"1984-06-13T00:00:00\",\"1977-06-15T00:00:00\",\"1906-03-19T00:00:00\",\"1908-03-16T00:00:00\",\"1963-10-12T00:00:00\",\"2005-09-03T00:00:00\",\"1904-02-29T00:00:00\",\"1902-03-03T00:00:00\",\"1949-10-15T00:00:00\",\"1970-04-18T00:00:00\",\"1898-03-28T00:00:00\",\"2011-03-26T00:00:00\",\"1896-03-16T00:00:00\",\"1910-03-14T00:00:00\",\"1892-03-05T00:00:00\",\"1890-03-15T00:00:00\",\"1886-03-29T00:00:00\",\"1884-03-17T00:00:00\",\"1882-03-13T00:00:00\",\"1880-03-15T00:00:00\",\"1965-10-02T00:00:00\",\"1967-10-21T00:00:00\",\"1900-03-26T00:00:00\",\"1894-03-12T00:00:00\",\"1921-03-14T00:00:00\",\"1972-11-15T00:00:00\",\"1947-10-18T00:00:00\",\"1938-10-22T00:00:00\",\"1953-10-10T00:00:00\",\"1974-05-11T00:00:00\",\"1978-05-13T00:00:00\",\"1936-10-17T00:00:00\",\"1955-10-22T00:00:00\",\"1934-09-29T00:00:00\",\"1912-03-11T00:00:00\",\"1980-05-17T00:00:00\",\"1932-11-16T00:00:00\",\"1976-05-08T00:00:00\",\"1957-10-19T00:00:00\",\"1951-10-20T00:00:00\",\"1982-04-27T00:00:00\",\"1928-11-17T00:00:00\",\"1984-05-02T00:00:00\",\"1927-02-12T00:00:00\",\"1925-02-28T00:00:00\",\"1959-10-17T00:00:00\",\"1972-05-20T00:00:00\",\"1923-03-05T00:00:00\",\"1961-10-14T00:00:00\",\"1914-03-16T00:00:00\",\"1930-11-22T00:00:00\",\"1976-03-24T00:00:00\",\"1974-06-05T00:00:00\",\"1987-11-11T00:00:00\",\"1965-05-09T00:00:00\",\"1958-05-11T00:00:00\",\"1939-05-18T00:00:00\",\"1954-05-16T00:00:00\"],\"xaxis\":\"x\",\"y\":[0.0,0.0,1.0,0.0,1.0,3.0,0.0,1.0,0.0,0.0,0.0,1.0,2.0,1.0,1.0,2.0,1.0,3.0,0.0,0.0,2.0,4.0,0.0,0.0,1.0,2.0,2.0,1.0,0.0,2.0,1.0,1.0,3.0,1.0,3.0,1.0,1.0,0.0,5.0,2.0,2.0,2.0,0.0,0.0,1.0,0.0,0.0,0.0,0.0,1.0,0.0,0.0,0.0,2.0,0.0,1.0,0.0,2.0,2.0,2.0,1.0,2.0,2.0,0.0,3.0,1.0,0.0,4.0,2.0,1.0,1.0,1.0,0.0,0.0,0.0,0.0,3.0,3.0,1.0,2.0,5.0,4.0,1.0,1.0,2.0,2.0,8.0,1.0,5.0,2.0,2.0,2.0,0.0,2.0,3.0,2.0,1.0,2.0,2.0,1.0,2.0,4.0,4.0,2.0,3.0,1.0,1.0,1.0,2.0,4.0,0.0,5.0,9.0,8.0,4.0,1.0,0.0,2.0,1.0,3.0,5.0,0.0,1.0,2.0,1.0,1.0,5.0,2.0,2.0,1.0,3.0,0.0,2.0,3.0,2.0,1.0,0.0,1.0,2.0,2.0,4.0,4.0,6.0,2.0,0.0,5.0,1.0,1.0,2.0,2.0,3.0,5.0,1.0,3.0,2.0,5.0,2.0,3.0,3.0,2.0,1.0,7.0,1.0,1.0,3.0,2.0,0.0,1.0,1.0,4.0,0.0,2.0,4.0,2.0,1.0,1.0,3.0,2.0,2.0,0.0,5.0,3.0,1.0,1.0,5.0,4.0,0.0,3.0,0.0,3.0,1.0,1.0,0.0,3.0,1.0,1.0,4.0,0.0,1.0,2.0,0.0,2.0,2.0,2.0,3.0,0.0,2.0,1.0,1.0,4.0,6.0,3.0,2.0,2.0,1.0,5.0,0.0,2.0,1.0,1.0,3.0,2.0,4.0,2.0,4.0,0.0,2.0,2.0,1.0,1.0,2.0,4.0,1.0,2.0,2.0,1.0,2.0,2.0,2.0,3.0,0.0,2.0,0.0,6.0,3.0,0.0,1.0,0.0,2.0,0.0,3.0,0.0,6.0,2.0,0.0,0.0,1.0,1.0,0.0,2.0,3.0,0.0,1.0,9.0,2.0,0.0,2.0,2.0,2.0,1.0,0.0,0.0,1.0,5.0,5.0,0.0,4.0,1.0,1.0,3.0,1.0,2.0,2.0,3.0,3.0,1.0,1.0,4.0,2.0,1.0,0.0,0.0,2.0,0.0,2.0,0.0,4.0,1.0,4.0,3.0,0.0,0.0,2.0,1.0,0.0,4.0,1.0,1.0,2.0,2.0,1.0,2.0,1.0,5.0,2.0,0.0,5.0,0.0,2.0,3.0,3.0,2.0,2.0,2.0,1.0,1.0,8.0,2.0,1.0,1.0,1.0,6.0,2.0,0.0,3.0,2.0,3.0,9.0,2.0,3.0,4.0,1.0,1.0,3.0,3.0,2.0,1.0,4.0,2.0,1.0,0.0,3.0,7.0,3.0,6.0,3.0,2.0,5.0,4.0,5.0,1.0,4.0,5.0,3.0,4.0,2.0,2.0,0.0,1.0,2.0,2.0,4.0,6.0,7.0,4.0,2.0,6.0,2.0,0.0,5.0,2.0,1.0,5.0,6.0,2.0,6.0,3.0,6.0,1.0,1.0,2.0,1.0,2.0,2.0,2.0,5.0,1.0,2.0,1.0,1.0,1.0,0.0,1.0,4.0,7.0,3.0,2.0,1.0,2.0,2.0,5.0,1.0,3.0,2.0,2.0,4.0,1.0,4.0,5.0,1.0,3.0,2.0,2.0,1.0,2.0,1.0,3.0,1.0,13.0,2.0,4.0,3.0,0.0,1.0,2.0,1.0,4.0,4.0,1.0,1.0,3.0,0.0,6.0,0.0,2.0,2.0,6.0,1.0,2.0,0.0,3.0,4.0,1.0,1.0,5.0,0.0,2.0,2.0,0.0,2.0,5.0,2.0,2.0,2.0,4.0,4.0,1.0,1.0,1.0,3.0,2.0,3.0,0.0,1.0,3.0,2.0,2.0,7.0,2.0,1.0,3.0,7.0,3.0,5.0,3.0,6.0,2.0,2.0,3.0,4.0,4.0,1.0,4.0,2.0,5.0,5.0,4.0,9.0,3.0,1.0,2.0,2.0,3.0,1.0,2.0,1.0,1.0,3.0,2.0,4.0,5.0,3.0,2.0,1.0,2.0,1.0,8.0,3.0,4.0,4.0,1.0,5.0,5.0,5.0,1.0,0.0,4.0,1.0,2.0,5.0,7.0,2.0,5.0,0.0,6.0,1.0,1.0,2.0,4.0,4.0,0.0,0.0,0.0,1.0,0.0,1.0,1.0,0.0,1.0,1.0,1.0,2.0,2.0,5.0,1.0,1.0,2.0,3.0,1.0,1.0,1.0,0.0,1.0,0.0,2.0,5.0,1.0,0.0,1.0,1.0,3.0,2.0,2.0,0.0,1.0,1.0,1.0,3.0,1.0,0.0,3.0,1.0,1.0,0.0,0.0,0.0,2.0,0.0,2.0,7.0,0.0,0.0,2.0,0.0,1.0,0.0,1.0,2.0,1.0,0.0,0.0,1.0,0.0,2.0,1.0,2.0,0.0,2.0,2.0,1.0,2.0,0.0,1.0,1.0,1.0,0.0,0.0,0.0,0.0,0.0,0.0,0.0,0.0,0.0,2.0,2.0,0.0,1.0,0.0,2.0,1.0,0.0,0.0,0.0,0.0,1.0,1.0,2.0,0.0,0.0,1.0,2.0,1.0,0.0,1.0,0.0,2.0,0.0,0.0,0.0,1.0,0.0,0.0,1.0,1.0,2.0,1.0,1.0,2.0,1.0,0.0,0.0,1.0,0.0,2.0,0.0,1.0,0.0,1.0,1.0,1.0,2.0,0.0,1.0,1.0,1.0,2.0,2.0,1.0,1.0,3.0,0.0,1.0,0.0,1.0,0.0,1.0,1.0,0.0,0.0,0.0,0.0,2.0,3.0,2.0,2.0,0.0,0.0,2.0,0.0,1.0,1.0,2.0,0.0,0.0,2.0,0.0,0.0,4.0,0.0,0.0,1.0,0.0,1.0,1.0,2.0,0.0,1.0,1.0,0.0,2.0,3.0,3.0,1.0,1.0,3.0,0.0,1.0,1.0,0.0,1.0,1.0,1.0,0.0,1.0,0.0,2.0,0.0,0.0,2.0,0.0,1.0,2.0,1.0,0.0,0.0,0.0,1.0,0.0,0.0,1.0,2.0,0.0,2.0,2.0,0.0,3.0,1.0,2.0,1.0,2.0,1.0,0.0,1.0,2.0,2.0,0.0,1.0,0.0,0.0,1.0,2.0,0.0,1.0,0.0,1.0,1.0,2.0,2.0,3.0,0.0,7.0,5.0,5.0,1.0,1.0,0.0,1.0,1.0,2.0,2.0,1.0,0.0,4.0,0.0,2.0,1.0,0.0,2.0,1.0,3.0,3.0,1.0,2.0,3.0,1.0,0.0,1.0,2.0,0.0,1.0,1.0,1.0,2.0,1.0,0.0,2.0,4.0,3.0,2.0,0.0,0.0,1.0,2.0,1.0,4.0,1.0,0.0,2.0,0.0,1.0,3.0,2.0,1.0,2.0,0.0,1.0,0.0,2.0,0.0,1.0,2.0,3.0,1.0,1.0,0.0,0.0,0.0,1.0,0.0,2.0,1.0,0.0,1.0,0.0,0.0,0.0,0.0,0.0,1.0,0.0,0.0,3.0,0.0,1.0,1.0,2.0,0.0,2.0,1.0,2.0,0.0,0.0,1.0,0.0,0.0,2.0,0.0,1.0,1.0,0.0,0.0,1.0,0.0,0.0,1.0,1.0,0.0,5.0,2.0,0.0,0.0,1.0,1.0,0.0,0.0,0.0,4.0,1.0,0.0,1.0,2.0,2.0,0.0,0.0,4.0,0.0,0.0,0.0,1.0,0.0,2.0,1.0,3.0,1.0,1.0,0.0,2.0,1.0,0.0,0.0,1.0,2.0,1.0,1.0,5.0,2.0,1.0],\"yaxis\":\"y\"}],                        {\"legend\":{\"tracegroupgap\":0},\"margin\":{\"t\":60},\"template\":{\"data\":{\"bar\":[{\"error_x\":{\"color\":\"#2a3f5f\"},\"error_y\":{\"color\":\"#2a3f5f\"},\"marker\":{\"line\":{\"color\":\"#E5ECF6\",\"width\":0.5},\"pattern\":{\"fillmode\":\"overlay\",\"size\":10,\"solidity\":0.2}},\"type\":\"bar\"}],\"barpolar\":[{\"marker\":{\"line\":{\"color\":\"#E5ECF6\",\"width\":0.5},\"pattern\":{\"fillmode\":\"overlay\",\"size\":10,\"solidity\":0.2}},\"type\":\"barpolar\"}],\"carpet\":[{\"aaxis\":{\"endlinecolor\":\"#2a3f5f\",\"gridcolor\":\"white\",\"linecolor\":\"white\",\"minorgridcolor\":\"white\",\"startlinecolor\":\"#2a3f5f\"},\"baxis\":{\"endlinecolor\":\"#2a3f5f\",\"gridcolor\":\"white\",\"linecolor\":\"white\",\"minorgridcolor\":\"white\",\"startlinecolor\":\"#2a3f5f\"},\"type\":\"carpet\"}],\"choropleth\":[{\"colorbar\":{\"outlinewidth\":0,\"ticks\":\"\"},\"type\":\"choropleth\"}],\"contour\":[{\"colorbar\":{\"outlinewidth\":0,\"ticks\":\"\"},\"colorscale\":[[0.0,\"#0d0887\"],[0.1111111111111111,\"#46039f\"],[0.2222222222222222,\"#7201a8\"],[0.3333333333333333,\"#9c179e\"],[0.4444444444444444,\"#bd3786\"],[0.5555555555555556,\"#d8576b\"],[0.6666666666666666,\"#ed7953\"],[0.7777777777777778,\"#fb9f3a\"],[0.8888888888888888,\"#fdca26\"],[1.0,\"#f0f921\"]],\"type\":\"contour\"}],\"contourcarpet\":[{\"colorbar\":{\"outlinewidth\":0,\"ticks\":\"\"},\"type\":\"contourcarpet\"}],\"heatmap\":[{\"colorbar\":{\"outlinewidth\":0,\"ticks\":\"\"},\"colorscale\":[[0.0,\"#0d0887\"],[0.1111111111111111,\"#46039f\"],[0.2222222222222222,\"#7201a8\"],[0.3333333333333333,\"#9c179e\"],[0.4444444444444444,\"#bd3786\"],[0.5555555555555556,\"#d8576b\"],[0.6666666666666666,\"#ed7953\"],[0.7777777777777778,\"#fb9f3a\"],[0.8888888888888888,\"#fdca26\"],[1.0,\"#f0f921\"]],\"type\":\"heatmap\"}],\"heatmapgl\":[{\"colorbar\":{\"outlinewidth\":0,\"ticks\":\"\"},\"colorscale\":[[0.0,\"#0d0887\"],[0.1111111111111111,\"#46039f\"],[0.2222222222222222,\"#7201a8\"],[0.3333333333333333,\"#9c179e\"],[0.4444444444444444,\"#bd3786\"],[0.5555555555555556,\"#d8576b\"],[0.6666666666666666,\"#ed7953\"],[0.7777777777777778,\"#fb9f3a\"],[0.8888888888888888,\"#fdca26\"],[1.0,\"#f0f921\"]],\"type\":\"heatmapgl\"}],\"histogram\":[{\"marker\":{\"pattern\":{\"fillmode\":\"overlay\",\"size\":10,\"solidity\":0.2}},\"type\":\"histogram\"}],\"histogram2d\":[{\"colorbar\":{\"outlinewidth\":0,\"ticks\":\"\"},\"colorscale\":[[0.0,\"#0d0887\"],[0.1111111111111111,\"#46039f\"],[0.2222222222222222,\"#7201a8\"],[0.3333333333333333,\"#9c179e\"],[0.4444444444444444,\"#bd3786\"],[0.5555555555555556,\"#d8576b\"],[0.6666666666666666,\"#ed7953\"],[0.7777777777777778,\"#fb9f3a\"],[0.8888888888888888,\"#fdca26\"],[1.0,\"#f0f921\"]],\"type\":\"histogram2d\"}],\"histogram2dcontour\":[{\"colorbar\":{\"outlinewidth\":0,\"ticks\":\"\"},\"colorscale\":[[0.0,\"#0d0887\"],[0.1111111111111111,\"#46039f\"],[0.2222222222222222,\"#7201a8\"],[0.3333333333333333,\"#9c179e\"],[0.4444444444444444,\"#bd3786\"],[0.5555555555555556,\"#d8576b\"],[0.6666666666666666,\"#ed7953\"],[0.7777777777777778,\"#fb9f3a\"],[0.8888888888888888,\"#fdca26\"],[1.0,\"#f0f921\"]],\"type\":\"histogram2dcontour\"}],\"mesh3d\":[{\"colorbar\":{\"outlinewidth\":0,\"ticks\":\"\"},\"type\":\"mesh3d\"}],\"parcoords\":[{\"line\":{\"colorbar\":{\"outlinewidth\":0,\"ticks\":\"\"}},\"type\":\"parcoords\"}],\"pie\":[{\"automargin\":true,\"type\":\"pie\"}],\"scatter\":[{\"marker\":{\"colorbar\":{\"outlinewidth\":0,\"ticks\":\"\"}},\"type\":\"scatter\"}],\"scatter3d\":[{\"line\":{\"colorbar\":{\"outlinewidth\":0,\"ticks\":\"\"}},\"marker\":{\"colorbar\":{\"outlinewidth\":0,\"ticks\":\"\"}},\"type\":\"scatter3d\"}],\"scattercarpet\":[{\"marker\":{\"colorbar\":{\"outlinewidth\":0,\"ticks\":\"\"}},\"type\":\"scattercarpet\"}],\"scattergeo\":[{\"marker\":{\"colorbar\":{\"outlinewidth\":0,\"ticks\":\"\"}},\"type\":\"scattergeo\"}],\"scattergl\":[{\"marker\":{\"colorbar\":{\"outlinewidth\":0,\"ticks\":\"\"}},\"type\":\"scattergl\"}],\"scattermapbox\":[{\"marker\":{\"colorbar\":{\"outlinewidth\":0,\"ticks\":\"\"}},\"type\":\"scattermapbox\"}],\"scatterpolar\":[{\"marker\":{\"colorbar\":{\"outlinewidth\":0,\"ticks\":\"\"}},\"type\":\"scatterpolar\"}],\"scatterpolargl\":[{\"marker\":{\"colorbar\":{\"outlinewidth\":0,\"ticks\":\"\"}},\"type\":\"scatterpolargl\"}],\"scatterternary\":[{\"marker\":{\"colorbar\":{\"outlinewidth\":0,\"ticks\":\"\"}},\"type\":\"scatterternary\"}],\"surface\":[{\"colorbar\":{\"outlinewidth\":0,\"ticks\":\"\"},\"colorscale\":[[0.0,\"#0d0887\"],[0.1111111111111111,\"#46039f\"],[0.2222222222222222,\"#7201a8\"],[0.3333333333333333,\"#9c179e\"],[0.4444444444444444,\"#bd3786\"],[0.5555555555555556,\"#d8576b\"],[0.6666666666666666,\"#ed7953\"],[0.7777777777777778,\"#fb9f3a\"],[0.8888888888888888,\"#fdca26\"],[1.0,\"#f0f921\"]],\"type\":\"surface\"}],\"table\":[{\"cells\":{\"fill\":{\"color\":\"#EBF0F8\"},\"line\":{\"color\":\"white\"}},\"header\":{\"fill\":{\"color\":\"#C8D4E3\"},\"line\":{\"color\":\"white\"}},\"type\":\"table\"}]},\"layout\":{\"annotationdefaults\":{\"arrowcolor\":\"#2a3f5f\",\"arrowhead\":0,\"arrowwidth\":1},\"autotypenumbers\":\"strict\",\"coloraxis\":{\"colorbar\":{\"outlinewidth\":0,\"ticks\":\"\"}},\"colorscale\":{\"diverging\":[[0,\"#8e0152\"],[0.1,\"#c51b7d\"],[0.2,\"#de77ae\"],[0.3,\"#f1b6da\"],[0.4,\"#fde0ef\"],[0.5,\"#f7f7f7\"],[0.6,\"#e6f5d0\"],[0.7,\"#b8e186\"],[0.8,\"#7fbc41\"],[0.9,\"#4d9221\"],[1,\"#276419\"]],\"sequential\":[[0.0,\"#0d0887\"],[0.1111111111111111,\"#46039f\"],[0.2222222222222222,\"#7201a8\"],[0.3333333333333333,\"#9c179e\"],[0.4444444444444444,\"#bd3786\"],[0.5555555555555556,\"#d8576b\"],[0.6666666666666666,\"#ed7953\"],[0.7777777777777778,\"#fb9f3a\"],[0.8888888888888888,\"#fdca26\"],[1.0,\"#f0f921\"]],\"sequentialminus\":[[0.0,\"#0d0887\"],[0.1111111111111111,\"#46039f\"],[0.2222222222222222,\"#7201a8\"],[0.3333333333333333,\"#9c179e\"],[0.4444444444444444,\"#bd3786\"],[0.5555555555555556,\"#d8576b\"],[0.6666666666666666,\"#ed7953\"],[0.7777777777777778,\"#fb9f3a\"],[0.8888888888888888,\"#fdca26\"],[1.0,\"#f0f921\"]]},\"colorway\":[\"#636efa\",\"#EF553B\",\"#00cc96\",\"#ab63fa\",\"#FFA15A\",\"#19d3f3\",\"#FF6692\",\"#B6E880\",\"#FF97FF\",\"#FECB52\"],\"font\":{\"color\":\"#2a3f5f\"},\"geo\":{\"bgcolor\":\"white\",\"lakecolor\":\"white\",\"landcolor\":\"#E5ECF6\",\"showlakes\":true,\"showland\":true,\"subunitcolor\":\"white\"},\"hoverlabel\":{\"align\":\"left\"},\"hovermode\":\"closest\",\"mapbox\":{\"style\":\"light\"},\"paper_bgcolor\":\"white\",\"plot_bgcolor\":\"#E5ECF6\",\"polar\":{\"angularaxis\":{\"gridcolor\":\"white\",\"linecolor\":\"white\",\"ticks\":\"\"},\"bgcolor\":\"#E5ECF6\",\"radialaxis\":{\"gridcolor\":\"white\",\"linecolor\":\"white\",\"ticks\":\"\"}},\"scene\":{\"xaxis\":{\"backgroundcolor\":\"#E5ECF6\",\"gridcolor\":\"white\",\"gridwidth\":2,\"linecolor\":\"white\",\"showbackground\":true,\"ticks\":\"\",\"zerolinecolor\":\"white\"},\"yaxis\":{\"backgroundcolor\":\"#E5ECF6\",\"gridcolor\":\"white\",\"gridwidth\":2,\"linecolor\":\"white\",\"showbackground\":true,\"ticks\":\"\",\"zerolinecolor\":\"white\"},\"zaxis\":{\"backgroundcolor\":\"#E5ECF6\",\"gridcolor\":\"white\",\"gridwidth\":2,\"linecolor\":\"white\",\"showbackground\":true,\"ticks\":\"\",\"zerolinecolor\":\"white\"}},\"shapedefaults\":{\"line\":{\"color\":\"#2a3f5f\"}},\"ternary\":{\"aaxis\":{\"gridcolor\":\"white\",\"linecolor\":\"white\",\"ticks\":\"\"},\"baxis\":{\"gridcolor\":\"white\",\"linecolor\":\"white\",\"ticks\":\"\"},\"bgcolor\":\"#E5ECF6\",\"caxis\":{\"gridcolor\":\"white\",\"linecolor\":\"white\",\"ticks\":\"\"}},\"title\":{\"x\":0.05},\"xaxis\":{\"automargin\":true,\"gridcolor\":\"white\",\"linecolor\":\"white\",\"ticks\":\"\",\"title\":{\"standoff\":15},\"zerolinecolor\":\"white\",\"zerolinewidth\":2},\"yaxis\":{\"automargin\":true,\"gridcolor\":\"white\",\"linecolor\":\"white\",\"ticks\":\"\",\"title\":{\"standoff\":15},\"zerolinecolor\":\"white\",\"zerolinewidth\":2}}},\"xaxis\":{\"anchor\":\"y\",\"domain\":[0.0,1.0],\"title\":{\"text\":\"date\"}},\"yaxis\":{\"anchor\":\"x\",\"domain\":[0.0,1.0],\"title\":{\"text\":\"home_score\"}}},                        {\"responsive\": true}                    ).then(function(){\n",
       "                            \n",
       "var gd = document.getElementById('6642909f-f94d-4a27-ad05-10e19197bd5d');\n",
       "var x = new MutationObserver(function (mutations, observer) {{\n",
       "        var display = window.getComputedStyle(gd).display;\n",
       "        if (!display || display === 'none') {{\n",
       "            console.log([gd, 'removed!']);\n",
       "            Plotly.purge(gd);\n",
       "            observer.disconnect();\n",
       "        }}\n",
       "}});\n",
       "\n",
       "// Listen for the removal of the full notebook cells\n",
       "var notebookContainer = gd.closest('#notebook-container');\n",
       "if (notebookContainer) {{\n",
       "    x.observe(notebookContainer, {childList: true});\n",
       "}}\n",
       "\n",
       "// Listen for the clearing of the current output cell\n",
       "var outputEl = gd.closest('.output');\n",
       "if (outputEl) {{\n",
       "    x.observe(outputEl, {childList: true});\n",
       "}}\n",
       "\n",
       "                        })                };                });            </script>        </div>"
      ]
     },
     "metadata": {},
     "output_type": "display_data"
    }
   ],
   "source": [
    "px.scatter(eng_df.sort_values(by=['home_team'], ascending = True), x='date', y='home_score', hover_data= ['away_score','home_team','away_team'])"
   ]
  },
  {
   "cell_type": "code",
   "execution_count": 70,
   "id": "86b3ec88",
   "metadata": {},
   "outputs": [
    {
     "name": "stdout",
     "output_type": "stream",
     "text": [
      "(10657, 9)\n"
     ]
    },
    {
     "data": {
      "text/html": [
       "<div>\n",
       "<style scoped>\n",
       "    .dataframe tbody tr th:only-of-type {\n",
       "        vertical-align: middle;\n",
       "    }\n",
       "\n",
       "    .dataframe tbody tr th {\n",
       "        vertical-align: top;\n",
       "    }\n",
       "\n",
       "    .dataframe thead th {\n",
       "        text-align: right;\n",
       "    }\n",
       "</style>\n",
       "<table border=\"1\" class=\"dataframe\">\n",
       "  <thead>\n",
       "    <tr style=\"text-align: right;\">\n",
       "      <th></th>\n",
       "      <th>date</th>\n",
       "      <th>home_team</th>\n",
       "      <th>away_team</th>\n",
       "      <th>home_score</th>\n",
       "      <th>away_score</th>\n",
       "      <th>tournament</th>\n",
       "      <th>city</th>\n",
       "      <th>country</th>\n",
       "      <th>neutral</th>\n",
       "    </tr>\n",
       "  </thead>\n",
       "  <tbody>\n",
       "    <tr>\n",
       "      <th>43074</th>\n",
       "      <td>2021-12-08</td>\n",
       "      <td>Mexico</td>\n",
       "      <td>Chile</td>\n",
       "      <td>2.0</td>\n",
       "      <td>2.0</td>\n",
       "      <td>Friendly</td>\n",
       "      <td>Austin</td>\n",
       "      <td>United States</td>\n",
       "      <td>True</td>\n",
       "    </tr>\n",
       "    <tr>\n",
       "      <th>43076</th>\n",
       "      <td>2021-12-10</td>\n",
       "      <td>Tunisia</td>\n",
       "      <td>Oman</td>\n",
       "      <td>2.0</td>\n",
       "      <td>1.0</td>\n",
       "      <td>Arab Cup</td>\n",
       "      <td>Al Rayyan</td>\n",
       "      <td>Qatar</td>\n",
       "      <td>True</td>\n",
       "    </tr>\n",
       "    <tr>\n",
       "      <th>43078</th>\n",
       "      <td>2021-12-11</td>\n",
       "      <td>Egypt</td>\n",
       "      <td>Jordan</td>\n",
       "      <td>3.0</td>\n",
       "      <td>1.0</td>\n",
       "      <td>Arab Cup</td>\n",
       "      <td>Al Wakrah</td>\n",
       "      <td>Qatar</td>\n",
       "      <td>True</td>\n",
       "    </tr>\n",
       "    <tr>\n",
       "      <th>43079</th>\n",
       "      <td>2021-12-11</td>\n",
       "      <td>Morocco</td>\n",
       "      <td>Algeria</td>\n",
       "      <td>2.0</td>\n",
       "      <td>2.0</td>\n",
       "      <td>Arab Cup</td>\n",
       "      <td>Doha</td>\n",
       "      <td>Qatar</td>\n",
       "      <td>True</td>\n",
       "    </tr>\n",
       "    <tr>\n",
       "      <th>43080</th>\n",
       "      <td>2021-12-11</td>\n",
       "      <td>El Salvador</td>\n",
       "      <td>Chile</td>\n",
       "      <td>0.0</td>\n",
       "      <td>1.0</td>\n",
       "      <td>Friendly</td>\n",
       "      <td>Los Angeles</td>\n",
       "      <td>United States</td>\n",
       "      <td>True</td>\n",
       "    </tr>\n",
       "  </tbody>\n",
       "</table>\n",
       "</div>"
      ],
      "text/plain": [
       "            date    home_team away_team  home_score  away_score tournament  \\\n",
       "43074 2021-12-08       Mexico     Chile         2.0         2.0   Friendly   \n",
       "43076 2021-12-10      Tunisia      Oman         2.0         1.0   Arab Cup   \n",
       "43078 2021-12-11        Egypt    Jordan         3.0         1.0   Arab Cup   \n",
       "43079 2021-12-11      Morocco   Algeria         2.0         2.0   Arab Cup   \n",
       "43080 2021-12-11  El Salvador     Chile         0.0         1.0   Friendly   \n",
       "\n",
       "              city        country  neutral  \n",
       "43074       Austin  United States     True  \n",
       "43076    Al Rayyan          Qatar     True  \n",
       "43078    Al Wakrah          Qatar     True  \n",
       "43079         Doha          Qatar     True  \n",
       "43080  Los Angeles  United States     True  "
      ]
     },
     "execution_count": 70,
     "metadata": {},
     "output_type": "execute_result"
    }
   ],
   "source": [
    "# Looking at a specific team score who played in neutral ground for both teams\n",
    "\n",
    "mask_neutral = result_df.loc[result_df['neutral'] == True]\n",
    "print(mask_neutral.shape)\n",
    "mask_neutral.tail()"
   ]
  },
  {
   "cell_type": "code",
   "execution_count": 71,
   "id": "633d1ef7",
   "metadata": {},
   "outputs": [
    {
     "data": {
      "text/html": [
       "<div>\n",
       "<style scoped>\n",
       "    .dataframe tbody tr th:only-of-type {\n",
       "        vertical-align: middle;\n",
       "    }\n",
       "\n",
       "    .dataframe tbody tr th {\n",
       "        vertical-align: top;\n",
       "    }\n",
       "\n",
       "    .dataframe thead th {\n",
       "        text-align: right;\n",
       "    }\n",
       "</style>\n",
       "<table border=\"1\" class=\"dataframe\">\n",
       "  <thead>\n",
       "    <tr style=\"text-align: right;\">\n",
       "      <th></th>\n",
       "      <th>date</th>\n",
       "      <th>home_team</th>\n",
       "      <th>away_team</th>\n",
       "      <th>home_score</th>\n",
       "      <th>away_score</th>\n",
       "      <th>tournament</th>\n",
       "      <th>city</th>\n",
       "      <th>country</th>\n",
       "      <th>neutral</th>\n",
       "    </tr>\n",
       "  </thead>\n",
       "  <tbody>\n",
       "    <tr>\n",
       "      <th>3131</th>\n",
       "      <td>1950-06-25</td>\n",
       "      <td>Chile</td>\n",
       "      <td>England</td>\n",
       "      <td>0.0</td>\n",
       "      <td>2.0</td>\n",
       "      <td>FIFA World Cup</td>\n",
       "      <td>Rio de Janeiro</td>\n",
       "      <td>Brazil</td>\n",
       "      <td>True</td>\n",
       "    </tr>\n",
       "    <tr>\n",
       "      <th>3139</th>\n",
       "      <td>1950-06-29</td>\n",
       "      <td>England</td>\n",
       "      <td>United States</td>\n",
       "      <td>0.0</td>\n",
       "      <td>1.0</td>\n",
       "      <td>FIFA World Cup</td>\n",
       "      <td>Belo Horizonte</td>\n",
       "      <td>Brazil</td>\n",
       "      <td>True</td>\n",
       "    </tr>\n",
       "    <tr>\n",
       "      <th>3145</th>\n",
       "      <td>1950-07-02</td>\n",
       "      <td>England</td>\n",
       "      <td>Spain</td>\n",
       "      <td>0.0</td>\n",
       "      <td>1.0</td>\n",
       "      <td>FIFA World Cup</td>\n",
       "      <td>Rio de Janeiro</td>\n",
       "      <td>Brazil</td>\n",
       "      <td>True</td>\n",
       "    </tr>\n",
       "    <tr>\n",
       "      <th>3664</th>\n",
       "      <td>1954-06-17</td>\n",
       "      <td>Belgium</td>\n",
       "      <td>England</td>\n",
       "      <td>4.0</td>\n",
       "      <td>4.0</td>\n",
       "      <td>FIFA World Cup</td>\n",
       "      <td>Basel</td>\n",
       "      <td>Switzerland</td>\n",
       "      <td>True</td>\n",
       "    </tr>\n",
       "    <tr>\n",
       "      <th>3678</th>\n",
       "      <td>1954-06-26</td>\n",
       "      <td>England</td>\n",
       "      <td>Uruguay</td>\n",
       "      <td>2.0</td>\n",
       "      <td>4.0</td>\n",
       "      <td>FIFA World Cup</td>\n",
       "      <td>Basel</td>\n",
       "      <td>Switzerland</td>\n",
       "      <td>True</td>\n",
       "    </tr>\n",
       "    <tr>\n",
       "      <th>...</th>\n",
       "      <td>...</td>\n",
       "      <td>...</td>\n",
       "      <td>...</td>\n",
       "      <td>...</td>\n",
       "      <td>...</td>\n",
       "      <td>...</td>\n",
       "      <td>...</td>\n",
       "      <td>...</td>\n",
       "      <td>...</td>\n",
       "    </tr>\n",
       "    <tr>\n",
       "      <th>40083</th>\n",
       "      <td>2018-07-11</td>\n",
       "      <td>Croatia</td>\n",
       "      <td>England</td>\n",
       "      <td>2.0</td>\n",
       "      <td>1.0</td>\n",
       "      <td>FIFA World Cup</td>\n",
       "      <td>Moscow</td>\n",
       "      <td>Russia</td>\n",
       "      <td>True</td>\n",
       "    </tr>\n",
       "    <tr>\n",
       "      <th>40084</th>\n",
       "      <td>2018-07-14</td>\n",
       "      <td>Belgium</td>\n",
       "      <td>England</td>\n",
       "      <td>2.0</td>\n",
       "      <td>0.0</td>\n",
       "      <td>FIFA World Cup</td>\n",
       "      <td>St. Petersburg</td>\n",
       "      <td>Russia</td>\n",
       "      <td>True</td>\n",
       "    </tr>\n",
       "    <tr>\n",
       "      <th>40810</th>\n",
       "      <td>2019-06-06</td>\n",
       "      <td>England</td>\n",
       "      <td>Netherlands</td>\n",
       "      <td>1.0</td>\n",
       "      <td>3.0</td>\n",
       "      <td>UEFA Nations League</td>\n",
       "      <td>Guimaraes</td>\n",
       "      <td>Portugal</td>\n",
       "      <td>True</td>\n",
       "    </tr>\n",
       "    <tr>\n",
       "      <th>40872</th>\n",
       "      <td>2019-06-09</td>\n",
       "      <td>Switzerland</td>\n",
       "      <td>England</td>\n",
       "      <td>0.0</td>\n",
       "      <td>0.0</td>\n",
       "      <td>UEFA Nations League</td>\n",
       "      <td>Guimaraes</td>\n",
       "      <td>Portugal</td>\n",
       "      <td>True</td>\n",
       "    </tr>\n",
       "    <tr>\n",
       "      <th>42487</th>\n",
       "      <td>2021-07-03</td>\n",
       "      <td>Ukraine</td>\n",
       "      <td>England</td>\n",
       "      <td>0.0</td>\n",
       "      <td>4.0</td>\n",
       "      <td>UEFA Euro</td>\n",
       "      <td>Rome</td>\n",
       "      <td>Italy</td>\n",
       "      <td>True</td>\n",
       "    </tr>\n",
       "  </tbody>\n",
       "</table>\n",
       "<p>108 rows × 9 columns</p>\n",
       "</div>"
      ],
      "text/plain": [
       "            date    home_team      away_team  home_score  away_score  \\\n",
       "3131  1950-06-25        Chile        England         0.0         2.0   \n",
       "3139  1950-06-29      England  United States         0.0         1.0   \n",
       "3145  1950-07-02      England          Spain         0.0         1.0   \n",
       "3664  1954-06-17      Belgium        England         4.0         4.0   \n",
       "3678  1954-06-26      England        Uruguay         2.0         4.0   \n",
       "...          ...          ...            ...         ...         ...   \n",
       "40083 2018-07-11      Croatia        England         2.0         1.0   \n",
       "40084 2018-07-14      Belgium        England         2.0         0.0   \n",
       "40810 2019-06-06      England    Netherlands         1.0         3.0   \n",
       "40872 2019-06-09  Switzerland        England         0.0         0.0   \n",
       "42487 2021-07-03      Ukraine        England         0.0         4.0   \n",
       "\n",
       "                tournament            city      country  neutral  \n",
       "3131        FIFA World Cup  Rio de Janeiro       Brazil     True  \n",
       "3139        FIFA World Cup  Belo Horizonte       Brazil     True  \n",
       "3145        FIFA World Cup  Rio de Janeiro       Brazil     True  \n",
       "3664        FIFA World Cup           Basel  Switzerland     True  \n",
       "3678        FIFA World Cup           Basel  Switzerland     True  \n",
       "...                    ...             ...          ...      ...  \n",
       "40083       FIFA World Cup          Moscow       Russia     True  \n",
       "40084       FIFA World Cup  St. Petersburg       Russia     True  \n",
       "40810  UEFA Nations League       Guimaraes     Portugal     True  \n",
       "40872  UEFA Nations League       Guimaraes     Portugal     True  \n",
       "42487            UEFA Euro            Rome        Italy     True  \n",
       "\n",
       "[108 rows x 9 columns]"
      ]
     },
     "execution_count": 71,
     "metadata": {},
     "output_type": "execute_result"
    }
   ],
   "source": [
    "eng_nu_df = mask_neutral.loc[(mask_neutral['home_team'] == 'England') | (mask_neutral['away_team'] == 'England')]\n",
    "eng_nu_df"
   ]
  },
  {
   "cell_type": "code",
   "execution_count": 72,
   "id": "de93f26c",
   "metadata": {},
   "outputs": [
    {
     "data": {
      "application/vnd.plotly.v1+json": {
       "config": {
        "plotlyServerURL": "https://plot.ly"
       },
       "data": [
        {
         "customdata": [
          [
           2,
           "Andorra",
           "England"
          ],
          [
           3,
           "Andorra",
           "England"
          ],
          [
           3,
           "Argentina",
           "England"
          ],
          [
           1,
           "Argentina",
           "England"
          ],
          [
           0,
           "Argentina",
           "England"
          ],
          [
           2,
           "Argentina",
           "England"
          ],
          [
           1,
           "Argentina",
           "England"
          ],
          [
           2,
           "Austria",
           "England"
          ],
          [
           1,
           "Belgium",
           "England"
          ],
          [
           0,
           "Belgium",
           "England"
          ],
          [
           4,
           "Belgium",
           "England"
          ],
          [
           0,
           "Belgium",
           "England"
          ],
          [
           0,
           "Brazil",
           "England"
          ],
          [
           1,
           "Brazil",
           "England"
          ],
          [
           0,
           "Brazil",
           "England"
          ],
          [
           1,
           "Brazil",
           "England"
          ],
          [
           0,
           "Brazil",
           "England"
          ],
          [
           0,
           "Brazil",
           "England"
          ],
          [
           0,
           "Bulgaria",
           "England"
          ],
          [
           3,
           "Cameroon",
           "England"
          ],
          [
           2,
           "Cameroon",
           "England"
          ],
          [
           2,
           "Chile",
           "England"
          ],
          [
           2,
           "Colombia",
           "England"
          ],
          [
           1,
           "Colombia",
           "England"
          ],
          [
           3,
           "Colombia",
           "England"
          ],
          [
           0,
           "Costa Rica",
           "England"
          ],
          [
           4,
           "Croatia",
           "England"
          ],
          [
           1,
           "Croatia",
           "England"
          ],
          [
           1,
           "Czechoslovakia",
           "England"
          ],
          [
           0,
           "Denmark",
           "England"
          ],
          [
           3,
           "Denmark",
           "England"
          ],
          [
           2,
           "Ecuador",
           "England"
          ],
          [
           1,
           "England",
           "Panama"
          ],
          [
           0,
           "England",
           "Germany"
          ],
          [
           3,
           "England",
           "Romania"
          ],
          [
           2,
           "England",
           "Hungary"
          ],
          [
           1,
           "England",
           "Sweden"
          ],
          [
           1,
           "England",
           "Russia"
          ],
          [
           3,
           "England",
           "Germany"
          ],
          [
           2,
           "England",
           "Brazil"
          ],
          [
           0,
           "England",
           "Switzerland"
          ],
          [
           0,
           "England",
           "Italy"
          ],
          [
           2,
           "England",
           "Italy"
          ],
          [
           0,
           "England",
           "Paraguay"
          ],
          [
           0,
           "England",
           "Trinidad and Tobago"
          ],
          [
           2,
           "England",
           "Iceland"
          ],
          [
           0,
           "England",
           "Ecuador"
          ],
          [
           0,
           "England",
           "Portugal"
          ],
          [
           2,
           "England",
           "Russia"
          ],
          [
           4,
           "England",
           "Uruguay"
          ],
          [
           1,
           "England",
           "Spain"
          ],
          [
           1,
           "England",
           "United States"
          ],
          [
           0,
           "England",
           "Algeria"
          ],
          [
           1,
           "England",
           "Wales"
          ],
          [
           1,
           "England",
           "Russia"
          ],
          [
           1,
           "England",
           "Italy"
          ],
          [
           2,
           "England",
           "Argentina"
          ],
          [
           2,
           "England",
           "Italy"
          ],
          [
           0,
           "England",
           "Tunisia"
          ],
          [
           3,
           "England",
           "Netherlands"
          ],
          [
           1,
           "England",
           "France"
          ],
          [
           0,
           "England",
           "Czechoslovakia"
          ],
          [
           0,
           "England",
           "Kuwait"
          ],
          [
           2,
           "England",
           "Italy"
          ],
          [
           0,
           "England",
           "Germany"
          ],
          [
           1,
           "England",
           "United States"
          ],
          [
           0,
           "England",
           "Morocco"
          ],
          [
           0,
           "England",
           "Poland"
          ],
          [
           1,
           "England",
           "Belgium"
          ],
          [
           0,
           "England",
           "Romania"
          ],
          [
           1,
           "England",
           "Republic of Ireland"
          ],
          [
           3,
           "England",
           "Netherlands"
          ],
          [
           0,
           "England",
           "Paraguay"
          ],
          [
           1,
           "England",
           "Republic of Ireland"
          ],
          [
           1,
           "England",
           "Brazil"
          ],
          [
           0,
           "England",
           "Italy"
          ],
          [
           2,
           "England",
           "Germany"
          ],
          [
           1,
           "England",
           "Yugoslavia"
          ],
          [
           3,
           "England",
           "Russia"
          ],
          [
           1,
           "England",
           "Portugal"
          ],
          [
           0,
           "England",
           "Russia"
          ],
          [
           0,
           "England",
           "Belgium"
          ],
          [
           0,
           "England",
           "Egypt"
          ],
          [
           0,
           "England",
           "Netherlands"
          ],
          [
           1,
           "France",
           "England"
          ],
          [
           1,
           "France",
           "England"
          ],
          [
           0,
           "France",
           "England"
          ],
          [
           1,
           "Germany",
           "England"
          ],
          [
           0,
           "Germany",
           "England"
          ],
          [
           1,
           "Germany",
           "England"
          ],
          [
           0,
           "Honduras",
           "England"
          ],
          [
           2,
           "Japan",
           "England"
          ],
          [
           3,
           "Mexico",
           "England"
          ],
          [
           0,
           "Nigeria",
           "England"
          ],
          [
           2,
           "Portugal",
           "England"
          ],
          [
           0,
           "Portugal",
           "England"
          ],
          [
           1,
           "Romania",
           "England"
          ],
          [
           7,
           "San Marino",
           "England"
          ],
          [
           0,
           "Slovakia",
           "England"
          ],
          [
           1,
           "Slovenia",
           "England"
          ],
          [
           2,
           "Spain",
           "England"
          ],
          [
           3,
           "Sweden",
           "England"
          ],
          [
           2,
           "Sweden",
           "England"
          ],
          [
           2,
           "Sweden",
           "England"
          ],
          [
           0,
           "Switzerland",
           "England"
          ],
          [
           2,
           "Tunisia",
           "England"
          ],
          [
           4,
           "Ukraine",
           "England"
          ],
          [
           1,
           "Uruguay",
           "England"
          ]
         ],
         "hovertemplate": "date=%{x}<br>home_score=%{y}<br>away_score=%{customdata[0]}<br>home_team=%{customdata[1]}<br>away_team=%{customdata[2]}<extra></extra>",
         "legendgroup": "",
         "marker": {
          "color": "#636efa",
          "symbol": "circle"
         },
         "mode": "markers",
         "name": "",
         "orientation": "v",
         "showlegend": false,
         "type": "scatter",
         "x": [
          "2008-09-06T00:00:00",
          "2007-03-28T00:00:00",
          "1962-06-02T00:00:00",
          "1986-06-22T00:00:00",
          "1964-06-06T00:00:00",
          "1998-06-30T00:00:00",
          "2002-06-07T00:00:00",
          "1958-06-15T00:00:00",
          "1980-06-12T00:00:00",
          "1998-05-29T00:00:00",
          "1954-06-17T00:00:00",
          "2018-07-14T00:00:00",
          "1958-06-11T00:00:00",
          "1962-06-10T00:00:00",
          "2009-11-14T00:00:00",
          "1993-06-13T00:00:00",
          "1970-06-07T00:00:00",
          "1976-05-23T00:00:00",
          "1962-06-07T00:00:00",
          "1990-07-01T00:00:00",
          "2002-05-26T00:00:00",
          "1950-06-25T00:00:00",
          "1998-06-26T00:00:00",
          "2018-07-03T00:00:00",
          "2005-05-31T00:00:00",
          "2014-06-24T00:00:00",
          "2004-06-21T00:00:00",
          "2018-07-11T00:00:00",
          "1970-06-11T00:00:00",
          "1992-06-11T00:00:00",
          "2002-06-15T00:00:00",
          "2014-06-04T00:00:00",
          "2018-06-24T00:00:00",
          "2000-06-17T00:00:00",
          "2000-06-20T00:00:00",
          "1962-05-31T00:00:00",
          "2002-06-02T00:00:00",
          "1958-06-17T00:00:00",
          "1970-06-14T00:00:00",
          "2002-06-21T00:00:00",
          "2004-06-17T00:00:00",
          "2012-06-24T00:00:00",
          "2014-06-14T00:00:00",
          "2006-06-10T00:00:00",
          "2006-06-15T00:00:00",
          "2016-06-27T00:00:00",
          "2006-06-25T00:00:00",
          "2006-07-01T00:00:00",
          "1958-06-08T00:00:00",
          "1954-06-26T00:00:00",
          "1950-07-02T00:00:00",
          "2010-06-12T00:00:00",
          "2010-06-18T00:00:00",
          "2016-06-16T00:00:00",
          "2016-06-11T00:00:00",
          "2012-08-15T00:00:00",
          "2005-11-12T00:00:00",
          "1976-05-28T00:00:00",
          "1998-06-15T00:00:00",
          "2019-06-06T00:00:00",
          "1982-06-16T00:00:00",
          "1982-06-20T00:00:00",
          "1982-06-25T00:00:00",
          "1985-06-06T00:00:00",
          "1985-06-12T00:00:00",
          "1950-06-29T00:00:00",
          "1986-06-06T00:00:00",
          "1986-06-11T00:00:00",
          "2018-06-28T00:00:00",
          "1970-06-02T00:00:00",
          "1988-06-12T00:00:00",
          "1988-06-15T00:00:00",
          "1986-06-18T00:00:00",
          "1990-06-11T00:00:00",
          "1997-06-10T00:00:00",
          "1997-06-04T00:00:00",
          "1993-06-19T00:00:00",
          "1968-06-05T00:00:00",
          "1988-06-18T00:00:00",
          "1964-06-04T00:00:00",
          "1968-06-08T00:00:00",
          "1990-06-26T00:00:00",
          "1990-06-21T00:00:00",
          "1990-06-16T00:00:00",
          "2012-06-11T00:00:00",
          "2004-06-13T00:00:00",
          "1992-06-14T00:00:00",
          "1990-07-04T00:00:00",
          "1982-06-29T00:00:00",
          "2010-06-27T00:00:00",
          "2014-06-07T00:00:00",
          "2010-05-30T00:00:00",
          "1986-05-17T00:00:00",
          "2002-06-12T00:00:00",
          "2000-06-12T00:00:00",
          "1986-06-03T00:00:00",
          "1998-06-22T00:00:00",
          "1993-11-17T00:00:00",
          "2016-06-20T00:00:00",
          "2010-06-23T00:00:00",
          "1980-06-18T00:00:00",
          "2012-06-15T00:00:00",
          "2006-06-20T00:00:00",
          "2018-07-07T00:00:00",
          "2019-06-09T00:00:00",
          "2018-06-18T00:00:00",
          "2021-07-03T00:00:00",
          "2014-06-19T00:00:00"
         ],
         "xaxis": "x",
         "y": [
          0,
          0,
          1,
          2,
          1,
          2,
          0,
          2,
          1,
          0,
          4,
          2,
          0,
          3,
          1,
          1,
          1,
          1,
          0,
          2,
          2,
          0,
          0,
          1,
          2,
          0,
          2,
          2,
          0,
          0,
          0,
          2,
          6,
          1,
          2,
          1,
          1,
          0,
          2,
          1,
          3,
          0,
          1,
          1,
          2,
          1,
          1,
          0,
          2,
          2,
          0,
          1,
          0,
          2,
          1,
          2,
          3,
          3,
          2,
          1,
          3,
          2,
          1,
          1,
          3,
          0,
          0,
          3,
          0,
          1,
          0,
          1,
          3,
          1,
          0,
          2,
          1,
          0,
          1,
          1,
          2,
          1,
          1,
          0,
          1,
          2,
          0,
          1,
          0,
          4,
          0,
          1,
          0,
          0,
          3,
          1,
          2,
          1,
          0,
          0,
          1,
          2,
          2,
          0,
          0,
          1,
          0,
          2
         ],
         "yaxis": "y"
        }
       ],
       "layout": {
        "legend": {
         "tracegroupgap": 0
        },
        "margin": {
         "t": 60
        },
        "template": {
         "data": {
          "bar": [
           {
            "error_x": {
             "color": "#2a3f5f"
            },
            "error_y": {
             "color": "#2a3f5f"
            },
            "marker": {
             "line": {
              "color": "#E5ECF6",
              "width": 0.5
             },
             "pattern": {
              "fillmode": "overlay",
              "size": 10,
              "solidity": 0.2
             }
            },
            "type": "bar"
           }
          ],
          "barpolar": [
           {
            "marker": {
             "line": {
              "color": "#E5ECF6",
              "width": 0.5
             },
             "pattern": {
              "fillmode": "overlay",
              "size": 10,
              "solidity": 0.2
             }
            },
            "type": "barpolar"
           }
          ],
          "carpet": [
           {
            "aaxis": {
             "endlinecolor": "#2a3f5f",
             "gridcolor": "white",
             "linecolor": "white",
             "minorgridcolor": "white",
             "startlinecolor": "#2a3f5f"
            },
            "baxis": {
             "endlinecolor": "#2a3f5f",
             "gridcolor": "white",
             "linecolor": "white",
             "minorgridcolor": "white",
             "startlinecolor": "#2a3f5f"
            },
            "type": "carpet"
           }
          ],
          "choropleth": [
           {
            "colorbar": {
             "outlinewidth": 0,
             "ticks": ""
            },
            "type": "choropleth"
           }
          ],
          "contour": [
           {
            "colorbar": {
             "outlinewidth": 0,
             "ticks": ""
            },
            "colorscale": [
             [
              0,
              "#0d0887"
             ],
             [
              0.1111111111111111,
              "#46039f"
             ],
             [
              0.2222222222222222,
              "#7201a8"
             ],
             [
              0.3333333333333333,
              "#9c179e"
             ],
             [
              0.4444444444444444,
              "#bd3786"
             ],
             [
              0.5555555555555556,
              "#d8576b"
             ],
             [
              0.6666666666666666,
              "#ed7953"
             ],
             [
              0.7777777777777778,
              "#fb9f3a"
             ],
             [
              0.8888888888888888,
              "#fdca26"
             ],
             [
              1,
              "#f0f921"
             ]
            ],
            "type": "contour"
           }
          ],
          "contourcarpet": [
           {
            "colorbar": {
             "outlinewidth": 0,
             "ticks": ""
            },
            "type": "contourcarpet"
           }
          ],
          "heatmap": [
           {
            "colorbar": {
             "outlinewidth": 0,
             "ticks": ""
            },
            "colorscale": [
             [
              0,
              "#0d0887"
             ],
             [
              0.1111111111111111,
              "#46039f"
             ],
             [
              0.2222222222222222,
              "#7201a8"
             ],
             [
              0.3333333333333333,
              "#9c179e"
             ],
             [
              0.4444444444444444,
              "#bd3786"
             ],
             [
              0.5555555555555556,
              "#d8576b"
             ],
             [
              0.6666666666666666,
              "#ed7953"
             ],
             [
              0.7777777777777778,
              "#fb9f3a"
             ],
             [
              0.8888888888888888,
              "#fdca26"
             ],
             [
              1,
              "#f0f921"
             ]
            ],
            "type": "heatmap"
           }
          ],
          "heatmapgl": [
           {
            "colorbar": {
             "outlinewidth": 0,
             "ticks": ""
            },
            "colorscale": [
             [
              0,
              "#0d0887"
             ],
             [
              0.1111111111111111,
              "#46039f"
             ],
             [
              0.2222222222222222,
              "#7201a8"
             ],
             [
              0.3333333333333333,
              "#9c179e"
             ],
             [
              0.4444444444444444,
              "#bd3786"
             ],
             [
              0.5555555555555556,
              "#d8576b"
             ],
             [
              0.6666666666666666,
              "#ed7953"
             ],
             [
              0.7777777777777778,
              "#fb9f3a"
             ],
             [
              0.8888888888888888,
              "#fdca26"
             ],
             [
              1,
              "#f0f921"
             ]
            ],
            "type": "heatmapgl"
           }
          ],
          "histogram": [
           {
            "marker": {
             "pattern": {
              "fillmode": "overlay",
              "size": 10,
              "solidity": 0.2
             }
            },
            "type": "histogram"
           }
          ],
          "histogram2d": [
           {
            "colorbar": {
             "outlinewidth": 0,
             "ticks": ""
            },
            "colorscale": [
             [
              0,
              "#0d0887"
             ],
             [
              0.1111111111111111,
              "#46039f"
             ],
             [
              0.2222222222222222,
              "#7201a8"
             ],
             [
              0.3333333333333333,
              "#9c179e"
             ],
             [
              0.4444444444444444,
              "#bd3786"
             ],
             [
              0.5555555555555556,
              "#d8576b"
             ],
             [
              0.6666666666666666,
              "#ed7953"
             ],
             [
              0.7777777777777778,
              "#fb9f3a"
             ],
             [
              0.8888888888888888,
              "#fdca26"
             ],
             [
              1,
              "#f0f921"
             ]
            ],
            "type": "histogram2d"
           }
          ],
          "histogram2dcontour": [
           {
            "colorbar": {
             "outlinewidth": 0,
             "ticks": ""
            },
            "colorscale": [
             [
              0,
              "#0d0887"
             ],
             [
              0.1111111111111111,
              "#46039f"
             ],
             [
              0.2222222222222222,
              "#7201a8"
             ],
             [
              0.3333333333333333,
              "#9c179e"
             ],
             [
              0.4444444444444444,
              "#bd3786"
             ],
             [
              0.5555555555555556,
              "#d8576b"
             ],
             [
              0.6666666666666666,
              "#ed7953"
             ],
             [
              0.7777777777777778,
              "#fb9f3a"
             ],
             [
              0.8888888888888888,
              "#fdca26"
             ],
             [
              1,
              "#f0f921"
             ]
            ],
            "type": "histogram2dcontour"
           }
          ],
          "mesh3d": [
           {
            "colorbar": {
             "outlinewidth": 0,
             "ticks": ""
            },
            "type": "mesh3d"
           }
          ],
          "parcoords": [
           {
            "line": {
             "colorbar": {
              "outlinewidth": 0,
              "ticks": ""
             }
            },
            "type": "parcoords"
           }
          ],
          "pie": [
           {
            "automargin": true,
            "type": "pie"
           }
          ],
          "scatter": [
           {
            "marker": {
             "colorbar": {
              "outlinewidth": 0,
              "ticks": ""
             }
            },
            "type": "scatter"
           }
          ],
          "scatter3d": [
           {
            "line": {
             "colorbar": {
              "outlinewidth": 0,
              "ticks": ""
             }
            },
            "marker": {
             "colorbar": {
              "outlinewidth": 0,
              "ticks": ""
             }
            },
            "type": "scatter3d"
           }
          ],
          "scattercarpet": [
           {
            "marker": {
             "colorbar": {
              "outlinewidth": 0,
              "ticks": ""
             }
            },
            "type": "scattercarpet"
           }
          ],
          "scattergeo": [
           {
            "marker": {
             "colorbar": {
              "outlinewidth": 0,
              "ticks": ""
             }
            },
            "type": "scattergeo"
           }
          ],
          "scattergl": [
           {
            "marker": {
             "colorbar": {
              "outlinewidth": 0,
              "ticks": ""
             }
            },
            "type": "scattergl"
           }
          ],
          "scattermapbox": [
           {
            "marker": {
             "colorbar": {
              "outlinewidth": 0,
              "ticks": ""
             }
            },
            "type": "scattermapbox"
           }
          ],
          "scatterpolar": [
           {
            "marker": {
             "colorbar": {
              "outlinewidth": 0,
              "ticks": ""
             }
            },
            "type": "scatterpolar"
           }
          ],
          "scatterpolargl": [
           {
            "marker": {
             "colorbar": {
              "outlinewidth": 0,
              "ticks": ""
             }
            },
            "type": "scatterpolargl"
           }
          ],
          "scatterternary": [
           {
            "marker": {
             "colorbar": {
              "outlinewidth": 0,
              "ticks": ""
             }
            },
            "type": "scatterternary"
           }
          ],
          "surface": [
           {
            "colorbar": {
             "outlinewidth": 0,
             "ticks": ""
            },
            "colorscale": [
             [
              0,
              "#0d0887"
             ],
             [
              0.1111111111111111,
              "#46039f"
             ],
             [
              0.2222222222222222,
              "#7201a8"
             ],
             [
              0.3333333333333333,
              "#9c179e"
             ],
             [
              0.4444444444444444,
              "#bd3786"
             ],
             [
              0.5555555555555556,
              "#d8576b"
             ],
             [
              0.6666666666666666,
              "#ed7953"
             ],
             [
              0.7777777777777778,
              "#fb9f3a"
             ],
             [
              0.8888888888888888,
              "#fdca26"
             ],
             [
              1,
              "#f0f921"
             ]
            ],
            "type": "surface"
           }
          ],
          "table": [
           {
            "cells": {
             "fill": {
              "color": "#EBF0F8"
             },
             "line": {
              "color": "white"
             }
            },
            "header": {
             "fill": {
              "color": "#C8D4E3"
             },
             "line": {
              "color": "white"
             }
            },
            "type": "table"
           }
          ]
         },
         "layout": {
          "annotationdefaults": {
           "arrowcolor": "#2a3f5f",
           "arrowhead": 0,
           "arrowwidth": 1
          },
          "autotypenumbers": "strict",
          "coloraxis": {
           "colorbar": {
            "outlinewidth": 0,
            "ticks": ""
           }
          },
          "colorscale": {
           "diverging": [
            [
             0,
             "#8e0152"
            ],
            [
             0.1,
             "#c51b7d"
            ],
            [
             0.2,
             "#de77ae"
            ],
            [
             0.3,
             "#f1b6da"
            ],
            [
             0.4,
             "#fde0ef"
            ],
            [
             0.5,
             "#f7f7f7"
            ],
            [
             0.6,
             "#e6f5d0"
            ],
            [
             0.7,
             "#b8e186"
            ],
            [
             0.8,
             "#7fbc41"
            ],
            [
             0.9,
             "#4d9221"
            ],
            [
             1,
             "#276419"
            ]
           ],
           "sequential": [
            [
             0,
             "#0d0887"
            ],
            [
             0.1111111111111111,
             "#46039f"
            ],
            [
             0.2222222222222222,
             "#7201a8"
            ],
            [
             0.3333333333333333,
             "#9c179e"
            ],
            [
             0.4444444444444444,
             "#bd3786"
            ],
            [
             0.5555555555555556,
             "#d8576b"
            ],
            [
             0.6666666666666666,
             "#ed7953"
            ],
            [
             0.7777777777777778,
             "#fb9f3a"
            ],
            [
             0.8888888888888888,
             "#fdca26"
            ],
            [
             1,
             "#f0f921"
            ]
           ],
           "sequentialminus": [
            [
             0,
             "#0d0887"
            ],
            [
             0.1111111111111111,
             "#46039f"
            ],
            [
             0.2222222222222222,
             "#7201a8"
            ],
            [
             0.3333333333333333,
             "#9c179e"
            ],
            [
             0.4444444444444444,
             "#bd3786"
            ],
            [
             0.5555555555555556,
             "#d8576b"
            ],
            [
             0.6666666666666666,
             "#ed7953"
            ],
            [
             0.7777777777777778,
             "#fb9f3a"
            ],
            [
             0.8888888888888888,
             "#fdca26"
            ],
            [
             1,
             "#f0f921"
            ]
           ]
          },
          "colorway": [
           "#636efa",
           "#EF553B",
           "#00cc96",
           "#ab63fa",
           "#FFA15A",
           "#19d3f3",
           "#FF6692",
           "#B6E880",
           "#FF97FF",
           "#FECB52"
          ],
          "font": {
           "color": "#2a3f5f"
          },
          "geo": {
           "bgcolor": "white",
           "lakecolor": "white",
           "landcolor": "#E5ECF6",
           "showlakes": true,
           "showland": true,
           "subunitcolor": "white"
          },
          "hoverlabel": {
           "align": "left"
          },
          "hovermode": "closest",
          "mapbox": {
           "style": "light"
          },
          "paper_bgcolor": "white",
          "plot_bgcolor": "#E5ECF6",
          "polar": {
           "angularaxis": {
            "gridcolor": "white",
            "linecolor": "white",
            "ticks": ""
           },
           "bgcolor": "#E5ECF6",
           "radialaxis": {
            "gridcolor": "white",
            "linecolor": "white",
            "ticks": ""
           }
          },
          "scene": {
           "xaxis": {
            "backgroundcolor": "#E5ECF6",
            "gridcolor": "white",
            "gridwidth": 2,
            "linecolor": "white",
            "showbackground": true,
            "ticks": "",
            "zerolinecolor": "white"
           },
           "yaxis": {
            "backgroundcolor": "#E5ECF6",
            "gridcolor": "white",
            "gridwidth": 2,
            "linecolor": "white",
            "showbackground": true,
            "ticks": "",
            "zerolinecolor": "white"
           },
           "zaxis": {
            "backgroundcolor": "#E5ECF6",
            "gridcolor": "white",
            "gridwidth": 2,
            "linecolor": "white",
            "showbackground": true,
            "ticks": "",
            "zerolinecolor": "white"
           }
          },
          "shapedefaults": {
           "line": {
            "color": "#2a3f5f"
           }
          },
          "ternary": {
           "aaxis": {
            "gridcolor": "white",
            "linecolor": "white",
            "ticks": ""
           },
           "baxis": {
            "gridcolor": "white",
            "linecolor": "white",
            "ticks": ""
           },
           "bgcolor": "#E5ECF6",
           "caxis": {
            "gridcolor": "white",
            "linecolor": "white",
            "ticks": ""
           }
          },
          "title": {
           "x": 0.05
          },
          "xaxis": {
           "automargin": true,
           "gridcolor": "white",
           "linecolor": "white",
           "ticks": "",
           "title": {
            "standoff": 15
           },
           "zerolinecolor": "white",
           "zerolinewidth": 2
          },
          "yaxis": {
           "automargin": true,
           "gridcolor": "white",
           "linecolor": "white",
           "ticks": "",
           "title": {
            "standoff": 15
           },
           "zerolinecolor": "white",
           "zerolinewidth": 2
          }
         }
        },
        "xaxis": {
         "anchor": "y",
         "domain": [
          0,
          1
         ],
         "title": {
          "text": "date"
         }
        },
        "yaxis": {
         "anchor": "x",
         "domain": [
          0,
          1
         ],
         "title": {
          "text": "home_score"
         }
        }
       }
      },
      "text/html": [
       "<div>                            <div id=\"45eab5bf-fe25-46cf-87f3-8594de73fdae\" class=\"plotly-graph-div\" style=\"height:525px; width:100%;\"></div>            <script type=\"text/javascript\">                require([\"plotly\"], function(Plotly) {                    window.PLOTLYENV=window.PLOTLYENV || {};                                    if (document.getElementById(\"45eab5bf-fe25-46cf-87f3-8594de73fdae\")) {                    Plotly.newPlot(                        \"45eab5bf-fe25-46cf-87f3-8594de73fdae\",                        [{\"customdata\":[[2.0,\"Andorra\",\"England\"],[3.0,\"Andorra\",\"England\"],[3.0,\"Argentina\",\"England\"],[1.0,\"Argentina\",\"England\"],[0.0,\"Argentina\",\"England\"],[2.0,\"Argentina\",\"England\"],[1.0,\"Argentina\",\"England\"],[2.0,\"Austria\",\"England\"],[1.0,\"Belgium\",\"England\"],[0.0,\"Belgium\",\"England\"],[4.0,\"Belgium\",\"England\"],[0.0,\"Belgium\",\"England\"],[0.0,\"Brazil\",\"England\"],[1.0,\"Brazil\",\"England\"],[0.0,\"Brazil\",\"England\"],[1.0,\"Brazil\",\"England\"],[0.0,\"Brazil\",\"England\"],[0.0,\"Brazil\",\"England\"],[0.0,\"Bulgaria\",\"England\"],[3.0,\"Cameroon\",\"England\"],[2.0,\"Cameroon\",\"England\"],[2.0,\"Chile\",\"England\"],[2.0,\"Colombia\",\"England\"],[1.0,\"Colombia\",\"England\"],[3.0,\"Colombia\",\"England\"],[0.0,\"Costa Rica\",\"England\"],[4.0,\"Croatia\",\"England\"],[1.0,\"Croatia\",\"England\"],[1.0,\"Czechoslovakia\",\"England\"],[0.0,\"Denmark\",\"England\"],[3.0,\"Denmark\",\"England\"],[2.0,\"Ecuador\",\"England\"],[1.0,\"England\",\"Panama\"],[0.0,\"England\",\"Germany\"],[3.0,\"England\",\"Romania\"],[2.0,\"England\",\"Hungary\"],[1.0,\"England\",\"Sweden\"],[1.0,\"England\",\"Russia\"],[3.0,\"England\",\"Germany\"],[2.0,\"England\",\"Brazil\"],[0.0,\"England\",\"Switzerland\"],[0.0,\"England\",\"Italy\"],[2.0,\"England\",\"Italy\"],[0.0,\"England\",\"Paraguay\"],[0.0,\"England\",\"Trinidad and Tobago\"],[2.0,\"England\",\"Iceland\"],[0.0,\"England\",\"Ecuador\"],[0.0,\"England\",\"Portugal\"],[2.0,\"England\",\"Russia\"],[4.0,\"England\",\"Uruguay\"],[1.0,\"England\",\"Spain\"],[1.0,\"England\",\"United States\"],[0.0,\"England\",\"Algeria\"],[1.0,\"England\",\"Wales\"],[1.0,\"England\",\"Russia\"],[1.0,\"England\",\"Italy\"],[2.0,\"England\",\"Argentina\"],[2.0,\"England\",\"Italy\"],[0.0,\"England\",\"Tunisia\"],[3.0,\"England\",\"Netherlands\"],[1.0,\"England\",\"France\"],[0.0,\"England\",\"Czechoslovakia\"],[0.0,\"England\",\"Kuwait\"],[2.0,\"England\",\"Italy\"],[0.0,\"England\",\"Germany\"],[1.0,\"England\",\"United States\"],[0.0,\"England\",\"Morocco\"],[0.0,\"England\",\"Poland\"],[1.0,\"England\",\"Belgium\"],[0.0,\"England\",\"Romania\"],[1.0,\"England\",\"Republic of Ireland\"],[3.0,\"England\",\"Netherlands\"],[0.0,\"England\",\"Paraguay\"],[1.0,\"England\",\"Republic of Ireland\"],[1.0,\"England\",\"Brazil\"],[0.0,\"England\",\"Italy\"],[2.0,\"England\",\"Germany\"],[1.0,\"England\",\"Yugoslavia\"],[3.0,\"England\",\"Russia\"],[1.0,\"England\",\"Portugal\"],[0.0,\"England\",\"Russia\"],[0.0,\"England\",\"Belgium\"],[0.0,\"England\",\"Egypt\"],[0.0,\"England\",\"Netherlands\"],[1.0,\"France\",\"England\"],[1.0,\"France\",\"England\"],[0.0,\"France\",\"England\"],[1.0,\"Germany\",\"England\"],[0.0,\"Germany\",\"England\"],[1.0,\"Germany\",\"England\"],[0.0,\"Honduras\",\"England\"],[2.0,\"Japan\",\"England\"],[3.0,\"Mexico\",\"England\"],[0.0,\"Nigeria\",\"England\"],[2.0,\"Portugal\",\"England\"],[0.0,\"Portugal\",\"England\"],[1.0,\"Romania\",\"England\"],[7.0,\"San Marino\",\"England\"],[0.0,\"Slovakia\",\"England\"],[1.0,\"Slovenia\",\"England\"],[2.0,\"Spain\",\"England\"],[3.0,\"Sweden\",\"England\"],[2.0,\"Sweden\",\"England\"],[2.0,\"Sweden\",\"England\"],[0.0,\"Switzerland\",\"England\"],[2.0,\"Tunisia\",\"England\"],[4.0,\"Ukraine\",\"England\"],[1.0,\"Uruguay\",\"England\"]],\"hovertemplate\":\"date=%{x}<br>home_score=%{y}<br>away_score=%{customdata[0]}<br>home_team=%{customdata[1]}<br>away_team=%{customdata[2]}<extra></extra>\",\"legendgroup\":\"\",\"marker\":{\"color\":\"#636efa\",\"symbol\":\"circle\"},\"mode\":\"markers\",\"name\":\"\",\"orientation\":\"v\",\"showlegend\":false,\"type\":\"scatter\",\"x\":[\"2008-09-06T00:00:00\",\"2007-03-28T00:00:00\",\"1962-06-02T00:00:00\",\"1986-06-22T00:00:00\",\"1964-06-06T00:00:00\",\"1998-06-30T00:00:00\",\"2002-06-07T00:00:00\",\"1958-06-15T00:00:00\",\"1980-06-12T00:00:00\",\"1998-05-29T00:00:00\",\"1954-06-17T00:00:00\",\"2018-07-14T00:00:00\",\"1958-06-11T00:00:00\",\"1962-06-10T00:00:00\",\"2009-11-14T00:00:00\",\"1993-06-13T00:00:00\",\"1970-06-07T00:00:00\",\"1976-05-23T00:00:00\",\"1962-06-07T00:00:00\",\"1990-07-01T00:00:00\",\"2002-05-26T00:00:00\",\"1950-06-25T00:00:00\",\"1998-06-26T00:00:00\",\"2018-07-03T00:00:00\",\"2005-05-31T00:00:00\",\"2014-06-24T00:00:00\",\"2004-06-21T00:00:00\",\"2018-07-11T00:00:00\",\"1970-06-11T00:00:00\",\"1992-06-11T00:00:00\",\"2002-06-15T00:00:00\",\"2014-06-04T00:00:00\",\"2018-06-24T00:00:00\",\"2000-06-17T00:00:00\",\"2000-06-20T00:00:00\",\"1962-05-31T00:00:00\",\"2002-06-02T00:00:00\",\"1958-06-17T00:00:00\",\"1970-06-14T00:00:00\",\"2002-06-21T00:00:00\",\"2004-06-17T00:00:00\",\"2012-06-24T00:00:00\",\"2014-06-14T00:00:00\",\"2006-06-10T00:00:00\",\"2006-06-15T00:00:00\",\"2016-06-27T00:00:00\",\"2006-06-25T00:00:00\",\"2006-07-01T00:00:00\",\"1958-06-08T00:00:00\",\"1954-06-26T00:00:00\",\"1950-07-02T00:00:00\",\"2010-06-12T00:00:00\",\"2010-06-18T00:00:00\",\"2016-06-16T00:00:00\",\"2016-06-11T00:00:00\",\"2012-08-15T00:00:00\",\"2005-11-12T00:00:00\",\"1976-05-28T00:00:00\",\"1998-06-15T00:00:00\",\"2019-06-06T00:00:00\",\"1982-06-16T00:00:00\",\"1982-06-20T00:00:00\",\"1982-06-25T00:00:00\",\"1985-06-06T00:00:00\",\"1985-06-12T00:00:00\",\"1950-06-29T00:00:00\",\"1986-06-06T00:00:00\",\"1986-06-11T00:00:00\",\"2018-06-28T00:00:00\",\"1970-06-02T00:00:00\",\"1988-06-12T00:00:00\",\"1988-06-15T00:00:00\",\"1986-06-18T00:00:00\",\"1990-06-11T00:00:00\",\"1997-06-10T00:00:00\",\"1997-06-04T00:00:00\",\"1993-06-19T00:00:00\",\"1968-06-05T00:00:00\",\"1988-06-18T00:00:00\",\"1964-06-04T00:00:00\",\"1968-06-08T00:00:00\",\"1990-06-26T00:00:00\",\"1990-06-21T00:00:00\",\"1990-06-16T00:00:00\",\"2012-06-11T00:00:00\",\"2004-06-13T00:00:00\",\"1992-06-14T00:00:00\",\"1990-07-04T00:00:00\",\"1982-06-29T00:00:00\",\"2010-06-27T00:00:00\",\"2014-06-07T00:00:00\",\"2010-05-30T00:00:00\",\"1986-05-17T00:00:00\",\"2002-06-12T00:00:00\",\"2000-06-12T00:00:00\",\"1986-06-03T00:00:00\",\"1998-06-22T00:00:00\",\"1993-11-17T00:00:00\",\"2016-06-20T00:00:00\",\"2010-06-23T00:00:00\",\"1980-06-18T00:00:00\",\"2012-06-15T00:00:00\",\"2006-06-20T00:00:00\",\"2018-07-07T00:00:00\",\"2019-06-09T00:00:00\",\"2018-06-18T00:00:00\",\"2021-07-03T00:00:00\",\"2014-06-19T00:00:00\"],\"xaxis\":\"x\",\"y\":[0.0,0.0,1.0,2.0,1.0,2.0,0.0,2.0,1.0,0.0,4.0,2.0,0.0,3.0,1.0,1.0,1.0,1.0,0.0,2.0,2.0,0.0,0.0,1.0,2.0,0.0,2.0,2.0,0.0,0.0,0.0,2.0,6.0,1.0,2.0,1.0,1.0,0.0,2.0,1.0,3.0,0.0,1.0,1.0,2.0,1.0,1.0,0.0,2.0,2.0,0.0,1.0,0.0,2.0,1.0,2.0,3.0,3.0,2.0,1.0,3.0,2.0,1.0,1.0,3.0,0.0,0.0,3.0,0.0,1.0,0.0,1.0,3.0,1.0,0.0,2.0,1.0,0.0,1.0,1.0,2.0,1.0,1.0,0.0,1.0,2.0,0.0,1.0,0.0,4.0,0.0,1.0,0.0,0.0,3.0,1.0,2.0,1.0,0.0,0.0,1.0,2.0,2.0,0.0,0.0,1.0,0.0,2.0],\"yaxis\":\"y\"}],                        {\"legend\":{\"tracegroupgap\":0},\"margin\":{\"t\":60},\"template\":{\"data\":{\"bar\":[{\"error_x\":{\"color\":\"#2a3f5f\"},\"error_y\":{\"color\":\"#2a3f5f\"},\"marker\":{\"line\":{\"color\":\"#E5ECF6\",\"width\":0.5},\"pattern\":{\"fillmode\":\"overlay\",\"size\":10,\"solidity\":0.2}},\"type\":\"bar\"}],\"barpolar\":[{\"marker\":{\"line\":{\"color\":\"#E5ECF6\",\"width\":0.5},\"pattern\":{\"fillmode\":\"overlay\",\"size\":10,\"solidity\":0.2}},\"type\":\"barpolar\"}],\"carpet\":[{\"aaxis\":{\"endlinecolor\":\"#2a3f5f\",\"gridcolor\":\"white\",\"linecolor\":\"white\",\"minorgridcolor\":\"white\",\"startlinecolor\":\"#2a3f5f\"},\"baxis\":{\"endlinecolor\":\"#2a3f5f\",\"gridcolor\":\"white\",\"linecolor\":\"white\",\"minorgridcolor\":\"white\",\"startlinecolor\":\"#2a3f5f\"},\"type\":\"carpet\"}],\"choropleth\":[{\"colorbar\":{\"outlinewidth\":0,\"ticks\":\"\"},\"type\":\"choropleth\"}],\"contour\":[{\"colorbar\":{\"outlinewidth\":0,\"ticks\":\"\"},\"colorscale\":[[0.0,\"#0d0887\"],[0.1111111111111111,\"#46039f\"],[0.2222222222222222,\"#7201a8\"],[0.3333333333333333,\"#9c179e\"],[0.4444444444444444,\"#bd3786\"],[0.5555555555555556,\"#d8576b\"],[0.6666666666666666,\"#ed7953\"],[0.7777777777777778,\"#fb9f3a\"],[0.8888888888888888,\"#fdca26\"],[1.0,\"#f0f921\"]],\"type\":\"contour\"}],\"contourcarpet\":[{\"colorbar\":{\"outlinewidth\":0,\"ticks\":\"\"},\"type\":\"contourcarpet\"}],\"heatmap\":[{\"colorbar\":{\"outlinewidth\":0,\"ticks\":\"\"},\"colorscale\":[[0.0,\"#0d0887\"],[0.1111111111111111,\"#46039f\"],[0.2222222222222222,\"#7201a8\"],[0.3333333333333333,\"#9c179e\"],[0.4444444444444444,\"#bd3786\"],[0.5555555555555556,\"#d8576b\"],[0.6666666666666666,\"#ed7953\"],[0.7777777777777778,\"#fb9f3a\"],[0.8888888888888888,\"#fdca26\"],[1.0,\"#f0f921\"]],\"type\":\"heatmap\"}],\"heatmapgl\":[{\"colorbar\":{\"outlinewidth\":0,\"ticks\":\"\"},\"colorscale\":[[0.0,\"#0d0887\"],[0.1111111111111111,\"#46039f\"],[0.2222222222222222,\"#7201a8\"],[0.3333333333333333,\"#9c179e\"],[0.4444444444444444,\"#bd3786\"],[0.5555555555555556,\"#d8576b\"],[0.6666666666666666,\"#ed7953\"],[0.7777777777777778,\"#fb9f3a\"],[0.8888888888888888,\"#fdca26\"],[1.0,\"#f0f921\"]],\"type\":\"heatmapgl\"}],\"histogram\":[{\"marker\":{\"pattern\":{\"fillmode\":\"overlay\",\"size\":10,\"solidity\":0.2}},\"type\":\"histogram\"}],\"histogram2d\":[{\"colorbar\":{\"outlinewidth\":0,\"ticks\":\"\"},\"colorscale\":[[0.0,\"#0d0887\"],[0.1111111111111111,\"#46039f\"],[0.2222222222222222,\"#7201a8\"],[0.3333333333333333,\"#9c179e\"],[0.4444444444444444,\"#bd3786\"],[0.5555555555555556,\"#d8576b\"],[0.6666666666666666,\"#ed7953\"],[0.7777777777777778,\"#fb9f3a\"],[0.8888888888888888,\"#fdca26\"],[1.0,\"#f0f921\"]],\"type\":\"histogram2d\"}],\"histogram2dcontour\":[{\"colorbar\":{\"outlinewidth\":0,\"ticks\":\"\"},\"colorscale\":[[0.0,\"#0d0887\"],[0.1111111111111111,\"#46039f\"],[0.2222222222222222,\"#7201a8\"],[0.3333333333333333,\"#9c179e\"],[0.4444444444444444,\"#bd3786\"],[0.5555555555555556,\"#d8576b\"],[0.6666666666666666,\"#ed7953\"],[0.7777777777777778,\"#fb9f3a\"],[0.8888888888888888,\"#fdca26\"],[1.0,\"#f0f921\"]],\"type\":\"histogram2dcontour\"}],\"mesh3d\":[{\"colorbar\":{\"outlinewidth\":0,\"ticks\":\"\"},\"type\":\"mesh3d\"}],\"parcoords\":[{\"line\":{\"colorbar\":{\"outlinewidth\":0,\"ticks\":\"\"}},\"type\":\"parcoords\"}],\"pie\":[{\"automargin\":true,\"type\":\"pie\"}],\"scatter\":[{\"marker\":{\"colorbar\":{\"outlinewidth\":0,\"ticks\":\"\"}},\"type\":\"scatter\"}],\"scatter3d\":[{\"line\":{\"colorbar\":{\"outlinewidth\":0,\"ticks\":\"\"}},\"marker\":{\"colorbar\":{\"outlinewidth\":0,\"ticks\":\"\"}},\"type\":\"scatter3d\"}],\"scattercarpet\":[{\"marker\":{\"colorbar\":{\"outlinewidth\":0,\"ticks\":\"\"}},\"type\":\"scattercarpet\"}],\"scattergeo\":[{\"marker\":{\"colorbar\":{\"outlinewidth\":0,\"ticks\":\"\"}},\"type\":\"scattergeo\"}],\"scattergl\":[{\"marker\":{\"colorbar\":{\"outlinewidth\":0,\"ticks\":\"\"}},\"type\":\"scattergl\"}],\"scattermapbox\":[{\"marker\":{\"colorbar\":{\"outlinewidth\":0,\"ticks\":\"\"}},\"type\":\"scattermapbox\"}],\"scatterpolar\":[{\"marker\":{\"colorbar\":{\"outlinewidth\":0,\"ticks\":\"\"}},\"type\":\"scatterpolar\"}],\"scatterpolargl\":[{\"marker\":{\"colorbar\":{\"outlinewidth\":0,\"ticks\":\"\"}},\"type\":\"scatterpolargl\"}],\"scatterternary\":[{\"marker\":{\"colorbar\":{\"outlinewidth\":0,\"ticks\":\"\"}},\"type\":\"scatterternary\"}],\"surface\":[{\"colorbar\":{\"outlinewidth\":0,\"ticks\":\"\"},\"colorscale\":[[0.0,\"#0d0887\"],[0.1111111111111111,\"#46039f\"],[0.2222222222222222,\"#7201a8\"],[0.3333333333333333,\"#9c179e\"],[0.4444444444444444,\"#bd3786\"],[0.5555555555555556,\"#d8576b\"],[0.6666666666666666,\"#ed7953\"],[0.7777777777777778,\"#fb9f3a\"],[0.8888888888888888,\"#fdca26\"],[1.0,\"#f0f921\"]],\"type\":\"surface\"}],\"table\":[{\"cells\":{\"fill\":{\"color\":\"#EBF0F8\"},\"line\":{\"color\":\"white\"}},\"header\":{\"fill\":{\"color\":\"#C8D4E3\"},\"line\":{\"color\":\"white\"}},\"type\":\"table\"}]},\"layout\":{\"annotationdefaults\":{\"arrowcolor\":\"#2a3f5f\",\"arrowhead\":0,\"arrowwidth\":1},\"autotypenumbers\":\"strict\",\"coloraxis\":{\"colorbar\":{\"outlinewidth\":0,\"ticks\":\"\"}},\"colorscale\":{\"diverging\":[[0,\"#8e0152\"],[0.1,\"#c51b7d\"],[0.2,\"#de77ae\"],[0.3,\"#f1b6da\"],[0.4,\"#fde0ef\"],[0.5,\"#f7f7f7\"],[0.6,\"#e6f5d0\"],[0.7,\"#b8e186\"],[0.8,\"#7fbc41\"],[0.9,\"#4d9221\"],[1,\"#276419\"]],\"sequential\":[[0.0,\"#0d0887\"],[0.1111111111111111,\"#46039f\"],[0.2222222222222222,\"#7201a8\"],[0.3333333333333333,\"#9c179e\"],[0.4444444444444444,\"#bd3786\"],[0.5555555555555556,\"#d8576b\"],[0.6666666666666666,\"#ed7953\"],[0.7777777777777778,\"#fb9f3a\"],[0.8888888888888888,\"#fdca26\"],[1.0,\"#f0f921\"]],\"sequentialminus\":[[0.0,\"#0d0887\"],[0.1111111111111111,\"#46039f\"],[0.2222222222222222,\"#7201a8\"],[0.3333333333333333,\"#9c179e\"],[0.4444444444444444,\"#bd3786\"],[0.5555555555555556,\"#d8576b\"],[0.6666666666666666,\"#ed7953\"],[0.7777777777777778,\"#fb9f3a\"],[0.8888888888888888,\"#fdca26\"],[1.0,\"#f0f921\"]]},\"colorway\":[\"#636efa\",\"#EF553B\",\"#00cc96\",\"#ab63fa\",\"#FFA15A\",\"#19d3f3\",\"#FF6692\",\"#B6E880\",\"#FF97FF\",\"#FECB52\"],\"font\":{\"color\":\"#2a3f5f\"},\"geo\":{\"bgcolor\":\"white\",\"lakecolor\":\"white\",\"landcolor\":\"#E5ECF6\",\"showlakes\":true,\"showland\":true,\"subunitcolor\":\"white\"},\"hoverlabel\":{\"align\":\"left\"},\"hovermode\":\"closest\",\"mapbox\":{\"style\":\"light\"},\"paper_bgcolor\":\"white\",\"plot_bgcolor\":\"#E5ECF6\",\"polar\":{\"angularaxis\":{\"gridcolor\":\"white\",\"linecolor\":\"white\",\"ticks\":\"\"},\"bgcolor\":\"#E5ECF6\",\"radialaxis\":{\"gridcolor\":\"white\",\"linecolor\":\"white\",\"ticks\":\"\"}},\"scene\":{\"xaxis\":{\"backgroundcolor\":\"#E5ECF6\",\"gridcolor\":\"white\",\"gridwidth\":2,\"linecolor\":\"white\",\"showbackground\":true,\"ticks\":\"\",\"zerolinecolor\":\"white\"},\"yaxis\":{\"backgroundcolor\":\"#E5ECF6\",\"gridcolor\":\"white\",\"gridwidth\":2,\"linecolor\":\"white\",\"showbackground\":true,\"ticks\":\"\",\"zerolinecolor\":\"white\"},\"zaxis\":{\"backgroundcolor\":\"#E5ECF6\",\"gridcolor\":\"white\",\"gridwidth\":2,\"linecolor\":\"white\",\"showbackground\":true,\"ticks\":\"\",\"zerolinecolor\":\"white\"}},\"shapedefaults\":{\"line\":{\"color\":\"#2a3f5f\"}},\"ternary\":{\"aaxis\":{\"gridcolor\":\"white\",\"linecolor\":\"white\",\"ticks\":\"\"},\"baxis\":{\"gridcolor\":\"white\",\"linecolor\":\"white\",\"ticks\":\"\"},\"bgcolor\":\"#E5ECF6\",\"caxis\":{\"gridcolor\":\"white\",\"linecolor\":\"white\",\"ticks\":\"\"}},\"title\":{\"x\":0.05},\"xaxis\":{\"automargin\":true,\"gridcolor\":\"white\",\"linecolor\":\"white\",\"ticks\":\"\",\"title\":{\"standoff\":15},\"zerolinecolor\":\"white\",\"zerolinewidth\":2},\"yaxis\":{\"automargin\":true,\"gridcolor\":\"white\",\"linecolor\":\"white\",\"ticks\":\"\",\"title\":{\"standoff\":15},\"zerolinecolor\":\"white\",\"zerolinewidth\":2}}},\"xaxis\":{\"anchor\":\"y\",\"domain\":[0.0,1.0],\"title\":{\"text\":\"date\"}},\"yaxis\":{\"anchor\":\"x\",\"domain\":[0.0,1.0],\"title\":{\"text\":\"home_score\"}}},                        {\"responsive\": true}                    ).then(function(){\n",
       "                            \n",
       "var gd = document.getElementById('45eab5bf-fe25-46cf-87f3-8594de73fdae');\n",
       "var x = new MutationObserver(function (mutations, observer) {{\n",
       "        var display = window.getComputedStyle(gd).display;\n",
       "        if (!display || display === 'none') {{\n",
       "            console.log([gd, 'removed!']);\n",
       "            Plotly.purge(gd);\n",
       "            observer.disconnect();\n",
       "        }}\n",
       "}});\n",
       "\n",
       "// Listen for the removal of the full notebook cells\n",
       "var notebookContainer = gd.closest('#notebook-container');\n",
       "if (notebookContainer) {{\n",
       "    x.observe(notebookContainer, {childList: true});\n",
       "}}\n",
       "\n",
       "// Listen for the clearing of the current output cell\n",
       "var outputEl = gd.closest('.output');\n",
       "if (outputEl) {{\n",
       "    x.observe(outputEl, {childList: true});\n",
       "}}\n",
       "\n",
       "                        })                };                });            </script>        </div>"
      ]
     },
     "metadata": {},
     "output_type": "display_data"
    }
   ],
   "source": [
    "px.scatter(eng_nu_df.sort_values(by=['home_team'], ascending = True), x='date', y='home_score', hover_data= ['away_score','home_team','away_team'])"
   ]
  },
  {
   "cell_type": "code",
   "execution_count": null,
   "id": "fd8df22d",
   "metadata": {},
   "outputs": [],
   "source": []
  }
 ],
 "metadata": {
  "kernelspec": {
   "display_name": "Python 3",
   "language": "python",
   "name": "python3"
  },
  "language_info": {
   "codemirror_mode": {
    "name": "ipython",
    "version": 3
   },
   "file_extension": ".py",
   "mimetype": "text/x-python",
   "name": "python",
   "nbconvert_exporter": "python",
   "pygments_lexer": "ipython3",
   "version": "3.8.8"
  }
 },
 "nbformat": 4,
 "nbformat_minor": 5
}
